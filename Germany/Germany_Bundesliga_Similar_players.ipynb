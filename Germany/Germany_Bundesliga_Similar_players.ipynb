{
 "cells": [
  {
   "cell_type": "code",
   "execution_count": 57,
   "id": "df614fe2",
   "metadata": {},
   "outputs": [],
   "source": [
    "import pandas as pd \n",
    "# default='warn', Used here to supress warning when slicing and creating high earners column\n",
    "pd.options.mode.chained_assignment = None \n"
   ]
  },
  {
   "cell_type": "code",
   "execution_count": 58,
   "id": "05049abe",
   "metadata": {},
   "outputs": [],
   "source": [
    "import requests\n",
    "import json\n",
    "import pandas as pd \n",
    "import numpy as np\n",
    "import math"
   ]
  },
  {
   "cell_type": "code",
   "execution_count": 59,
   "id": "f9bbdc41",
   "metadata": {},
   "outputs": [],
   "source": [
    "# custom function from Web_scrapper_League_Tables notebook \n",
    "from ipynb.fs.full.Web_scrapper_League_Tables import League_table_scraper\n"
   ]
  },
  {
   "cell_type": "markdown",
   "id": "79e6de1b",
   "metadata": {},
   "source": [
    "#### Get data from API"
   ]
  },
  {
   "cell_type": "code",
   "execution_count": 60,
   "id": "0aa3c582",
   "metadata": {},
   "outputs": [],
   "source": [
    "API_key='d15f7132973d404d9d046934398ee9e3'"
   ]
  },
  {
   "cell_type": "code",
   "execution_count": 61,
   "id": "f78ef91d",
   "metadata": {},
   "outputs": [],
   "source": [
    "# API authorization\n",
    "headers = {'x-api-key':'d15f7132973d404d9d046934398ee9e3', 'accept': 'application/json', 'accept': 'text/csv'}\n",
    "\n",
    "# Choose endpoint\n",
    "endpoint = 'https://www.capology.com/api/v2/soccer/salaries/de/1-bundesliga/2019-2020/'\n",
    "\n",
    "# Retrieve json\n",
    "json1 = requests.get(endpoint, headers = headers).text\n",
    "\n",
    "#Data for 2019/2020\n",
    "df1 = pd.read_json(json1)\n",
    "\n",
    "\n",
    "df1 = df1[df1[\"season_term\"] == \"combined\"]"
   ]
  },
  {
   "cell_type": "code",
   "execution_count": 62,
   "id": "02d68250",
   "metadata": {},
   "outputs": [],
   "source": [
    "# API authorization\n",
    "headers = {'x-api-key':'d15f7132973d404d9d046934398ee9e3', 'accept': 'application/json', 'accept': 'text/csv'}\n",
    "\n",
    "# Choose endpoint\n",
    "endpoint = 'https://www.capology.com/api/v2/soccer/salaries/de/1-bundesliga/2020-2021/'\n",
    "\n",
    "# Retrieve json\n",
    "json2 = requests.get(endpoint, headers=headers).text\n",
    "\n",
    "#Data for 2020/2021\n",
    "df2 = pd.read_json(json2)\n",
    "\n",
    "\n",
    "df2 = df2[df2[\"season_term\"] == \"combined\"]"
   ]
  },
  {
   "cell_type": "code",
   "execution_count": 63,
   "id": "c74e6acc",
   "metadata": {},
   "outputs": [],
   "source": [
    "# API authorization\n",
    "headers = {'x-api-key':'d15f7132973d404d9d046934398ee9e3', 'accept': 'application/json', 'accept': 'text/csv'}\n",
    "\n",
    "# Choose endpoint\n",
    "endpoint = 'https://www.capology.com/api/v2/soccer/salaries/de/1-bundesliga/2021-2022/'\n",
    "\n",
    "# Retrieve json\n",
    "json3 = requests.get(endpoint, headers=headers).text\n",
    "\n",
    "#Data for 2021/2022\n",
    "df3 = pd.read_json(json3)\n",
    "\n",
    "\n",
    "df3 = df3[df3[\"season_term\"] == \"combined\"]"
   ]
  },
  {
   "cell_type": "code",
   "execution_count": 64,
   "id": "51c87abe",
   "metadata": {},
   "outputs": [],
   "source": [
    "# API authorization\n",
    "headers = {'x-api-key':'d15f7132973d404d9d046934398ee9e3', 'accept': 'application/json', 'accept': 'text/csv'}\n",
    "\n",
    "# Choose endpoint\n",
    "endpoint = 'https://www.capology.com/api/v2/soccer/salaries/de/1-bundesliga/2022-2023/'\n",
    "\n",
    "# Retrieve json\n",
    "json4 = requests.get(endpoint, headers=headers).text\n",
    "\n",
    "#Data for 2022/2023\n",
    "df4 = pd.read_json(json4)\n",
    "\n",
    "#Capology has defined the seson as summer\n",
    "df4 = df4[df4[\"season_term\"] == \"summer\"]"
   ]
  },
  {
   "cell_type": "code",
   "execution_count": 65,
   "id": "11ac1910",
   "metadata": {},
   "outputs": [],
   "source": [
    "df = pd.concat([df1,df2,df3,df4],axis=0).drop_duplicates()"
   ]
  },
  {
   "cell_type": "markdown",
   "id": "bff514a7",
   "metadata": {},
   "source": [
    "#### Clean dataframe"
   ]
  },
  {
   "cell_type": "code",
   "execution_count": 66,
   "id": "8a515c84",
   "metadata": {},
   "outputs": [],
   "source": [
    "df = df[df['salary_gross_eur'] != 0]"
   ]
  },
  {
   "cell_type": "code",
   "execution_count": 67,
   "id": "708706cc",
   "metadata": {},
   "outputs": [],
   "source": [
    "df = df.drop_duplicates().reset_index(drop = True)"
   ]
  },
  {
   "cell_type": "code",
   "execution_count": 69,
   "id": "afe79750",
   "metadata": {},
   "outputs": [],
   "source": [
    "#Required columns\n",
    "LIST = ['season_id','club_code','player_age','player_country_id','player_group_code','salary_gross_eur']"
   ]
  },
  {
   "cell_type": "code",
   "execution_count": 70,
   "id": "8b3ffe96",
   "metadata": {},
   "outputs": [],
   "source": [
    "df_salary = df[LIST].reset_index(drop = True)"
   ]
  },
  {
   "cell_type": "code",
   "execution_count": 71,
   "id": "d4f524db",
   "metadata": {},
   "outputs": [
    {
     "data": {
      "text/html": [
       "<div>\n",
       "<style scoped>\n",
       "    .dataframe tbody tr th:only-of-type {\n",
       "        vertical-align: middle;\n",
       "    }\n",
       "\n",
       "    .dataframe tbody tr th {\n",
       "        vertical-align: top;\n",
       "    }\n",
       "\n",
       "    .dataframe thead th {\n",
       "        text-align: right;\n",
       "    }\n",
       "</style>\n",
       "<table border=\"1\" class=\"dataframe\">\n",
       "  <thead>\n",
       "    <tr style=\"text-align: right;\">\n",
       "      <th></th>\n",
       "      <th>season_id</th>\n",
       "      <th>club_code</th>\n",
       "      <th>player_age</th>\n",
       "      <th>player_country_id</th>\n",
       "      <th>player_group_code</th>\n",
       "      <th>salary_gross_eur</th>\n",
       "    </tr>\n",
       "  </thead>\n",
       "  <tbody>\n",
       "    <tr>\n",
       "      <th>0</th>\n",
       "      <td>2019-2020</td>\n",
       "      <td>AUG</td>\n",
       "      <td>30</td>\n",
       "      <td>iceland</td>\n",
       "      <td>F</td>\n",
       "      <td>1990000</td>\n",
       "    </tr>\n",
       "    <tr>\n",
       "      <th>1</th>\n",
       "      <td>2019-2020</td>\n",
       "      <td>AUG</td>\n",
       "      <td>32</td>\n",
       "      <td>germany</td>\n",
       "      <td>K</td>\n",
       "      <td>360000</td>\n",
       "    </tr>\n",
       "    <tr>\n",
       "      <th>2</th>\n",
       "      <td>2019-2020</td>\n",
       "      <td>AUG</td>\n",
       "      <td>29</td>\n",
       "      <td>germany</td>\n",
       "      <td>F</td>\n",
       "      <td>1800000</td>\n",
       "    </tr>\n",
       "    <tr>\n",
       "      <th>3</th>\n",
       "      <td>2019-2020</td>\n",
       "      <td>AUG</td>\n",
       "      <td>20</td>\n",
       "      <td>germany</td>\n",
       "      <td>K</td>\n",
       "      <td>80000</td>\n",
       "    </tr>\n",
       "    <tr>\n",
       "      <th>4</th>\n",
       "      <td>2019-2020</td>\n",
       "      <td>AUG</td>\n",
       "      <td>24</td>\n",
       "      <td>ecuador</td>\n",
       "      <td>M</td>\n",
       "      <td>1500000</td>\n",
       "    </tr>\n",
       "  </tbody>\n",
       "</table>\n",
       "</div>"
      ],
      "text/plain": [
       "   season_id club_code  player_age player_country_id player_group_code  \\\n",
       "0  2019-2020       AUG          30           iceland                 F   \n",
       "1  2019-2020       AUG          32           germany                 K   \n",
       "2  2019-2020       AUG          29           germany                 F   \n",
       "3  2019-2020       AUG          20           germany                 K   \n",
       "4  2019-2020       AUG          24           ecuador                 M   \n",
       "\n",
       "   salary_gross_eur  \n",
       "0           1990000  \n",
       "1            360000  \n",
       "2           1800000  \n",
       "3             80000  \n",
       "4           1500000  "
      ]
     },
     "execution_count": 71,
     "metadata": {},
     "output_type": "execute_result"
    }
   ],
   "source": [
    "df_salary.head()"
   ]
  },
  {
   "cell_type": "markdown",
   "id": "847b2eb4",
   "metadata": {},
   "source": [
    "#### Define needed features\n"
   ]
  },
  {
   "cell_type": "code",
   "execution_count": 72,
   "id": "e5430437",
   "metadata": {},
   "outputs": [],
   "source": [
    "# Group the data by 'club' and 'position'\n",
    "groups = df_salary.groupby(['club_code', 'player_group_code','season_id'])\n",
    "# Find the highest two values of column 'salary_gross_eur' for each group\n",
    "top_two = groups['salary_gross_eur'].nlargest(2).reset_index()\n",
    "\n",
    "# get needed indexes\n",
    "index = list(top_two['level_3'])\n",
    "\n",
    "# Add the result to the data frame as a new column\n",
    "df_salary['high_earner'] = 0\n",
    "for i in index:\n",
    "    df_salary.loc[i, 'high_earner'] = 1"
   ]
  },
  {
   "cell_type": "code",
   "execution_count": 73,
   "id": "ff0a9d1c",
   "metadata": {},
   "outputs": [],
   "source": [
    "# Add the result to the data frame as a new column\n",
    "df['high_earner'] = 0\n",
    "for i in index:\n",
    "    df.loc[i, 'high_earner'] = 1"
   ]
  },
  {
   "cell_type": "code",
   "execution_count": 74,
   "id": "c542ded8",
   "metadata": {},
   "outputs": [],
   "source": [
    "# Required columns for related players\n",
    "LIST2 = ['season_id','player_name','club_code','player_age','player_country_id','player_group_code','salary_gross_eur','high_earner']"
   ]
  },
  {
   "cell_type": "code",
   "execution_count": 75,
   "id": "c478215f",
   "metadata": {},
   "outputs": [],
   "source": [
    "df_similar = df[LIST2]"
   ]
  },
  {
   "cell_type": "code",
   "execution_count": 76,
   "id": "a3c96451",
   "metadata": {},
   "outputs": [],
   "source": [
    "countries = df_salary.player_country_id.unique()\n",
    "\n",
    "#based on uk.gov website excluding Germany\n",
    "EU_countries = ['Austria', 'Bulgaria','Belgium', 'Croatia','Cyprus', 'Czech-Republic', \n",
    "              'Denmark', 'Estonia', 'Finland', 'France', 'Greece', 'Hungary', 'Ireland', 'Italy',\n",
    "              'Latvia', 'Lithuania', 'Luxembourg', 'Malta', 'Netherlands', 'Poland', 'Portugal', \n",
    "              'Romania', 'Slovakia', 'Slovenia', 'Spain','Sweden']\n",
    "\n",
    "EU_countries = [s.lower() for s in EU_countries]"
   ]
  },
  {
   "cell_type": "code",
   "execution_count": 77,
   "id": "c5681f0c",
   "metadata": {},
   "outputs": [
    {
     "data": {
      "text/plain": [
       "array(['iceland', 'germany', 'ecuador', 'finland', 'austria', 'brazil',\n",
       "       'czech-republic', 'netherlands', 'croatia', 'denmark', 'nigeria',\n",
       "       'england', 'switzerland', 'south-korea', 'venezuela', 'poland',\n",
       "       'chile', 'burkina-faso', 'argentina', 'jamaica', 'france',\n",
       "       'greece', 'canada', 'spain', 'new-zealand', 'morocco', 'belgium',\n",
       "       'norway', 'united-states', 'portugal', 'ghana', 'turkey', 'japan',\n",
       "       'kosovo', 'serbia', 'bosnia-herzegovina', 'guinea', 'albania',\n",
       "       'australia', 'hungary', 'italy', 'slovakia', 'cote-d-ivoire',\n",
       "       'mali', 'togo', 'israel', 'algeria', 'armenia', 'north-macedonia',\n",
       "       'tunisia', 'colombia', 'sweden', 'wales', 'slovenia', 'uruguay',\n",
       "       'romania', 'luxembourg', 'cameroon', 'paraguay', 'senegal',\n",
       "       'bulgaria', 'democratic-republic-of-congo', 'angola', 'benin',\n",
       "       'faroe-islands', 'latvia', 'democratic-republic-of-the-congo',\n",
       "       'egypt', 'panama', 'russia', 'iran', 'costa-rica', 'philippines',\n",
       "       'congo', 'cyprus', 'montenegro', 'ireland', 'suriname', 'ukraine',\n",
       "       'the-gambia', 'scotland'], dtype=object)"
      ]
     },
     "execution_count": 77,
     "metadata": {},
     "output_type": "execute_result"
    }
   ],
   "source": [
    "countries\n"
   ]
  },
  {
   "cell_type": "code",
   "execution_count": 78,
   "id": "5e81390e",
   "metadata": {},
   "outputs": [],
   "source": [
    "EU = []\n",
    "non_EU = []\n",
    "for country in countries:\n",
    "    if country in EU_countries:\n",
    "        EU.append(country) \n",
    "    elif country == 'germany':\n",
    "        0\n",
    "    else:\n",
    "        non_EU.append(country) "
   ]
  },
  {
   "cell_type": "code",
   "execution_count": 79,
   "id": "a76a41ea",
   "metadata": {},
   "outputs": [],
   "source": [
    "def set_region(row):\n",
    "    \"\"\"\n",
    "    Function takes each row as argument and returns the region \n",
    "    based on the player_country_id.\n",
    "    \"\"\"\n",
    "\n",
    "    if row['player_country_id'] in non_EU:\n",
    "        return 'non_EU'\n",
    "    \n",
    "    elif row['player_country_id'] in EU:\n",
    "        return 'EU'\n",
    "    \n",
    "    else:\n",
    "        return 'germany'"
   ]
  },
  {
   "cell_type": "code",
   "execution_count": null,
   "id": "1efd70fd",
   "metadata": {},
   "outputs": [],
   "source": [
    "#Updating coding dicitionary as capology has differnt naming convention to Wikipedia\n",
    "CODE_DICT = pd.Series(df.club_code.values,index=df.club_name).to_dict()\n",
    "\n",
    "CODE_DICT['1. FC Köln'] = 'CGN'\n",
    "CODE_DICT['Borussia Mönchengladbach'] = 'BMG'\n",
    "CODE_DICT['RB Leipzig'] = 'RBL'\n",
    "CODE_DICT['1899 Hoffenheim'] = 'TSG'\n",
    "CODE_DICT['VfL Wolfsburg'] = 'WOB'\n",
    "CODE_DICT['SC Freiburg'] = 'SCF'\n",
    "CODE_DICT['Hertha BSC'] = 'BSC'\n",
    "CODE_DICT['Mainz 05'] = 'MAI'\n",
    "CODE_DICT['FC Augsburg'] = 'AUG'\n",
    "CODE_DICT['Fortuna Düsseldorf'] = 'F95'\n",
    "CODE_DICT['SC Paderborn'] = 'PAD'\n",
    "CODE_DICT['VfB Stuttgart'] = 'STU'\n",
    "CODE_DICT['VfL Bochum'] = 'BCM'\n",
    "CODE_DICT['Greuther Fürth'] = 'FUR'\n",
    "CODE_DICT['Borussia Mönchengladbach'] = 'BMG'"
   ]
  },
  {
   "cell_type": "code",
   "execution_count": 80,
   "id": "2a44c9d3",
   "metadata": {},
   "outputs": [],
   "source": [
    "# Final league standings 2019/2020\n",
    "standings_2019 = League_table_scraper('https://en.wikipedia.org/wiki/2019%E2%80%9320_Bundesliga',6)\n",
    "standings_2019 = list(map(lambda x: CODE_DICT[x], standings_2019.club))\n",
    "\n",
    "# Final league standings 2020/2021\n",
    "standings_2020 = League_table_scraper('https://en.wikipedia.org/wiki/2020%E2%80%9321_Bundesliga',6)\n",
    "standings_2020 = list(map(lambda x: CODE_DICT[x], standings_2020.club))\n",
    "\n",
    "# Final league standings 2021/2022\n",
    "standings_2021 = League_table_scraper('https://en.wikipedia.org/wiki/2021%E2%80%9322_Bundesliga',5)\n",
    "standings_2021 = list(map(lambda x: CODE_DICT[x], standings_2021.club))\n",
    "\n",
    "# Current league standings 2022/2023\n",
    "standings_2022 = League_table_scraper('https://en.wikipedia.org/wiki/2022%E2%80%9323_Bundesliga',5)\n",
    "standings_2022 = list(map(lambda x: CODE_DICT[x], standings_2022.club))"
   ]
  },
  {
   "cell_type": "code",
   "execution_count": 98,
   "id": "414205b9",
   "metadata": {},
   "outputs": [
    {
     "data": {
      "text/plain": [
       "{'ARB',\n",
       " 'AUG',\n",
       " 'B04',\n",
       " 'BAY',\n",
       " 'BCM',\n",
       " 'BMG',\n",
       " 'BSC',\n",
       " 'BVB',\n",
       " 'CGN',\n",
       " 'F95',\n",
       " 'FUR',\n",
       " 'MAI',\n",
       " 'PAD',\n",
       " 'RBL',\n",
       " 'S04',\n",
       " 'SCF',\n",
       " 'SGE',\n",
       " 'STU',\n",
       " 'SVW',\n",
       " 'TSG',\n",
       " 'UBE',\n",
       " 'WOB'}"
      ]
     },
     "execution_count": 98,
     "metadata": {},
     "output_type": "execute_result"
    }
   ],
   "source": [
    "set(df.club_code)"
   ]
  },
  {
   "cell_type": "code",
   "execution_count": 83,
   "id": "8db50d2f",
   "metadata": {},
   "outputs": [],
   "source": [
    "def set_club_type(row):\n",
    "    \n",
    "    \"\"\"\n",
    "    Function takes each row as argument and returns\n",
    "    top 4,top 6,mid-table, relagation based on the club \n",
    "    finishing position for the year\n",
    "    \n",
    "    \"\"\"\n",
    "\n",
    "    if (row['club_code'] in standings_2019[:4] and row['season_id']== '2019-2020') or (row['club_code'] in standings_2020[0:4] and row['season_id']=='2020-2021') or (row['club_code'] in standings_2021[0:4] and row['season_id']=='2021-2022') or (row['club_code'] in standings_2022[0:4] and row['season_id']=='2022-2023'):\n",
    "        return 'top 4'\n",
    "   \n",
    "    if (row['club_code'] in standings_2019[4:6] and row['season_id']== '2019-2020') or (row['club_code'] in standings_2020[4:6] and row['season_id']=='2020-2021') or (row['club_code'] in standings_2021[4:6] and row['season_id']=='2021-2022') or (row['club_code'] in standings_2022[4:6] and row['season_id']=='2022-2023'):\n",
    "        return 'top 6'\n",
    "    \n",
    "    if (row['club_code'] in standings_2019[6:15] and row['season_id']== '2019-2020') or (row['club_code'] in standings_2020[6:15] and row['season_id']=='2020-2021') or (row['club_code'] in standings_2021[6:15] and row['season_id']=='2021-2022') or (row['club_code'] in standings_2022[6:15] and row['season_id']=='2022-2023'):\n",
    "        return 'mid-table'\n",
    "    \n",
    "    else :\n",
    "        return 'relegation'\n"
   ]
  },
  {
   "cell_type": "code",
   "execution_count": 84,
   "id": "75023b92",
   "metadata": {},
   "outputs": [],
   "source": [
    "X = df_salary[['club_code', 'player_age', 'player_country_id', 'player_group_code','season_id','high_earner']]\n",
    "\n",
    "X = X.assign(Age = pd.cut(X['player_age'], \n",
    "                               bins = [0, 17, 21,23, 27, 32,99], \n",
    "                               labels = ['U18', '18-21', '21-23','23-27','27-32','32+']))\n",
    "\n",
    "X = X.assign(region = X.apply(set_region, axis = 1)).astype('category')\n",
    "\n",
    "X = X.assign(club_level = X.apply(set_club_type,axis = 1)).astype('category')\n",
    "\n",
    "X = X.drop('player_age',axis=1)\n",
    "X = X.drop('season_id',axis=1)"
   ]
  },
  {
   "cell_type": "code",
   "execution_count": 85,
   "id": "95a7c789",
   "metadata": {},
   "outputs": [],
   "source": [
    "def Club_type(club):\n",
    "    \n",
    "    \"\"\"\n",
    "    Function takes club as argument and returns\n",
    "    top 4 ,top 6 ,mid-table, relagation based on the club \n",
    "    finishing position for 2022. If club  was not in \n",
    "    the league in 2022 returns default value midtable\n",
    "    \n",
    "    \"\"\"\n",
    "\n",
    "    if club in standings_2022[0:4] :\n",
    "        return 'top 4'\n",
    "   \n",
    "    if club in standings_2022[4:6] :\n",
    "        return 'top 6'\n",
    "    \n",
    "    if club in standings_2022[6:15] :\n",
    "        return 'mid-table'\n",
    "    \n",
    "    else :\n",
    "        return 'mid-table'\n",
    "    \n",
    " \n"
   ]
  },
  {
   "cell_type": "code",
   "execution_count": 86,
   "id": "cbb11416",
   "metadata": {},
   "outputs": [],
   "source": [
    "def Region(country):\n",
    "    \n",
    "    \"\"\"\n",
    "    Function takes country as an argument and returns \n",
    "    the region of the country\n",
    "    \n",
    "    \"\"\"\n",
    "\n",
    "    if country in non_EU:\n",
    "        return 'non_EU'\n",
    "    \n",
    "    elif country in EU:\n",
    "        return 'EU'\n",
    "    \n",
    "    else:\n",
    "        return 'germany'"
   ]
  },
  {
   "cell_type": "code",
   "execution_count": 87,
   "id": "298acc47",
   "metadata": {},
   "outputs": [],
   "source": [
    "def Age(age):\n",
    "    \"\"\"\n",
    "    Function takes age as an argument and returns \n",
    "    the age range\n",
    "    \n",
    "    \"\"\"\n",
    "    if age <= 18:\n",
    "        return 'U18'\n",
    "    if age in range(18, 22):\n",
    "        return '18-21'\n",
    "    if age in range(22, 24):\n",
    "        return '21-23'\n",
    "    if age in range(24, 28):\n",
    "        return '23-27'\n",
    "    if age in range(28, 33):\n",
    "        return '27-32'\n",
    "    return '32+'"
   ]
  },
  {
   "cell_type": "code",
   "execution_count": 88,
   "id": "16e85c7d",
   "metadata": {},
   "outputs": [],
   "source": [
    "def Starter(starter):\n",
    "    \n",
    "     if starter == 'Yes' :\n",
    "        return '1'\n",
    "     else:\n",
    "        return '0'"
   ]
  },
  {
   "cell_type": "code",
   "execution_count": 89,
   "id": "0c90e8c7",
   "metadata": {},
   "outputs": [],
   "source": [
    "def calculate_similarities(row,input_data):\n",
    "    s = 0\n",
    "    \n",
    "    if row['club_code'] == input_data[0]:   # Check for same club\n",
    "        s += 1\n",
    "    \n",
    "    if row['club_level'] == Club_type(input_data[0]):  # Check for simlar level club\n",
    "        s += 0.5\n",
    "    \n",
    "    if row['player_group_code'] == input_data[1]:\n",
    "        s += 4\n",
    "    \n",
    "    if row['player_country_id'] == input_data[2]:  # Check for same country\n",
    "        s += 1\n",
    "    \n",
    "    if row['region'] == Region(input_data[2]):   # Check for same region\n",
    "        s += 0.5\n",
    "    \n",
    "    if row['Age'] == Age(input_data[3]):\n",
    "        s += 1\n",
    "    \n",
    "    if row['high_earner'] == Starter(input_data[4]):\n",
    "        s += 8\n",
    "    \n",
    "    return s\n"
   ]
  },
  {
   "cell_type": "code",
   "execution_count": 90,
   "id": "1c3ef5d0",
   "metadata": {},
   "outputs": [],
   "source": [
    "def similar_player(data):\n",
    "    \n",
    "    X['similarities'] = X.apply(calculate_similarities, axis = 1,input_data = data)\n",
    "    X_sorted = X.sort_values(by = 'similarities', ascending = False)\n",
    "    top_5 = X_sorted.head(5)\n",
    "    indexes = top_5.index\n",
    "\n",
    "    \n",
    "    return df_similar.loc[indexes]"
   ]
  },
  {
   "cell_type": "code",
   "execution_count": 91,
   "id": "71d4ec1e",
   "metadata": {},
   "outputs": [
    {
     "data": {
      "text/html": [
       "<div>\n",
       "<style scoped>\n",
       "    .dataframe tbody tr th:only-of-type {\n",
       "        vertical-align: middle;\n",
       "    }\n",
       "\n",
       "    .dataframe tbody tr th {\n",
       "        vertical-align: top;\n",
       "    }\n",
       "\n",
       "    .dataframe thead th {\n",
       "        text-align: right;\n",
       "    }\n",
       "</style>\n",
       "<table border=\"1\" class=\"dataframe\">\n",
       "  <thead>\n",
       "    <tr style=\"text-align: right;\">\n",
       "      <th></th>\n",
       "      <th>season_id</th>\n",
       "      <th>player_name</th>\n",
       "      <th>club_code</th>\n",
       "      <th>player_age</th>\n",
       "      <th>player_country_id</th>\n",
       "      <th>player_group_code</th>\n",
       "      <th>salary_gross_eur</th>\n",
       "      <th>high_earner</th>\n",
       "    </tr>\n",
       "  </thead>\n",
       "  <tbody>\n",
       "    <tr>\n",
       "      <th>2046</th>\n",
       "      <td>2022-2023</td>\n",
       "      <td>Julian Weigl</td>\n",
       "      <td>BMG</td>\n",
       "      <td>26</td>\n",
       "      <td>germany</td>\n",
       "      <td>M</td>\n",
       "      <td>3960000</td>\n",
       "      <td>1</td>\n",
       "    </tr>\n",
       "    <tr>\n",
       "      <th>1570</th>\n",
       "      <td>2021-2022</td>\n",
       "      <td>Florian Neuhaus</td>\n",
       "      <td>BMG</td>\n",
       "      <td>24</td>\n",
       "      <td>germany</td>\n",
       "      <td>M</td>\n",
       "      <td>1600000</td>\n",
       "      <td>0</td>\n",
       "    </tr>\n",
       "    <tr>\n",
       "      <th>2041</th>\n",
       "      <td>2022-2023</td>\n",
       "      <td>Florian Neuhaus</td>\n",
       "      <td>BMG</td>\n",
       "      <td>25</td>\n",
       "      <td>germany</td>\n",
       "      <td>M</td>\n",
       "      <td>1600000</td>\n",
       "      <td>0</td>\n",
       "    </tr>\n",
       "    <tr>\n",
       "      <th>401</th>\n",
       "      <td>2019-2020</td>\n",
       "      <td>Jonas Hofmann</td>\n",
       "      <td>BMG</td>\n",
       "      <td>27</td>\n",
       "      <td>germany</td>\n",
       "      <td>M</td>\n",
       "      <td>1560000</td>\n",
       "      <td>0</td>\n",
       "    </tr>\n",
       "    <tr>\n",
       "      <th>1682</th>\n",
       "      <td>2021-2022</td>\n",
       "      <td>Maximilian Arnold</td>\n",
       "      <td>WOB</td>\n",
       "      <td>27</td>\n",
       "      <td>germany</td>\n",
       "      <td>M</td>\n",
       "      <td>5500000</td>\n",
       "      <td>1</td>\n",
       "    </tr>\n",
       "  </tbody>\n",
       "</table>\n",
       "</div>"
      ],
      "text/plain": [
       "      season_id        player_name club_code  player_age player_country_id  \\\n",
       "2046  2022-2023       Julian Weigl       BMG          26           germany   \n",
       "1570  2021-2022    Florian Neuhaus       BMG          24           germany   \n",
       "2041  2022-2023    Florian Neuhaus       BMG          25           germany   \n",
       "401   2019-2020      Jonas Hofmann       BMG          27           germany   \n",
       "1682  2021-2022  Maximilian Arnold       WOB          27           germany   \n",
       "\n",
       "     player_group_code  salary_gross_eur  high_earner  \n",
       "2046                 M           3960000            1  \n",
       "1570                 M           1600000            0  \n",
       "2041                 M           1600000            0  \n",
       "401                  M           1560000            0  \n",
       "1682                 M           5500000            1  "
      ]
     },
     "execution_count": 91,
     "metadata": {},
     "output_type": "execute_result"
    }
   ],
   "source": [
    "similar_player(['BMG','M','germany',25,'Yes'])"
   ]
  },
  {
   "cell_type": "markdown",
   "id": "82ba12c2",
   "metadata": {},
   "source": [
    "#### Additional function to get % spend on player"
   ]
  },
  {
   "cell_type": "code",
   "execution_count": 92,
   "id": "56d84624",
   "metadata": {},
   "outputs": [],
   "source": [
    "def Total_wage_bill(club):\n",
    "    \"\"\"\n",
    "    function takes in club as argument and \n",
    "    returns the the total wage bill of the club\n",
    "    \n",
    "    \"\"\"\n",
    "    df_filtered = df_salary.loc[df_salary['club_code'] == club]\n",
    "    \n",
    "    #Number of seasons for which data is available for the club\n",
    "    n = len(df_filtered.season_id.unique())\n",
    "    \n",
    "    #Assuming club has simlar squad sizes each season\n",
    "    total = df_filtered['salary_gross_eur'].sum()/n\n",
    "    \n",
    "    return total"
   ]
  },
  {
   "cell_type": "code",
   "execution_count": 93,
   "id": "e369c686",
   "metadata": {},
   "outputs": [
    {
     "data": {
      "text/plain": [
       "235912500.0"
      ]
     },
     "execution_count": 93,
     "metadata": {},
     "output_type": "execute_result"
    }
   ],
   "source": [
    "Total_wage_bill('BAY')"
   ]
  },
  {
   "cell_type": "code",
   "execution_count": 95,
   "id": "da5c2bbd",
   "metadata": {},
   "outputs": [
    {
     "ename": "SyntaxError",
     "evalue": "invalid syntax (2600002316.py, line 1)",
     "output_type": "error",
     "traceback": [
      "\u001b[1;36m  File \u001b[1;32m\"C:\\Users\\Ramya\\AppData\\Local\\Temp\\ipykernel_12532\\2600002316.py\"\u001b[1;36m, line \u001b[1;32m1\u001b[0m\n\u001b[1;33m    jupyter nbconvert --to script Germany_Bundesliga_Similar_players.ipynb\u001b[0m\n\u001b[1;37m            ^\u001b[0m\n\u001b[1;31mSyntaxError\u001b[0m\u001b[1;31m:\u001b[0m invalid syntax\n"
     ]
    }
   ],
   "source": [
    "# Convert notebook to script\n",
    "# jupyter nbconvert --to script Germany_Bundesliga_Similar_players.ipynb"
   ]
  }
 ],
 "metadata": {
  "kernelspec": {
   "display_name": "Python 3 (ipykernel)",
   "language": "python",
   "name": "python3"
  },
  "language_info": {
   "codemirror_mode": {
    "name": "ipython",
    "version": 3
   },
   "file_extension": ".py",
   "mimetype": "text/x-python",
   "name": "python",
   "nbconvert_exporter": "python",
   "pygments_lexer": "ipython3",
   "version": "3.9.13"
  }
 },
 "nbformat": 4,
 "nbformat_minor": 5
}
