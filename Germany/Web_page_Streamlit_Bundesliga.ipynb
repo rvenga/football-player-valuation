{
 "cells": [
  {
   "cell_type": "code",
   "execution_count": 13,
   "id": "a211e66f",
   "metadata": {},
   "outputs": [],
   "source": [
    "import numpy as np\n",
    "import pandas as pd\n",
    "import pickle\n",
    "import streamlit as st\n",
    "import math\n",
    "import sklearn\n",
    "from sklearn.linear_model import LinearRegression"
   ]
  },
  {
   "cell_type": "code",
   "execution_count": 15,
   "id": "86cdf165",
   "metadata": {},
   "outputs": [],
   "source": [
    "# custom function from Germany_Bundesliga_Similar_players notebook \n",
    "from Germany_Bundesliga_Similar_players import similar_player, calculate_similarities ,Total_wage_bill"
   ]
  },
  {
   "cell_type": "code",
   "execution_count": 16,
   "id": "cfd9d943",
   "metadata": {},
   "outputs": [],
   "source": [
    "# custom function from Web_scrapper_League_Tables notebook \n",
    "from ipynb.fs.full.Web_scrapper_League_Tables import League_table_scraper\n"
   ]
  },
  {
   "cell_type": "code",
   "execution_count": 17,
   "id": "ac46e83b",
   "metadata": {},
   "outputs": [],
   "source": [
    "st.set_page_config(layout=\"wide\")"
   ]
  },
  {
   "cell_type": "code",
   "execution_count": 19,
   "id": "a805c698",
   "metadata": {},
   "outputs": [],
   "source": [
    "# Load machine learning model\n",
    "model = pickle.load(open('model_de.pkl', 'rb'))"
   ]
  },
  {
   "cell_type": "markdown",
   "id": "e2233279",
   "metadata": {},
   "source": [
    "####  Functions for Preproccessing"
   ]
  },
  {
   "cell_type": "code",
   "execution_count": 20,
   "id": "41994824",
   "metadata": {},
   "outputs": [],
   "source": [
    "def Age(age):\n",
    "    \"\"\"\n",
    "    Function takes age as an argument and returns \n",
    "    the age range\n",
    "    \n",
    "    \"\"\"\n",
    "    age= int(float(age))\n",
    "    \n",
    "    if age <= 18:\n",
    "        return 'U18'\n",
    "    if age in range(18, 22):\n",
    "        return '18-21'\n",
    "    if age in range(22, 24):\n",
    "        return '21-23'\n",
    "    if age in range(24, 28):\n",
    "        return '23-27'\n",
    "    if age in range(28, 33):\n",
    "        return '27-32'\n",
    "    return '32+'"
   ]
  },
  {
   "cell_type": "code",
   "execution_count": 21,
   "id": "1a4322cd",
   "metadata": {},
   "outputs": [],
   "source": [
    "countries = ['iceland', 'germany', 'ecuador', 'finland', 'austria', 'brazil',\n",
    "            'czech-republic', 'netherlands', 'croatia', 'denmark', 'nigeria',\n",
    "            'england', 'switzerland', 'south-korea', 'venezuela', 'poland',\n",
    "            'chile', 'burkina-faso', 'argentina', 'jamaica', 'france',\n",
    "            'greece', 'canada', 'spain', 'new-zealand', 'morocco', 'belgium',\n",
    "            'norway', 'united-states', 'portugal', 'ghana', 'turkey', 'japan',\n",
    "            'kosovo', 'serbia', 'bosnia-herzegovina', 'guinea', 'albania',\n",
    "            'australia', 'hungary', 'italy', 'slovakia', 'cote-d-ivoire',\n",
    "            'mali', 'togo', 'israel', 'algeria', 'armenia', 'north-macedonia',\n",
    "            'tunisia', 'colombia', 'sweden', 'wales', 'slovenia', 'uruguay',\n",
    "            'romania', 'luxembourg', 'cameroon', 'paraguay', 'senegal',\n",
    "            'bulgaria', 'democratic-republic-of-congo', 'angola', 'benin',\n",
    "            'faroe-islands', 'latvia', 'democratic-republic-of-the-congo',\n",
    "            'egypt', 'panama', 'russia', 'iran', 'costa-rica', 'philippines',\n",
    "            'congo', 'cyprus', 'montenegro', 'ireland', 'suriname', 'ukraine',\n",
    "            'the-gambia', 'scotland']"
   ]
  },
  {
   "cell_type": "code",
   "execution_count": 22,
   "id": "2618638d",
   "metadata": {},
   "outputs": [],
   "source": [
    "#based on uk.gov website excluding Germany\n",
    "EU_countries = ['Austria', 'Bulgaria','Belgium', 'Croatia','Cyprus', 'Czech-Republic', \n",
    "              'Denmark', 'Estonia', 'Finland', 'France', 'Greece', 'Hungary', 'Ireland', 'Italy',\n",
    "              'Latvia', 'Lithuania', 'Luxembourg', 'Malta', 'Netherlands', 'Poland', 'Portugal', \n",
    "              'Romania', 'Slovakia', 'Slovenia', 'Spain','Sweden']\n",
    "\n",
    "EU_countries = [s.lower() for s in EU_countries]"
   ]
  },
  {
   "cell_type": "code",
   "execution_count": 23,
   "id": "9b0e4218",
   "metadata": {},
   "outputs": [],
   "source": [
    "EU=[]\n",
    "non_EU=[]\n",
    "for country in countries:\n",
    "    if country in EU_countries:\n",
    "        EU.append(country) \n",
    "    elif country == 'germany':\n",
    "        pass\n",
    "    else:\n",
    "        non_EU.append(country) "
   ]
  },
  {
   "cell_type": "code",
   "execution_count": 24,
   "id": "ddfff520",
   "metadata": {},
   "outputs": [],
   "source": [
    "def Region(country):\n",
    "    \n",
    "    \"\"\"\n",
    "    Function takes country as an argument and returns \n",
    "    the region of the country\n",
    "    \n",
    "    \"\"\"\n",
    "    \n",
    "    if country in non_EU:\n",
    "        return 'non_EU'\n",
    "    \n",
    "    elif country in EU:\n",
    "        return 'EU'\n",
    "    \n",
    "    else:\n",
    "        return 'germany'"
   ]
  },
  {
   "cell_type": "code",
   "execution_count": 25,
   "id": "4c158cd4",
   "metadata": {},
   "outputs": [],
   "source": [
    "def Position(position):\n",
    "    \"\"\"\n",
    "    Function takes position as an argument and returns \n",
    "    the code of the position\n",
    "    \n",
    "    \"\"\"\n",
    "    if position == 'Defender':\n",
    "        return 'D'\n",
    "    \n",
    "    if position == 'Midfielder':\n",
    "        return 'M'\n",
    "    \n",
    "    if position == 'Foward':\n",
    "        return 'F'\n",
    "    \n",
    "    if position == 'Keeper':\n",
    "        return 'K'\n",
    "    \n",
    "    else:\n",
    "        return 'not in data'"
   ]
  },
  {
   "cell_type": "code",
   "execution_count": 27,
   "id": "4c295af0",
   "metadata": {},
   "outputs": [],
   "source": [
    "#Updating coding dicitionary as capology has differnt naming convention to Wikipedia\n",
    "CODE_DICT = {'Augsburg': 'AUG',\n",
    " 'Bayer Leverkusen': 'B04',\n",
    " 'Bayern Munich': 'BAY',\n",
    " 'Borussia Dortmund': 'BVB',\n",
    " 'Dusseldorf': 'F95',\n",
    " 'Eintracht Frankfurt': 'SGE',\n",
    " 'Freiburg': 'SCF',\n",
    " 'Hertha Berlin': 'BSC',\n",
    " 'Hoffenheim': 'TSG',\n",
    " 'Koln': 'CGN',\n",
    " 'Leipzig': 'RBL',\n",
    " 'Mainz': 'MAI',\n",
    " 'Monchengladbach': 'BMG',\n",
    " 'Paderborn': 'PAD',\n",
    " 'Schalke 04': 'S04',\n",
    " 'Union Berlin': 'UBE',\n",
    " 'Werder Bremen': 'SVW',\n",
    " 'Wolfsburg': 'WOB',\n",
    " 'Arminia Bielefeld': 'ARB',\n",
    " 'Stuttgart': 'STU',\n",
    " 'Bochum': 'BCM',\n",
    " 'Furth': 'FUR',\n",
    " '1. FC Köln': 'CGN',\n",
    " 'Borussia Mönchengladbach': 'BMG',\n",
    " 'RB Leipzig': 'RBL',\n",
    " '1899 Hoffenheim': 'TSG',\n",
    " 'VfL Wolfsburg': 'WOB',\n",
    " 'SC Freiburg': 'SCF',\n",
    " 'Hertha BSC': 'BSC',\n",
    " 'Mainz 05': 'MAI',\n",
    " 'FC Augsburg': 'AUG',\n",
    " 'Fortuna Düsseldorf': 'F95',\n",
    " 'SC Paderborn': 'PAD',\n",
    " 'VfB Stuttgart': 'STU',\n",
    " 'VfL Bochum': 'BCM',\n",
    " 'Greuther Fürth': 'FUR'}"
   ]
  },
  {
   "cell_type": "code",
   "execution_count": 28,
   "id": "44a29edf",
   "metadata": {},
   "outputs": [],
   "source": [
    "# Final league standings 2019/2020\n",
    "standings_2019 = League_table_scraper('https://en.wikipedia.org/wiki/2019%E2%80%9320_Bundesliga',6)\n",
    "standings_2019 = list(map(lambda x: CODE_DICT[x], standings_2019.club))\n",
    "\n",
    "# Final league standings 2020/2021\n",
    "standings_2020 = League_table_scraper('https://en.wikipedia.org/wiki/2020%E2%80%9321_Bundesliga',6)\n",
    "standings_2020 = list(map(lambda x: CODE_DICT[x], standings_2020.club))\n",
    "\n",
    "# Final league standings 2021/2022\n",
    "standings_2021 = League_table_scraper('https://en.wikipedia.org/wiki/2021%E2%80%9322_Bundesliga',5)\n",
    "standings_2021 = list(map(lambda x: CODE_DICT[x], standings_2021.club))\n",
    "\n",
    "# Current league standings 2022/2023\n",
    "standings_2022 = League_table_scraper('https://en.wikipedia.org/wiki/2022%E2%80%9323_Bundesliga',5)\n",
    "standings_2022 = list(map(lambda x: CODE_DICT[x], standings_2022.club))"
   ]
  },
  {
   "cell_type": "code",
   "execution_count": 29,
   "id": "fdd7b970",
   "metadata": {},
   "outputs": [],
   "source": [
    "def Club_type(club):\n",
    "    \n",
    "    \"\"\"\n",
    "    Function takes club as argument and returns\n",
    "    top 4 ,top 6 ,mid-table, relagation based on the club \n",
    "    finishing position for 2022. If club  was not in \n",
    "    the league in 2022 returns default value midtable\n",
    "    \n",
    "    \"\"\"\n",
    "\n",
    "    if club in standings_2022[0:4] :\n",
    "        return 'top 4'\n",
    "   \n",
    "    if club in standings_2022[4:6] :\n",
    "        return 'top 6'\n",
    "    \n",
    "    if club in standings_2022[6:15] :\n",
    "        return 'mid-table'\n",
    "    \n",
    "    else :\n",
    "        return 'mid-table'\n",
    "    \n",
    " \n"
   ]
  },
  {
   "cell_type": "code",
   "execution_count": 30,
   "id": "e54bdeff",
   "metadata": {},
   "outputs": [],
   "source": [
    "def Starter(starter):\n",
    "    \n",
    "     if starter =='Yes' :\n",
    "        return '1'\n",
    "     else:\n",
    "        return '0'"
   ]
  },
  {
   "cell_type": "markdown",
   "id": "14f2fdd1",
   "metadata": {},
   "source": [
    "#### Preproccessing function"
   ]
  },
  {
   "cell_type": "code",
   "execution_count": 31,
   "id": "4a7e603a",
   "metadata": {},
   "outputs": [],
   "source": [
    "def Pre_processing(team,position,country,age,starter):\n",
    "    \"\"\"\n",
    "    takes user inputs as arguments and converts data \n",
    "    from long to wide format.Returns a data frame ready to\n",
    "    used in prediction\n",
    "    \n",
    "    \"\"\"\n",
    "    global df\n",
    "    \n",
    "    df = pd.read_csv(r\"C:\\Users\\Ramya\\X_test_de.csv\")\n",
    "    \n",
    "    df = df.iloc[:,1:] #clean dataframe\n",
    "    df = df.iloc[0:0]  #drop all data\n",
    "    df = df.append(pd.Series(0, index=df.columns), ignore_index=True)  # add a row of zero\n",
    "    \n",
    "    \n",
    "    # First catogeries are removed form the catgorical variables when creating dummies\n",
    "    if team == 'ARB':\n",
    "         pass    \n",
    "    else:\n",
    "        df['club_code_' + str(team)] = 1\n",
    "\n",
    "    if position == 'Defender':\n",
    "        pass\n",
    "    else:\n",
    "        df['player_group_code_' + str(Position(position))] = 1\n",
    "\n",
    "    if Age(age) == 'U18' :\n",
    "        pass\n",
    "    else:\n",
    "        df['Age_'+ str(Age(age))] = 1\n",
    "\n",
    "    if Region(country) == 'EU':\n",
    "        pass\n",
    "    else:\n",
    "        df['region_'+str(Region(country))] = 1\n",
    "\n",
    "    if Club_type(team) == 'mid-table':\n",
    "        pass\n",
    "    else:\n",
    "        df['club_level_'+ str(Club_type(team))] = 1\n",
    "\n",
    "    if Starter(starter) == '0':\n",
    "        pass\n",
    "    else:\n",
    "        df['high_earner_'+Starter(starter)] = 1\n",
    "\n",
    "    return df"
   ]
  },
  {
   "cell_type": "markdown",
   "id": "25cc0fc9",
   "metadata": {},
   "source": [
    "#### Function for model prediction"
   ]
  },
  {
   "cell_type": "code",
   "execution_count": 32,
   "id": "4750043d",
   "metadata": {},
   "outputs": [],
   "source": [
    "def Predict(team,position,country,age,starter):\n",
    "    \"\"\"\n",
    "    Takes input from user , runs pre_processing function\n",
    "    to prepare the data, runs the model and returns\n",
    "    the model prediction\n",
    "    \n",
    "    \"\"\"\n",
    "    \n",
    "    # Preprocess the user input\n",
    "    input_data = Pre_processing(team,position,country,age,starter)\n",
    "    \n",
    "    # Make a prediction using the model\n",
    "    prediction = math.exp(model.predict(input_data))\n",
    "    \n",
    "    return prediction"
   ]
  },
  {
   "cell_type": "markdown",
   "id": "e1f73e27",
   "metadata": {},
   "source": [
    "#### List Valid inputs"
   ]
  },
  {
   "cell_type": "code",
   "execution_count": 33,
   "id": "71086705",
   "metadata": {},
   "outputs": [],
   "source": [
    "CLUBS = ('ARB','AUG','B04','BAY','BCM','BMG','BSC','BVB','CGN','F95','FUR','MAI','PAD','RBL','S04','SCF','SGE','STU','SVW','TSG','UBE','WOB')\n",
    "\n",
    "POSITIONS = ('Defender','Midfielder','Foward','Keeper')\n",
    "\n",
    "COUNTRIES = ('iceland', 'germany', 'ecuador', 'finland', 'austria', 'brazil',\n",
    "            'czech-republic', 'netherlands', 'croatia', 'denmark', 'nigeria',\n",
    "            'england', 'switzerland', 'south-korea', 'venezuela', 'poland',\n",
    "            'chile', 'burkina-faso', 'argentina', 'jamaica', 'france',\n",
    "            'greece', 'canada', 'spain', 'new-zealand', 'morocco', 'belgium',\n",
    "            'norway', 'united-states', 'portugal', 'ghana', 'turkey', 'japan',\n",
    "            'kosovo', 'serbia', 'bosnia-herzegovina', 'guinea', 'albania',\n",
    "            'australia', 'hungary', 'italy', 'slovakia', 'cote-d-ivoire',\n",
    "            'mali', 'togo', 'israel', 'algeria', 'armenia', 'north-macedonia',\n",
    "            'tunisia', 'colombia', 'sweden', 'wales', 'slovenia', 'uruguay',\n",
    "            'romania', 'luxembourg', 'cameroon', 'paraguay', 'senegal',\n",
    "            'bulgaria', 'democratic-republic-of-congo', 'angola', 'benin',\n",
    "            'faroe-islands', 'latvia', 'democratic-republic-of-the-congo',\n",
    "            'egypt', 'panama', 'russia', 'iran', 'costa-rica', 'philippines',\n",
    "            'congo', 'cyprus', 'montenegro', 'ireland', 'suriname', 'ukraine',\n",
    "            'the-gambia', 'scotland')"
   ]
  },
  {
   "cell_type": "markdown",
   "id": "62b04491",
   "metadata": {},
   "source": [
    "#### Streamlit App"
   ]
  },
  {
   "cell_type": "code",
   "execution_count": 1,
   "id": "9898bc62",
   "metadata": {},
   "outputs": [
    {
     "ename": "NameError",
     "evalue": "name 'st' is not defined",
     "output_type": "error",
     "traceback": [
      "\u001b[1;31m---------------------------------------------------------------------------\u001b[0m",
      "\u001b[1;31mNameError\u001b[0m                                 Traceback (most recent call last)",
      "\u001b[1;32m~\\AppData\\Local\\Temp\\ipykernel_3640\\2775424964.py\u001b[0m in \u001b[0;36m<module>\u001b[1;34m\u001b[0m\n\u001b[0;32m      2\u001b[0m \u001b[1;33m\u001b[0m\u001b[0m\n\u001b[0;32m      3\u001b[0m \u001b[1;33m\u001b[0m\u001b[0m\n\u001b[1;32m----> 4\u001b[1;33m \u001b[0mst\u001b[0m\u001b[1;33m.\u001b[0m\u001b[0mtitle\u001b[0m\u001b[1;33m(\u001b[0m\u001b[1;34m'Wage Estimate'\u001b[0m\u001b[1;33m)\u001b[0m\u001b[1;33m\u001b[0m\u001b[1;33m\u001b[0m\u001b[0m\n\u001b[0m\u001b[0;32m      5\u001b[0m \u001b[1;33m\u001b[0m\u001b[0m\n\u001b[0;32m      6\u001b[0m \u001b[1;31m# Get user input using Streamlit widgets\u001b[0m\u001b[1;33m\u001b[0m\u001b[1;33m\u001b[0m\u001b[0m\n",
      "\u001b[1;31mNameError\u001b[0m: name 'st' is not defined"
     ]
    }
   ],
   "source": [
    "# Create a Streamlit app\n",
    "\n",
    "\n",
    "st.title('Wage Estimate')\n",
    "\n",
    "# Get user input using Streamlit widgets\n",
    "team = st.selectbox('Enter player team?',(CLUBS))\n",
    "\n",
    "position = st.selectbox('Enter player position?',(POSITIONS))\n",
    "\n",
    "country = st.selectbox('Enter player country?',(COUNTRIES))\n",
    "\n",
    "age = st.number_input('Enter age :',step=1)\n",
    "\n",
    "age = int(age)\n",
    "\n",
    "starter = st.selectbox('Is player starter?',(('Yes','No')))\n"
   ]
  },
  {
   "cell_type": "code",
   "execution_count": null,
   "id": "97bfe117",
   "metadata": {},
   "outputs": [],
   "source": [
    "# Call the function with the user input as arguments and display the result\n",
    "result = round(Predict(team,position,country,age,starter))\n",
    "\n",
    "table = similar_player([team,Position(position),country,age,Starter(starter)])\n",
    "\n",
    "st.write('Wage Estimate:', f'{result:,}')\n",
    "\n",
    "st.write('Wage as a Precentage of ' + str(team) + '`s total wage bill:',str(round(result*100/Total_wage_bill(team),2)) + '%')\n",
    "\n",
    "st.write(table)\n",
    "\n"
   ]
  }
 ],
 "metadata": {
  "kernelspec": {
   "display_name": "Python 3 (ipykernel)",
   "language": "python",
   "name": "python3"
  },
  "language_info": {
   "codemirror_mode": {
    "name": "ipython",
    "version": 3
   },
   "file_extension": ".py",
   "mimetype": "text/x-python",
   "name": "python",
   "nbconvert_exporter": "python",
   "pygments_lexer": "ipython3",
   "version": "3.9.13"
  }
 },
 "nbformat": 4,
 "nbformat_minor": 5
}
