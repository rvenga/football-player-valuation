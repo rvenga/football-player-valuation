{
 "cells": [
  {
   "cell_type": "code",
   "execution_count": 2,
   "id": "05049abe",
   "metadata": {},
   "outputs": [],
   "source": [
    "import pandas as pd \n",
    "# default='warn', Used here to supress warning when slicing and creating high earners column\n",
    "pd.options.mode.chained_assignment = None \n"
   ]
  },
  {
   "cell_type": "code",
   "execution_count": 3,
   "id": "af453e92",
   "metadata": {},
   "outputs": [],
   "source": [
    "import requests\n",
    "import json\n",
    "import numpy as np\n",
    "import matplotlib.pyplot as plt\n",
    "import seaborn as sns\n",
    "import math"
   ]
  },
  {
   "cell_type": "code",
   "execution_count": 4,
   "id": "42088905",
   "metadata": {},
   "outputs": [],
   "source": [
    "# custom function from Web_scrapper_League_Tables notebook \n",
    "from ipynb.fs.full.Web_scrapper_League_Tables import League_table_scraper\n"
   ]
  },
  {
   "cell_type": "markdown",
   "id": "817d382b",
   "metadata": {},
   "source": [
    "#### Getting data from the API"
   ]
  },
  {
   "cell_type": "code",
   "execution_count": 5,
   "id": "1b54495c",
   "metadata": {},
   "outputs": [],
   "source": [
    "# API authorization\n",
    "headers = {'x-api-key':'d15f7132973d404d9d046934398ee9e3', 'accept': 'application/json', 'accept': 'text/csv'}\n",
    "\n",
    "# Choose endpoint\n",
    "endpoint = 'https://www.capology.com/api/v2/soccer/salaries/de/1-bundesliga/2019-2020/'\n",
    "\n",
    "# Retrieve json\n",
    "json1 = requests.get(endpoint, headers = headers).text\n",
    "\n",
    "#Data for 2019/2020\n",
    "df1 = pd.read_json(json1)\n",
    "\n",
    "df1 = df1[df1[\"season_term\"] == \"combined\"]"
   ]
  },
  {
   "cell_type": "code",
   "execution_count": 6,
   "id": "2eb90ecf",
   "metadata": {},
   "outputs": [],
   "source": [
    "# API authorization\n",
    "headers = {'x-api-key':'d15f7132973d404d9d046934398ee9e3', 'accept': 'application/json', 'accept': 'text/csv'}\n",
    "\n",
    "# Choose endpoint\n",
    "endpoint = 'https://www.capology.com/api/v2/soccer/salaries/de/1-bundesliga/2020-2021/'\n",
    "\n",
    "# Retrieve json\n",
    "json2 = requests.get(endpoint, headers=headers).text\n",
    "\n",
    "#Data for 2020/2021\n",
    "df2 = pd.read_json(json2)\n",
    "\n",
    "df2 = df2[df2[\"season_term\"] == \"combined\"]"
   ]
  },
  {
   "cell_type": "code",
   "execution_count": 7,
   "id": "93081734",
   "metadata": {},
   "outputs": [],
   "source": [
    "# API authorization\n",
    "headers = {'x-api-key':'d15f7132973d404d9d046934398ee9e3', 'accept': 'application/json', 'accept': 'text/csv'}\n",
    "\n",
    "# Choose endpoint\n",
    "endpoint = 'https://www.capology.com/api/v2/soccer/salaries/de/1-bundesliga/2021-2022/'\n",
    "\n",
    "# Retrieve json\n",
    "json3 = requests.get(endpoint, headers=headers).text\n",
    "\n",
    "#Data for 2021/2022\n",
    "df3 = pd.read_json(json3)\n",
    "\n",
    "df3 = df3[df3[\"season_term\"] == \"combined\"]"
   ]
  },
  {
   "cell_type": "code",
   "execution_count": 8,
   "id": "3bb3ae3a",
   "metadata": {},
   "outputs": [],
   "source": [
    "# API authorization\n",
    "headers = {'x-api-key':'d15f7132973d404d9d046934398ee9e3', 'accept': 'application/json', 'accept': 'text/csv'}\n",
    "\n",
    "# Choose endpoint\n",
    "endpoint = 'https://www.capology.com/api/v2/soccer/salaries/de/1-bundesliga/2022-2023/'\n",
    "\n",
    "# Retrieve json\n",
    "json4 = requests.get(endpoint, headers=headers).text\n",
    "\n",
    "#Data for 2022/2023\n",
    "df4 = pd.read_json(json4)\n",
    "\n",
    "#Capology has defined the seson as summer\n",
    "df4 = df4[df4[\"season_term\"] == \"summer\"]"
   ]
  },
  {
   "cell_type": "code",
   "execution_count": 9,
   "id": "5ad357a5",
   "metadata": {},
   "outputs": [],
   "source": [
    "df = pd.concat([df1,df2,df3,df4],axis = 0).drop_duplicates()"
   ]
  },
  {
   "cell_type": "code",
   "execution_count": 11,
   "id": "12443390",
   "metadata": {},
   "outputs": [
    {
     "data": {
      "text/plain": [
       "0       Forward\n",
       "5        Keeper\n",
       "6       Forward\n",
       "10       Keeper\n",
       "12      Forward\n",
       "         ...   \n",
       "503      Keeper\n",
       "504      Keeper\n",
       "505     Defense\n",
       "506     Defense\n",
       "507    Midfield\n",
       "Name: player_group, Length: 2210, dtype: object"
      ]
     },
     "execution_count": 11,
     "metadata": {},
     "output_type": "execute_result"
    }
   ],
   "source": [
    "player_group"
   ]
  },
  {
   "cell_type": "markdown",
   "id": "0e4dfc95",
   "metadata": {},
   "source": [
    "#### Cleaning Data frame"
   ]
  },
  {
   "cell_type": "code",
   "execution_count": 88,
   "id": "9d20385d",
   "metadata": {},
   "outputs": [],
   "source": [
    "df = df[df['salary_gross_eur'] != 0]"
   ]
  },
  {
   "cell_type": "code",
   "execution_count": 89,
   "id": "3ff4a397",
   "metadata": {},
   "outputs": [],
   "source": [
    "CODE_DICT = pd.Series(df.club_code.values,index=df.club_name).to_dict()\n"
   ]
  },
  {
   "cell_type": "code",
   "execution_count": 90,
   "id": "afe79750",
   "metadata": {},
   "outputs": [],
   "source": [
    "#Required columns\n",
    "LIST = ['season_id','club_code','player_age','player_country_id','player_group_code','salary_gross_eur']"
   ]
  },
  {
   "cell_type": "code",
   "execution_count": 91,
   "id": "8b3ffe96",
   "metadata": {},
   "outputs": [],
   "source": [
    "df_salary = df[LIST]\n",
    "df_salary = df_salary.reset_index(drop = True)"
   ]
  },
  {
   "cell_type": "code",
   "execution_count": 92,
   "id": "447a3bc3",
   "metadata": {
    "scrolled": true
   },
   "outputs": [
    {
     "data": {
      "text/html": [
       "<div>\n",
       "<style scoped>\n",
       "    .dataframe tbody tr th:only-of-type {\n",
       "        vertical-align: middle;\n",
       "    }\n",
       "\n",
       "    .dataframe tbody tr th {\n",
       "        vertical-align: top;\n",
       "    }\n",
       "\n",
       "    .dataframe thead th {\n",
       "        text-align: right;\n",
       "    }\n",
       "</style>\n",
       "<table border=\"1\" class=\"dataframe\">\n",
       "  <thead>\n",
       "    <tr style=\"text-align: right;\">\n",
       "      <th></th>\n",
       "      <th>season_id</th>\n",
       "      <th>club_code</th>\n",
       "      <th>player_age</th>\n",
       "      <th>player_country_id</th>\n",
       "      <th>player_group_code</th>\n",
       "      <th>salary_gross_eur</th>\n",
       "    </tr>\n",
       "  </thead>\n",
       "  <tbody>\n",
       "    <tr>\n",
       "      <th>0</th>\n",
       "      <td>2019-2020</td>\n",
       "      <td>AUG</td>\n",
       "      <td>30</td>\n",
       "      <td>iceland</td>\n",
       "      <td>F</td>\n",
       "      <td>1990000</td>\n",
       "    </tr>\n",
       "    <tr>\n",
       "      <th>1</th>\n",
       "      <td>2019-2020</td>\n",
       "      <td>AUG</td>\n",
       "      <td>32</td>\n",
       "      <td>germany</td>\n",
       "      <td>K</td>\n",
       "      <td>360000</td>\n",
       "    </tr>\n",
       "    <tr>\n",
       "      <th>2</th>\n",
       "      <td>2019-2020</td>\n",
       "      <td>AUG</td>\n",
       "      <td>29</td>\n",
       "      <td>germany</td>\n",
       "      <td>F</td>\n",
       "      <td>1800000</td>\n",
       "    </tr>\n",
       "    <tr>\n",
       "      <th>3</th>\n",
       "      <td>2019-2020</td>\n",
       "      <td>AUG</td>\n",
       "      <td>20</td>\n",
       "      <td>germany</td>\n",
       "      <td>K</td>\n",
       "      <td>80000</td>\n",
       "    </tr>\n",
       "    <tr>\n",
       "      <th>4</th>\n",
       "      <td>2019-2020</td>\n",
       "      <td>AUG</td>\n",
       "      <td>24</td>\n",
       "      <td>ecuador</td>\n",
       "      <td>M</td>\n",
       "      <td>1500000</td>\n",
       "    </tr>\n",
       "  </tbody>\n",
       "</table>\n",
       "</div>"
      ],
      "text/plain": [
       "   season_id club_code  player_age player_country_id player_group_code  \\\n",
       "0  2019-2020       AUG          30           iceland                 F   \n",
       "1  2019-2020       AUG          32           germany                 K   \n",
       "2  2019-2020       AUG          29           germany                 F   \n",
       "3  2019-2020       AUG          20           germany                 K   \n",
       "4  2019-2020       AUG          24           ecuador                 M   \n",
       "\n",
       "   salary_gross_eur  \n",
       "0           1990000  \n",
       "1            360000  \n",
       "2           1800000  \n",
       "3             80000  \n",
       "4           1500000  "
      ]
     },
     "execution_count": 92,
     "metadata": {},
     "output_type": "execute_result"
    }
   ],
   "source": [
    "df_salary.head()"
   ]
  },
  {
   "cell_type": "markdown",
   "id": "047fe62f",
   "metadata": {},
   "source": [
    "#### Finding High Earners"
   ]
  },
  {
   "cell_type": "code",
   "execution_count": 93,
   "id": "00e5c291",
   "metadata": {},
   "outputs": [],
   "source": [
    "# Group the data by 'club' and 'position'\n",
    "groups = df_salary.groupby(['season_id','club_code', 'player_group_code'])\n",
    "# Find the highest two values of column 'salary_gross_eur' for each group\n",
    "top_two = groups['salary_gross_eur'].nlargest(2).reset_index()\n",
    "\n",
    "# get needed indexes\n",
    "index = list(top_two['level_3'])\n",
    "\n",
    "# Add the result to the data frame as a new column\n",
    "df_salary['high_earner'] = 0\n",
    "for i in index:\n",
    "    df_salary.loc[i, 'high_earner'] = 1"
   ]
  },
  {
   "cell_type": "markdown",
   "id": "2f379323",
   "metadata": {},
   "source": [
    "#### Creating  needed features"
   ]
  },
  {
   "cell_type": "code",
   "execution_count": 94,
   "id": "188338b6",
   "metadata": {},
   "outputs": [],
   "source": [
    "countries = df_salary.player_country_id.unique()\n",
    "\n",
    "#based on uk.gov website excluding Germany\n",
    "EU_countries = ['Austria', 'Bulgaria','Belgium', 'Croatia','Cyprus', 'Czech-Republic', \n",
    "              'Denmark', 'Estonia', 'Finland', 'France', 'Greece', 'Hungary', 'Ireland', 'Italy',\n",
    "              'Latvia', 'Lithuania', 'Luxembourg', 'Malta', 'Netherlands', 'Poland', 'Portugal', \n",
    "              'Romania', 'Slovakia', 'Slovenia', 'Spain','Sweden']\n",
    "\n",
    "EU_countries = [s.lower() for s in EU_countries]"
   ]
  },
  {
   "cell_type": "code",
   "execution_count": 95,
   "id": "7eb7bcf0",
   "metadata": {},
   "outputs": [],
   "source": [
    "EU = []\n",
    "non_EU = []\n",
    "for country in countries:\n",
    "    if country in EU_countries:\n",
    "        EU.append(country) \n",
    "    elif country == 'germany':\n",
    "        0\n",
    "    else:\n",
    "        non_EU.append(country) \n"
   ]
  },
  {
   "cell_type": "code",
   "execution_count": 96,
   "id": "f928258d",
   "metadata": {},
   "outputs": [
    {
     "data": {
      "text/plain": [
       "1"
      ]
     },
     "execution_count": 96,
     "metadata": {},
     "output_type": "execute_result"
    }
   ],
   "source": [
    "len(countries)-len(EU)-len(non_EU)"
   ]
  },
  {
   "cell_type": "code",
   "execution_count": 97,
   "id": "f97ee541",
   "metadata": {},
   "outputs": [],
   "source": [
    "def set_region(row):\n",
    "    \"\"\"\n",
    "    Function takes each row as argument and returns the region \n",
    "    based on the player_country_id.\n",
    "    \"\"\"\n",
    "    \n",
    "    if row['player_country_id'] in non_EU:\n",
    "        return 'non_EU'\n",
    "    \n",
    "    elif row['player_country_id'] in EU:\n",
    "        return 'EU'\n",
    "    \n",
    "    else:\n",
    "        return 'germany'"
   ]
  },
  {
   "cell_type": "code",
   "execution_count": 98,
   "id": "78126ca0",
   "metadata": {},
   "outputs": [],
   "source": [
    "##Updating coding dicitionary as capology has differnt naming convention to Wikipedia\n",
    "CODE_DICT = pd.Series(df.club_code.values,index=df.club_name).to_dict()\n",
    "\n",
    "CODE_DICT['1. FC Köln'] = 'CGN'\n",
    "CODE_DICT['Borussia Mönchengladbach'] = 'BMG'\n",
    "CODE_DICT['RB Leipzig'] = 'RBL'\n",
    "CODE_DICT['1899 Hoffenheim'] = 'TSG'\n",
    "CODE_DICT['VfL Wolfsburg'] = 'WOB'\n",
    "CODE_DICT['SC Freiburg'] = 'SCF'\n",
    "CODE_DICT['Hertha BSC'] = 'BSC'\n",
    "CODE_DICT['Mainz 05'] = 'MAI'\n",
    "CODE_DICT['FC Augsburg'] = 'AUG'\n",
    "CODE_DICT['Fortuna Düsseldorf'] = 'F95'\n",
    "CODE_DICT['SC Paderborn'] = 'PAD'\n",
    "CODE_DICT['VfB Stuttgart'] = 'STU'\n",
    "CODE_DICT['VfL Bochum'] = 'BCM'\n",
    "CODE_DICT['Greuther Fürth'] = 'FUR'\n",
    "CODE_DICT['Borussia Mönchengladbach'] = 'BMG'"
   ]
  },
  {
   "cell_type": "code",
   "execution_count": 99,
   "id": "a0d56990",
   "metadata": {},
   "outputs": [],
   "source": [
    "# Final league standings 2019/2020\n",
    "standings_2019 = League_table_scraper('https://en.wikipedia.org/wiki/2019%E2%80%9320_Bundesliga',6)\n",
    "standings_2019 = list(map(lambda x: CODE_DICT[x], standings_2019.club))\n",
    "\n",
    "# Final league standings 2020/2021\n",
    "standings_2020 = League_table_scraper('https://en.wikipedia.org/wiki/2020%E2%80%9321_Bundesliga',6)\n",
    "standings_2020 = list(map(lambda x: CODE_DICT[x], standings_2020.club))\n",
    "\n",
    "# Final league standings 2021/2022\n",
    "standings_2021 = League_table_scraper('https://en.wikipedia.org/wiki/2021%E2%80%9322_Bundesliga',5)\n",
    "standings_2021 = list(map(lambda x: CODE_DICT[x], standings_2021.club))\n",
    "\n",
    "# Current league standings 2022/2023\n",
    "standings_2022 = League_table_scraper('https://en.wikipedia.org/wiki/2022%E2%80%9323_Bundesliga',5)\n",
    "standings_2022 = list(map(lambda x: CODE_DICT[x], standings_2022.club))"
   ]
  },
  {
   "cell_type": "code",
   "execution_count": 100,
   "id": "8db50d2f",
   "metadata": {},
   "outputs": [],
   "source": [
    "def set_club_type(row):\n",
    "    \n",
    "    \"\"\"\n",
    "    Function takes each row as argument and returns\n",
    "    top 4,top 6,mid-table, relagation based on the club \n",
    "    finishing position for the year\n",
    "    \n",
    "    \"\"\"\n",
    "\n",
    "    if (row['club_code'] in standings_2019[:4] and row['season_id']== '2019-2020') or (row['club_code'] in standings_2020[0:4] and row['season_id']=='2020-2021') or (row['club_code'] in standings_2021[0:4] and row['season_id']=='2021-2022') or (row['club_code'] in standings_2022[0:4] and row['season_id']=='2022-2023'):\n",
    "        return 'top 4'\n",
    "   \n",
    "    if (row['club_code'] in standings_2019[4:6] and row['season_id']== '2019-2020') or (row['club_code'] in standings_2020[4:6] and row['season_id']=='2020-2021') or (row['club_code'] in standings_2021[4:6] and row['season_id']=='2021-2022') or (row['club_code'] in standings_2022[4:6] and row['season_id']=='2022-2023'):\n",
    "        return 'top 6'\n",
    "    \n",
    "    if (row['club_code'] in standings_2019[6:15] and row['season_id']== '2019-2020') or (row['club_code'] in standings_2020[6:15] and row['season_id']=='2020-2021') or (row['club_code'] in standings_2021[6:15] and row['season_id']=='2021-2022') or (row['club_code'] in standings_2022[6:15] and row['season_id']=='2022-2023'):\n",
    "        return 'mid-table'\n",
    "    \n",
    "    else :\n",
    "        return 'relegation'\n"
   ]
  },
  {
   "cell_type": "code",
   "execution_count": 101,
   "id": "d408189d",
   "metadata": {},
   "outputs": [],
   "source": [
    "X = df_salary[['club_code', 'player_age', 'player_country_id', 'player_group_code','season_id','high_earner']]\n",
    "\n",
    "X = X.assign(Age = pd.cut(X['player_age'], \n",
    "                               bins = [0, 17, 21,23, 27, 32,99], \n",
    "                               labels = ['U18', '18-21', '21-23','23-27','27-32','32+']))\n",
    "\n",
    "X = X.assign(region = X.apply(set_region, axis = 1)).astype('category')\n",
    "\n",
    "X = X.assign(club_level = X.apply(set_club_type,axis = 1)).astype('category')\n",
    "\n",
    "X = X.drop('player_country_id',axis=1)\n",
    "X = X.drop('player_age',axis=1)\n",
    "X = X.drop('season_id',axis=1)"
   ]
  },
  {
   "cell_type": "markdown",
   "id": "5d52ee80",
   "metadata": {},
   "source": [
    "#### Preapring data frame for modelling\n"
   ]
  },
  {
   "cell_type": "code",
   "execution_count": 102,
   "id": "0db3139e",
   "metadata": {},
   "outputs": [],
   "source": [
    "X = pd.get_dummies(data = X, drop_first = True)"
   ]
  },
  {
   "cell_type": "code",
   "execution_count": 103,
   "id": "4a8e9493",
   "metadata": {},
   "outputs": [],
   "source": [
    "Y = np.log(df_salary['salary_gross_eur'])"
   ]
  },
  {
   "cell_type": "markdown",
   "id": "7c64fccb",
   "metadata": {},
   "source": [
    "#### Fiiting the Model"
   ]
  },
  {
   "cell_type": "code",
   "execution_count": 104,
   "id": "1fc45355",
   "metadata": {},
   "outputs": [
    {
     "name": "stdout",
     "output_type": "stream",
     "text": [
      "(1323, 35)\n",
      "(882, 35)\n",
      "(1323,)\n",
      "(882,)\n"
     ]
    }
   ],
   "source": [
    "from sklearn.model_selection import train_test_split\n",
    "X_train, X_test, y_train, y_test = train_test_split(X, Y, test_size=0.4, random_state=100)\n",
    "print(X_train.shape)\n",
    "print(X_test.shape)\n",
    "print(y_train.shape)\n",
    "print(y_test.shape)"
   ]
  },
  {
   "cell_type": "code",
   "execution_count": 105,
   "id": "8ad582e5",
   "metadata": {},
   "outputs": [
    {
     "data": {
      "text/plain": [
       "LinearRegression()"
      ]
     },
     "execution_count": 105,
     "metadata": {},
     "output_type": "execute_result"
    }
   ],
   "source": [
    "from sklearn.linear_model import LinearRegression\n",
    "model = LinearRegression()\n",
    "model.fit(X_train,y_train)"
   ]
  },
  {
   "cell_type": "code",
   "execution_count": 106,
   "id": "5acf845e",
   "metadata": {},
   "outputs": [],
   "source": [
    "X_test.to_csv(r'C:\\Users\\Ramya\\X_test_de.csv')"
   ]
  },
  {
   "cell_type": "code",
   "execution_count": 107,
   "id": "020a5e44",
   "metadata": {},
   "outputs": [
    {
     "name": "stdout",
     "output_type": "stream",
     "text": [
      "10.30098430421953\n"
     ]
    }
   ],
   "source": [
    "print(model.intercept_)"
   ]
  },
  {
   "cell_type": "code",
   "execution_count": 108,
   "id": "c561b6c1",
   "metadata": {
    "scrolled": true
   },
   "outputs": [
    {
     "data": {
      "text/html": [
       "<div>\n",
       "<style scoped>\n",
       "    .dataframe tbody tr th:only-of-type {\n",
       "        vertical-align: middle;\n",
       "    }\n",
       "\n",
       "    .dataframe tbody tr th {\n",
       "        vertical-align: top;\n",
       "    }\n",
       "\n",
       "    .dataframe thead th {\n",
       "        text-align: right;\n",
       "    }\n",
       "</style>\n",
       "<table border=\"1\" class=\"dataframe\">\n",
       "  <thead>\n",
       "    <tr style=\"text-align: right;\">\n",
       "      <th></th>\n",
       "      <th>index</th>\n",
       "      <th>Coefficient</th>\n",
       "    </tr>\n",
       "  </thead>\n",
       "  <tbody>\n",
       "    <tr>\n",
       "      <th>0</th>\n",
       "      <td>club_code_AUG</td>\n",
       "      <td>1.008123</td>\n",
       "    </tr>\n",
       "    <tr>\n",
       "      <th>1</th>\n",
       "      <td>club_code_B04</td>\n",
       "      <td>2.088195</td>\n",
       "    </tr>\n",
       "    <tr>\n",
       "      <th>2</th>\n",
       "      <td>club_code_BAY</td>\n",
       "      <td>2.963334</td>\n",
       "    </tr>\n",
       "    <tr>\n",
       "      <th>3</th>\n",
       "      <td>club_code_BCM</td>\n",
       "      <td>0.293283</td>\n",
       "    </tr>\n",
       "    <tr>\n",
       "      <th>4</th>\n",
       "      <td>club_code_BMG</td>\n",
       "      <td>1.694825</td>\n",
       "    </tr>\n",
       "    <tr>\n",
       "      <th>5</th>\n",
       "      <td>club_code_BSC</td>\n",
       "      <td>1.246148</td>\n",
       "    </tr>\n",
       "    <tr>\n",
       "      <th>6</th>\n",
       "      <td>club_code_BVB</td>\n",
       "      <td>2.326512</td>\n",
       "    </tr>\n",
       "    <tr>\n",
       "      <th>7</th>\n",
       "      <td>club_code_CGN</td>\n",
       "      <td>0.938179</td>\n",
       "    </tr>\n",
       "    <tr>\n",
       "      <th>8</th>\n",
       "      <td>club_code_F95</td>\n",
       "      <td>0.401456</td>\n",
       "    </tr>\n",
       "    <tr>\n",
       "      <th>9</th>\n",
       "      <td>club_code_FUR</td>\n",
       "      <td>0.420679</td>\n",
       "    </tr>\n",
       "    <tr>\n",
       "      <th>10</th>\n",
       "      <td>club_code_MAI</td>\n",
       "      <td>0.776033</td>\n",
       "    </tr>\n",
       "    <tr>\n",
       "      <th>11</th>\n",
       "      <td>club_code_PAD</td>\n",
       "      <td>-0.175313</td>\n",
       "    </tr>\n",
       "    <tr>\n",
       "      <th>12</th>\n",
       "      <td>club_code_RBL</td>\n",
       "      <td>2.154759</td>\n",
       "    </tr>\n",
       "    <tr>\n",
       "      <th>13</th>\n",
       "      <td>club_code_S04</td>\n",
       "      <td>1.497423</td>\n",
       "    </tr>\n",
       "    <tr>\n",
       "      <th>14</th>\n",
       "      <td>club_code_SCF</td>\n",
       "      <td>0.573935</td>\n",
       "    </tr>\n",
       "    <tr>\n",
       "      <th>15</th>\n",
       "      <td>club_code_SGE</td>\n",
       "      <td>1.438111</td>\n",
       "    </tr>\n",
       "    <tr>\n",
       "      <th>16</th>\n",
       "      <td>club_code_STU</td>\n",
       "      <td>0.703078</td>\n",
       "    </tr>\n",
       "    <tr>\n",
       "      <th>17</th>\n",
       "      <td>club_code_SVW</td>\n",
       "      <td>1.083620</td>\n",
       "    </tr>\n",
       "    <tr>\n",
       "      <th>18</th>\n",
       "      <td>club_code_TSG</td>\n",
       "      <td>1.247026</td>\n",
       "    </tr>\n",
       "    <tr>\n",
       "      <th>19</th>\n",
       "      <td>club_code_UBE</td>\n",
       "      <td>0.858165</td>\n",
       "    </tr>\n",
       "    <tr>\n",
       "      <th>20</th>\n",
       "      <td>club_code_WOB</td>\n",
       "      <td>1.713566</td>\n",
       "    </tr>\n",
       "    <tr>\n",
       "      <th>21</th>\n",
       "      <td>player_group_code_F</td>\n",
       "      <td>0.127834</td>\n",
       "    </tr>\n",
       "    <tr>\n",
       "      <th>22</th>\n",
       "      <td>player_group_code_K</td>\n",
       "      <td>-1.071030</td>\n",
       "    </tr>\n",
       "    <tr>\n",
       "      <th>23</th>\n",
       "      <td>player_group_code_M</td>\n",
       "      <td>0.016478</td>\n",
       "    </tr>\n",
       "    <tr>\n",
       "      <th>24</th>\n",
       "      <td>high_earner_1</td>\n",
       "      <td>0.998049</td>\n",
       "    </tr>\n",
       "    <tr>\n",
       "      <th>25</th>\n",
       "      <td>Age_18-21</td>\n",
       "      <td>0.770512</td>\n",
       "    </tr>\n",
       "    <tr>\n",
       "      <th>26</th>\n",
       "      <td>Age_21-23</td>\n",
       "      <td>1.824613</td>\n",
       "    </tr>\n",
       "    <tr>\n",
       "      <th>27</th>\n",
       "      <td>Age_23-27</td>\n",
       "      <td>2.297595</td>\n",
       "    </tr>\n",
       "    <tr>\n",
       "      <th>28</th>\n",
       "      <td>Age_27-32</td>\n",
       "      <td>2.433706</td>\n",
       "    </tr>\n",
       "    <tr>\n",
       "      <th>29</th>\n",
       "      <td>Age_32+</td>\n",
       "      <td>2.270846</td>\n",
       "    </tr>\n",
       "    <tr>\n",
       "      <th>30</th>\n",
       "      <td>region_germany</td>\n",
       "      <td>-0.306955</td>\n",
       "    </tr>\n",
       "    <tr>\n",
       "      <th>31</th>\n",
       "      <td>region_non_EU</td>\n",
       "      <td>-0.069842</td>\n",
       "    </tr>\n",
       "    <tr>\n",
       "      <th>32</th>\n",
       "      <td>club_level_relegation</td>\n",
       "      <td>0.064111</td>\n",
       "    </tr>\n",
       "    <tr>\n",
       "      <th>33</th>\n",
       "      <td>club_level_top 4</td>\n",
       "      <td>-0.088399</td>\n",
       "    </tr>\n",
       "    <tr>\n",
       "      <th>34</th>\n",
       "      <td>club_level_top 6</td>\n",
       "      <td>-0.203442</td>\n",
       "    </tr>\n",
       "  </tbody>\n",
       "</table>\n",
       "</div>"
      ],
      "text/plain": [
       "                    index  Coefficient\n",
       "0           club_code_AUG     1.008123\n",
       "1           club_code_B04     2.088195\n",
       "2           club_code_BAY     2.963334\n",
       "3           club_code_BCM     0.293283\n",
       "4           club_code_BMG     1.694825\n",
       "5           club_code_BSC     1.246148\n",
       "6           club_code_BVB     2.326512\n",
       "7           club_code_CGN     0.938179\n",
       "8           club_code_F95     0.401456\n",
       "9           club_code_FUR     0.420679\n",
       "10          club_code_MAI     0.776033\n",
       "11          club_code_PAD    -0.175313\n",
       "12          club_code_RBL     2.154759\n",
       "13          club_code_S04     1.497423\n",
       "14          club_code_SCF     0.573935\n",
       "15          club_code_SGE     1.438111\n",
       "16          club_code_STU     0.703078\n",
       "17          club_code_SVW     1.083620\n",
       "18          club_code_TSG     1.247026\n",
       "19          club_code_UBE     0.858165\n",
       "20          club_code_WOB     1.713566\n",
       "21    player_group_code_F     0.127834\n",
       "22    player_group_code_K    -1.071030\n",
       "23    player_group_code_M     0.016478\n",
       "24          high_earner_1     0.998049\n",
       "25              Age_18-21     0.770512\n",
       "26              Age_21-23     1.824613\n",
       "27              Age_23-27     2.297595\n",
       "28              Age_27-32     2.433706\n",
       "29                Age_32+     2.270846\n",
       "30         region_germany    -0.306955\n",
       "31          region_non_EU    -0.069842\n",
       "32  club_level_relegation     0.064111\n",
       "33       club_level_top 4    -0.088399\n",
       "34       club_level_top 6    -0.203442"
      ]
     },
     "execution_count": 108,
     "metadata": {},
     "output_type": "execute_result"
    }
   ],
   "source": [
    "coeff_parameter = pd.DataFrame(model.coef_,X.columns,columns=['Coefficient']).reset_index()\n",
    "coeff_parameter"
   ]
  },
  {
   "cell_type": "markdown",
   "id": "dbca9f37",
   "metadata": {},
   "source": [
    "#### Model Evaluation"
   ]
  },
  {
   "cell_type": "code",
   "execution_count": 109,
   "id": "e6b8add8",
   "metadata": {},
   "outputs": [
    {
     "data": {
      "text/plain": [
       "array([12.83942252, 10.89237527, 13.05881309, 15.03473932, 15.60962519,\n",
       "       15.48999258, 13.60188328, 13.8007035 , 12.58720052, 13.22980384,\n",
       "       10.17904698, 12.92172115, 12.84737944, 13.3752441 , 15.30594806,\n",
       "       13.72971722, 11.35495405, 14.24230314, 15.06682903, 13.23181513,\n",
       "       14.82998046, 11.83055461, 10.88905194, 12.44547794, 14.73604319,\n",
       "       13.63855702, 13.02113586, 12.78506182, 14.03883008, 13.43892021,\n",
       "       13.73665711, 13.91187451, 12.90163042, 11.86692907, 11.46761891,\n",
       "       14.94630585, 15.00053253, 14.55536552, 13.13372086, 13.97343949,\n",
       "       13.84560554, 13.13785614, 13.66469479, 12.57966616, 13.81257898,\n",
       "       14.18976204, 12.13852304, 15.3560335 , 13.73453664, 13.38239287,\n",
       "       13.56369255, 14.79277325, 13.2102921 , 13.62170048, 12.51555515,\n",
       "       13.39665445, 14.13941048, 10.94053744, 14.50298802, 16.47156346,\n",
       "       13.98644975, 13.27762304, 13.48779791, 14.66584834, 15.13708787,\n",
       "       13.517247  , 13.2102921 , 12.45390885, 15.34944584, 14.37013708,\n",
       "       13.85985793, 12.26149028, 11.76075854, 14.06934158, 12.59284857,\n",
       "       14.82998046, 13.36576799, 14.63723796, 14.90333035, 12.66837955,\n",
       "       15.10479843, 12.01068909, 15.19090513, 12.31754252, 13.33132027,\n",
       "       13.5024462 , 13.08245815, 14.82998046, 14.56523815, 12.84737944,\n",
       "       12.84885259, 11.26286802, 14.55128604, 11.71919888, 13.23050601,\n",
       "       14.57882671, 13.66983258, 15.20648477, 14.17637782, 15.06682903,\n",
       "       12.94985482, 14.9706102 , 12.02615378, 13.2615548 , 13.60178053,\n",
       "       11.59505492, 11.46759325, 14.76685057, 11.55703191, 13.5024462 ,\n",
       "       13.89715525, 13.7170472 , 13.15682291, 13.70298582, 15.6261034 ,\n",
       "       13.42758174, 13.49957927, 13.22980384, 13.71956051, 14.67743564,\n",
       "       12.637441  , 14.5916637 , 13.30960925, 14.00883146, 13.50045765,\n",
       "       12.36415739, 16.47156346, 13.91628796, 13.44740515, 15.60134831,\n",
       "       12.91810863, 16.5726479 , 11.9937604 , 13.90359764, 14.15238344,\n",
       "       12.95813169, 13.01396583, 13.99731619, 13.66560621, 11.01828585,\n",
       "       13.08025511, 13.13785614, 14.31979141, 12.4397471 , 12.00977767,\n",
       "       13.6031435 , 12.90163042, 14.55734942, 13.12788792, 10.26744581,\n",
       "       12.13761162, 14.30934342, 14.22638194, 13.13785614, 11.89466562,\n",
       "       14.10294109, 13.05387471, 15.32701595, 14.3416266 , 13.01913256,\n",
       "       14.0202918 , 13.19584823, 14.20181727, 14.2235628 , 12.94985482,\n",
       "       13.1497891 , 13.37461226, 12.57631372, 12.87824462, 13.73453664,\n",
       "       12.38970808, 14.82998046, 14.28687604, 13.66218214, 12.98583216,\n",
       "       14.66712014, 13.26569008, 15.13708787, 12.34903904, 13.23050601,\n",
       "       12.24868052, 13.89124056, 12.10744109, 12.08527398, 14.16452417,\n",
       "       16.18108677, 16.18108677, 14.31643078, 12.36832509, 13.0656688 ,\n",
       "       13.94825676, 13.8094399 , 13.83690103, 13.37461226, 13.49575989,\n",
       "       13.76999772, 13.87658935, 14.83721224, 14.37013708, 14.21241455,\n",
       "       14.26665515, 13.22980384, 10.7771309 , 13.01424165, 15.79082235,\n",
       "       13.37461226, 12.756822  , 13.82541511, 14.22374616, 13.72491096,\n",
       "       11.75987121, 12.50958895, 11.8325659 , 11.99921039, 15.59642475,\n",
       "       14.09698545, 15.98733054, 13.88500257, 14.76685057, 14.13302403,\n",
       "       14.7987526 , 14.63589228, 13.60178053, 12.91289576, 12.90424833,\n",
       "       13.84472717, 14.81062808, 14.28394901, 12.07686752, 15.29439341,\n",
       "       11.38833655, 13.95618079, 12.24291455, 11.93983372, 13.19171295,\n",
       "       15.06682903, 11.75987121, 10.70665721, 13.86208375, 12.6910219 ,\n",
       "       11.83055461, 11.96651877, 14.05555197, 13.79286521, 12.89415543,\n",
       "       14.30988286, 12.76632148, 14.5062479 , 12.61115373, 13.22655273,\n",
       "       15.47351437, 12.86555901, 14.790291  , 14.68677449, 15.16655947,\n",
       "       12.13940141, 13.75688239, 14.49762837, 12.48573368, 13.44154729,\n",
       "       12.67916863, 12.94985482, 14.01456036, 14.19195747, 12.99467642,\n",
       "       13.20376817, 11.82460392, 12.30825597, 15.03472122, 14.77793392,\n",
       "       13.87596976, 13.87844955, 13.73086165, 13.90359764, 13.99627153,\n",
       "       12.9746099 , 13.50045765, 14.3962978 , 12.07961952, 12.75116843,\n",
       "       13.0844925 , 11.31867806, 13.98583749, 13.94829139, 12.82676595,\n",
       "       13.4713197 ,  9.75762232, 14.13516397, 14.48750757, 14.05675568,\n",
       "       14.3897714 , 14.69820497, 14.25669594, 14.23211278, 13.27762304,\n",
       "       12.43768643, 13.84631587, 13.13785614, 13.25526109, 13.1905643 ,\n",
       "       13.07418128, 13.07418128, 13.19171295, 13.52994612, 13.73453664,\n",
       "       14.29622379, 15.06682903, 14.34610894, 13.96370929, 12.7753115 ,\n",
       "       13.06765736, 13.01396583, 12.95908054, 13.49575989, 14.03883008,\n",
       "       10.78654046, 15.60134831, 13.16626731, 14.59837566, 14.60666135,\n",
       "       13.5024462 , 14.28794692, 12.18913541, 13.72973532, 13.20376817,\n",
       "       12.37069075, 13.1300734 , 15.92693316, 11.12193566, 11.99921039,\n",
       "       13.06479043, 14.061826  , 11.54057418, 16.47156346, 13.13048829,\n",
       "       14.30988286, 13.74281351, 13.51987388, 10.5516759 , 13.42999449,\n",
       "       13.23050601, 16.2924425 , 13.53777226, 13.32124862, 15.79173138,\n",
       "       13.15007665, 12.95624955, 13.87964053, 12.57463653, 12.01068909,\n",
       "       11.83512087, 13.63918886, 13.91132009, 13.1115961 , 13.19584823,\n",
       "       14.01619713, 11.77266462, 14.13302403, 13.5310279 , 10.98935928,\n",
       "       13.67476146, 12.31852237, 13.25330224, 12.94985482, 12.13852304,\n",
       "       10.78101954, 11.97536303, 13.64216378, 13.60188328, 15.46278311,\n",
       "       13.50697226, 12.13852304, 12.88502504, 12.11425332, 15.3560335 ,\n",
       "       12.41315005, 12.13761162, 14.16199568, 13.75313532, 14.17659118,\n",
       "       14.18458963, 14.70583623, 11.38833655, 13.66501316, 12.45624341,\n",
       "       15.15582821, 14.92888407, 10.7771309 , 13.22980384, 15.41274368,\n",
       "       13.66240438, 12.74740889, 14.13859383, 15.56533271, 14.04957964,\n",
       "       14.67693168, 14.28173825, 14.13859383, 13.90271926, 14.82927903,\n",
       "       11.83055461, 13.4377678 , 14.52973752, 13.26569008, 12.7928926 ,\n",
       "       11.37716516, 12.37563609, 14.23916406, 14.82273393, 12.21913036,\n",
       "       12.55556926, 13.89083525, 13.47530956, 13.86120537, 11.37791095,\n",
       "       12.95962251, 11.1241537 , 13.44088123, 14.30667382, 12.56891879,\n",
       "       11.79105202, 13.56871517, 13.0844925 , 13.75342764, 15.20305492,\n",
       "       12.24868052, 10.70163459, 13.95698725, 12.44547794, 12.72641335,\n",
       "       13.78317875, 12.8046412 , 13.09893636, 13.60670269, 13.98083798,\n",
       "       13.20025682, 14.44032259, 11.84856781, 15.42756457, 11.3501782 ,\n",
       "       12.99679831, 15.81557743, 13.27332818, 13.76731024, 13.89951743,\n",
       "       13.67664455, 14.66493931, 12.50960705, 11.33847584, 14.54646261,\n",
       "       13.14724497, 13.72491096, 11.90049856, 12.84324416, 13.56369255,\n",
       "       10.46954416, 13.31458193, 12.58970948, 13.59285482, 13.96684838,\n",
       "       13.36576799, 15.03775755, 13.61728929, 15.47351437, 13.45583332,\n",
       "       13.06801429, 13.34731405, 14.25039451, 15.47351437, 13.08413556,\n",
       "       15.3560335 , 12.13073153, 13.24829334, 11.24933122, 12.05978287,\n",
       "       15.68037564, 11.55123931, 14.43997893, 13.24628205, 13.73273932,\n",
       "       12.73169818, 12.48517739, 13.28589991, 12.5492884 , 12.60594086,\n",
       "       10.06400405, 13.07680816, 12.47584479, 13.30148165, 12.45936658,\n",
       "       13.26569008, 13.09690609, 13.5024462 , 12.31991076, 14.46473402,\n",
       "       14.9099236 , 11.66840813, 13.56718906, 12.24291455, 15.61749264,\n",
       "       14.66493931, 15.31784051, 13.46691689, 13.7401911 , 13.09208456,\n",
       "       13.02224271, 13.18588001, 14.49179769, 14.7229314 , 13.04175425,\n",
       "       12.99339295, 14.2235628 , 14.55138815, 13.39665445, 12.99339295,\n",
       "       13.01118029, 14.46473402, 15.26718394, 14.21829548, 12.37096775,\n",
       "       13.98332658, 14.49179769, 13.88671932, 11.43574237, 11.55705239,\n",
       "       15.79082235, 14.72776632, 12.99467642, 12.77366931, 12.45390885,\n",
       "       12.45936658, 13.75929172, 14.90415764, 14.16452417, 13.98926889,\n",
       "       14.12211562, 13.08126864, 13.35704474, 14.49154453, 13.4217488 ,\n",
       "       14.00628349, 15.9138015 , 14.47374579, 13.01078236, 14.58262703,\n",
       "       12.92132322, 13.8636081 , 12.95813169, 14.54555521, 13.29974779,\n",
       "       14.28794692, 14.96452637, 11.40707689, 12.99467642, 12.52608526,\n",
       "       14.96452637, 12.31838303, 11.48409712, 14.5660799 , 12.44547794,\n",
       "       12.8046412 , 12.37563609, 15.47351437, 12.98572566, 12.66269042,\n",
       "       13.00166983, 12.46117822, 12.24868052, 12.96907215, 14.74317233,\n",
       "       12.7571911 , 11.37716516, 15.67946661, 13.97343949, 11.15151228,\n",
       "       13.19171295, 14.56676426, 12.89415543, 14.16452417, 11.96103145,\n",
       "       14.24866765, 12.15367252, 15.22968935, 10.93965907, 15.82447022,\n",
       "       13.75929172, 12.91289576, 14.31929771, 13.29974779, 13.36760134,\n",
       "       10.94053744, 13.58457794, 12.81527944, 14.61157567, 13.77576369,\n",
       "       10.69580165, 13.77576369, 13.67476146, 13.59943513, 12.9129636 ,\n",
       "       12.88465595, 13.94375154, 14.76083732, 14.88037344, 13.13785614,\n",
       "       12.93416006, 13.30237812, 13.84472717, 13.02946436, 13.79627716,\n",
       "       13.24672961, 11.3846039 , 13.82672424, 13.70339599, 12.55556926,\n",
       "       13.916881  , 11.85516303, 13.20376817, 12.18358966, 11.32154715,\n",
       "       15.04868904, 14.79277325, 13.38376307, 13.06801429, 13.70015587,\n",
       "       14.92336548, 12.80154003, 14.06834298, 11.85516303, 13.25864684,\n",
       "       12.90288591, 13.3726237 , 12.82676595, 11.96651877, 12.36482632,\n",
       "       15.63397085, 11.78914283, 13.18114567, 14.68928876, 12.79822807,\n",
       "       13.01913256, 15.6261034 , 12.95624955, 12.01058762, 13.4937486 ,\n",
       "       13.57546593, 10.48525609, 14.49179769, 11.90240775, 14.66584834,\n",
       "       12.21922684, 12.67916863, 14.5496017 , 14.16199568, 11.66840813,\n",
       "       12.89415543, 12.77685278, 15.80799201, 13.20376817, 13.41750754,\n",
       "       15.26718394, 13.20025682, 14.79277325, 10.63169064, 13.83324846,\n",
       "       13.37461226, 13.70843275, 14.16011297, 12.4286145 , 13.91628796,\n",
       "       11.70342283, 11.26286802, 13.60670269, 14.18458963, 11.0657654 ,\n",
       "       13.10518297, 12.37563609, 13.76731024, 13.66469479, 13.94041293,\n",
       "       13.89124056, 15.23429751, 14.35421589, 13.57546593, 14.56523815,\n",
       "       13.60090215, 12.07961952, 15.09524232, 14.87463844, 13.36760134,\n",
       "       15.97085233, 14.57608975, 14.76529162, 12.42962826, 10.86880369,\n",
       "       14.03970845, 12.01058762, 12.95873518, 13.45486905, 13.56871517,\n",
       "       12.86896437, 14.37527487, 13.38239287, 12.79268232, 12.02625588,\n",
       "       13.19262437, 14.30934342, 15.04299809, 13.00166983, 13.81275537,\n",
       "       13.91452913, 13.79094169, 14.42951547, 13.09893636, 14.3765016 ,\n",
       "       11.75573593, 13.63855702, 14.05316843, 12.8864077 , 14.24230314,\n",
       "       11.36888948, 13.79627716, 14.68112284, 13.77576369, 15.00097705,\n",
       "       13.86208375, 14.31427509, 13.91132009, 13.15433435, 13.72973532,\n",
       "       12.79257808, 12.93416006, 10.8978962 , 13.30190348, 14.22374447,\n",
       "       12.51555515, 12.28420926, 14.50877217, 12.30825597, 12.79268232,\n",
       "       13.96108241, 14.33325797, 12.94985482, 11.06004268, 13.69582055,\n",
       "       13.98099202, 11.83055461, 11.54709811, 13.00166983, 12.67680726,\n",
       "       12.61115373, 14.37527487, 13.95657708, 13.73453664, 11.85981898,\n",
       "       14.52555006, 12.09127831, 11.35794187, 11.25007701, 14.78806517,\n",
       "       14.44032259, 13.44740515, 13.01814804, 12.24208727, 14.485847  ,\n",
       "       14.79277325, 13.70015587, 14.72806919, 14.83669242, 14.68141752,\n",
       "       13.64720535, 13.29974779, 15.41928769, 13.25864684, 13.15682291,\n",
       "       12.84515335, 12.69647963, 11.84752908, 11.0822436 , 13.73453664,\n",
       "       12.04010588, 13.31643212, 14.12539382, 11.90240775, 12.79679861,\n",
       "       14.03970845, 13.66983258, 12.88867022, 12.30616529, 13.03009621,\n",
       "       13.87658935, 12.83741122, 11.83527413, 14.42754002, 12.91959783,\n",
       "       13.21194903, 13.36591466, 15.13708787, 15.81557743, 13.72973532,\n",
       "       11.66840813, 13.1115961 , 14.0446252 , 12.7803204 , 13.01913256,\n",
       "       15.29439341, 13.98332658, 15.03473932, 13.15682291, 12.77641439,\n",
       "       13.09893636, 14.7987526 , 13.64130186, 11.44198898, 12.95873518,\n",
       "       14.18458963, 13.66560621, 14.37266135, 14.39910874, 15.29868408,\n",
       "       13.30960925, 14.97888708, 13.71956051, 14.61116667, 13.76731024,\n",
       "       12.56318795, 15.61749264, 14.37446262, 14.42180918, 14.13302403,\n",
       "       11.37716516, 14.24230314, 14.66584834, 10.84124192, 10.46954416,\n",
       "       14.56174165, 13.10632768, 13.316226  , 13.74532889, 10.39658888,\n",
       "       10.26744581, 13.56369255, 14.63723796, 12.77716018, 12.88666724,\n",
       "       12.04010588, 11.33847584, 15.59314655, 11.55628612, 13.76731024,\n",
       "       14.1439508 , 13.30630506, 12.35997636, 14.19798769, 12.04010588,\n",
       "       13.31643212, 14.63592175, 12.52172024, 12.44635631, 11.00215269,\n",
       "       14.54621573, 11.85981898, 12.30825597, 13.41373386, 13.76125078,\n",
       "       12.60594086, 11.33847584, 11.66840813, 13.30960925, 13.94008077,\n",
       "       12.3226435 , 14.21241455, 13.38017624, 13.67515488, 13.96290941,\n",
       "       14.36396375, 12.49880169, 12.05200957, 13.19456632, 14.36396375,\n",
       "       13.88242083, 13.04175425])"
      ]
     },
     "execution_count": 109,
     "metadata": {},
     "output_type": "execute_result"
    }
   ],
   "source": [
    "predictions = model.predict(X_test)\n",
    "predictions"
   ]
  },
  {
   "cell_type": "code",
   "execution_count": 110,
   "id": "e08bf609",
   "metadata": {},
   "outputs": [
    {
     "name": "stderr",
     "output_type": "stream",
     "text": [
      "C:\\Users\\Ramya\\anaconda3\\lib\\site-packages\\seaborn\\_decorators.py:36: FutureWarning: Pass the following variables as keyword args: x, y. From version 0.12, the only valid positional argument will be `data`, and passing other arguments without an explicit keyword will result in an error or misinterpretation.\n",
      "  warnings.warn(\n"
     ]
    },
    {
     "data": {
      "text/plain": [
       "<AxesSubplot:xlabel='salary_gross_eur'>"
      ]
     },
     "execution_count": 110,
     "metadata": {},
     "output_type": "execute_result"
    },
    {
     "data": {
      "image/png": "[encoded data removed]",
      "text/plain": [
       "<Figure size 640x480 with 1 Axes>"
      ]
     },
     "metadata": {},
     "output_type": "display_data"
    }
   ],
   "source": [
    "sns.regplot(y_test,predictions)"
   ]
  },
  {
   "cell_type": "code",
   "execution_count": 111,
   "id": "2d7ee9f2",
   "metadata": {
    "scrolled": true
   },
   "outputs": [
    {
     "name": "stdout",
     "output_type": "stream",
     "text": [
      "                            OLS Regression Results                            \n",
      "==============================================================================\n",
      "Dep. Variable:       salary_gross_eur   R-squared:                       0.670\n",
      "Model:                            OLS   Adj. R-squared:                  0.661\n",
      "Method:                 Least Squares   F-statistic:                     74.56\n",
      "Date:                Mon, 26 Dec 2022   Prob (F-statistic):          1.09e-280\n",
      "Time:                        14:13:47   Log-Likelihood:                -1623.8\n",
      "No. Observations:                1323   AIC:                             3320.\n",
      "Df Residuals:                    1287   BIC:                             3506.\n",
      "Df Model:                          35                                         \n",
      "Covariance Type:            nonrobust                                         \n",
      "=========================================================================================\n",
      "                            coef    std err          t      P>|t|      [0.025      0.975]\n",
      "-----------------------------------------------------------------------------------------\n",
      "const                    10.3010      0.245     42.066      0.000       9.821      10.781\n",
      "club_code_AUG             1.0081      0.182      5.540      0.000       0.651       1.365\n",
      "club_code_B04             2.0882      0.191     10.911      0.000       1.713       2.464\n",
      "club_code_BAY             2.9633      0.207     14.284      0.000       2.556       3.370\n",
      "club_code_BCM             0.2933      0.215      1.367      0.172      -0.128       0.714\n",
      "club_code_BMG             1.6948      0.186      9.136      0.000       1.331       2.059\n",
      "club_code_BSC             1.2461      0.177      7.052      0.000       0.899       1.593\n",
      "club_code_BVB             2.3265      0.201     11.573      0.000       1.932       2.721\n",
      "club_code_CGN             0.9382      0.177      5.297      0.000       0.591       1.286\n",
      "club_code_F95             0.4015      0.239      1.679      0.093      -0.068       0.870\n",
      "club_code_FUR             0.4207      0.245      1.714      0.087      -0.061       0.902\n",
      "club_code_MAI             0.7760      0.183      4.234      0.000       0.416       1.136\n",
      "club_code_PAD            -0.1753      0.246     -0.713      0.476      -0.658       0.307\n",
      "club_code_RBL             2.1548      0.210     10.251      0.000       1.742       2.567\n",
      "club_code_S04             1.4974      0.184      8.127      0.000       1.136       1.859\n",
      "club_code_SCF             0.5739      0.191      3.007      0.003       0.199       0.948\n",
      "club_code_SGE             1.4381      0.185      7.774      0.000       1.075       1.801\n",
      "club_code_STU             0.7031      0.187      3.769      0.000       0.337       1.069\n",
      "club_code_SVW             1.0836      0.192      5.635      0.000       0.706       1.461\n",
      "club_code_TSG             1.2470      0.183      6.818      0.000       0.888       1.606\n",
      "club_code_UBE             0.8582      0.189      4.547      0.000       0.488       1.228\n",
      "club_code_WOB             1.7136      0.183      9.368      0.000       1.355       2.072\n",
      "player_group_code_F       0.1278      0.057      2.230      0.026       0.015       0.240\n",
      "player_group_code_K      -1.0710      0.084    -12.702      0.000      -1.236      -0.906\n",
      "player_group_code_M       0.0165      0.065      0.255      0.798      -0.110       0.143\n",
      "high_earner_1             0.9980      0.058     17.160      0.000       0.884       1.112\n",
      "Age_18-21                 0.7705      0.192      4.022      0.000       0.395       1.146\n",
      "Age_21-23                 1.8246      0.196      9.326      0.000       1.441       2.208\n",
      "Age_23-27                 2.2976      0.192     11.979      0.000       1.921       2.674\n",
      "Age_27-32                 2.4337      0.194     12.547      0.000       2.053       2.814\n",
      "Age_32+                   2.2708      0.215     10.542      0.000       1.848       2.693\n",
      "region_germany           -0.3070      0.056     -5.497      0.000      -0.416      -0.197\n",
      "region_non_EU            -0.0698      0.066     -1.054      0.292      -0.200       0.060\n",
      "club_level_relegation     0.0641      0.092      0.694      0.488      -0.117       0.245\n",
      "club_level_top 4         -0.0884      0.099     -0.896      0.370      -0.282       0.105\n",
      "club_level_top 6         -0.2034      0.097     -2.104      0.036      -0.393      -0.014\n",
      "==============================================================================\n",
      "Omnibus:                       59.557   Durbin-Watson:                   2.012\n",
      "Prob(Omnibus):                  0.000   Jarque-Bera (JB):               78.476\n",
      "Skew:                          -0.438   Prob(JB):                     9.10e-18\n",
      "Kurtosis:                       3.809   Cond. No.                         43.6\n",
      "==============================================================================\n",
      "\n",
      "Notes:\n",
      "[1] Standard Errors assume that the covariance matrix of the errors is correctly specified.\n"
     ]
    }
   ],
   "source": [
    "import statsmodels.api as sm\n",
    "X_train_Sm = sm.add_constant(X_train)\n",
    "ls = sm.OLS(y_train,X_train_Sm).fit()\n",
    "print(ls.summary())"
   ]
  },
  {
   "cell_type": "code",
   "execution_count": 115,
   "id": "088b3d02",
   "metadata": {},
   "outputs": [
    {
     "name": "stderr",
     "output_type": "stream",
     "text": [
      "C:\\Users\\Ramya\\anaconda3\\lib\\site-packages\\seaborn\\_decorators.py:36: FutureWarning: Pass the following variables as keyword args: x, y. From version 0.12, the only valid positional argument will be `data`, and passing other arguments without an explicit keyword will result in an error or misinterpretation.\n",
      "  warnings.warn(\n"
     ]
    },
    {
     "data": {
      "text/plain": [
       "<AxesSubplot:ylabel='salary_gross_eur'>"
      ]
     },
     "execution_count": 115,
     "metadata": {},
     "output_type": "execute_result"
    },
    {
     "data": {
      "image/png": "[encoded data removed]",
      "text/plain": [
       "<Figure size 640x480 with 1 Axes>"
      ]
     },
     "metadata": {},
     "output_type": "display_data"
    }
   ],
   "source": [
    "sns.residplot(model.predict(X), Y)"
   ]
  },
  {
   "cell_type": "markdown",
   "id": "eecd21b7",
   "metadata": {},
   "source": [
    "#### Model Export"
   ]
  },
  {
   "cell_type": "code",
   "execution_count": 112,
   "id": "827b088b",
   "metadata": {},
   "outputs": [],
   "source": [
    "import pickle\n",
    "pickle.dump(model, open('model_de.pkl','wb')) "
   ]
  }
 ],
 "metadata": {
  "kernelspec": {
   "display_name": "Python 3 (ipykernel)",
   "language": "python",
   "name": "python3"
  },
  "language_info": {
   "codemirror_mode": {
    "name": "ipython",
    "version": 3
   },
   "file_extension": ".py",
   "mimetype": "text/x-python",
   "name": "python",
   "nbconvert_exporter": "python",
   "pygments_lexer": "ipython3",
   "version": "3.9.13"
  }
 },
 "nbformat": 4,
 "nbformat_minor": 5
}
