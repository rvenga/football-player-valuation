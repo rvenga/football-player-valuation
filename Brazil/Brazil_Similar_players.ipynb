{
 "cells": [
  {
   "cell_type": "code",
   "execution_count": 57,
   "id": "df614fe2",
   "metadata": {},
   "outputs": [],
   "source": [
    "import pandas as pd \n",
    "# default='warn', Used here to supress warning when slicing and creating high earners column\n",
    "pd.options.mode.chained_assignment = None \n"
   ]
  },
  {
   "cell_type": "code",
   "execution_count": 58,
   "id": "05049abe",
   "metadata": {},
   "outputs": [],
   "source": [
    "import requests\n",
    "import json\n",
    "import pandas as pd \n",
    "import numpy as np\n",
    "import math"
   ]
  },
  {
   "cell_type": "code",
   "execution_count": 59,
   "id": "e1484dda",
   "metadata": {},
   "outputs": [],
   "source": [
    "# custom function from Web_scrapper_League_Tables notebook \n",
    "from ipynb.fs.full.Web_scrapper_League_Tables import League_table_scraper"
   ]
  },
  {
   "cell_type": "markdown",
   "id": "79e6de1b",
   "metadata": {},
   "source": [
    "#### Get data from API"
   ]
  },
  {
   "cell_type": "code",
   "execution_count": 60,
   "id": "0aa3c582",
   "metadata": {},
   "outputs": [],
   "source": [
    "API_key='d15f7132973d404d9d046934398ee9e3'"
   ]
  },
  {
   "cell_type": "code",
   "execution_count": 61,
   "id": "f78ef91d",
   "metadata": {},
   "outputs": [],
   "source": [
    "# API authorization\n",
    "headers = {'x-api-key':'d15f7132973d404d9d046934398ee9e3', 'accept': 'application/json', 'accept': 'text/csv'}\n",
    "\n",
    "# Choose endpoint\n",
    "endpoint = 'https://www.capology.com/api/v2/soccer/salaries/br/brasileiro/2020/'\n",
    "\n",
    "# Retrieve json\n",
    "json = requests.get(endpoint, headers=headers).text\n",
    "\n",
    "#Data for 2021\n",
    "df1 = pd.read_json(json)\n",
    "\n",
    "df1 = df1[df1[\"season_term\"] == \"combined\"].reset_index(drop = True)"
   ]
  },
  {
   "cell_type": "code",
   "execution_count": 62,
   "id": "02d68250",
   "metadata": {},
   "outputs": [],
   "source": [
    "# API authorization\n",
    "headers = {'x-api-key':'d15f7132973d404d9d046934398ee9e3', 'accept': 'application/json', 'accept': 'text/csv'}\n",
    "\n",
    "# Choose endpoint\n",
    "endpoint = 'https://www.capology.com/api/v2/soccer/salaries/br/brasileiro/2021/'\n",
    "\n",
    "# Retrieve json\n",
    "json2 = requests.get(endpoint, headers=headers).text\n",
    "\n",
    "#Data for 2021\n",
    "df2 = pd.read_json(json2)\n",
    "\n",
    "df2 = df2[df2[\"season_term\"] == \"summer\"]"
   ]
  },
  {
   "cell_type": "code",
   "execution_count": 63,
   "id": "c74e6acc",
   "metadata": {},
   "outputs": [],
   "source": [
    "# API authorization\n",
    "headers = {'x-api-key':'d15f7132973d404d9d046934398ee9e3', 'accept': 'application/json', 'accept': 'text/csv'}\n",
    "\n",
    "# Choose endpoint\n",
    "endpoint = 'https://www.capology.com/api/v2/soccer/salaries/br/brasileiro/2022/'\n",
    "\n",
    "# Retrieve json\n",
    "json3 = requests.get(endpoint, headers=headers).text\n",
    "\n",
    "#Data for 2022\n",
    "df3 = pd.read_json(json3)\n",
    "\n",
    "df3 = df3[df3[\"season_term\"] == \"summer\"]"
   ]
  },
  {
   "cell_type": "code",
   "execution_count": 64,
   "id": "11ac1910",
   "metadata": {},
   "outputs": [],
   "source": [
    "df = pd.concat([df1,df3,df2],axis=0).drop_duplicates()"
   ]
  },
  {
   "cell_type": "markdown",
   "id": "bff514a7",
   "metadata": {},
   "source": [
    "#### Clean dataframe"
   ]
  },
  {
   "cell_type": "code",
   "execution_count": 65,
   "id": "8a515c84",
   "metadata": {},
   "outputs": [],
   "source": [
    "df= df[df['salary_gross_eur'] != 0]"
   ]
  },
  {
   "cell_type": "code",
   "execution_count": 66,
   "id": "708706cc",
   "metadata": {},
   "outputs": [],
   "source": [
    "df=df.drop_duplicates().reset_index(drop = True)"
   ]
  },
  {
   "cell_type": "code",
   "execution_count": 67,
   "id": "3ff4a397",
   "metadata": {},
   "outputs": [],
   "source": [
    "CODE_DICT=pd.Series(df.club_code.values,index=df.club_name).to_dict()\n"
   ]
  },
  {
   "cell_type": "code",
   "execution_count": 68,
   "id": "afe79750",
   "metadata": {},
   "outputs": [],
   "source": [
    "#Required columns\n",
    "LIST=['season_id','club_code','player_age','player_country_id','player_group_code','salary_gross_eur']"
   ]
  },
  {
   "cell_type": "code",
   "execution_count": 69,
   "id": "8b3ffe96",
   "metadata": {},
   "outputs": [],
   "source": [
    "df_salary=df[LIST]"
   ]
  },
  {
   "cell_type": "markdown",
   "id": "847b2eb4",
   "metadata": {},
   "source": [
    "#### Add needed features\n"
   ]
  },
  {
   "cell_type": "code",
   "execution_count": 70,
   "id": "e5430437",
   "metadata": {},
   "outputs": [],
   "source": [
    "# Group the data by 'club' and 'position'\n",
    "groups = df_salary.groupby(['club_code', 'player_group_code','season_id'])\n",
    "# Find the highest two values of column 'salary_gross_eur' for each group\n",
    "top_two = groups['salary_gross_eur'].nlargest(2).reset_index()\n",
    "\n",
    "# get needed indexes\n",
    "index=list(top_two['level_3'])\n",
    "\n",
    "# Add the result to the data frame as a new column\n",
    "df_salary['high_earner'] = 0\n",
    "for i in index:\n",
    "    df_salary.loc[i, 'high_earner'] = 1"
   ]
  },
  {
   "cell_type": "code",
   "execution_count": 71,
   "id": "29e38642",
   "metadata": {},
   "outputs": [],
   "source": [
    "# Add the result to the data frame as a new column\n",
    "df['high_earner'] = 0\n",
    "for i in index:\n",
    "    df.loc[i, 'high_earner'] = 1"
   ]
  },
  {
   "cell_type": "code",
   "execution_count": 72,
   "id": "447a3bc3",
   "metadata": {
    "scrolled": false
   },
   "outputs": [
    {
     "data": {
      "text/html": [
       "<div>\n",
       "<style scoped>\n",
       "    .dataframe tbody tr th:only-of-type {\n",
       "        vertical-align: middle;\n",
       "    }\n",
       "\n",
       "    .dataframe tbody tr th {\n",
       "        vertical-align: top;\n",
       "    }\n",
       "\n",
       "    .dataframe thead th {\n",
       "        text-align: right;\n",
       "    }\n",
       "</style>\n",
       "<table border=\"1\" class=\"dataframe\">\n",
       "  <thead>\n",
       "    <tr style=\"text-align: right;\">\n",
       "      <th></th>\n",
       "      <th>season_id</th>\n",
       "      <th>club_code</th>\n",
       "      <th>player_age</th>\n",
       "      <th>player_country_id</th>\n",
       "      <th>player_group_code</th>\n",
       "      <th>salary_gross_eur</th>\n",
       "      <th>high_earner</th>\n",
       "    </tr>\n",
       "  </thead>\n",
       "  <tbody>\n",
       "    <tr>\n",
       "      <th>0</th>\n",
       "      <td>2020</td>\n",
       "      <td>CAP</td>\n",
       "      <td>20</td>\n",
       "      <td>brazil</td>\n",
       "      <td>D</td>\n",
       "      <td>57155</td>\n",
       "      <td>0</td>\n",
       "    </tr>\n",
       "    <tr>\n",
       "      <th>1</th>\n",
       "      <td>2020</td>\n",
       "      <td>CAP</td>\n",
       "      <td>22</td>\n",
       "      <td>brazil</td>\n",
       "      <td>K</td>\n",
       "      <td>76207</td>\n",
       "      <td>0</td>\n",
       "    </tr>\n",
       "    <tr>\n",
       "      <th>2</th>\n",
       "      <td>2020</td>\n",
       "      <td>CAP</td>\n",
       "      <td>21</td>\n",
       "      <td>brazil</td>\n",
       "      <td>K</td>\n",
       "      <td>28578</td>\n",
       "      <td>0</td>\n",
       "    </tr>\n",
       "    <tr>\n",
       "      <th>3</th>\n",
       "      <td>2020</td>\n",
       "      <td>CAP</td>\n",
       "      <td>20</td>\n",
       "      <td>brazil</td>\n",
       "      <td>F</td>\n",
       "      <td>57155</td>\n",
       "      <td>0</td>\n",
       "    </tr>\n",
       "    <tr>\n",
       "      <th>4</th>\n",
       "      <td>2020</td>\n",
       "      <td>CAP</td>\n",
       "      <td>23</td>\n",
       "      <td>brazil</td>\n",
       "      <td>K</td>\n",
       "      <td>85733</td>\n",
       "      <td>0</td>\n",
       "    </tr>\n",
       "  </tbody>\n",
       "</table>\n",
       "</div>"
      ],
      "text/plain": [
       "   season_id club_code  player_age player_country_id player_group_code  \\\n",
       "0       2020       CAP          20            brazil                 D   \n",
       "1       2020       CAP          22            brazil                 K   \n",
       "2       2020       CAP          21            brazil                 K   \n",
       "3       2020       CAP          20            brazil                 F   \n",
       "4       2020       CAP          23            brazil                 K   \n",
       "\n",
       "   salary_gross_eur  high_earner  \n",
       "0             57155            0  \n",
       "1             76207            0  \n",
       "2             28578            0  \n",
       "3             57155            0  \n",
       "4             85733            0  "
      ]
     },
     "execution_count": 72,
     "metadata": {},
     "output_type": "execute_result"
    }
   ],
   "source": [
    "df_salary.head()"
   ]
  },
  {
   "cell_type": "code",
   "execution_count": 73,
   "id": "c542ded8",
   "metadata": {},
   "outputs": [],
   "source": [
    "# Required columns for related players\n",
    "LIST2=['season_id','player_name','club_code','player_age','player_country_id','player_group_code','salary_gross_eur','high_earner']"
   ]
  },
  {
   "cell_type": "code",
   "execution_count": 74,
   "id": "c478215f",
   "metadata": {},
   "outputs": [],
   "source": [
    "df_similar=df[LIST2]"
   ]
  },
  {
   "cell_type": "code",
   "execution_count": 75,
   "id": "a76a41ea",
   "metadata": {},
   "outputs": [],
   "source": [
    "def set_region(row):\n",
    "    \"\"\"\n",
    "    Function takes each row as argument and returns the region \n",
    "    based on the player_country_id.\n",
    "    \"\"\"\n",
    "    \n",
    "    south_america = {'uruguay', 'colombia', 'argentina', 'ecuador','chile', 'venezuela', 'paraguay','peru','bolivia'}\n",
    "    europe = {'spain','italy','belarus','portugal','finland','ukraine','finland'}\n",
    "    rest_of_world = {'south-korea','united-states','china','japan','cote-d-ivoire'}\n",
    "    \n",
    "    if row['player_country_id'] in south_america:\n",
    "        return 'south america'\n",
    "    \n",
    "    elif row['player_country_id'] in europe:\n",
    "        return 'europe'\n",
    "    \n",
    "    elif row['player_country_id'] in rest_of_world:\n",
    "        return 'rest of the world'\n",
    "    \n",
    "    else:\n",
    "        return 'brazil'"
   ]
  },
  {
   "cell_type": "code",
   "execution_count": 76,
   "id": "6cbf9299",
   "metadata": {},
   "outputs": [
    {
     "data": {
      "text/plain": [
       "{'Athletico Paranaense': 'CAP',\n",
       " 'Atletico Mineiro': 'CAM',\n",
       " 'Botafogo': 'BOT',\n",
       " 'Ceara Sporting Club': 'CEA',\n",
       " 'Corinthians': 'CRS',\n",
       " 'Coritiba': 'CRB',\n",
       " 'Esporte Clube Bahia': 'ECB',\n",
       " 'Flamengo': 'FLA',\n",
       " 'Fluminense': 'FLU',\n",
       " 'Fortaleza': 'FOR',\n",
       " 'Goianiense': 'GOE',\n",
       " 'Goias': 'GOI',\n",
       " 'Gremio': 'GRM',\n",
       " 'Internacional': 'INR',\n",
       " 'Palmeiras': 'PLM',\n",
       " 'Red Bull Bragantino': 'RED',\n",
       " 'Santos': 'SAN',\n",
       " 'Sao Paulo': 'SAP',\n",
       " 'Sport Club do Recife': 'SCR',\n",
       " 'Vasco da Gama': 'VAS',\n",
       " 'America FC': 'AMG',\n",
       " 'Avai': 'AVI',\n",
       " 'Cuiaba': 'CUI',\n",
       " 'Juventude': 'JUD',\n",
       " 'Chapecoense': 'CPE'}"
      ]
     },
     "execution_count": 76,
     "metadata": {},
     "output_type": "execute_result"
    }
   ],
   "source": [
    "CODE_DICT"
   ]
  },
  {
   "cell_type": "code",
   "execution_count": 77,
   "id": "219ded2d",
   "metadata": {},
   "outputs": [],
   "source": [
    "# Update dictonary by running the map function and checking the mising keys \n",
    "CODE_DICT['Grêmio'] = 'GRM'\n",
    "CODE_DICT['São Paulo'] = 'SAP'\n",
    "CODE_DICT['Goiás'] = 'GOI'\n",
    "CODE_DICT['Bahia'] = 'ECB'\n",
    "CODE_DICT['Ceará'] ='CEA'\n",
    "CODE_DICT['Atlético Mineiro'] ='CAM'\n",
    "CODE_DICT['Atlético Goianiense'] ='GOE'\n",
    "CODE_DICT['Sport'] = 'SCR'\n",
    "CODE_DICT['América Mineiro'] = 'AMG'\n",
    "CODE_DICT['Cuiabá'] = 'CUI'\n",
    "CODE_DICT['Avaí'] = 'AVI'"
   ]
  },
  {
   "cell_type": "code",
   "execution_count": 78,
   "id": "78126ca0",
   "metadata": {},
   "outputs": [],
   "source": [
    "# Final league standings 2020\n",
    "standings_2020 = League_table_scraper('https://en.wikipedia.org/wiki/2020_Campeonato_Brasileiro_S%C3%A9rie_A',9)\n",
    "standings_2020 = list(map(lambda x: CODE_DICT[x], standings_2020.club))\n",
    "\n",
    "# Final league standings 2021\n",
    "standings_2021 = League_table_scraper('https://en.wikipedia.org/wiki/2021_Campeonato_Brasileiro_S%C3%A9rie_A',9)\n",
    "standings_2021 = list(map(lambda x: CODE_DICT[x], standings_2021.club))\n",
    "\n",
    "# Final league standings 2022\n",
    "standings_2022 = League_table_scraper('https://en.wikipedia.org/wiki/2022_Campeonato_Brasileiro_S%C3%A9rie_A',9)\n",
    "standings_2022 = list(map(lambda x: CODE_DICT[x], standings_2022.club))"
   ]
  },
  {
   "cell_type": "code",
   "execution_count": 79,
   "id": "8db50d2f",
   "metadata": {},
   "outputs": [],
   "source": [
    "def set_club_type(row):\n",
    "    \n",
    "    \"\"\"\n",
    "    Function takes each row as argument and returns\n",
    "    top 6,6-10,mid-table, relagation based on the club \n",
    "    finishing position for the year\n",
    "    \n",
    "    \"\"\"\n",
    "    if (row['club_code'] in standings_2020[:6] and row['season_id']==2020) or (row['club_code'] in standings_2021[0:6] and row['season_id']==2021) or (row['club_code'] in standings_2022[0:6] and row['season_id']==2022):\n",
    "        return 'top 6'\n",
    "   \n",
    "    elif (row['club_code'] in standings_2020[6:11] and row['season_id']==2020) or (row['club_code'] in standings_2021[6:11] and row['season_id']==2021) or (row['club_code'] in standings_2022[6:11] and row['season_id']==2022):\n",
    "        return '6-10'\n",
    "    \n",
    "    elif (row['club_code'] in standings_2020[11:16] and row['season_id']==2020) or (row['club_code'] in standings_2021[11:16] and row['season_id']==2021) or (row['club_code'] in standings_2022[11:16] and row['season_id']==2022):\n",
    "        return 'mid-table'\n",
    "    \n",
    "    else :\n",
    "        return 'relegation'\n"
   ]
  },
  {
   "cell_type": "code",
   "execution_count": 80,
   "id": "d408189d",
   "metadata": {},
   "outputs": [],
   "source": [
    "X = df_salary[['club_code', 'player_age', 'player_country_id', 'player_group_code','season_id','high_earner']]\n",
    "\n",
    "X = X.assign(Age=pd.cut(X['player_age'], \n",
    "                               bins=[0, 17, 21,23, 27, 32,99], \n",
    "                               labels=['U18', '18-21', '21-23','23-27','27-32','32+']))\n",
    "\n",
    "X = X.assign(region=X.apply(set_region, axis=1)).astype('category')\n",
    "\n",
    "X = X.assign(club_level=X.apply(set_club_type,axis=1)).astype('category')\n",
    "\n",
    "X = X.drop('player_age',axis=1)\n",
    " \n",
    "X = X.drop('season_id',axis=1)"
   ]
  },
  {
   "cell_type": "code",
   "execution_count": 81,
   "id": "1943efcb",
   "metadata": {},
   "outputs": [
    {
     "data": {
      "text/html": [
       "<div>\n",
       "<style scoped>\n",
       "    .dataframe tbody tr th:only-of-type {\n",
       "        vertical-align: middle;\n",
       "    }\n",
       "\n",
       "    .dataframe tbody tr th {\n",
       "        vertical-align: top;\n",
       "    }\n",
       "\n",
       "    .dataframe thead th {\n",
       "        text-align: right;\n",
       "    }\n",
       "</style>\n",
       "<table border=\"1\" class=\"dataframe\">\n",
       "  <thead>\n",
       "    <tr style=\"text-align: right;\">\n",
       "      <th></th>\n",
       "      <th>club_code</th>\n",
       "      <th>player_country_id</th>\n",
       "      <th>player_group_code</th>\n",
       "      <th>high_earner</th>\n",
       "      <th>Age</th>\n",
       "      <th>region</th>\n",
       "      <th>club_level</th>\n",
       "    </tr>\n",
       "  </thead>\n",
       "  <tbody>\n",
       "    <tr>\n",
       "      <th>0</th>\n",
       "      <td>CAP</td>\n",
       "      <td>brazil</td>\n",
       "      <td>D</td>\n",
       "      <td>0</td>\n",
       "      <td>18-21</td>\n",
       "      <td>brazil</td>\n",
       "      <td>6-10</td>\n",
       "    </tr>\n",
       "    <tr>\n",
       "      <th>1</th>\n",
       "      <td>CAP</td>\n",
       "      <td>brazil</td>\n",
       "      <td>K</td>\n",
       "      <td>0</td>\n",
       "      <td>21-23</td>\n",
       "      <td>brazil</td>\n",
       "      <td>6-10</td>\n",
       "    </tr>\n",
       "    <tr>\n",
       "      <th>2</th>\n",
       "      <td>CAP</td>\n",
       "      <td>brazil</td>\n",
       "      <td>K</td>\n",
       "      <td>0</td>\n",
       "      <td>18-21</td>\n",
       "      <td>brazil</td>\n",
       "      <td>6-10</td>\n",
       "    </tr>\n",
       "    <tr>\n",
       "      <th>3</th>\n",
       "      <td>CAP</td>\n",
       "      <td>brazil</td>\n",
       "      <td>F</td>\n",
       "      <td>0</td>\n",
       "      <td>18-21</td>\n",
       "      <td>brazil</td>\n",
       "      <td>6-10</td>\n",
       "    </tr>\n",
       "    <tr>\n",
       "      <th>4</th>\n",
       "      <td>CAP</td>\n",
       "      <td>brazil</td>\n",
       "      <td>K</td>\n",
       "      <td>0</td>\n",
       "      <td>21-23</td>\n",
       "      <td>brazil</td>\n",
       "      <td>6-10</td>\n",
       "    </tr>\n",
       "  </tbody>\n",
       "</table>\n",
       "</div>"
      ],
      "text/plain": [
       "  club_code player_country_id player_group_code high_earner    Age  region  \\\n",
       "0       CAP            brazil                 D           0  18-21  brazil   \n",
       "1       CAP            brazil                 K           0  21-23  brazil   \n",
       "2       CAP            brazil                 K           0  18-21  brazil   \n",
       "3       CAP            brazil                 F           0  18-21  brazil   \n",
       "4       CAP            brazil                 K           0  21-23  brazil   \n",
       "\n",
       "  club_level  \n",
       "0       6-10  \n",
       "1       6-10  \n",
       "2       6-10  \n",
       "3       6-10  \n",
       "4       6-10  "
      ]
     },
     "execution_count": 81,
     "metadata": {},
     "output_type": "execute_result"
    }
   ],
   "source": [
    "X.head()"
   ]
  },
  {
   "cell_type": "code",
   "execution_count": 82,
   "id": "95a7c789",
   "metadata": {},
   "outputs": [],
   "source": [
    "def Club_type(club):\n",
    "    \n",
    "    \"\"\"\n",
    "    Function takes club as argument and returns\n",
    "    top 6,6-10,mid-table, relagation based on the club \n",
    "    finishing position for 2022. If club  was not in \n",
    "    the league in 2022 returns default value midtable\n",
    "    \n",
    "    \"\"\"\n",
    "    if club in standings_2022[:6]:\n",
    "        return 'top 6'\n",
    "   \n",
    "    if club in standings_2022[6:11]:\n",
    "        return '6-10'\n",
    "    \n",
    "    if club in standings_2022[11:16]:\n",
    "        return 'mid-table'\n",
    "    \n",
    "    if club in standings_2022[16:] :\n",
    "        return 'relegation'\n",
    "    \n",
    "    else:\n",
    "        return 'mid-table'\n"
   ]
  },
  {
   "cell_type": "code",
   "execution_count": 83,
   "id": "cbb11416",
   "metadata": {},
   "outputs": [],
   "source": [
    "def Region(country):\n",
    "    \n",
    "    \"\"\"\n",
    "    Function takes country as an argument and returns \n",
    "    the region of the country\n",
    "    \n",
    "    \"\"\"\n",
    "    \n",
    "    south_america = {'uruguay', 'colombia', 'argentina', 'ecuador','chile', 'venezuela', 'paraguay','peru','bolivia'}\n",
    "    europe = {'spain','italy','belarus','portugal','finland','ukraine','finland'}\n",
    "    rest_of_world = {'south-korea','united-states','china','japan','cote-d-ivoire'}\n",
    "    brazil={'brazil'}\n",
    "    \n",
    "    if country in south_america:\n",
    "        return 'south america'\n",
    "    \n",
    "    elif country in europe:\n",
    "        return 'europe'\n",
    "    \n",
    "    elif country in rest_of_world:\n",
    "        return 'rest of the world'\n",
    "    \n",
    "    elif country in brazil:\n",
    "        return 'brazil'\n",
    "    \n",
    "    else:\n",
    "        return 'not in data'"
   ]
  },
  {
   "cell_type": "code",
   "execution_count": 84,
   "id": "298acc47",
   "metadata": {},
   "outputs": [],
   "source": [
    "def Age(age):\n",
    "    \"\"\"\n",
    "    Function takes age as an argument and returns \n",
    "    the age range\n",
    "    \n",
    "    \"\"\"\n",
    "    if age <= 18:\n",
    "        return 'U18'\n",
    "    if age in range(18, 22):\n",
    "        return '18-21'\n",
    "    if age in range(22, 24):\n",
    "        return '21-23'\n",
    "    if age in range(24, 28):\n",
    "        return '23-27'\n",
    "    if age in range(28, 33):\n",
    "        return '27-32'\n",
    "    return '32+'"
   ]
  },
  {
   "cell_type": "code",
   "execution_count": 85,
   "id": "16e85c7d",
   "metadata": {},
   "outputs": [],
   "source": [
    "def Starter(starter):\n",
    "    \n",
    "     if starter =='Yes' :\n",
    "        return '1'\n",
    "     else:\n",
    "        return '0'"
   ]
  },
  {
   "cell_type": "code",
   "execution_count": 86,
   "id": "0c90e8c7",
   "metadata": {},
   "outputs": [],
   "source": [
    "def calculate_similarities(row,input_data):\n",
    "    s = 0\n",
    "    \n",
    "    if row['club_code'] == input_data[0]:   # Check for same club\n",
    "        s += 1\n",
    "    \n",
    "    if row['club_level'] == Club_type(input_data[0]):  # Check for simlar level club\n",
    "        s += 0.5\n",
    "    \n",
    "    if row['player_group_code'] == input_data[1]:\n",
    "        s += 4\n",
    "    \n",
    "    if row['player_country_id'] == input_data[2]:  # Check for same country\n",
    "        s += 1\n",
    "    \n",
    "    if row['region'] == Region(input_data[2]):   # Check for same region\n",
    "        s += 0.5\n",
    "    \n",
    "    if row['Age'] == Age(input_data[3]):\n",
    "        s += 1\n",
    "    \n",
    "    if row['high_earner'] == Starter(input_data[4]):\n",
    "        s += 8\n",
    "    \n",
    "    return s\n"
   ]
  },
  {
   "cell_type": "code",
   "execution_count": 87,
   "id": "1c3ef5d0",
   "metadata": {},
   "outputs": [],
   "source": [
    "def similar_player(data):\n",
    "    \n",
    "    X['similarities'] = X.apply(calculate_similarities, axis = 1,input_data = data)\n",
    "    X_sorted = X.sort_values(by = 'similarities', ascending = False)\n",
    "    top_5 = X_sorted.head(5)\n",
    "    indexes = top_5.index\n",
    "\n",
    "    \n",
    "    return df_similar.loc[indexes]"
   ]
  },
  {
   "cell_type": "code",
   "execution_count": 88,
   "id": "71d4ec1e",
   "metadata": {},
   "outputs": [
    {
     "data": {
      "text/html": [
       "<div>\n",
       "<style scoped>\n",
       "    .dataframe tbody tr th:only-of-type {\n",
       "        vertical-align: middle;\n",
       "    }\n",
       "\n",
       "    .dataframe tbody tr th {\n",
       "        vertical-align: top;\n",
       "    }\n",
       "\n",
       "    .dataframe thead th {\n",
       "        text-align: right;\n",
       "    }\n",
       "</style>\n",
       "<table border=\"1\" class=\"dataframe\">\n",
       "  <thead>\n",
       "    <tr style=\"text-align: right;\">\n",
       "      <th></th>\n",
       "      <th>season_id</th>\n",
       "      <th>player_name</th>\n",
       "      <th>club_code</th>\n",
       "      <th>player_age</th>\n",
       "      <th>player_country_id</th>\n",
       "      <th>player_group_code</th>\n",
       "      <th>salary_gross_eur</th>\n",
       "      <th>high_earner</th>\n",
       "    </tr>\n",
       "  </thead>\n",
       "  <tbody>\n",
       "    <tr>\n",
       "      <th>658</th>\n",
       "      <td>2022</td>\n",
       "      <td>João Paulo</td>\n",
       "      <td>AMG</td>\n",
       "      <td>35</td>\n",
       "      <td>brazil</td>\n",
       "      <td>D</td>\n",
       "      <td>238147</td>\n",
       "      <td>0</td>\n",
       "    </tr>\n",
       "    <tr>\n",
       "      <th>645</th>\n",
       "      <td>2022</td>\n",
       "      <td>Danilo Avelar</td>\n",
       "      <td>AMG</td>\n",
       "      <td>33</td>\n",
       "      <td>brazil</td>\n",
       "      <td>D</td>\n",
       "      <td>400087</td>\n",
       "      <td>1</td>\n",
       "    </tr>\n",
       "    <tr>\n",
       "      <th>1474</th>\n",
       "      <td>2021</td>\n",
       "      <td>João Paulo</td>\n",
       "      <td>AMG</td>\n",
       "      <td>34</td>\n",
       "      <td>brazil</td>\n",
       "      <td>D</td>\n",
       "      <td>238147</td>\n",
       "      <td>1</td>\n",
       "    </tr>\n",
       "    <tr>\n",
       "      <th>674</th>\n",
       "      <td>2022</td>\n",
       "      <td>Patric</td>\n",
       "      <td>AMG</td>\n",
       "      <td>33</td>\n",
       "      <td>brazil</td>\n",
       "      <td>D</td>\n",
       "      <td>171466</td>\n",
       "      <td>0</td>\n",
       "    </tr>\n",
       "    <tr>\n",
       "      <th>1467</th>\n",
       "      <td>2021</td>\n",
       "      <td>Eduardo</td>\n",
       "      <td>AMG</td>\n",
       "      <td>34</td>\n",
       "      <td>brazil</td>\n",
       "      <td>D</td>\n",
       "      <td>28578</td>\n",
       "      <td>0</td>\n",
       "    </tr>\n",
       "  </tbody>\n",
       "</table>\n",
       "</div>"
      ],
      "text/plain": [
       "      season_id    player_name club_code  player_age player_country_id  \\\n",
       "658        2022     João Paulo       AMG          35            brazil   \n",
       "645        2022  Danilo Avelar       AMG          33            brazil   \n",
       "1474       2021     João Paulo       AMG          34            brazil   \n",
       "674        2022         Patric       AMG          33            brazil   \n",
       "1467       2021        Eduardo       AMG          34            brazil   \n",
       "\n",
       "     player_group_code  salary_gross_eur  high_earner  \n",
       "658                  D            238147            0  \n",
       "645                  D            400087            1  \n",
       "1474                 D            238147            1  \n",
       "674                  D            171466            0  \n",
       "1467                 D             28578            0  "
      ]
     },
     "execution_count": 88,
     "metadata": {},
     "output_type": "execute_result"
    }
   ],
   "source": [
    "similar_player(['AMG','D','brazil',34,'Yes'])"
   ]
  },
  {
   "cell_type": "markdown",
   "id": "82ba12c2",
   "metadata": {},
   "source": [
    "#### Additional function to get % spend on player"
   ]
  },
  {
   "cell_type": "code",
   "execution_count": 89,
   "id": "56d84624",
   "metadata": {},
   "outputs": [],
   "source": [
    "def Total_wage_bill(club):\n",
    "    \"\"\"\n",
    "    function takes in club as argument and \n",
    "    returns the the total wage bill of the club\n",
    "    \n",
    "    \"\"\"\n",
    "    df_filtered = df_salary.loc[df_salary['club_code'] == club]\n",
    "    \n",
    "    #Number of seasons for which data is available for the club\n",
    "    n = len(df_filtered.season_id.unique())\n",
    "    \n",
    "    #Assuming club has simlar squad sizes each season\n",
    "    total = df_filtered['salary_gross_eur'].sum()/n\n",
    "    \n",
    "    return total"
   ]
  },
  {
   "cell_type": "code",
   "execution_count": 90,
   "id": "e369c686",
   "metadata": {},
   "outputs": [
    {
     "data": {
      "text/plain": [
       "6015601.0"
      ]
     },
     "execution_count": 90,
     "metadata": {},
     "output_type": "execute_result"
    }
   ],
   "source": [
    "Total_wage_bill('AMG')"
   ]
  },
  {
   "cell_type": "code",
   "execution_count": 91,
   "id": "0f803bc5",
   "metadata": {},
   "outputs": [],
   "source": [
    "##Convert notebook to script run in terminal\n",
    "# jupyter nbconvert --to script Brazil_Similar_players.ipynb"
   ]
  },
  {
   "cell_type": "code",
   "execution_count": 92,
   "id": "3e6762f8",
   "metadata": {},
   "outputs": [
    {
     "data": {
      "text/plain": [
       "{'Athletico Paranaense': 'CAP',\n",
       " 'Atletico Mineiro': 'CAM',\n",
       " 'Botafogo': 'BOT',\n",
       " 'Ceara Sporting Club': 'CEA',\n",
       " 'Corinthians': 'CRS',\n",
       " 'Coritiba': 'CRB',\n",
       " 'Esporte Clube Bahia': 'ECB',\n",
       " 'Flamengo': 'FLA',\n",
       " 'Fluminense': 'FLU',\n",
       " 'Fortaleza': 'FOR',\n",
       " 'Goianiense': 'GOE',\n",
       " 'Goias': 'GOI',\n",
       " 'Gremio': 'GRM',\n",
       " 'Internacional': 'INR',\n",
       " 'Palmeiras': 'PLM',\n",
       " 'Red Bull Bragantino': 'RED',\n",
       " 'Santos': 'SAN',\n",
       " 'Sao Paulo': 'SAP',\n",
       " 'Sport Club do Recife': 'SCR',\n",
       " 'Vasco da Gama': 'VAS',\n",
       " 'America FC': 'AMG',\n",
       " 'Avai': 'AVI',\n",
       " 'Cuiaba': 'CUI',\n",
       " 'Juventude': 'JUD',\n",
       " 'Chapecoense': 'CPE',\n",
       " 'Grêmio': 'GRM',\n",
       " 'São Paulo': 'SAP',\n",
       " 'Goiás': 'GOI',\n",
       " 'Bahia': 'ECB',\n",
       " 'Ceará': 'CEA',\n",
       " 'Atlético Mineiro': 'CAM',\n",
       " 'Atlético Goianiense': 'GOE',\n",
       " 'Sport': 'SCR',\n",
       " 'América Mineiro': 'AMG',\n",
       " 'Cuiabá': 'CUI',\n",
       " 'Avaí': 'AVI'}"
      ]
     },
     "execution_count": 92,
     "metadata": {},
     "output_type": "execute_result"
    }
   ],
   "source": [
    "CODE_DICT\n"
   ]
  },
  {
   "cell_type": "code",
   "execution_count": null,
   "id": "e17dcc88",
   "metadata": {},
   "outputs": [],
   "source": []
  }
 ],
 "metadata": {
  "kernelspec": {
   "display_name": "Python 3 (ipykernel)",
   "language": "python",
   "name": "python3"
  },
  "language_info": {
   "codemirror_mode": {
    "name": "ipython",
    "version": 3
   },
   "file_extension": ".py",
   "mimetype": "text/x-python",
   "name": "python",
   "nbconvert_exporter": "python",
   "pygments_lexer": "ipython3",
   "version": "3.9.13"
  }
 },
 "nbformat": 4,
 "nbformat_minor": 5
}
