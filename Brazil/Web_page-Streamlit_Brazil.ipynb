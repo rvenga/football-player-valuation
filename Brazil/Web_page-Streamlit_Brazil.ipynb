{
 "cells": [
  {
   "cell_type": "code",
   "execution_count": 7,
   "id": "a211e66f",
   "metadata": {},
   "outputs": [],
   "source": [
    "import numpy as np\n",
    "import pandas as pd\n",
    "import pickle\n",
    "import streamlit as st\n",
    "import math\n",
    "import sklearn\n",
    "from sklearn.linear_model import LinearRegression"
   ]
  },
  {
   "cell_type": "code",
   "execution_count": 8,
   "id": "c6dd728f",
   "metadata": {},
   "outputs": [],
   "source": [
    "# custom function from Brazil_Similar_players notebook \n",
    "from Brazil_Similar_players  import similar_player, calculate_similarities ,Total_wage_bill"
   ]
  },
  {
   "cell_type": "code",
   "execution_count": 9,
   "id": "ae845c49",
   "metadata": {},
   "outputs": [],
   "source": [
    "# custom function from Web_scrapper_League_Tables notebook \n",
    "from ipynb.fs.full.Web_scrapper_League_Tables import League_table_scraper\n"
   ]
  },
  {
   "cell_type": "code",
   "execution_count": 10,
   "id": "1a579d5e",
   "metadata": {},
   "outputs": [],
   "source": [
    "st.set_page_config(layout = \"wide\")"
   ]
  },
  {
   "cell_type": "code",
   "execution_count": 11,
   "id": "a805c698",
   "metadata": {},
   "outputs": [],
   "source": [
    "# Load machine learning model\n",
    "model = pickle.load(open('model_br.pkl', 'rb'))"
   ]
  },
  {
   "cell_type": "markdown",
   "id": "e2233279",
   "metadata": {},
   "source": [
    "####  Functions for Preproccessing"
   ]
  },
  {
   "cell_type": "code",
   "execution_count": 12,
   "id": "41994824",
   "metadata": {},
   "outputs": [],
   "source": [
    "def Age(age):\n",
    "    \"\"\"\n",
    "    Function takes age as an argument and returns \n",
    "    the age range\n",
    "    \n",
    "    \"\"\"\n",
    "    age= int(age)\n",
    "    \n",
    "    if age <= 18:\n",
    "        return 'U18'\n",
    "    if age in range(18, 22):\n",
    "        return '18-21'\n",
    "    if age in range(22, 24):\n",
    "        return '21-23'\n",
    "    if age in range(24, 28):\n",
    "        return '23-27'\n",
    "    if age in range(28, 33):\n",
    "        return '27-32'\n",
    "    return '32+'"
   ]
  },
  {
   "cell_type": "code",
   "execution_count": 13,
   "id": "ddfff520",
   "metadata": {},
   "outputs": [],
   "source": [
    "def Region(country):\n",
    "    \n",
    "    \"\"\"\n",
    "    Function takes country as an argument and returns \n",
    "    the region of the country\n",
    "    \n",
    "    \"\"\"\n",
    "    \n",
    "    south_america = {'uruguay', 'colombia', 'argentina', 'ecuador','chile', 'venezuela', 'paraguay','peru','bolivia'}\n",
    "    europe = {'spain','italy','belarus','portugal','finland','ukraine','finland'}\n",
    "    rest_of_world = {'south-korea','united-states','china','japan','cote-d-ivoire'}\n",
    "    brazil={'brazil'}\n",
    "    \n",
    "    if country in south_america:\n",
    "        return 'south america'\n",
    "    \n",
    "    elif country in europe:\n",
    "        return 'europe'\n",
    "    \n",
    "    elif country in rest_of_world:\n",
    "        return 'rest of the world'\n",
    "    \n",
    "    elif country in brazil:\n",
    "        return 'brazil'\n",
    "    \n",
    "    else:\n",
    "        return 'not in data'"
   ]
  },
  {
   "cell_type": "code",
   "execution_count": 14,
   "id": "4c158cd4",
   "metadata": {},
   "outputs": [],
   "source": [
    "def Position(position):\n",
    "    \"\"\"\n",
    "    Function takes position as an argument and returns \n",
    "    the code of the position\n",
    "    \n",
    "    \"\"\"\n",
    "    if position == 'Defender':\n",
    "        return 'D'\n",
    "    \n",
    "    if position == 'Midfielder':\n",
    "        return 'M'\n",
    "    \n",
    "    if position == 'Foward':\n",
    "        return 'F'\n",
    "    \n",
    "    if position == 'Keeper':\n",
    "        return 'K'\n",
    "    \n",
    "    else:\n",
    "        return 'not in data'"
   ]
  },
  {
   "cell_type": "code",
   "execution_count": 15,
   "id": "0c7e5ae4",
   "metadata": {},
   "outputs": [],
   "source": [
    "#Updating coding dicitionary as capology has differnt naming convention to Wikipedia\n",
    "CODE_DICT = {'Athletico Paranaense': 'CAP',\n",
    " 'Atletico Mineiro': 'CAM',\n",
    " 'Botafogo': 'BOT',\n",
    " 'Ceara Sporting Club': 'CEA',\n",
    " 'Corinthians': 'CRS',\n",
    " 'Coritiba': 'CRB',\n",
    " 'Esporte Clube Bahia': 'ECB',\n",
    " 'Flamengo': 'FLA',\n",
    " 'Fluminense': 'FLU',\n",
    " 'Fortaleza': 'FOR',\n",
    " 'Goianiense': 'GOE',\n",
    " 'Goias': 'GOI',\n",
    " 'Gremio': 'GRM',\n",
    " 'Internacional': 'INR',\n",
    " 'Palmeiras': 'PLM',\n",
    " 'Red Bull Bragantino': 'RED',\n",
    " 'Santos': 'SAN',\n",
    " 'Sao Paulo': 'SAP',\n",
    " 'Sport Club do Recife': 'SCR',\n",
    " 'Vasco da Gama': 'VAS',\n",
    " 'America FC': 'AMG',\n",
    " 'Avai': 'AVI',\n",
    " 'Cuiaba': 'CUI',\n",
    " 'Juventude': 'JUD',\n",
    " 'Chapecoense': 'CPE',\n",
    " 'Grêmio': 'GRM',\n",
    " 'São Paulo': 'SAP',\n",
    " 'Goiás': 'GOI',\n",
    " 'Bahia': 'ECB',\n",
    " 'Ceará': 'CEA',\n",
    " 'Atlético Mineiro': 'CAM',\n",
    " 'Atlético Goianiense': 'GOE',\n",
    " 'Sport': 'SCR',\n",
    " 'América Mineiro': 'AMG',\n",
    " 'Cuiabá': 'CUI',\n",
    " 'Avaí': 'AVI'}"
   ]
  },
  {
   "cell_type": "code",
   "execution_count": 16,
   "id": "4c295af0",
   "metadata": {},
   "outputs": [],
   "source": [
    "# Final league standings 2020\n",
    "standings_2020 = League_table_scraper('https://en.wikipedia.org/wiki/2020_Campeonato_Brasileiro_S%C3%A9rie_A',9)\n",
    "standings_2020 = list(map(lambda x: CODE_DICT[x], standings_2020.club))\n",
    "\n",
    "# Final league standings 2021\n",
    "standings_2021 = League_table_scraper('https://en.wikipedia.org/wiki/2021_Campeonato_Brasileiro_S%C3%A9rie_A',9)\n",
    "standings_2021 = list(map(lambda x: CODE_DICT[x], standings_2021.club))\n",
    "\n",
    "# Final league standings 2022\n",
    "standings_2022 = League_table_scraper('https://en.wikipedia.org/wiki/2022_Campeonato_Brasileiro_S%C3%A9rie_A',9)\n",
    "standings_2022 = list(map(lambda x: CODE_DICT[x], standings_2022.club))"
   ]
  },
  {
   "cell_type": "code",
   "execution_count": 17,
   "id": "fdd7b970",
   "metadata": {},
   "outputs": [],
   "source": [
    "def Club_type(club):\n",
    "    \n",
    "    \"\"\"\n",
    "    Function takes club as argument and returns\n",
    "    top 6,6-10,mid-table, relagation based on the club \n",
    "    finishing position for 2022. If club  was not in \n",
    "    the league in 2022 returns default value midtable\n",
    "    \n",
    "    \"\"\"\n",
    "    if club in standings_2022[:6]:\n",
    "        return 'top 6'\n",
    "   \n",
    "    if club in standings_2022[6:11]:\n",
    "        return '6-10'\n",
    "    \n",
    "    if club in standings_2022[11:16]:\n",
    "        return 'mid-table'\n",
    "    \n",
    "    if club in standings_2022[16:] :\n",
    "        return 'relegation'\n",
    "    \n",
    "    else:\n",
    "        return 'mid-table'\n"
   ]
  },
  {
   "cell_type": "code",
   "execution_count": 18,
   "id": "e54bdeff",
   "metadata": {},
   "outputs": [],
   "source": [
    "def Starter(starter):\n",
    "    \n",
    "     if starter =='Yes' :\n",
    "        return '1'\n",
    "     else:\n",
    "        return '0'"
   ]
  },
  {
   "cell_type": "markdown",
   "id": "14f2fdd1",
   "metadata": {},
   "source": [
    "#### Preproccessing function"
   ]
  },
  {
   "cell_type": "code",
   "execution_count": 20,
   "id": "4a7e603a",
   "metadata": {},
   "outputs": [],
   "source": [
    "def Pre_processing(team,position,country,age,starter):\n",
    "    \"\"\"\n",
    "    takes user inputs as arguments and converts data \n",
    "    from long to wide format.Returns a data frame ready to\n",
    "    used in prediction\n",
    "    \n",
    "    \"\"\"\n",
    "    global df\n",
    "    \n",
    "    df = pd.read_csv(r\"C:\\Users\\Ramya\\X_test_br.csv\")\n",
    "    \n",
    "    df = df.iloc[:,1:] #clean dataframe\n",
    "    df = df.iloc[0:0]  #drop all data\n",
    "    df = df.append(pd.Series(0, index=df.columns), ignore_index=True)  # add a row of zero\n",
    "    \n",
    "    # First catogeries are removed form the catgorical variables when creating dummies\n",
    "    if team == 'AMG':\n",
    "         pass    \n",
    "    else:\n",
    "        df['club_code_' + str(team)] = 1\n",
    "        \n",
    "    if position == 'Defender':\n",
    "        pass\n",
    "    else:\n",
    "        df['player_group_code_' + str(Position(position))] = 1\n",
    "    \n",
    "    if Age(age) == 'U18' :\n",
    "        pass\n",
    "    else:\n",
    "        df['Age_'+ str(Age(age))] = 1\n",
    "        \n",
    "    if Region(country) == 'brazil':\n",
    "        pass\n",
    "    else:\n",
    "        df['region_'+str(Region(country))] = 1\n",
    "        \n",
    "    if Club_type(team) == '6-10':\n",
    "        pass\n",
    "    else:\n",
    "        df['club_level_'+ str(Club_type(team))] = 1\n",
    "        \n",
    "    if Starter(starter) == '0':\n",
    "        pass\n",
    "    else:\n",
    "        df['high_earner_'+Starter(starter)] = 1\n",
    "    \n",
    "    return df\n",
    "    "
   ]
  },
  {
   "cell_type": "markdown",
   "id": "25cc0fc9",
   "metadata": {},
   "source": [
    "#### Function for model prediction"
   ]
  },
  {
   "cell_type": "code",
   "execution_count": 10,
   "id": "4750043d",
   "metadata": {},
   "outputs": [],
   "source": [
    "def Predict(team,position,country,age,starter):\n",
    "    \"\"\"\n",
    "    Takes input from user , runs pre_processing function\n",
    "    to prepare the data, runs the model and returns\n",
    "    the model prediction\n",
    "    \n",
    "    \"\"\"\n",
    "    \n",
    "    # Preprocess the user input\n",
    "    input_data = Pre_processing(team,position,country,age,starter)\n",
    "    \n",
    "    # Make a prediction using the model\n",
    "    prediction = math.exp(model.predict(input_data))\n",
    "    \n",
    "    return prediction"
   ]
  },
  {
   "cell_type": "markdown",
   "id": "e1f73e27",
   "metadata": {},
   "source": [
    "#### List Valid inputs"
   ]
  },
  {
   "cell_type": "code",
   "execution_count": 11,
   "id": "1735edb7",
   "metadata": {},
   "outputs": [],
   "source": [
    "CLUBS = ('CAP', 'CAM', 'BOT', 'CEA', 'CRS', 'CRB', 'ECB', 'FLA', 'FLU','FOR', \n",
    "         'GOE', 'GOI', 'GRM', 'INR', 'PLM', 'RED', 'SAN', 'SAP','SCR', 'VAS', \n",
    "         'AMG', 'AVI', 'CUI', 'JUD', 'CPE')\n",
    "\n",
    "POSITIONS = ('Defender','Midfielder','Foward','Keeper')\n",
    "\n",
    "COUNTRIES = ('brazil', 'colombia', 'uruguay', 'argentina', 'ecuador','venezuela',\n",
    "             'paraguay', 'peru', 'japan', 'cote-d-ivoire', 'chile','south-korea', \n",
    "             'bolivia', 'italy', 'united-states', 'spain','china', 'ukraine', 'finland',\n",
    "             'portugal', 'belarus')"
   ]
  },
  {
   "cell_type": "markdown",
   "id": "62b04491",
   "metadata": {},
   "source": [
    "#### Streamlit App"
   ]
  },
  {
   "cell_type": "code",
   "execution_count": 142,
   "id": "9898bc62",
   "metadata": {},
   "outputs": [
    {
     "name": "stderr",
     "output_type": "stream",
     "text": [
      "C:\\Users\\Ramya\\AppData\\Local\\Temp\\ipykernel_13340\\3569157906.py:14: FutureWarning: The frame.append method is deprecated and will be removed from pandas in a future version. Use pandas.concat instead.\n",
      "  df = df.append(pd.Series(0, index=df.columns), ignore_index=True)  # add a row of zero\n"
     ]
    },
    {
     "ename": "ValueError",
     "evalue": "could not convert string to float: ''",
     "output_type": "error",
     "traceback": [
      "\u001b[1;31m---------------------------------------------------------------------------\u001b[0m",
      "\u001b[1;31mValueError\u001b[0m                                Traceback (most recent call last)",
      "\u001b[1;32m~\\AppData\\Local\\Temp\\ipykernel_13340\\2702042975.py\u001b[0m in \u001b[0;36m<module>\u001b[1;34m\u001b[0m\n\u001b[0;32m      9\u001b[0m \u001b[1;33m\u001b[0m\u001b[0m\n\u001b[0;32m     10\u001b[0m \u001b[1;31m# Call the function with the user input as arguments and display the result\u001b[0m\u001b[1;33m\u001b[0m\u001b[1;33m\u001b[0m\u001b[0m\n\u001b[1;32m---> 11\u001b[1;33m \u001b[0mresult\u001b[0m \u001b[1;33m=\u001b[0m \u001b[0mPredict\u001b[0m\u001b[1;33m(\u001b[0m\u001b[0mteam\u001b[0m\u001b[1;33m,\u001b[0m\u001b[0mposition\u001b[0m\u001b[1;33m,\u001b[0m\u001b[0mcountry\u001b[0m\u001b[1;33m,\u001b[0m\u001b[0mage\u001b[0m\u001b[1;33m)\u001b[0m\u001b[1;33m\u001b[0m\u001b[1;33m\u001b[0m\u001b[0m\n\u001b[0m\u001b[0;32m     12\u001b[0m \u001b[0mst\u001b[0m\u001b[1;33m.\u001b[0m\u001b[0mwrite\u001b[0m\u001b[1;33m(\u001b[0m\u001b[1;34m'Prediction:'\u001b[0m\u001b[1;33m,\u001b[0m \u001b[0mresult\u001b[0m\u001b[1;33m)\u001b[0m\u001b[1;33m\u001b[0m\u001b[1;33m\u001b[0m\u001b[0m\n",
      "\u001b[1;32m~\\AppData\\Local\\Temp\\ipykernel_13340\\2506800592.py\u001b[0m in \u001b[0;36mPredict\u001b[1;34m(team, position, country, age)\u001b[0m\n\u001b[0;32m      8\u001b[0m \u001b[1;33m\u001b[0m\u001b[0m\n\u001b[0;32m      9\u001b[0m     \u001b[1;31m# Preprocess the user input\u001b[0m\u001b[1;33m\u001b[0m\u001b[1;33m\u001b[0m\u001b[0m\n\u001b[1;32m---> 10\u001b[1;33m     \u001b[0minput_data\u001b[0m \u001b[1;33m=\u001b[0m \u001b[0mPre_processing\u001b[0m\u001b[1;33m(\u001b[0m\u001b[0mteam\u001b[0m\u001b[1;33m,\u001b[0m\u001b[0mposition\u001b[0m\u001b[1;33m,\u001b[0m\u001b[0mcountry\u001b[0m\u001b[1;33m,\u001b[0m\u001b[0mage\u001b[0m\u001b[1;33m)\u001b[0m\u001b[1;33m\u001b[0m\u001b[1;33m\u001b[0m\u001b[0m\n\u001b[0m\u001b[0;32m     11\u001b[0m \u001b[1;33m\u001b[0m\u001b[0m\n\u001b[0;32m     12\u001b[0m     \u001b[1;31m# Make a prediction using the model\u001b[0m\u001b[1;33m\u001b[0m\u001b[1;33m\u001b[0m\u001b[0m\n",
      "\u001b[1;32m~\\AppData\\Local\\Temp\\ipykernel_13340\\3569157906.py\u001b[0m in \u001b[0;36mPre_processing\u001b[1;34m(team, position, country, age)\u001b[0m\n\u001b[0;32m     17\u001b[0m     \u001b[0mdf\u001b[0m\u001b[1;33m[\u001b[0m\u001b[1;34m'club_code_'\u001b[0m \u001b[1;33m+\u001b[0m \u001b[0mstr\u001b[0m\u001b[1;33m(\u001b[0m\u001b[0mteam\u001b[0m\u001b[1;33m)\u001b[0m\u001b[1;33m]\u001b[0m \u001b[1;33m=\u001b[0m\u001b[1;36m1\u001b[0m\u001b[1;33m\u001b[0m\u001b[1;33m\u001b[0m\u001b[0m\n\u001b[0;32m     18\u001b[0m     \u001b[0mdf\u001b[0m\u001b[1;33m[\u001b[0m\u001b[1;34m'player_group_code_'\u001b[0m \u001b[1;33m+\u001b[0m \u001b[0mstr\u001b[0m\u001b[1;33m(\u001b[0m\u001b[0mPosition\u001b[0m\u001b[1;33m(\u001b[0m\u001b[0mposition\u001b[0m\u001b[1;33m)\u001b[0m\u001b[1;33m)\u001b[0m\u001b[1;33m]\u001b[0m \u001b[1;33m=\u001b[0m \u001b[1;36m1\u001b[0m\u001b[1;33m\u001b[0m\u001b[1;33m\u001b[0m\u001b[0m\n\u001b[1;32m---> 19\u001b[1;33m     \u001b[0mdf\u001b[0m\u001b[1;33m[\u001b[0m\u001b[1;34m'Age_'\u001b[0m\u001b[1;33m+\u001b[0m \u001b[0mstr\u001b[0m\u001b[1;33m(\u001b[0m\u001b[0mAge\u001b[0m\u001b[1;33m(\u001b[0m\u001b[0mage\u001b[0m\u001b[1;33m)\u001b[0m\u001b[1;33m)\u001b[0m\u001b[1;33m]\u001b[0m \u001b[1;33m=\u001b[0m \u001b[1;36m1\u001b[0m\u001b[1;33m\u001b[0m\u001b[1;33m\u001b[0m\u001b[0m\n\u001b[0m\u001b[0;32m     20\u001b[0m     \u001b[0mdf\u001b[0m\u001b[1;33m[\u001b[0m\u001b[1;34m'region_'\u001b[0m\u001b[1;33m+\u001b[0m\u001b[0mstr\u001b[0m\u001b[1;33m(\u001b[0m\u001b[0mRegion\u001b[0m\u001b[1;33m(\u001b[0m\u001b[0mcountry\u001b[0m\u001b[1;33m)\u001b[0m\u001b[1;33m)\u001b[0m\u001b[1;33m]\u001b[0m \u001b[1;33m=\u001b[0m \u001b[1;36m1\u001b[0m\u001b[1;33m\u001b[0m\u001b[1;33m\u001b[0m\u001b[0m\n\u001b[0;32m     21\u001b[0m     \u001b[0mdf\u001b[0m\u001b[1;33m[\u001b[0m\u001b[1;34m'club_level_'\u001b[0m\u001b[1;33m+\u001b[0m \u001b[0mstr\u001b[0m\u001b[1;33m(\u001b[0m\u001b[0mClub_type\u001b[0m\u001b[1;33m(\u001b[0m\u001b[0mteam\u001b[0m\u001b[1;33m)\u001b[0m\u001b[1;33m)\u001b[0m\u001b[1;33m]\u001b[0m \u001b[1;33m=\u001b[0m \u001b[1;36m1\u001b[0m\u001b[1;33m\u001b[0m\u001b[1;33m\u001b[0m\u001b[0m\n",
      "\u001b[1;32m~\\AppData\\Local\\Temp\\ipykernel_13340\\540456761.py\u001b[0m in \u001b[0;36mAge\u001b[1;34m(age)\u001b[0m\n\u001b[0;32m      5\u001b[0m \u001b[1;33m\u001b[0m\u001b[0m\n\u001b[0;32m      6\u001b[0m     \"\"\"\n\u001b[1;32m----> 7\u001b[1;33m     \u001b[0mage\u001b[0m\u001b[1;33m=\u001b[0m \u001b[0mint\u001b[0m\u001b[1;33m(\u001b[0m\u001b[0mfloat\u001b[0m\u001b[1;33m(\u001b[0m\u001b[0mage\u001b[0m\u001b[1;33m)\u001b[0m\u001b[1;33m)\u001b[0m\u001b[1;33m\u001b[0m\u001b[1;33m\u001b[0m\u001b[0m\n\u001b[0m\u001b[0;32m      8\u001b[0m \u001b[1;33m\u001b[0m\u001b[0m\n\u001b[0;32m      9\u001b[0m     \u001b[1;32mif\u001b[0m \u001b[0mage\u001b[0m \u001b[1;33m<=\u001b[0m \u001b[1;36m18\u001b[0m\u001b[1;33m:\u001b[0m\u001b[1;33m\u001b[0m\u001b[1;33m\u001b[0m\u001b[0m\n",
      "\u001b[1;31mValueError\u001b[0m: could not convert string to float: ''"
     ]
    }
   ],
   "source": [
    "# Create a Streamlit app\n",
    "st.title('Wage Estimate')\n",
    "\n",
    "# Get user input using Streamlit widgets\n",
    "team = st.selectbox('Enter player team?',(CLUBS))\n",
    "\n",
    "position = st.selectbox('Enter player position?',(POSITIONS))\n",
    "\n",
    "country = st.selectbox('Enter player country?',(COUNTRIES))\n",
    "\n",
    "age = st.number_input('Enter age :',step=1)\n",
    "age = int(age)\n",
    "\n",
    "starter = st.selectbox('Is player starter?',(('Yes','No')))\n"
   ]
  },
  {
   "cell_type": "code",
   "execution_count": null,
   "id": "97bfe117",
   "metadata": {},
   "outputs": [],
   "source": [
    "# Call the function with the user input as arguments and display the result\n",
    "result = round(Predict(team,position,country,age,starter))\n",
    "\n",
    "table = similar_player([team,Position(position),country,age,Starter(starter)])\n",
    "\n",
    "st.write('Wage Estimate:', f'{result:,}')\n",
    "\n",
    "st.write('Wage as a Precentage of ' + str(team) + '`s total wage bill:',str(round(result*100/Total_wage_bill(team),2))+'%')\n",
    "\n",
    "st.write(table)\n",
    "\n"
   ]
  }
 ],
 "metadata": {
  "kernelspec": {
   "display_name": "Python 3 (ipykernel)",
   "language": "python",
   "name": "python3"
  },
  "language_info": {
   "codemirror_mode": {
    "name": "ipython",
    "version": 3
   },
   "file_extension": ".py",
   "mimetype": "text/x-python",
   "name": "python",
   "nbconvert_exporter": "python",
   "pygments_lexer": "ipython3",
   "version": "3.9.13"
  }
 },
 "nbformat": 4,
 "nbformat_minor": 5
}
