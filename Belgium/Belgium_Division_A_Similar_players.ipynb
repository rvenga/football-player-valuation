{
 "cells": [
  {
   "cell_type": "code",
   "execution_count": 1,
   "id": "df614fe2",
   "metadata": {},
   "outputs": [],
   "source": [
    "import pandas as pd \n",
    "# default='warn', Used here to supress warning when slicing and creating high earners column\n",
    "pd.options.mode.chained_assignment = None \n"
   ]
  },
  {
   "cell_type": "code",
   "execution_count": 2,
   "id": "05049abe",
   "metadata": {},
   "outputs": [],
   "source": [
    "import requests\n",
    "import json\n",
    "import pandas as pd \n",
    "import numpy as np\n",
    "import math"
   ]
  },
  {
   "cell_type": "code",
   "execution_count": 3,
   "id": "36f81ee3",
   "metadata": {},
   "outputs": [],
   "source": [
    "# custom function from Web_scrapper_League_Tables notebook \n",
    "from ipynb.fs.full.Web_scrapper_League_Tables import League_table_scraper"
   ]
  },
  {
   "cell_type": "markdown",
   "id": "79e6de1b",
   "metadata": {},
   "source": [
    "#### Get data from API"
   ]
  },
  {
   "cell_type": "code",
   "execution_count": 4,
   "id": "0aa3c582",
   "metadata": {},
   "outputs": [],
   "source": [
    "API_key='d15f7132973d404d9d046934398ee9e3'"
   ]
  },
  {
   "cell_type": "code",
   "execution_count": 5,
   "id": "f78ef91d",
   "metadata": {},
   "outputs": [],
   "source": [
    "# API authorization\n",
    "headers = {'x-api-key':'d15f7132973d404d9d046934398ee9e3', 'accept': 'application/json', 'accept': 'text/csv'}\n",
    "\n",
    "# Choose endpoint\n",
    "endpoint = 'https://www.capology.com/api/v2/soccer/salaries/be/first-division-a/2019-2020/'\n",
    "\n",
    "# Retrieve json\n",
    "json1 = requests.get(endpoint, headers=headers).text\n",
    "\n",
    "#Data for 2019/2020\n",
    "df1 = pd.read_json(json1)\n",
    "\n",
    "\n",
    "df1 = df1[df1[\"season_term\"] == \"combined\"]"
   ]
  },
  {
   "cell_type": "code",
   "execution_count": 6,
   "id": "02d68250",
   "metadata": {},
   "outputs": [],
   "source": [
    "# API authorization\n",
    "headers = {'x-api-key':'d15f7132973d404d9d046934398ee9e3', 'accept': 'application/json', 'accept': 'text/csv'}\n",
    "\n",
    "# Choose endpoint\n",
    "endpoint = 'https://www.capology.com/api/v2/soccer/salaries/be/first-division-a/2020-2021/'\n",
    "\n",
    "# Retrieve json\n",
    "json2 = requests.get(endpoint, headers=headers).text\n",
    "\n",
    "#Data for 2020/2021\n",
    "df2 = pd.read_json(json2)\n",
    "\n",
    "\n",
    "df2 = df2[df2[\"season_term\"] == \"combined\"]"
   ]
  },
  {
   "cell_type": "code",
   "execution_count": 7,
   "id": "c74e6acc",
   "metadata": {},
   "outputs": [],
   "source": [
    "# API authorization\n",
    "headers = {'x-api-key':'d15f7132973d404d9d046934398ee9e3', 'accept': 'application/json', 'accept': 'text/csv'}\n",
    "\n",
    "# Choose endpoint\n",
    "endpoint = 'https://www.capology.com/api/v2/soccer/salaries/be/first-division-a/2021-2022/'\n",
    "\n",
    "# Retrieve json\n",
    "json3 = requests.get(endpoint, headers=headers).text\n",
    "\n",
    "#Data for 2021/2022\n",
    "df3 = pd.read_json(json3)\n",
    "\n",
    "\n",
    "df3 = df3[df3[\"season_term\"] == \"combined\"]"
   ]
  },
  {
   "cell_type": "code",
   "execution_count": 8,
   "id": "51c87abe",
   "metadata": {},
   "outputs": [],
   "source": [
    "# API authorization\n",
    "headers = {'x-api-key':'d15f7132973d404d9d046934398ee9e3', 'accept': 'application/json', 'accept': 'text/csv'}\n",
    "\n",
    "# Choose endpoint\n",
    "endpoint = 'https://www.capology.com/api/v2/soccer/salaries/be/first-division-a/2022-2023/'\n",
    "\n",
    "# Retrieve json\n",
    "json4 = requests.get(endpoint, headers=headers).text\n",
    "\n",
    "#Data for 2022/2023\n",
    "df4 = pd.read_json(json4)\n",
    "\n",
    "#Capology has defined the seson as summer\n",
    "df4 = df4[df4[\"season_term\"] == \"summer\"]"
   ]
  },
  {
   "cell_type": "code",
   "execution_count": 9,
   "id": "11ac1910",
   "metadata": {},
   "outputs": [],
   "source": [
    "df = pd.concat([df1,df2,df3,df4],axis=0).drop_duplicates()"
   ]
  },
  {
   "cell_type": "markdown",
   "id": "bff514a7",
   "metadata": {},
   "source": [
    "#### Clean dataframe"
   ]
  },
  {
   "cell_type": "code",
   "execution_count": 10,
   "id": "8a515c84",
   "metadata": {},
   "outputs": [],
   "source": [
    "df = df[df['salary_gross_eur'] != 0]"
   ]
  },
  {
   "cell_type": "code",
   "execution_count": 11,
   "id": "708706cc",
   "metadata": {},
   "outputs": [],
   "source": [
    "df = df.drop_duplicates().reset_index(drop = True)"
   ]
  },
  {
   "cell_type": "code",
   "execution_count": 12,
   "id": "3ff4a397",
   "metadata": {},
   "outputs": [],
   "source": [
    "CODE_DICT = pd.Series(df.club_code.values,index = df.club_name).to_dict()\n"
   ]
  },
  {
   "cell_type": "code",
   "execution_count": 40,
   "id": "b6789445",
   "metadata": {},
   "outputs": [
    {
     "data": {
      "text/plain": [
       "{'AND',\n",
       " 'ATW',\n",
       " 'BEE',\n",
       " 'BEV',\n",
       " 'BRU',\n",
       " 'CER',\n",
       " 'CHL',\n",
       " 'EUP',\n",
       " 'EXM',\n",
       " 'GEK',\n",
       " 'GNT',\n",
       " 'KOR',\n",
       " 'LEU',\n",
       " 'MEC',\n",
       " 'OOS',\n",
       " 'SER',\n",
       " 'SIT',\n",
       " 'STL',\n",
       " 'USG',\n",
       " 'WES',\n",
       " 'ZUW'}"
      ]
     },
     "execution_count": 40,
     "metadata": {},
     "output_type": "execute_result"
    }
   ],
   "source": [
    "set(df.club_code.values)"
   ]
  },
  {
   "cell_type": "code",
   "execution_count": 14,
   "id": "afe79750",
   "metadata": {},
   "outputs": [],
   "source": [
    "#Required columns\n",
    "LIST = ['season_id','club_code','player_age','player_country_id','player_group_code','salary_gross_eur']"
   ]
  },
  {
   "cell_type": "code",
   "execution_count": 15,
   "id": "8b3ffe96",
   "metadata": {},
   "outputs": [],
   "source": [
    "df_salary = df[LIST].reset_index(drop = True)"
   ]
  },
  {
   "cell_type": "code",
   "execution_count": 16,
   "id": "d4f524db",
   "metadata": {},
   "outputs": [
    {
     "data": {
      "text/html": [
       "<div>\n",
       "<style scoped>\n",
       "    .dataframe tbody tr th:only-of-type {\n",
       "        vertical-align: middle;\n",
       "    }\n",
       "\n",
       "    .dataframe tbody tr th {\n",
       "        vertical-align: top;\n",
       "    }\n",
       "\n",
       "    .dataframe thead th {\n",
       "        text-align: right;\n",
       "    }\n",
       "</style>\n",
       "<table border=\"1\" class=\"dataframe\">\n",
       "  <thead>\n",
       "    <tr style=\"text-align: right;\">\n",
       "      <th></th>\n",
       "      <th>season_id</th>\n",
       "      <th>club_code</th>\n",
       "      <th>player_age</th>\n",
       "      <th>player_country_id</th>\n",
       "      <th>player_group_code</th>\n",
       "      <th>salary_gross_eur</th>\n",
       "    </tr>\n",
       "  </thead>\n",
       "  <tbody>\n",
       "    <tr>\n",
       "      <th>0</th>\n",
       "      <td>2019-2020</td>\n",
       "      <td>AND</td>\n",
       "      <td>28</td>\n",
       "      <td>france</td>\n",
       "      <td>M</td>\n",
       "      <td>2000000</td>\n",
       "    </tr>\n",
       "    <tr>\n",
       "      <th>1</th>\n",
       "      <td>2019-2020</td>\n",
       "      <td>AND</td>\n",
       "      <td>20</td>\n",
       "      <td>belgium</td>\n",
       "      <td>M</td>\n",
       "      <td>130000</td>\n",
       "    </tr>\n",
       "    <tr>\n",
       "      <th>2</th>\n",
       "      <td>2019-2020</td>\n",
       "      <td>AND</td>\n",
       "      <td>26</td>\n",
       "      <td>honduras</td>\n",
       "      <td>D</td>\n",
       "      <td>1170000</td>\n",
       "    </tr>\n",
       "    <tr>\n",
       "      <th>3</th>\n",
       "      <td>2019-2020</td>\n",
       "      <td>AND</td>\n",
       "      <td>17</td>\n",
       "      <td>belgium</td>\n",
       "      <td>F</td>\n",
       "      <td>80000</td>\n",
       "    </tr>\n",
       "    <tr>\n",
       "      <th>4</th>\n",
       "      <td>2019-2020</td>\n",
       "      <td>AND</td>\n",
       "      <td>32</td>\n",
       "      <td>belgium</td>\n",
       "      <td>D</td>\n",
       "      <td>20000</td>\n",
       "    </tr>\n",
       "  </tbody>\n",
       "</table>\n",
       "</div>"
      ],
      "text/plain": [
       "   season_id club_code  player_age player_country_id player_group_code  \\\n",
       "0  2019-2020       AND          28            france                 M   \n",
       "1  2019-2020       AND          20           belgium                 M   \n",
       "2  2019-2020       AND          26          honduras                 D   \n",
       "3  2019-2020       AND          17           belgium                 F   \n",
       "4  2019-2020       AND          32           belgium                 D   \n",
       "\n",
       "   salary_gross_eur  \n",
       "0           2000000  \n",
       "1            130000  \n",
       "2           1170000  \n",
       "3             80000  \n",
       "4             20000  "
      ]
     },
     "execution_count": 16,
     "metadata": {},
     "output_type": "execute_result"
    }
   ],
   "source": [
    "df_salary.head()"
   ]
  },
  {
   "cell_type": "markdown",
   "id": "847b2eb4",
   "metadata": {},
   "source": [
    "#### Find high earners\n"
   ]
  },
  {
   "cell_type": "code",
   "execution_count": 17,
   "id": "e5430437",
   "metadata": {},
   "outputs": [],
   "source": [
    "# Group the data by 'club' and 'position'\n",
    "groups = df_salary.groupby(['club_code', 'player_group_code','season_id'])\n",
    "# Find the highest two values of column 'salary_gross_eur' for each group\n",
    "top_two = groups['salary_gross_eur'].nlargest(2).reset_index()\n",
    "\n",
    "# get needed indexes\n",
    "index = list(top_two['level_3'])\n",
    "\n",
    "# Add the result to the data frame as a new column\n",
    "df_salary['high_earner'] = 0\n",
    "for i in index:\n",
    "    df_salary.loc[i, 'high_earner'] = 1"
   ]
  },
  {
   "cell_type": "code",
   "execution_count": 18,
   "id": "ff0a9d1c",
   "metadata": {},
   "outputs": [],
   "source": [
    "# Add the result to the data frame as a new column\n",
    "df['high_earner'] = 0\n",
    "for i in index:\n",
    "    df.loc[i, 'high_earner'] = 1"
   ]
  },
  {
   "cell_type": "markdown",
   "id": "5ba78017",
   "metadata": {},
   "source": [
    "#### Add needed features"
   ]
  },
  {
   "cell_type": "code",
   "execution_count": 19,
   "id": "c542ded8",
   "metadata": {},
   "outputs": [],
   "source": [
    "# Required columns for related players\n",
    "LIST2 = ['season_id','player_name','club_code','player_age','player_country_id','player_group_code','salary_gross_eur','high_earner']"
   ]
  },
  {
   "cell_type": "code",
   "execution_count": 20,
   "id": "c478215f",
   "metadata": {},
   "outputs": [],
   "source": [
    "df_similar = df[LIST2]"
   ]
  },
  {
   "cell_type": "code",
   "execution_count": 21,
   "id": "1e6130cd",
   "metadata": {},
   "outputs": [],
   "source": [
    "countries = df_salary.player_country_id.unique()\n",
    "\n",
    "#based on uk.gov website excluding Belgium\n",
    "EU_countries = ['Austria', 'Bulgaria', 'Croatia','Cyprus', 'Czech-Republic', \n",
    "              'Denmark', 'Estonia', 'Finland', 'France', 'Germany', 'Greece', 'Hungary', 'Ireland', 'Italy',\n",
    "              'Latvia', 'Lithuania', 'Luxembourg', 'Malta', 'Netherlands', 'Poland', 'Portugal', \n",
    "              'Romania', 'Slovakia', 'Slovenia', 'Spain','Sweden']\n",
    "\n",
    "EU_countries = [s.lower() for s in EU_countries]"
   ]
  },
  {
   "cell_type": "code",
   "execution_count": 22,
   "id": "c5681f0c",
   "metadata": {},
   "outputs": [
    {
     "data": {
      "text/plain": [
       "array(['france', 'belgium', 'honduras', 'serbia', 'netherlands',\n",
       "       'democratic-republic-of-the-congo', 'jamaica', 'united-states',\n",
       "       'croatia', 'panama', 'austria', 'costa-rica', 'germany',\n",
       "       'montenegro', 'albania', 'rwanda', 'ghana', 'poland',\n",
       "       'cote-d-ivoire', 'senegal', 'finland', 'japan', 'mali', 'bulgaria',\n",
       "       'greece', 'bosnia-herzegovina', 'congo', 'algeria', 'wales',\n",
       "       'kenya', 'england', 'south-africa', 'hungary', 'tunisia', 'brazil',\n",
       "       'canada', 'iran', 'togo', 'north-macedonia', 'sweden',\n",
       "       'madagascar', 'angola', 'nigeria', 'colombia', 'ukraine',\n",
       "       'uruguay', 'czech-republic', 'guinea-bissau', 'argentina', 'spain',\n",
       "       'zimbabwe', 'portugal', 'benin', 'cameroon', 'italy', 'australia',\n",
       "       'denmark', 'norway', 'slovakia', 'georgia', 'the-gambia',\n",
       "       'comoros', 'scotland', 'burkina-faso', 'trinidad-and-tobago',\n",
       "       'iceland', 'zambia', 'turkey', 'guinea', 'venezuela', 'israel',\n",
       "       'haiti', 'sierra-leone', 'south-korea', 'romania', 'cyprus',\n",
       "       'morocco', 'kosovo', 'switzerland', 'mexico', 'burundi', 'ireland',\n",
       "       'kazakhstan', 'luxembourg', 'curacao', 'peru', 'Canada',\n",
       "       'cape-verde', 'ecuador', 'malaysia', 'slovenia', 'jordan',\n",
       "       'northern-ireland', 'new-zealand', 'bolivia', 'lithuania',\n",
       "       'armenia', 'thailand', 'tanzania', 'chad', 'malta', 'mauritania',\n",
       "       'grenada', 'chile', 'guadeloupe', 'russia', 'estonia'],\n",
       "      dtype=object)"
      ]
     },
     "execution_count": 22,
     "metadata": {},
     "output_type": "execute_result"
    }
   ],
   "source": [
    "countries\n"
   ]
  },
  {
   "cell_type": "code",
   "execution_count": 23,
   "id": "5e81390e",
   "metadata": {},
   "outputs": [],
   "source": [
    "EU = []\n",
    "non_EU = []\n",
    "for country in countries:\n",
    "    if country in EU_countries:\n",
    "        EU.append(country) \n",
    "    elif country == 'belgium':\n",
    "        pass\n",
    "    else:\n",
    "        non_EU.append(country) "
   ]
  },
  {
   "cell_type": "code",
   "execution_count": 24,
   "id": "a76a41ea",
   "metadata": {},
   "outputs": [],
   "source": [
    "def set_region(row):\n",
    "    \"\"\"\n",
    "    Function takes each row as argument and returns the region \n",
    "    based on the player_country_id.\n",
    "    \"\"\"\n",
    "\n",
    "    if row['player_country_id'] in non_EU:\n",
    "        return 'non_EU'\n",
    "    \n",
    "    elif row['player_country_id'] in EU:\n",
    "        return 'EU'\n",
    "    \n",
    "    else:\n",
    "        return 'belgium'"
   ]
  },
  {
   "cell_type": "code",
   "execution_count": 25,
   "id": "6cbf9299",
   "metadata": {},
   "outputs": [],
   "source": [
    "##Updating coding dicitionary as capology has differnt naming convention to Wikipedia\n",
    "CODE_DICT['Club Brugge'] = 'BRU'\n",
    "CODE_DICT['Antwerp'] = 'ATW'\n",
    "CODE_DICT['Standard Liège'] = 'STL'\n",
    "CODE_DICT['Sint-Truiden'] = 'SIT'\n",
    "CODE_DICT['Cercle Brugge'] = 'CER'\n",
    "CODE_DICT['Waasland-Beveren'] = 'BEV'\n",
    "CODE_DICT['Beerschot'] = 'BEE'\n",
    "CODE_DICT['OH Leuven'] = 'LEU'"
   ]
  },
  {
   "cell_type": "code",
   "execution_count": 39,
   "id": "69644662",
   "metadata": {},
   "outputs": [
    {
     "data": {
      "text/plain": [
       "{'Anderlecht': 'AND',\n",
       " 'Beveren': 'BEV',\n",
       " 'Cercle Brugges': 'CER',\n",
       " 'Charleroi': 'CHL',\n",
       " 'Club Brugges': 'BRU',\n",
       " 'Eupen': 'EUP',\n",
       " 'Excel Mouscron': 'EXM',\n",
       " 'Genk': 'GEK',\n",
       " 'Gent': 'GNT',\n",
       " 'Kortrijk': 'KOR',\n",
       " 'Mechelen': 'MEC',\n",
       " 'Oostende': 'OOS',\n",
       " 'Royal Antwerp': 'ATW',\n",
       " 'Sint-Truidense': 'SIT',\n",
       " 'Standard Liege': 'STL',\n",
       " 'Zulte Waregem': 'ZUW',\n",
       " 'Beerschot VA': 'BEE',\n",
       " 'Leuven': 'LEU',\n",
       " 'Seraing': 'SER',\n",
       " 'Union SG': 'USG',\n",
       " 'Westerlo': 'WES',\n",
       " 'Club Brugge': 'BRU',\n",
       " 'Antwerp': 'ATW',\n",
       " 'Standard Liège': 'STL',\n",
       " 'Sint-Truiden': 'SIT',\n",
       " 'Cercle Brugge': 'CER',\n",
       " 'Waasland-Beveren': 'BEV',\n",
       " 'Beerschot': 'BEE',\n",
       " 'OH Leuven': 'LEU'}"
      ]
     },
     "execution_count": 39,
     "metadata": {},
     "output_type": "execute_result"
    }
   ],
   "source": [
    "CODE_DICT"
   ]
  },
  {
   "cell_type": "code",
   "execution_count": 26,
   "id": "78126ca0",
   "metadata": {},
   "outputs": [],
   "source": [
    "# Final league standings 2019/2020\n",
    "standings_2019 = League_table_scraper('https://en.wikipedia.org/wiki/2019%E2%80%9320_Belgian_First_Division_A',4)\n",
    "standings_2019 = list(map(lambda x: CODE_DICT[x], standings_2019.club))\n",
    "\n",
    "# Final league standings 2020/2021\n",
    "standings_2020= League_table_scraper('https://en.wikipedia.org/wiki/2020%E2%80%9321_Belgian_First_Division_A',5)\n",
    "standings_2020 = list(map(lambda x: CODE_DICT[x], standings_2020.club))\n",
    "\n",
    "# Final league standings 2021/2022\n",
    "standings_2021 = League_table_scraper('https://en.wikipedia.org/wiki/2021%E2%80%9322_Belgian_First_Division_A',5)\n",
    "standings_2021 = list(map(lambda x: CODE_DICT[x], standings_2021.club))\n",
    "\n",
    "# Current league standings 2022/2023\n",
    "standings_2022 = League_table_scraper('https://en.wikipedia.org/wiki/2022%E2%80%9323_Belgian_Pro_League',5)\n",
    "standings_2022 = list(map(lambda x: CODE_DICT[x], standings_2022.club))"
   ]
  },
  {
   "cell_type": "code",
   "execution_count": 27,
   "id": "8db50d2f",
   "metadata": {},
   "outputs": [],
   "source": [
    "def set_club_type(row):\n",
    "    \"\"\"\n",
    "    Function takes each row as argument and returns\n",
    "    top 2,top 5,mid-table, relagation based on the club \n",
    "    finishing position for the year\n",
    "    \n",
    "    \"\"\"\n",
    "\n",
    "    if (row['club_code'] in standings_2019[:2] and row['season_id']== '2019-2020') or (row['club_code'] in standings_2020[0:2] and row['season_id']=='2020-2021') or (row['club_code'] in standings_2021[0:2] and row['season_id']=='2021-2022') or (row['club_code'] in standings_2022[0:2] and row['season_id']=='2022-2023'):\n",
    "        return 'top 2'\n",
    "   \n",
    "    if (row['club_code'] in standings_2019[2:5] and row['season_id']== '2019-2020') or (row['club_code'] in standings_2020[2:5] and row['season_id']=='2020-2021') or (row['club_code'] in standings_2021[2:5] and row['season_id']=='2021-2022') or (row['club_code'] in standings_2022[2:5] and row['season_id']=='2022-2023'):\n",
    "        return 'top 5'\n",
    "    \n",
    "    if (row['club_code'] in standings_2019[5:15] and row['season_id']== '2019-2020') or (row['club_code'] in standings_2020[5:16] and row['season_id']=='2020-2021') or (row['club_code'] in standings_2021[5:16] and row['season_id']=='2021-2022') or (row['club_code'] in standings_2022[5:16] and row['season_id']=='2022-2023'):\n",
    "        return 'mid-table'\n",
    "    \n",
    "    else :\n",
    "        return 'relegation'\n"
   ]
  },
  {
   "cell_type": "code",
   "execution_count": 28,
   "id": "53d3a3d2",
   "metadata": {},
   "outputs": [],
   "source": [
    "X = df_salary[['club_code', 'player_age', 'player_country_id', 'player_group_code','season_id','high_earner']]\n",
    "\n",
    "X = X.assign(Age = pd.cut(X['player_age'], \n",
    "                               bins = [0, 17, 21,23, 27, 32,99], \n",
    "                               labels = ['U18', '18-21', '21-23','23-27','27-32','32+']))\n",
    "\n",
    "X = X.assign(region = X.apply(set_region, axis = 1)).astype('category')\n",
    "\n",
    "X = X.assign(club_level=X.apply(set_club_type,axis = 1)).astype('category')\n",
    "\n",
    "X = X.drop('player_age',axis=1)\n",
    "X = X.drop('season_id',axis=1)"
   ]
  },
  {
   "cell_type": "code",
   "execution_count": 29,
   "id": "9b346ad3",
   "metadata": {},
   "outputs": [
    {
     "data": {
      "text/html": [
       "<div>\n",
       "<style scoped>\n",
       "    .dataframe tbody tr th:only-of-type {\n",
       "        vertical-align: middle;\n",
       "    }\n",
       "\n",
       "    .dataframe tbody tr th {\n",
       "        vertical-align: top;\n",
       "    }\n",
       "\n",
       "    .dataframe thead th {\n",
       "        text-align: right;\n",
       "    }\n",
       "</style>\n",
       "<table border=\"1\" class=\"dataframe\">\n",
       "  <thead>\n",
       "    <tr style=\"text-align: right;\">\n",
       "      <th></th>\n",
       "      <th>club_code</th>\n",
       "      <th>player_country_id</th>\n",
       "      <th>player_group_code</th>\n",
       "      <th>high_earner</th>\n",
       "      <th>Age</th>\n",
       "      <th>region</th>\n",
       "      <th>club_level</th>\n",
       "    </tr>\n",
       "  </thead>\n",
       "  <tbody>\n",
       "    <tr>\n",
       "      <th>0</th>\n",
       "      <td>AND</td>\n",
       "      <td>france</td>\n",
       "      <td>M</td>\n",
       "      <td>1</td>\n",
       "      <td>27-32</td>\n",
       "      <td>EU</td>\n",
       "      <td>mid-table</td>\n",
       "    </tr>\n",
       "    <tr>\n",
       "      <th>1</th>\n",
       "      <td>AND</td>\n",
       "      <td>belgium</td>\n",
       "      <td>M</td>\n",
       "      <td>0</td>\n",
       "      <td>18-21</td>\n",
       "      <td>belgium</td>\n",
       "      <td>mid-table</td>\n",
       "    </tr>\n",
       "    <tr>\n",
       "      <th>2</th>\n",
       "      <td>AND</td>\n",
       "      <td>honduras</td>\n",
       "      <td>D</td>\n",
       "      <td>0</td>\n",
       "      <td>23-27</td>\n",
       "      <td>non_EU</td>\n",
       "      <td>mid-table</td>\n",
       "    </tr>\n",
       "    <tr>\n",
       "      <th>3</th>\n",
       "      <td>AND</td>\n",
       "      <td>belgium</td>\n",
       "      <td>F</td>\n",
       "      <td>0</td>\n",
       "      <td>U18</td>\n",
       "      <td>belgium</td>\n",
       "      <td>mid-table</td>\n",
       "    </tr>\n",
       "    <tr>\n",
       "      <th>4</th>\n",
       "      <td>AND</td>\n",
       "      <td>belgium</td>\n",
       "      <td>D</td>\n",
       "      <td>0</td>\n",
       "      <td>27-32</td>\n",
       "      <td>belgium</td>\n",
       "      <td>mid-table</td>\n",
       "    </tr>\n",
       "  </tbody>\n",
       "</table>\n",
       "</div>"
      ],
      "text/plain": [
       "  club_code player_country_id player_group_code high_earner    Age   region  \\\n",
       "0       AND            france                 M           1  27-32       EU   \n",
       "1       AND           belgium                 M           0  18-21  belgium   \n",
       "2       AND          honduras                 D           0  23-27   non_EU   \n",
       "3       AND           belgium                 F           0    U18  belgium   \n",
       "4       AND           belgium                 D           0  27-32  belgium   \n",
       "\n",
       "  club_level  \n",
       "0  mid-table  \n",
       "1  mid-table  \n",
       "2  mid-table  \n",
       "3  mid-table  \n",
       "4  mid-table  "
      ]
     },
     "execution_count": 29,
     "metadata": {},
     "output_type": "execute_result"
    }
   ],
   "source": [
    "X.head()"
   ]
  },
  {
   "cell_type": "code",
   "execution_count": 30,
   "id": "95a7c789",
   "metadata": {},
   "outputs": [],
   "source": [
    "def Club_type(club):\n",
    "    \n",
    "    \"\"\"\n",
    "    Function takes club as argument and returns\n",
    "    top 2 ,top 6 ,mid-table, relagation based on the club \n",
    "    finishing position for 2022. If club  was not in \n",
    "    the league in 2022 returns default value midtable\n",
    "    \n",
    "    \"\"\"\n",
    "\n",
    "    if club in standings_2022[0:2] :\n",
    "        return 'top 2'\n",
    "   \n",
    "    if club in standings_2022[2:5] :\n",
    "        return 'top 6'\n",
    "    \n",
    "    if club in standings_2022[5:16] :\n",
    "        return 'mid-table'\n",
    "    \n",
    "    else :\n",
    "        return 'mid-table'\n",
    "    \n",
    " \n"
   ]
  },
  {
   "cell_type": "code",
   "execution_count": 31,
   "id": "cbb11416",
   "metadata": {},
   "outputs": [],
   "source": [
    "def Region(country):\n",
    "    \n",
    "    \"\"\"\n",
    "    Function takes country as an argument and returns \n",
    "    the region of the country\n",
    "    \n",
    "    \"\"\"\n",
    "\n",
    "    if country in non_EU:\n",
    "        return 'non_EU'\n",
    "    \n",
    "    elif country in EU:\n",
    "        return 'EU'\n",
    "    \n",
    "    else:\n",
    "        return 'belgium'"
   ]
  },
  {
   "cell_type": "code",
   "execution_count": 32,
   "id": "298acc47",
   "metadata": {},
   "outputs": [],
   "source": [
    "def Age(age):\n",
    "    \"\"\"\n",
    "    Function takes age as an argument and returns \n",
    "    the age range\n",
    "    \n",
    "    \"\"\"\n",
    "    if age <= 18:\n",
    "        return 'U18'\n",
    "    if age in range(18, 22):\n",
    "        return '18-21'\n",
    "    if age in range(22, 24):\n",
    "        return '21-23'\n",
    "    if age in range(24, 28):\n",
    "        return '23-27'\n",
    "    if age in range(28, 33):\n",
    "        return '27-32'\n",
    "    return '32+'"
   ]
  },
  {
   "cell_type": "code",
   "execution_count": 33,
   "id": "16e85c7d",
   "metadata": {},
   "outputs": [],
   "source": [
    "def Starter(starter):\n",
    "    \n",
    "     if starter == 'Yes' :\n",
    "        return '1'\n",
    "     else:\n",
    "        return '0'"
   ]
  },
  {
   "cell_type": "code",
   "execution_count": 34,
   "id": "0c90e8c7",
   "metadata": {},
   "outputs": [],
   "source": [
    "def calculate_similarities(row,input_data):\n",
    "    s = 0\n",
    "    \n",
    "    if row['club_code'] == input_data[0]:   # Check for same club\n",
    "        s += 1\n",
    "    \n",
    "    if row['club_level'] == Club_type(input_data[0]):  # Check for simlar level club\n",
    "        s += 0.5\n",
    "    \n",
    "    if row['player_group_code'] == input_data[1]:\n",
    "        s += 4\n",
    "    \n",
    "    if row['player_country_id'] == input_data[2]:  # Check for same country\n",
    "        s += 1\n",
    "    \n",
    "    if row['region'] == Region(input_data[2]):   # Check for same region\n",
    "        s += 0.5\n",
    "    \n",
    "    if row['Age'] == Age(input_data[3]):\n",
    "        s += 1\n",
    "    \n",
    "    if row['high_earner'] == Starter(input_data[4]):\n",
    "        s += 8\n",
    "    \n",
    "    return s\n"
   ]
  },
  {
   "cell_type": "code",
   "execution_count": 35,
   "id": "1c3ef5d0",
   "metadata": {},
   "outputs": [],
   "source": [
    "def similar_player(data):\n",
    "    \n",
    "    X['similarities'] = X.apply(calculate_similarities, axis = 1,input_data = data)\n",
    "    X_sorted = X.sort_values(by = 'similarities', ascending = False)\n",
    "    top_5 = X_sorted.head(5)\n",
    "    indexes = top_5.index\n",
    "\n",
    "    \n",
    "    return df_similar.loc[indexes]"
   ]
  },
  {
   "cell_type": "code",
   "execution_count": 36,
   "id": "71d4ec1e",
   "metadata": {},
   "outputs": [
    {
     "data": {
      "text/html": [
       "<div>\n",
       "<style scoped>\n",
       "    .dataframe tbody tr th:only-of-type {\n",
       "        vertical-align: middle;\n",
       "    }\n",
       "\n",
       "    .dataframe tbody tr th {\n",
       "        vertical-align: top;\n",
       "    }\n",
       "\n",
       "    .dataframe thead th {\n",
       "        text-align: right;\n",
       "    }\n",
       "</style>\n",
       "<table border=\"1\" class=\"dataframe\">\n",
       "  <thead>\n",
       "    <tr style=\"text-align: right;\">\n",
       "      <th></th>\n",
       "      <th>season_id</th>\n",
       "      <th>player_name</th>\n",
       "      <th>club_code</th>\n",
       "      <th>player_age</th>\n",
       "      <th>player_country_id</th>\n",
       "      <th>player_group_code</th>\n",
       "      <th>salary_gross_eur</th>\n",
       "      <th>high_earner</th>\n",
       "    </tr>\n",
       "  </thead>\n",
       "  <tbody>\n",
       "    <tr>\n",
       "      <th>226</th>\n",
       "      <td>2019-2020</td>\n",
       "      <td>Shawn Adewoye</td>\n",
       "      <td>GEK</td>\n",
       "      <td>19</td>\n",
       "      <td>belgium</td>\n",
       "      <td>D</td>\n",
       "      <td>50000</td>\n",
       "      <td>0</td>\n",
       "    </tr>\n",
       "    <tr>\n",
       "      <th>769</th>\n",
       "      <td>2020-2021</td>\n",
       "      <td>Shawn Adewoye</td>\n",
       "      <td>GEK</td>\n",
       "      <td>20</td>\n",
       "      <td>belgium</td>\n",
       "      <td>D</td>\n",
       "      <td>60000</td>\n",
       "      <td>0</td>\n",
       "    </tr>\n",
       "    <tr>\n",
       "      <th>654</th>\n",
       "      <td>2020-2021</td>\n",
       "      <td>Ignace Van Der Brempt</td>\n",
       "      <td>BRU</td>\n",
       "      <td>18</td>\n",
       "      <td>belgium</td>\n",
       "      <td>D</td>\n",
       "      <td>30000</td>\n",
       "      <td>0</td>\n",
       "    </tr>\n",
       "    <tr>\n",
       "      <th>658</th>\n",
       "      <td>2020-2021</td>\n",
       "      <td>Maxim De Cuyper</td>\n",
       "      <td>BRU</td>\n",
       "      <td>19</td>\n",
       "      <td>belgium</td>\n",
       "      <td>D</td>\n",
       "      <td>60000</td>\n",
       "      <td>0</td>\n",
       "    </tr>\n",
       "    <tr>\n",
       "      <th>2070</th>\n",
       "      <td>2022-2023</td>\n",
       "      <td>Arnaud Dony</td>\n",
       "      <td>USG</td>\n",
       "      <td>18</td>\n",
       "      <td>belgium</td>\n",
       "      <td>D</td>\n",
       "      <td>60000</td>\n",
       "      <td>0</td>\n",
       "    </tr>\n",
       "  </tbody>\n",
       "</table>\n",
       "</div>"
      ],
      "text/plain": [
       "      season_id            player_name club_code  player_age  \\\n",
       "226   2019-2020          Shawn Adewoye       GEK          19   \n",
       "769   2020-2021          Shawn Adewoye       GEK          20   \n",
       "654   2020-2021  Ignace Van Der Brempt       BRU          18   \n",
       "658   2020-2021        Maxim De Cuyper       BRU          19   \n",
       "2070  2022-2023            Arnaud Dony       USG          18   \n",
       "\n",
       "     player_country_id player_group_code  salary_gross_eur  high_earner  \n",
       "226            belgium                 D             50000            0  \n",
       "769            belgium                 D             60000            0  \n",
       "654            belgium                 D             30000            0  \n",
       "658            belgium                 D             60000            0  \n",
       "2070           belgium                 D             60000            0  "
      ]
     },
     "execution_count": 36,
     "metadata": {},
     "output_type": "execute_result"
    }
   ],
   "source": [
    "similar_player(['GEK','D','belgium',21,'Yes'])"
   ]
  },
  {
   "cell_type": "markdown",
   "id": "82ba12c2",
   "metadata": {},
   "source": [
    "#### Additional function to get % spend on player"
   ]
  },
  {
   "cell_type": "code",
   "execution_count": 37,
   "id": "56d84624",
   "metadata": {},
   "outputs": [],
   "source": [
    "def Total_wage_bill(club):\n",
    "    \"\"\"\n",
    "    function takes in club as argument and \n",
    "    returns the the total wage bill of the club\n",
    "    \n",
    "    \"\"\"\n",
    "    df_filtered = df_salary.loc[df_salary['club_code'] == club]\n",
    "    \n",
    "    #Number of seasons for which data is available for the club\n",
    "    n = len(df_filtered.season_id.unique())\n",
    "    \n",
    "    #Assuming club has simlar squad sizes each season\n",
    "    total = df_filtered['salary_gross_eur'].sum()/n\n",
    "    \n",
    "    return total"
   ]
  },
  {
   "cell_type": "code",
   "execution_count": 38,
   "id": "e369c686",
   "metadata": {},
   "outputs": [
    {
     "data": {
      "text/plain": [
       "13800000.0"
      ]
     },
     "execution_count": 38,
     "metadata": {},
     "output_type": "execute_result"
    }
   ],
   "source": [
    "Total_wage_bill('GEK')"
   ]
  },
  {
   "cell_type": "code",
   "execution_count": null,
   "id": "0cbb3c7b",
   "metadata": {},
   "outputs": [],
   "source": [
    "# Convert notebook to script\n",
    "# jupyter nbconvert --to script Belgium_Division_A_Similar_players.ipynb"
   ]
  }
 ],
 "metadata": {
  "kernelspec": {
   "display_name": "Python 3 (ipykernel)",
   "language": "python",
   "name": "python3"
  },
  "language_info": {
   "codemirror_mode": {
    "name": "ipython",
    "version": 3
   },
   "file_extension": ".py",
   "mimetype": "text/x-python",
   "name": "python",
   "nbconvert_exporter": "python",
   "pygments_lexer": "ipython3",
   "version": "3.9.13"
  }
 },
 "nbformat": 4,
 "nbformat_minor": 5
}
