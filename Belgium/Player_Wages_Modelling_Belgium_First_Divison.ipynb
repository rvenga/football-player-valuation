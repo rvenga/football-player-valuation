{
 "cells": [
  {
   "cell_type": "code",
   "execution_count": 130,
   "id": "05049abe",
   "metadata": {},
   "outputs": [],
   "source": [
    "import pandas as pd \n",
    "# default='warn', Used here to supress warning when slicing and creating high earners column\n",
    "pd.options.mode.chained_assignment = None \n"
   ]
  },
  {
   "cell_type": "code",
   "execution_count": 131,
   "id": "af453e92",
   "metadata": {},
   "outputs": [],
   "source": [
    "import requests\n",
    "import json\n",
    "import numpy as np\n",
    "import matplotlib.pyplot as plt\n",
    "import seaborn as sns\n",
    "import math"
   ]
  },
  {
   "cell_type": "code",
   "execution_count": 132,
   "id": "77acd724",
   "metadata": {},
   "outputs": [],
   "source": [
    "# custom function from Web_scrapper_League_Tables notebook \n",
    "from ipynb.fs.full.Web_scrapper_League_Tables import League_table_scraper"
   ]
  },
  {
   "cell_type": "markdown",
   "id": "817d382b",
   "metadata": {},
   "source": [
    "#### Getting data from the API"
   ]
  },
  {
   "cell_type": "code",
   "execution_count": 133,
   "id": "1b54495c",
   "metadata": {},
   "outputs": [],
   "source": [
    "# API authorization\n",
    "headers = {'x-api-key':'d15f7132973d404d9d046934398ee9e3', 'accept': 'application/json', 'accept': 'text/csv'}\n",
    "\n",
    "# Choose endpoint\n",
    "endpoint = 'https://www.capology.com/api/v2/soccer/salaries/be/first-division-a/2019-2020/'\n",
    "\n",
    "# Retrieve json\n",
    "json1 = requests.get(endpoint, headers = headers).text\n",
    "\n",
    "#Data for 2019/2020\n",
    "df1 = pd.read_json(json1)\n",
    "\n",
    "\n",
    "df1 = df1[df1[\"season_term\"] == \"combined\"]"
   ]
  },
  {
   "cell_type": "code",
   "execution_count": 134,
   "id": "2eb90ecf",
   "metadata": {},
   "outputs": [],
   "source": [
    "# API authorization\n",
    "headers = {'x-api-key':'d15f7132973d404d9d046934398ee9e3', 'accept': 'application/json', 'accept': 'text/csv'}\n",
    "\n",
    "# Choose endpoint\n",
    "endpoint = 'https://www.capology.com/api/v2/soccer/salaries/be/first-division-a/2020-2021/'\n",
    "\n",
    "# Retrieve json\n",
    "json2 = requests.get(endpoint, headers=headers).text\n",
    "\n",
    "#Data for 2020/2021\n",
    "df2 = pd.read_json(json2)\n",
    "\n",
    "\n",
    "df2 = df2[df2[\"season_term\"] == \"combined\"]"
   ]
  },
  {
   "cell_type": "code",
   "execution_count": 135,
   "id": "93081734",
   "metadata": {},
   "outputs": [],
   "source": [
    "# API authorization\n",
    "headers = {'x-api-key':'d15f7132973d404d9d046934398ee9e3', 'accept': 'application/json', 'accept': 'text/csv'}\n",
    "\n",
    "# Choose endpoint\n",
    "endpoint = 'https://www.capology.com/api/v2/soccer/salaries/be/first-division-a/2021-2022/'\n",
    "\n",
    "# Retrieve json\n",
    "json3 = requests.get(endpoint, headers=headers).text\n",
    "\n",
    "#Data for 2021/2022\n",
    "df3 = pd.read_json(json3)\n",
    "\n",
    "\n",
    "df3 = df3[df3[\"season_term\"] == \"combined\"]"
   ]
  },
  {
   "cell_type": "code",
   "execution_count": 136,
   "id": "3bb3ae3a",
   "metadata": {},
   "outputs": [],
   "source": [
    "# API authorization\n",
    "headers = {'x-api-key':'d15f7132973d404d9d046934398ee9e3', 'accept': 'application/json', 'accept': 'text/csv'}\n",
    "\n",
    "# Choose endpoint\n",
    "endpoint = 'https://www.capology.com/api/v2/soccer/salaries/be/first-division-a/2022-2023/'\n",
    "\n",
    "# Retrieve json\n",
    "json4 = requests.get(endpoint, headers=headers).text\n",
    "\n",
    "#Data for 2022/2023\n",
    "df4 = pd.read_json(json4)\n",
    "\n",
    "#Capology has defined the seson as summer\n",
    "df4 = df4[df4[\"season_term\"] == \"summer\"]"
   ]
  },
  {
   "cell_type": "code",
   "execution_count": 137,
   "id": "5ad357a5",
   "metadata": {},
   "outputs": [],
   "source": [
    "df = pd.concat([df1,df2,df3,df4],axis = 0).drop_duplicates()"
   ]
  },
  {
   "cell_type": "markdown",
   "id": "0e4dfc95",
   "metadata": {},
   "source": [
    "#### Cleaning Data frame"
   ]
  },
  {
   "cell_type": "code",
   "execution_count": 138,
   "id": "9d20385d",
   "metadata": {},
   "outputs": [],
   "source": [
    "df = df[df['salary_gross_eur'] != 0]"
   ]
  },
  {
   "cell_type": "code",
   "execution_count": 139,
   "id": "3ff4a397",
   "metadata": {},
   "outputs": [],
   "source": [
    "CODE_DICT = pd.Series(df.club_code.values,index=df.club_name).to_dict()\n"
   ]
  },
  {
   "cell_type": "code",
   "execution_count": 140,
   "id": "afe79750",
   "metadata": {},
   "outputs": [],
   "source": [
    "#Required columns\n",
    "LIST = ['season_id','club_code','player_age','player_country_id','player_group_code','salary_gross_eur']"
   ]
  },
  {
   "cell_type": "code",
   "execution_count": 141,
   "id": "8b3ffe96",
   "metadata": {},
   "outputs": [],
   "source": [
    "df_salary = df[LIST]\n",
    "df_salary = df_salary.reset_index(drop = True)"
   ]
  },
  {
   "cell_type": "code",
   "execution_count": 142,
   "id": "447a3bc3",
   "metadata": {
    "scrolled": true
   },
   "outputs": [
    {
     "data": {
      "text/html": [
       "<div>\n",
       "<style scoped>\n",
       "    .dataframe tbody tr th:only-of-type {\n",
       "        vertical-align: middle;\n",
       "    }\n",
       "\n",
       "    .dataframe tbody tr th {\n",
       "        vertical-align: top;\n",
       "    }\n",
       "\n",
       "    .dataframe thead th {\n",
       "        text-align: right;\n",
       "    }\n",
       "</style>\n",
       "<table border=\"1\" class=\"dataframe\">\n",
       "  <thead>\n",
       "    <tr style=\"text-align: right;\">\n",
       "      <th></th>\n",
       "      <th>season_id</th>\n",
       "      <th>club_code</th>\n",
       "      <th>player_age</th>\n",
       "      <th>player_country_id</th>\n",
       "      <th>player_group_code</th>\n",
       "      <th>salary_gross_eur</th>\n",
       "    </tr>\n",
       "  </thead>\n",
       "  <tbody>\n",
       "    <tr>\n",
       "      <th>0</th>\n",
       "      <td>2019-2020</td>\n",
       "      <td>AND</td>\n",
       "      <td>28</td>\n",
       "      <td>france</td>\n",
       "      <td>M</td>\n",
       "      <td>2000000</td>\n",
       "    </tr>\n",
       "    <tr>\n",
       "      <th>1</th>\n",
       "      <td>2019-2020</td>\n",
       "      <td>AND</td>\n",
       "      <td>20</td>\n",
       "      <td>belgium</td>\n",
       "      <td>M</td>\n",
       "      <td>130000</td>\n",
       "    </tr>\n",
       "    <tr>\n",
       "      <th>2</th>\n",
       "      <td>2019-2020</td>\n",
       "      <td>AND</td>\n",
       "      <td>26</td>\n",
       "      <td>honduras</td>\n",
       "      <td>D</td>\n",
       "      <td>1170000</td>\n",
       "    </tr>\n",
       "    <tr>\n",
       "      <th>3</th>\n",
       "      <td>2019-2020</td>\n",
       "      <td>AND</td>\n",
       "      <td>17</td>\n",
       "      <td>belgium</td>\n",
       "      <td>F</td>\n",
       "      <td>80000</td>\n",
       "    </tr>\n",
       "    <tr>\n",
       "      <th>4</th>\n",
       "      <td>2019-2020</td>\n",
       "      <td>AND</td>\n",
       "      <td>32</td>\n",
       "      <td>belgium</td>\n",
       "      <td>D</td>\n",
       "      <td>20000</td>\n",
       "    </tr>\n",
       "  </tbody>\n",
       "</table>\n",
       "</div>"
      ],
      "text/plain": [
       "   season_id club_code  player_age player_country_id player_group_code  \\\n",
       "0  2019-2020       AND          28            france                 M   \n",
       "1  2019-2020       AND          20           belgium                 M   \n",
       "2  2019-2020       AND          26          honduras                 D   \n",
       "3  2019-2020       AND          17           belgium                 F   \n",
       "4  2019-2020       AND          32           belgium                 D   \n",
       "\n",
       "   salary_gross_eur  \n",
       "0           2000000  \n",
       "1            130000  \n",
       "2           1170000  \n",
       "3             80000  \n",
       "4             20000  "
      ]
     },
     "execution_count": 142,
     "metadata": {},
     "output_type": "execute_result"
    }
   ],
   "source": [
    "df_salary.head()"
   ]
  },
  {
   "cell_type": "markdown",
   "id": "047fe62f",
   "metadata": {},
   "source": [
    "#### Finding High Earners"
   ]
  },
  {
   "cell_type": "code",
   "execution_count": 143,
   "id": "00e5c291",
   "metadata": {},
   "outputs": [],
   "source": [
    "# Group the data by 'club' and 'position'\n",
    "groups = df_salary.groupby(['season_id','club_code', 'player_group_code'])\n",
    "# Find the highest two values of column 'salary_gross_eur' for each group\n",
    "top_two = groups['salary_gross_eur'].nlargest(2).reset_index()\n",
    "\n",
    "# get needed indexes\n",
    "index = list(top_two['level_3'])\n",
    "\n",
    "# Add the result to the data frame as a new column\n",
    "df_salary['high_earner'] = 0\n",
    "for i in index:\n",
    "    df_salary.loc[i, 'high_earner'] = 1"
   ]
  },
  {
   "cell_type": "markdown",
   "id": "2f379323",
   "metadata": {},
   "source": [
    "#### Creating  needed features"
   ]
  },
  {
   "cell_type": "code",
   "execution_count": 144,
   "id": "188338b6",
   "metadata": {},
   "outputs": [],
   "source": [
    "countries = df_salary.player_country_id.unique()\n",
    "\n",
    "#based on uk.gov website excluding Belgium\n",
    "EU_countries = ['Austria', 'Bulgaria', 'Croatia','Cyprus', 'Czech-Republic', \n",
    "              'Denmark', 'Estonia', 'Finland', 'France', 'Germany', 'Greece', 'Hungary', 'Ireland', 'Italy',\n",
    "              'Latvia', 'Lithuania', 'Luxembourg', 'Malta', 'Netherlands', 'Poland', 'Portugal', \n",
    "              'Romania', 'Slovakia', 'Slovenia', 'Spain','Sweden']\n",
    "\n",
    "EU_countries = [s.lower() for s in EU_countries]"
   ]
  },
  {
   "cell_type": "code",
   "execution_count": 145,
   "id": "7eb7bcf0",
   "metadata": {},
   "outputs": [],
   "source": [
    "EU = []\n",
    "non_EU = []\n",
    "for country in countries:\n",
    "    if country in EU_countries:\n",
    "        EU.append(country) \n",
    "    elif country == 'belgium':\n",
    "        pass\n",
    "    else:\n",
    "        non_EU.append(country) \n"
   ]
  },
  {
   "cell_type": "code",
   "execution_count": 146,
   "id": "f928258d",
   "metadata": {},
   "outputs": [
    {
     "data": {
      "text/plain": [
       "1"
      ]
     },
     "execution_count": 146,
     "metadata": {},
     "output_type": "execute_result"
    }
   ],
   "source": [
    "len(countries)-len(EU)-len(non_EU)"
   ]
  },
  {
   "cell_type": "code",
   "execution_count": 147,
   "id": "f97ee541",
   "metadata": {},
   "outputs": [],
   "source": [
    "def set_region(row):\n",
    "    \"\"\"\n",
    "    Function takes each row as argument and returns the region \n",
    "    based on the player_country_id.\n",
    "    \"\"\"\n",
    "    \n",
    "    if row['player_country_id'] in non_EU:\n",
    "        return 'non_EU'\n",
    "    \n",
    "    elif row['player_country_id'] in EU:\n",
    "        return 'EU'\n",
    "    \n",
    "    else:\n",
    "        return 'belgium'"
   ]
  },
  {
   "cell_type": "code",
   "execution_count": 148,
   "id": "ffe8a191",
   "metadata": {},
   "outputs": [
    {
     "data": {
      "text/plain": [
       "{'Anderlecht': 'AND',\n",
       " 'Beveren': 'BEV',\n",
       " 'Cercle Brugges': 'CER',\n",
       " 'Charleroi': 'CHL',\n",
       " 'Club Brugges': 'BRU',\n",
       " 'Eupen': 'EUP',\n",
       " 'Excel Mouscron': 'EXM',\n",
       " 'Genk': 'GEK',\n",
       " 'Gent': 'GNT',\n",
       " 'Kortrijk': 'KOR',\n",
       " 'Mechelen': 'MEC',\n",
       " 'Oostende': 'OOS',\n",
       " 'Royal Antwerp': 'ATW',\n",
       " 'Sint-Truidense': 'SIT',\n",
       " 'Standard Liege': 'STL',\n",
       " 'Zulte Waregem': 'ZUW',\n",
       " 'Beerschot VA': 'BEE',\n",
       " 'Leuven': 'LEU',\n",
       " 'Seraing': 'SER',\n",
       " 'Union SG': 'USG',\n",
       " 'Westerlo': 'WES'}"
      ]
     },
     "execution_count": 148,
     "metadata": {},
     "output_type": "execute_result"
    }
   ],
   "source": [
    "CODE_DICT"
   ]
  },
  {
   "cell_type": "code",
   "execution_count": 149,
   "id": "0e953fba",
   "metadata": {},
   "outputs": [],
   "source": [
    "##Updating coding dicitionary as capology has differnt naming convention to Wikipedia\n",
    "CODE_DICT['Club Brugge'] = 'BRU'\n",
    "CODE_DICT['Antwerp'] = 'ATW'\n",
    "CODE_DICT['Standard Liège'] = 'STL'\n",
    "CODE_DICT['Sint-Truiden'] = 'SIT'\n",
    "CODE_DICT['Cercle Brugge'] = 'CER'\n",
    "CODE_DICT['Waasland-Beveren'] = 'BEV'\n",
    "CODE_DICT['Beerschot'] = 'BEE'\n",
    "CODE_DICT['OH Leuven'] = 'LEU'\n"
   ]
  },
  {
   "cell_type": "code",
   "execution_count": 150,
   "id": "e5d79a81",
   "metadata": {},
   "outputs": [],
   "source": [
    "# Final league standings 2019/2020\n",
    "standings_2019 = League_table_scraper('https://en.wikipedia.org/wiki/2019%E2%80%9320_Belgian_First_Division_A',4)\n",
    "standings_2019 = list(map(lambda x: CODE_DICT[x], standings_2019.club))\n",
    "\n",
    "# Final league standings 2020/2021\n",
    "standings_2020= League_table_scraper('https://en.wikipedia.org/wiki/2020%E2%80%9321_Belgian_First_Division_A',5)\n",
    "standings_2020 = list(map(lambda x: CODE_DICT[x], standings_2020.club))\n",
    "\n",
    "# Final league standings 2021/2022\n",
    "standings_2021 = League_table_scraper('https://en.wikipedia.org/wiki/2021%E2%80%9322_Belgian_First_Division_A',5)\n",
    "standings_2021 = list(map(lambda x: CODE_DICT[x], standings_2021.club))\n",
    "\n",
    "# Current league standings 2022/2023\n",
    "standings_2022 = League_table_scraper('https://en.wikipedia.org/wiki/2022%E2%80%9323_Belgian_Pro_League',5)\n",
    "standings_2022 = list(map(lambda x: CODE_DICT[x], standings_2022.club))"
   ]
  },
  {
   "cell_type": "code",
   "execution_count": 151,
   "id": "8db50d2f",
   "metadata": {},
   "outputs": [],
   "source": [
    "def set_club_type(row):\n",
    "    \n",
    "    \"\"\"\n",
    "    Function takes each row as argument and returns\n",
    "    top 2,top 5,mid-table, relagation based on the club \n",
    "    finishing position for the year\n",
    "    \n",
    "    \"\"\"\n",
    "\n",
    "    if (row['club_code'] in standings_2019[:2] and row['season_id']== '2019-2020') or (row['club_code'] in standings_2020[0:2] and row['season_id']=='2020-2021') or (row['club_code'] in standings_2021[0:2] and row['season_id']=='2021-2022') or (row['club_code'] in standings_2022[0:2] and row['season_id']=='2022-2023'):\n",
    "        return 'top 2'\n",
    "   \n",
    "    if (row['club_code'] in standings_2019[2:5] and row['season_id']== '2019-2020') or (row['club_code'] in standings_2020[2:5] and row['season_id']=='2020-2021') or (row['club_code'] in standings_2021[2:5] and row['season_id']=='2021-2022') or (row['club_code'] in standings_2022[2:5] and row['season_id']=='2022-2023'):\n",
    "        return 'top 5'\n",
    "    \n",
    "    if (row['club_code'] in standings_2019[5:15] and row['season_id']== '2019-2020') or (row['club_code'] in standings_2020[5:16] and row['season_id']=='2020-2021') or (row['club_code'] in standings_2021[5:16] and row['season_id']=='2021-2022') or (row['club_code'] in standings_2022[5:16] and row['season_id']=='2022-2023'):\n",
    "        return 'mid-table'\n",
    "    \n",
    "    else :\n",
    "        return 'relegation'\n"
   ]
  },
  {
   "cell_type": "code",
   "execution_count": 152,
   "id": "d408189d",
   "metadata": {},
   "outputs": [],
   "source": [
    "X = df_salary[['club_code', 'player_age', 'player_country_id', 'player_group_code','season_id','high_earner']]\n",
    "\n",
    "X = X.assign(Age = pd.cut(X['player_age'], \n",
    "                               bins = [0, 17, 21,23, 27, 32,99], \n",
    "                               labels = ['U18', '18-21', '21-23','23-27','27-32','32+']))\n",
    "\n",
    "X = X.assign(region = X.apply(set_region, axis = 1)).astype('category')\n",
    "\n",
    "X = X.assign(club_level = X.apply(set_club_type,axis = 1)).astype('category')\n",
    "\n",
    "X = X.drop('player_country_id',axis=1)\n",
    "X = X.drop('player_age',axis=1)\n",
    "X = X.drop('season_id',axis=1)"
   ]
  },
  {
   "cell_type": "markdown",
   "id": "5d52ee80",
   "metadata": {},
   "source": [
    "#### Preapring data frame for modelling\n"
   ]
  },
  {
   "cell_type": "code",
   "execution_count": 153,
   "id": "0db3139e",
   "metadata": {},
   "outputs": [],
   "source": [
    "X = pd.get_dummies(data = X, drop_first = True)"
   ]
  },
  {
   "cell_type": "code",
   "execution_count": 154,
   "id": "4a8e9493",
   "metadata": {},
   "outputs": [],
   "source": [
    "Y = np.log(df_salary['salary_gross_eur'])"
   ]
  },
  {
   "cell_type": "markdown",
   "id": "7c64fccb",
   "metadata": {},
   "source": [
    "#### Fiiting the Model"
   ]
  },
  {
   "cell_type": "code",
   "execution_count": 155,
   "id": "1fc45355",
   "metadata": {},
   "outputs": [
    {
     "name": "stdout",
     "output_type": "stream",
     "text": [
      "(1290, 34)\n",
      "(861, 34)\n",
      "(1290,)\n",
      "(861,)\n"
     ]
    }
   ],
   "source": [
    "from sklearn.model_selection import train_test_split\n",
    "X_train, X_test, y_train, y_test = train_test_split(X, Y, test_size=0.4, random_state=100)\n",
    "print(X_train.shape)\n",
    "print(X_test.shape)\n",
    "print(y_train.shape)\n",
    "print(y_test.shape)"
   ]
  },
  {
   "cell_type": "code",
   "execution_count": 156,
   "id": "8ad582e5",
   "metadata": {},
   "outputs": [
    {
     "data": {
      "text/plain": [
       "LinearRegression()"
      ]
     },
     "execution_count": 156,
     "metadata": {},
     "output_type": "execute_result"
    }
   ],
   "source": [
    "from sklearn.linear_model import LinearRegression\n",
    "model = LinearRegression()\n",
    "model.fit(X_train,y_train)"
   ]
  },
  {
   "cell_type": "code",
   "execution_count": 157,
   "id": "5acf845e",
   "metadata": {},
   "outputs": [],
   "source": [
    "X_test.to_csv(r'C:\\Users\\Ramya\\X_test_be.csv')"
   ]
  },
  {
   "cell_type": "code",
   "execution_count": 158,
   "id": "020a5e44",
   "metadata": {},
   "outputs": [
    {
     "name": "stdout",
     "output_type": "stream",
     "text": [
      "11.651340995526205\n"
     ]
    }
   ],
   "source": [
    "print(model.intercept_)"
   ]
  },
  {
   "cell_type": "code",
   "execution_count": 159,
   "id": "c561b6c1",
   "metadata": {
    "scrolled": true
   },
   "outputs": [
    {
     "data": {
      "text/html": [
       "<div>\n",
       "<style scoped>\n",
       "    .dataframe tbody tr th:only-of-type {\n",
       "        vertical-align: middle;\n",
       "    }\n",
       "\n",
       "    .dataframe tbody tr th {\n",
       "        vertical-align: top;\n",
       "    }\n",
       "\n",
       "    .dataframe thead th {\n",
       "        text-align: right;\n",
       "    }\n",
       "</style>\n",
       "<table border=\"1\" class=\"dataframe\">\n",
       "  <thead>\n",
       "    <tr style=\"text-align: right;\">\n",
       "      <th></th>\n",
       "      <th>index</th>\n",
       "      <th>Coefficient</th>\n",
       "    </tr>\n",
       "  </thead>\n",
       "  <tbody>\n",
       "    <tr>\n",
       "      <th>0</th>\n",
       "      <td>club_code_ATW</td>\n",
       "      <td>-0.286470</td>\n",
       "    </tr>\n",
       "    <tr>\n",
       "      <th>1</th>\n",
       "      <td>club_code_BEE</td>\n",
       "      <td>-1.505279</td>\n",
       "    </tr>\n",
       "    <tr>\n",
       "      <th>2</th>\n",
       "      <td>club_code_BEV</td>\n",
       "      <td>-0.891414</td>\n",
       "    </tr>\n",
       "    <tr>\n",
       "      <th>3</th>\n",
       "      <td>club_code_BRU</td>\n",
       "      <td>0.072831</td>\n",
       "    </tr>\n",
       "    <tr>\n",
       "      <th>4</th>\n",
       "      <td>club_code_CER</td>\n",
       "      <td>-1.101229</td>\n",
       "    </tr>\n",
       "    <tr>\n",
       "      <th>5</th>\n",
       "      <td>club_code_CHL</td>\n",
       "      <td>-0.989415</td>\n",
       "    </tr>\n",
       "    <tr>\n",
       "      <th>6</th>\n",
       "      <td>club_code_EUP</td>\n",
       "      <td>-0.878535</td>\n",
       "    </tr>\n",
       "    <tr>\n",
       "      <th>7</th>\n",
       "      <td>club_code_EXM</td>\n",
       "      <td>-1.184036</td>\n",
       "    </tr>\n",
       "    <tr>\n",
       "      <th>8</th>\n",
       "      <td>club_code_GEK</td>\n",
       "      <td>-0.310322</td>\n",
       "    </tr>\n",
       "    <tr>\n",
       "      <th>9</th>\n",
       "      <td>club_code_GNT</td>\n",
       "      <td>-0.495104</td>\n",
       "    </tr>\n",
       "    <tr>\n",
       "      <th>10</th>\n",
       "      <td>club_code_KOR</td>\n",
       "      <td>-0.982811</td>\n",
       "    </tr>\n",
       "    <tr>\n",
       "      <th>11</th>\n",
       "      <td>club_code_LEU</td>\n",
       "      <td>-1.175806</td>\n",
       "    </tr>\n",
       "    <tr>\n",
       "      <th>12</th>\n",
       "      <td>club_code_MEC</td>\n",
       "      <td>-0.861197</td>\n",
       "    </tr>\n",
       "    <tr>\n",
       "      <th>13</th>\n",
       "      <td>club_code_OOS</td>\n",
       "      <td>-0.985332</td>\n",
       "    </tr>\n",
       "    <tr>\n",
       "      <th>14</th>\n",
       "      <td>club_code_SER</td>\n",
       "      <td>-1.848655</td>\n",
       "    </tr>\n",
       "    <tr>\n",
       "      <th>15</th>\n",
       "      <td>club_code_SIT</td>\n",
       "      <td>-1.124442</td>\n",
       "    </tr>\n",
       "    <tr>\n",
       "      <th>16</th>\n",
       "      <td>club_code_STL</td>\n",
       "      <td>-0.421887</td>\n",
       "    </tr>\n",
       "    <tr>\n",
       "      <th>17</th>\n",
       "      <td>club_code_USG</td>\n",
       "      <td>-1.092693</td>\n",
       "    </tr>\n",
       "    <tr>\n",
       "      <th>18</th>\n",
       "      <td>club_code_WES</td>\n",
       "      <td>-1.083960</td>\n",
       "    </tr>\n",
       "    <tr>\n",
       "      <th>19</th>\n",
       "      <td>club_code_ZUW</td>\n",
       "      <td>-1.008032</td>\n",
       "    </tr>\n",
       "    <tr>\n",
       "      <th>20</th>\n",
       "      <td>player_group_code_F</td>\n",
       "      <td>0.082340</td>\n",
       "    </tr>\n",
       "    <tr>\n",
       "      <th>21</th>\n",
       "      <td>player_group_code_K</td>\n",
       "      <td>-0.708552</td>\n",
       "    </tr>\n",
       "    <tr>\n",
       "      <th>22</th>\n",
       "      <td>player_group_code_M</td>\n",
       "      <td>0.042667</td>\n",
       "    </tr>\n",
       "    <tr>\n",
       "      <th>23</th>\n",
       "      <td>high_earner_1</td>\n",
       "      <td>1.073200</td>\n",
       "    </tr>\n",
       "    <tr>\n",
       "      <th>24</th>\n",
       "      <td>Age_18-21</td>\n",
       "      <td>0.719505</td>\n",
       "    </tr>\n",
       "    <tr>\n",
       "      <th>25</th>\n",
       "      <td>Age_21-23</td>\n",
       "      <td>1.300691</td>\n",
       "    </tr>\n",
       "    <tr>\n",
       "      <th>26</th>\n",
       "      <td>Age_23-27</td>\n",
       "      <td>1.524934</td>\n",
       "    </tr>\n",
       "    <tr>\n",
       "      <th>27</th>\n",
       "      <td>Age_27-32</td>\n",
       "      <td>1.675018</td>\n",
       "    </tr>\n",
       "    <tr>\n",
       "      <th>28</th>\n",
       "      <td>Age_32+</td>\n",
       "      <td>1.884754</td>\n",
       "    </tr>\n",
       "    <tr>\n",
       "      <th>29</th>\n",
       "      <td>region_belgium</td>\n",
       "      <td>-0.265184</td>\n",
       "    </tr>\n",
       "    <tr>\n",
       "      <th>30</th>\n",
       "      <td>region_non_EU</td>\n",
       "      <td>0.031203</td>\n",
       "    </tr>\n",
       "    <tr>\n",
       "      <th>31</th>\n",
       "      <td>club_level_relegation</td>\n",
       "      <td>-0.144523</td>\n",
       "    </tr>\n",
       "    <tr>\n",
       "      <th>32</th>\n",
       "      <td>club_level_top 2</td>\n",
       "      <td>-0.105844</td>\n",
       "    </tr>\n",
       "    <tr>\n",
       "      <th>33</th>\n",
       "      <td>club_level_top 5</td>\n",
       "      <td>-0.161585</td>\n",
       "    </tr>\n",
       "  </tbody>\n",
       "</table>\n",
       "</div>"
      ],
      "text/plain": [
       "                    index  Coefficient\n",
       "0           club_code_ATW    -0.286470\n",
       "1           club_code_BEE    -1.505279\n",
       "2           club_code_BEV    -0.891414\n",
       "3           club_code_BRU     0.072831\n",
       "4           club_code_CER    -1.101229\n",
       "5           club_code_CHL    -0.989415\n",
       "6           club_code_EUP    -0.878535\n",
       "7           club_code_EXM    -1.184036\n",
       "8           club_code_GEK    -0.310322\n",
       "9           club_code_GNT    -0.495104\n",
       "10          club_code_KOR    -0.982811\n",
       "11          club_code_LEU    -1.175806\n",
       "12          club_code_MEC    -0.861197\n",
       "13          club_code_OOS    -0.985332\n",
       "14          club_code_SER    -1.848655\n",
       "15          club_code_SIT    -1.124442\n",
       "16          club_code_STL    -0.421887\n",
       "17          club_code_USG    -1.092693\n",
       "18          club_code_WES    -1.083960\n",
       "19          club_code_ZUW    -1.008032\n",
       "20    player_group_code_F     0.082340\n",
       "21    player_group_code_K    -0.708552\n",
       "22    player_group_code_M     0.042667\n",
       "23          high_earner_1     1.073200\n",
       "24              Age_18-21     0.719505\n",
       "25              Age_21-23     1.300691\n",
       "26              Age_23-27     1.524934\n",
       "27              Age_27-32     1.675018\n",
       "28                Age_32+     1.884754\n",
       "29         region_belgium    -0.265184\n",
       "30          region_non_EU     0.031203\n",
       "31  club_level_relegation    -0.144523\n",
       "32       club_level_top 2    -0.105844\n",
       "33       club_level_top 5    -0.161585"
      ]
     },
     "execution_count": 159,
     "metadata": {},
     "output_type": "execute_result"
    }
   ],
   "source": [
    "coeff_parameter = pd.DataFrame(model.coef_,X.columns,columns=['Coefficient']).reset_index()\n",
    "coeff_parameter"
   ]
  },
  {
   "cell_type": "markdown",
   "id": "dbca9f37",
   "metadata": {},
   "source": [
    "#### Model Evaluation"
   ]
  },
  {
   "cell_type": "code",
   "execution_count": 160,
   "id": "e6b8add8",
   "metadata": {},
   "outputs": [
    {
     "data": {
      "text/plain": [
       "array([13.38020748, 12.14286374, 12.21494141, 12.21806353, 12.84176341,\n",
       "       11.94113321, 11.64001615, 12.09914495, 11.18309687, 12.45463102,\n",
       "       11.72644194, 11.78453915, 11.36438363, 11.11624749, 13.01469018,\n",
       "       11.89346968, 12.30762837, 12.83672858, 14.11909292, 12.38155583,\n",
       "       11.2825615 , 11.07971312, 12.14736609, 11.97280798, 12.26770814,\n",
       "       10.90712566, 12.39741788, 12.50390162, 12.54640467, 13.57609475,\n",
       "       12.19346474, 12.30700757, 11.92167711, 10.777103  , 12.99787241,\n",
       "       11.25513176, 12.43969451, 12.11531573, 10.37766726, 13.40869928,\n",
       "       13.0013592 , 10.74042147, 11.49497392, 12.10566212, 11.77977394,\n",
       "       12.19944632, 12.03167249, 12.41779207, 12.91132864, 12.71237434,\n",
       "       11.77183654, 13.8240536 , 11.20351209, 12.58424281, 12.96635044,\n",
       "       10.95874534, 11.1985875 , 11.52351308, 12.56367391, 13.52102373,\n",
       "       12.56135265, 11.395811  , 12.60192637, 12.30040353, 11.6679595 ,\n",
       "       13.37568631, 13.23789846, 13.24368931, 11.12033049, 12.56551018,\n",
       "       14.24766511, 12.55078918, 12.17154154, 11.36075489, 13.35877972,\n",
       "       11.96434592, 12.89715617, 13.17446519, 13.10487241, 10.27266867,\n",
       "       12.32894269, 11.85097967, 11.56441   , 11.52351308, 11.06972551,\n",
       "       11.60585309, 11.15891407, 12.0089417 , 11.26979323, 13.10283829,\n",
       "       11.27760677, 14.29033168, 11.72644194, 12.3747515 , 12.46462758,\n",
       "       11.70151693, 10.94236026, 12.75504092, 11.47037514, 11.80684153,\n",
       "       12.16537639, 12.41668597, 12.8679314 , 13.2120183 , 11.76611537,\n",
       "       11.30946666, 12.619051  , 12.39375133, 12.31507787, 11.73994737,\n",
       "       13.27511742, 11.0924807 , 12.16248456, 11.38315949, 10.36728372,\n",
       "       12.35594187, 12.19944632, 11.18156955, 14.21671559, 11.39401671,\n",
       "       11.95399379, 12.75723757, 12.78396214, 11.91865821, 10.53591298,\n",
       "       11.66487261, 10.72104371, 12.10566212, 13.73987273, 12.00513098,\n",
       "       13.93565819, 11.94895897, 13.15334007, 12.30138213, 12.44242964,\n",
       "       13.24474146, 10.25571895, 12.22466756, 12.82164982, 12.19094371,\n",
       "       12.28817576, 11.30858289, 13.40688913, 12.08590115, 12.33694465,\n",
       "       10.53591298, 11.45404023, 12.75438858, 12.58679477, 11.23552528,\n",
       "       13.0375436 , 12.2989996 , 11.46190453, 11.32680466, 12.24239905,\n",
       "       12.32113381, 11.09763029, 12.7594234 , 12.71557957, 11.28713123,\n",
       "       12.83672858, 13.49337268, 13.90145789, 11.12462661, 12.16537639,\n",
       "       11.39769741, 12.08303638, 11.94113321, 12.4286207 , 12.48210307,\n",
       "       12.7594234 , 11.32027335, 12.06822297, 11.01219646, 12.06822297,\n",
       "       13.2161013 , 11.50281244, 10.98122035, 12.50289483, 12.16470409,\n",
       "       14.29033168, 13.05735676, 11.11239208, 13.93872317, 13.23857631,\n",
       "       11.30035243, 12.02641697, 10.22130478, 11.00443306, 11.91073851,\n",
       "       11.87713955, 12.15738628, 11.28368754, 10.15515023, 12.30040353,\n",
       "       10.96427063, 11.22392895, 12.01618207, 12.33386981, 14.34411134,\n",
       "       14.09121525, 12.5260042 , 12.43814494, 11.88200592, 11.30858289,\n",
       "       12.90950734, 12.66430623, 11.62319109, 13.48315974, 11.67642155,\n",
       "       12.21545134, 12.45048747, 12.7594234 , 13.28740804, 12.32280339,\n",
       "       12.2421129 , 12.56136663, 12.58926852, 13.79482883, 10.35944552,\n",
       "       11.98666691, 12.92074534, 11.06356035, 11.3520097 , 11.22712666,\n",
       "       13.20868376, 13.14904396, 13.29762292, 12.56607185, 12.81247205,\n",
       "       13.63456655, 12.08303638, 13.4258239 , 12.16537639, 12.22466756,\n",
       "       13.52368739, 11.72644194, 11.47408852, 12.13028066, 12.1826402 ,\n",
       "       11.3855141 , 12.67326179, 10.33373492, 11.27738007, 13.23060159,\n",
       "       12.0734967 , 12.07264915, 12.99787241, 12.1140125 , 13.18489848,\n",
       "       12.09993431, 12.26409643, 12.36507262, 11.88537   , 11.97520315,\n",
       "       14.05154182, 13.37768645, 12.7594234 , 11.99223922, 11.15582942,\n",
       "       11.36409747, 12.43969451, 13.10283829, 13.58452775, 12.08024336,\n",
       "       13.52368739, 11.96842668, 11.82565109, 13.00393715, 12.41919314,\n",
       "       12.18800212, 13.39736329, 13.9099285 , 12.18703952, 12.0089417 ,\n",
       "       14.39955919, 12.28178633, 11.11239208, 12.16070508, 11.46190453,\n",
       "       12.08303638, 11.64001615, 11.88344114, 12.4112827 , 12.44049228,\n",
       "       13.83671144, 11.03704654, 12.1483287 , 12.89750497, 12.70436819,\n",
       "       10.92985646, 12.21091008, 12.08276439, 11.86811302, 12.09207536,\n",
       "       10.92985646, 13.26880756, 11.69289831, 11.116156  , 12.3473018 ,\n",
       "       13.97914413, 13.31193864, 14.21646229, 11.36611193, 12.00401711,\n",
       "       13.6625469 , 13.89605659, 12.05647837, 12.90950734, 12.08280968,\n",
       "       11.68377536, 12.7594234 , 12.61752023, 11.0411937 , 12.46516181,\n",
       "       14.33000511, 13.8014205 , 11.79489528, 13.40688913, 13.59489312,\n",
       "       12.0190739 , 12.31546032, 10.40769581, 13.17446519, 11.88200592,\n",
       "       11.22624288, 11.81857663, 12.93514762, 13.25680519, 11.04661064,\n",
       "       12.84176341, 11.73994737, 12.54537698, 11.38315949, 12.14290138,\n",
       "       12.18175643, 13.03256202, 12.22466756, 11.94113321, 13.56525389,\n",
       "       11.65091194, 14.33052458, 10.5676265 , 11.38615739, 11.78664996,\n",
       "       13.2985067 , 13.11633617, 13.48485318, 12.70634625, 11.58515244,\n",
       "       13.85143751, 11.11624749, 12.32459484, 12.29706934, 12.28146038,\n",
       "       11.73216311, 11.86971382, 11.50157796, 12.56462644, 12.70819692,\n",
       "       11.21497585, 11.06356035, 12.81791102, 11.07348942, 13.39152736,\n",
       "       12.70634625, 11.93384207, 13.03256202, 12.15498916, 12.02523905,\n",
       "       10.22130478, 12.11134297, 12.62961003, 11.78802615, 11.90456923,\n",
       "       12.00046968, 12.64501009, 11.35994678, 13.05735676, 13.23857631,\n",
       "       12.4570915 , 13.32708147, 11.53024212, 11.06436847, 13.17446519,\n",
       "       12.55150895, 13.30609353, 12.755253  , 11.41671692, 12.21806353,\n",
       "       12.0992476 , 12.0089417 , 11.57465027, 11.49163972, 12.35905201,\n",
       "       13.29126345, 13.52638565, 12.57281198, 14.55174324, 12.39128823,\n",
       "       11.50281244, 14.13055667, 12.81056059, 12.48438855, 12.01618207,\n",
       "       13.71248882, 11.22576345, 11.02388692, 12.9190192 , 11.00396601,\n",
       "       13.26233615, 12.07504627, 12.84798586, 12.14232316, 12.20437752,\n",
       "       11.30081948, 12.15055361, 12.06250179, 11.08678845, 11.26961666,\n",
       "       12.23289362, 12.13223427, 12.02040546, 14.09693643, 11.9599466 ,\n",
       "       12.11531573, 13.26178901, 13.09360537, 13.43419393, 12.1826402 ,\n",
       "       13.18809619, 12.97682046, 10.19857398, 12.53518023, 13.27573997,\n",
       "       12.67479256, 13.22056601, 11.22712666, 12.33386981, 12.09256084,\n",
       "       12.28178633, 12.41170215, 12.49832792, 11.40095601, 12.08303638,\n",
       "       11.32680466, 12.60111854, 11.62319109, 11.34006944, 12.58631741,\n",
       "       12.08276439, 11.36409747, 12.13439313, 11.26961666, 11.4883121 ,\n",
       "       11.22712666, 11.58351766, 12.60760341, 11.73216311, 11.27471494,\n",
       "       12.38548316, 12.10566212, 11.98996494, 13.598396  , 12.74974349,\n",
       "       12.07433907, 10.27266867, 12.19174474, 11.12033049, 13.98181984,\n",
       "       11.88537   , 11.88537   , 11.9145752 , 11.60585309, 13.1332788 ,\n",
       "       11.9145752 , 12.12882319, 11.68377536, 13.53836173, 13.75630967,\n",
       "       12.59776856, 10.46000727, 11.76989832, 11.99843556, 11.25139492,\n",
       "       12.2607301 , 11.26998085, 13.06543914, 11.73994737, 11.80831309,\n",
       "       12.39359945, 13.63464503, 13.14777914, 12.19944632, 11.60585309,\n",
       "       13.49358099, 11.92167711, 11.99382035, 12.56225294, 13.24855941,\n",
       "       13.39281094, 12.78321313, 11.60585309, 12.27328372, 12.62752783,\n",
       "       10.15515023, 12.45137558, 10.79491311, 12.36903558, 12.09172656,\n",
       "       13.2985067 , 12.07504627, 10.19482366, 11.77602189, 13.31531282,\n",
       "       13.03431854, 11.39401671, 12.30747021, 12.55971897, 11.98016178,\n",
       "       11.64001615, 11.88537   , 13.08855958, 12.07202513, 14.61894856,\n",
       "       11.08677306, 12.02634033, 10.41177882, 12.23289362, 13.26178901,\n",
       "       11.70581304, 13.0758131 , 10.98122035, 12.00046968, 13.19890288,\n",
       "       11.55589666, 12.97949617, 12.41489704, 11.65760737, 11.68377536,\n",
       "       11.00443306, 12.4868267 , 12.87365258, 13.23222555, 13.93565819,\n",
       "       11.06066852, 11.06972551, 11.8508031 , 12.37044084, 12.12570296,\n",
       "       12.48012502, 11.56240678, 12.66430623, 11.30691224, 13.45689414,\n",
       "       11.97094771, 12.3747515 , 12.23980336, 12.61248541, 12.9652489 ,\n",
       "       11.06972551, 12.20926057, 12.68684856, 12.1140125 , 11.15206551,\n",
       "       12.44471512, 11.80986267, 12.51132784, 11.46849739, 12.03129897,\n",
       "       11.89220267, 13.08855958, 12.29042266, 12.72822058, 12.68684856,\n",
       "       12.0908347 , 12.4112827 , 11.78453915, 13.79482883, 13.03256202,\n",
       "       12.82522736, 12.59776856, 11.0679972 , 10.40769581, 11.29371534,\n",
       "       11.73994737, 11.34299706, 11.60585309, 11.82713151, 13.76976238,\n",
       "       12.03648693, 12.00936711, 13.29786748, 12.05183357, 12.89750497,\n",
       "       10.53591298, 13.16492647, 12.20437752, 11.21429969, 14.20143292,\n",
       "       13.48448262, 12.81247205, 12.39375133, 12.07504627, 11.35195667,\n",
       "       12.15498916, 12.66667282, 11.01219646, 11.86979808, 12.82653625,\n",
       "       13.25014473, 11.06356035, 12.15738628, 13.3224288 , 12.45463102,\n",
       "       10.38907861, 12.86630215, 12.31832744, 11.32680466, 10.27266867,\n",
       "       12.90950734, 14.26917685, 10.97252303, 11.11239208, 10.53591298,\n",
       "       13.03754584, 12.20437752, 13.45941517, 11.82769958, 13.89605659,\n",
       "       11.44897315, 12.0190739 , 13.77407304, 11.21429969, 11.96771001,\n",
       "       10.9588537 , 11.47635672, 13.68632083, 12.4112827 , 11.79568893,\n",
       "       12.04989427, 12.18703952, 11.04709963, 12.44049228, 13.07110327,\n",
       "       11.53131315, 12.92126481, 12.93567533, 12.22530678, 11.84186544,\n",
       "       12.07264915, 13.11376985, 12.14559644, 12.49959492, 12.87278701,\n",
       "       11.88816132, 11.86898996, 12.22880966, 12.10624909, 11.97094771,\n",
       "       12.23361029, 11.28713123, 12.0190739 , 13.56525389, 11.82565109,\n",
       "       12.04989427, 12.3936512 , 10.47301787, 11.35994678, 10.51857498,\n",
       "       13.03437217, 14.26917685, 11.12462661, 11.88976932, 12.15498916,\n",
       "       13.86451249, 12.12570296, 11.98996494, 12.10469952, 12.37652657,\n",
       "       12.4112827 , 12.67489757, 12.04989427, 12.30700757, 12.61752023,\n",
       "       12.02854954, 12.72822058, 13.32454912, 12.28178633, 12.00513098,\n",
       "       13.50507018, 13.29534645, 12.89082599, 13.46539675, 13.23857631,\n",
       "       11.04108534, 11.98928473, 11.9205449 , 11.33318081, 12.10624909,\n",
       "       13.79482883, 12.30700757, 12.45048747, 11.4637711 , 13.32454912,\n",
       "       12.89715617, 12.10337664, 12.67291299, 11.68377536, 11.50157796,\n",
       "       10.91791327, 11.92803658, 12.04989427, 12.56136663, 12.11531573,\n",
       "       11.78664996, 11.36281389, 11.97773888, 12.17535949, 11.12462661,\n",
       "       13.28027132, 11.58515244, 11.78385694, 11.87574191, 12.52724015,\n",
       "       12.7743622 , 12.83184658, 12.15998837, 12.84848304, 12.22880966,\n",
       "       11.28585209, 11.94113321, 12.38007988, 11.84243195, 12.67291299,\n",
       "       12.97625982, 11.15206551, 11.38315949, 13.36362258, 10.41177882,\n",
       "       11.36438363, 11.22576345, 11.84243195, 12.67176315, 12.08303638,\n",
       "       11.39769741, 12.55078918, 11.88745539, 13.55222655, 11.70151693,\n",
       "       11.80831309, 12.85984988, 10.93943611, 12.09170385, 12.13548384,\n",
       "       12.10469952, 12.3473018 , 12.40995982, 12.24356727, 13.97767243,\n",
       "       10.93943611, 12.61248541, 11.15206551, 11.07239652, 12.06250179,\n",
       "       12.5670694 , 11.44062944, 13.045893  , 12.62400624, 13.0475889 ,\n",
       "       11.35195667, 12.49247105, 13.6216241 , 11.32027335, 11.98016178,\n",
       "       11.57065211, 13.89111093, 11.76115673, 13.37568631, 12.63358836,\n",
       "       11.30081948, 13.38827779, 11.81857663, 12.66886247, 11.17997029,\n",
       "       11.94407696, 11.06972551, 12.41779207, 11.40548047, 11.80742932,\n",
       "       13.35498625, 11.59856324, 11.31808832, 11.08677306, 11.71255528,\n",
       "       13.53880166, 13.11415481, 11.30691224, 13.8275885 , 11.15206551,\n",
       "       13.26423875, 12.02854954, 10.19482366, 13.14326237, 13.11633617,\n",
       "       12.59776856, 12.75438858, 12.03129897, 11.79568893, 12.47089733,\n",
       "       12.07504627, 12.31626844, 11.86609814, 12.53817421, 11.49905692,\n",
       "       12.04046672, 13.37360345, 11.9145752 , 11.77977394, 13.09308193,\n",
       "       13.72898741, 11.70219915, 12.25058351, 12.50397741, 13.20868376,\n",
       "       12.56462644, 13.52462792,  9.7587532 , 13.03196204, 10.7423155 ,\n",
       "       11.96125904, 11.82759039, 12.8643164 , 12.03633379, 14.007246  ,\n",
       "       11.85252924, 11.07239652, 13.25732466, 12.46516181, 12.24264478,\n",
       "       12.19029933, 12.81516496, 11.97094771, 12.85783154, 13.32989714,\n",
       "       11.09763029, 13.45941517, 12.42017276, 12.96666959, 11.60585309,\n",
       "       12.23361029, 13.42273018, 12.50138059, 12.85984988, 12.80645187,\n",
       "       12.00973535, 13.49061799, 14.02606018, 11.60585309, 12.71237434,\n",
       "       12.78321313])"
      ]
     },
     "execution_count": 160,
     "metadata": {},
     "output_type": "execute_result"
    }
   ],
   "source": [
    "predictions = model.predict(X_test)\n",
    "predictions"
   ]
  },
  {
   "cell_type": "code",
   "execution_count": 161,
   "id": "e08bf609",
   "metadata": {},
   "outputs": [
    {
     "name": "stderr",
     "output_type": "stream",
     "text": [
      "C:\\Users\\Ramya\\anaconda3\\lib\\site-packages\\seaborn\\_decorators.py:36: FutureWarning: Pass the following variables as keyword args: x, y. From version 0.12, the only valid positional argument will be `data`, and passing other arguments without an explicit keyword will result in an error or misinterpretation.\n",
      "  warnings.warn(\n"
     ]
    },
    {
     "data": {
      "text/plain": [
       "<AxesSubplot:xlabel='salary_gross_eur'>"
      ]
     },
     "execution_count": 161,
     "metadata": {},
     "output_type": "execute_result"
    },
    {
     "data": {
      "image/png": "[encoded data removed]",
      "text/plain": [
       "<Figure size 640x480 with 1 Axes>"
      ]
     },
     "metadata": {},
     "output_type": "display_data"
    }
   ],
   "source": [
    "sns.regplot(y_test,predictions)"
   ]
  },
  {
   "cell_type": "code",
   "execution_count": 162,
   "id": "2d7ee9f2",
   "metadata": {
    "scrolled": false
   },
   "outputs": [
    {
     "name": "stdout",
     "output_type": "stream",
     "text": [
      "                            OLS Regression Results                            \n",
      "==============================================================================\n",
      "Dep. Variable:       salary_gross_eur   R-squared:                       0.669\n",
      "Model:                            OLS   Adj. R-squared:                  0.660\n",
      "Method:                 Least Squares   F-statistic:                     74.48\n",
      "Date:                Mon, 26 Dec 2022   Prob (F-statistic):          5.51e-273\n",
      "Time:                        15:39:19   Log-Likelihood:                -1220.2\n",
      "No. Observations:                1290   AIC:                             2510.\n",
      "Df Residuals:                    1255   BIC:                             2691.\n",
      "Df Model:                          34                                         \n",
      "Covariance Type:            nonrobust                                         \n",
      "=========================================================================================\n",
      "                            coef    std err          t      P>|t|      [0.025      0.975]\n",
      "-----------------------------------------------------------------------------------------\n",
      "const                    11.6513      0.156     74.858      0.000      11.346      11.957\n",
      "club_code_ATW            -0.2865      0.105     -2.735      0.006      -0.492      -0.081\n",
      "club_code_BEE            -1.5053      0.147    -10.271      0.000      -1.793      -1.218\n",
      "club_code_BEV            -0.8914      0.172     -5.195      0.000      -1.228      -0.555\n",
      "club_code_BRU             0.0728      0.118      0.615      0.539      -0.159       0.305\n",
      "club_code_CER            -1.1012      0.106    -10.347      0.000      -1.310      -0.892\n",
      "club_code_CHL            -0.9894      0.106     -9.330      0.000      -1.197      -0.781\n",
      "club_code_EUP            -0.8785      0.108     -8.167      0.000      -1.090      -0.668\n",
      "club_code_EXM            -1.1840      0.151     -7.822      0.000      -1.481      -0.887\n",
      "club_code_GEK            -0.3103      0.105     -2.955      0.003      -0.516      -0.104\n",
      "club_code_GNT            -0.4951      0.101     -4.882      0.000      -0.694      -0.296\n",
      "club_code_KOR            -0.9828      0.110     -8.968      0.000      -1.198      -0.768\n",
      "club_code_LEU            -1.1758      0.114    -10.303      0.000      -1.400      -0.952\n",
      "club_code_MEC            -0.8612      0.106     -8.097      0.000      -1.070      -0.653\n",
      "club_code_OOS            -0.9853      0.104     -9.457      0.000      -1.190      -0.781\n",
      "club_code_SER            -1.8487      0.174    -10.653      0.000      -2.189      -1.508\n",
      "club_code_SIT            -1.1244      0.107    -10.488      0.000      -1.335      -0.914\n",
      "club_code_STL            -0.4219      0.104     -4.065      0.000      -0.625      -0.218\n",
      "club_code_USG            -1.0927      0.159     -6.883      0.000      -1.404      -0.781\n",
      "club_code_WES            -1.0840      0.181     -5.986      0.000      -1.439      -0.729\n",
      "club_code_ZUW            -1.0080      0.105     -9.627      0.000      -1.213      -0.803\n",
      "player_group_code_F       0.0823      0.044      1.890      0.059      -0.003       0.168\n",
      "player_group_code_K      -0.7086      0.063    -11.287      0.000      -0.832      -0.585\n",
      "player_group_code_M       0.0427      0.051      0.834      0.404      -0.058       0.143\n",
      "high_earner_1             1.0732      0.045     23.943      0.000       0.985       1.161\n",
      "Age_18-21                 0.7195      0.138      5.198      0.000       0.448       0.991\n",
      "Age_21-23                 1.3007      0.143      9.120      0.000       1.021       1.580\n",
      "Age_23-27                 1.5249      0.140     10.859      0.000       1.249       1.800\n",
      "Age_27-32                 1.6750      0.144     11.615      0.000       1.392       1.958\n",
      "Age_32+                   1.8848      0.156     12.115      0.000       1.580       2.190\n",
      "region_belgium           -0.2652      0.052     -5.128      0.000      -0.367      -0.164\n",
      "region_non_EU             0.0312      0.052      0.598      0.550      -0.071       0.134\n",
      "club_level_relegation    -0.1445      0.113     -1.281      0.200      -0.366       0.077\n",
      "club_level_top 2         -0.1058      0.104     -1.018      0.309      -0.310       0.098\n",
      "club_level_top 5         -0.1616      0.069     -2.331      0.020      -0.298      -0.026\n",
      "==============================================================================\n",
      "Omnibus:                        9.531   Durbin-Watson:                   1.961\n",
      "Prob(Omnibus):                  0.009   Jarque-Bera (JB):               10.977\n",
      "Skew:                          -0.131   Prob(JB):                      0.00413\n",
      "Kurtosis:                       3.368   Cond. No.                         28.7\n",
      "==============================================================================\n",
      "\n",
      "Notes:\n",
      "[1] Standard Errors assume that the covariance matrix of the errors is correctly specified.\n"
     ]
    }
   ],
   "source": [
    "import statsmodels.api as sm\n",
    "X_train_Sm = sm.add_constant(X_train)\n",
    "ls = sm.OLS(y_train,X_train_Sm).fit()\n",
    "print(ls.summary())"
   ]
  },
  {
   "cell_type": "markdown",
   "id": "eecd21b7",
   "metadata": {},
   "source": [
    "#### Model Export"
   ]
  },
  {
   "cell_type": "code",
   "execution_count": 163,
   "id": "827b088b",
   "metadata": {},
   "outputs": [],
   "source": [
    "import pickle\n",
    "pickle.dump(model, open('model_be.pkl','wb')) "
   ]
  }
 ],
 "metadata": {
  "kernelspec": {
   "display_name": "Python 3 (ipykernel)",
   "language": "python",
   "name": "python3"
  },
  "language_info": {
   "codemirror_mode": {
    "name": "ipython",
    "version": 3
   },
   "file_extension": ".py",
   "mimetype": "text/x-python",
   "name": "python",
   "nbconvert_exporter": "python",
   "pygments_lexer": "ipython3",
   "version": "3.9.13"
  }
 },
 "nbformat": 4,
 "nbformat_minor": 5
}
