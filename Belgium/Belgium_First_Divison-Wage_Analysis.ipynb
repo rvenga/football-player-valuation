{
 "cells": [
  {
   "cell_type": "code",
   "execution_count": 51,
   "id": "05049abe",
   "metadata": {},
   "outputs": [],
   "source": [
    "import pandas as pd \n",
    "# default='warn', Used here to supress warning when slicing and creating high earners column\n",
    "pd.options.mode.chained_assignment = None \n"
   ]
  },
  {
   "cell_type": "code",
   "execution_count": 52,
   "id": "af453e92",
   "metadata": {},
   "outputs": [],
   "source": [
    "import requests\n",
    "import json\n",
    "import numpy as np\n",
    "import matplotlib.pyplot as plt\n",
    "import seaborn as sns\n",
    "import math\n",
    "import pickle"
   ]
  },
  {
   "cell_type": "code",
   "execution_count": 53,
   "id": "830aa856",
   "metadata": {},
   "outputs": [],
   "source": [
    "#Load machine learning model\n",
    "model = pickle.load(open('model_be.pkl', 'rb'))"
   ]
  },
  {
   "cell_type": "markdown",
   "id": "817d382b",
   "metadata": {},
   "source": [
    "#### Getting data from the API"
   ]
  },
  {
   "cell_type": "code",
   "execution_count": 54,
   "id": "1b54495c",
   "metadata": {},
   "outputs": [],
   "source": [
    "# API authorization\n",
    "headers = {'x-api-key':'d15f7132973d404d9d046934398ee9e3', 'accept': 'application/json', 'accept': 'text/csv'}\n",
    "\n",
    "# Choose endpoint\n",
    "endpoint = 'https://www.capology.com/api/v2/soccer/salaries/be/first-division-a/2019-2020/'\n",
    "\n",
    "# Retrieve json\n",
    "json1 = requests.get(endpoint, headers = headers).text\n",
    "\n",
    "#Data for 2019/2020\n",
    "df1 = pd.read_json(json1)\n",
    "\n",
    "\n",
    "df1 = df1[df1[\"season_term\"] == \"combined\"]"
   ]
  },
  {
   "cell_type": "code",
   "execution_count": 55,
   "id": "2eb90ecf",
   "metadata": {},
   "outputs": [],
   "source": [
    "# API authorization\n",
    "headers = {'x-api-key':'d15f7132973d404d9d046934398ee9e3', 'accept': 'application/json', 'accept': 'text/csv'}\n",
    "\n",
    "# Choose endpoint\n",
    "endpoint = 'https://www.capology.com/api/v2/soccer/salaries/be/first-division-a/2020-2021/'\n",
    "\n",
    "# Retrieve json\n",
    "json2 = requests.get(endpoint, headers=headers).text\n",
    "\n",
    "#Data for 2020/2021\n",
    "df2 = pd.read_json(json2)\n",
    "\n",
    "\n",
    "df2 = df2[df2[\"season_term\"] == \"combined\"]"
   ]
  },
  {
   "cell_type": "code",
   "execution_count": 56,
   "id": "93081734",
   "metadata": {},
   "outputs": [],
   "source": [
    "# API authorization\n",
    "headers = {'x-api-key':'d15f7132973d404d9d046934398ee9e3', 'accept': 'application/json', 'accept': 'text/csv'}\n",
    "\n",
    "# Choose endpoint\n",
    "endpoint = 'https://www.capology.com/api/v2/soccer/salaries/be/first-division-a/2021-2022/'\n",
    "\n",
    "# Retrieve json\n",
    "json3 = requests.get(endpoint, headers=headers).text\n",
    "\n",
    "#Data for 2021/2022\n",
    "df3 = pd.read_json(json3)\n",
    "\n",
    "\n",
    "df3 = df3[df3[\"season_term\"] == \"combined\"]"
   ]
  },
  {
   "cell_type": "code",
   "execution_count": 57,
   "id": "3bb3ae3a",
   "metadata": {},
   "outputs": [],
   "source": [
    "# API authorization\n",
    "headers = {'x-api-key':'d15f7132973d404d9d046934398ee9e3', 'accept': 'application/json', 'accept': 'text/csv'}\n",
    "\n",
    "# Choose endpoint\n",
    "endpoint = 'https://www.capology.com/api/v2/soccer/salaries/be/first-division-a/2022-2023/'\n",
    "\n",
    "# Retrieve json\n",
    "json4 = requests.get(endpoint, headers=headers).text\n",
    "\n",
    "#Data for 2022/2023\n",
    "df4 = pd.read_json(json4)\n",
    "\n",
    "#Capology has defined the seson as summer\n",
    "df4 = df4[df4[\"season_term\"] == \"summer\"]"
   ]
  },
  {
   "cell_type": "code",
   "execution_count": 58,
   "id": "5ad357a5",
   "metadata": {},
   "outputs": [],
   "source": [
    "df = pd.concat([df1,df2,df3,df4],axis = 0).drop_duplicates()"
   ]
  },
  {
   "cell_type": "markdown",
   "id": "0e4dfc95",
   "metadata": {},
   "source": [
    "#### Cleaning Data frame"
   ]
  },
  {
   "cell_type": "code",
   "execution_count": 59,
   "id": "9d20385d",
   "metadata": {},
   "outputs": [],
   "source": [
    "df = df[df['salary_gross_eur'] != 0]"
   ]
  },
  {
   "cell_type": "code",
   "execution_count": 60,
   "id": "3ff4a397",
   "metadata": {},
   "outputs": [],
   "source": [
    "CODE_DICT = pd.Series(df.club_code.values,index=df.club_name).to_dict()\n"
   ]
  },
  {
   "cell_type": "code",
   "execution_count": 61,
   "id": "afe79750",
   "metadata": {},
   "outputs": [],
   "source": [
    "#Required columns\n",
    "LIST = ['season_id','club_code','player_age','player_country_id','player_group_code','salary_gross_eur']"
   ]
  },
  {
   "cell_type": "code",
   "execution_count": 62,
   "id": "8b3ffe96",
   "metadata": {},
   "outputs": [],
   "source": [
    "global df_salary\n",
    "df_salary = df[LIST]\n",
    "df_salary = df_salary.reset_index(drop = True)"
   ]
  },
  {
   "cell_type": "code",
   "execution_count": 63,
   "id": "447a3bc3",
   "metadata": {
    "scrolled": true
   },
   "outputs": [
    {
     "data": {
      "text/html": [
       "<div>\n",
       "<style scoped>\n",
       "    .dataframe tbody tr th:only-of-type {\n",
       "        vertical-align: middle;\n",
       "    }\n",
       "\n",
       "    .dataframe tbody tr th {\n",
       "        vertical-align: top;\n",
       "    }\n",
       "\n",
       "    .dataframe thead th {\n",
       "        text-align: right;\n",
       "    }\n",
       "</style>\n",
       "<table border=\"1\" class=\"dataframe\">\n",
       "  <thead>\n",
       "    <tr style=\"text-align: right;\">\n",
       "      <th></th>\n",
       "      <th>season_id</th>\n",
       "      <th>club_code</th>\n",
       "      <th>player_age</th>\n",
       "      <th>player_country_id</th>\n",
       "      <th>player_group_code</th>\n",
       "      <th>salary_gross_eur</th>\n",
       "    </tr>\n",
       "  </thead>\n",
       "  <tbody>\n",
       "    <tr>\n",
       "      <th>0</th>\n",
       "      <td>2019-2020</td>\n",
       "      <td>AND</td>\n",
       "      <td>28</td>\n",
       "      <td>france</td>\n",
       "      <td>M</td>\n",
       "      <td>2000000</td>\n",
       "    </tr>\n",
       "    <tr>\n",
       "      <th>1</th>\n",
       "      <td>2019-2020</td>\n",
       "      <td>AND</td>\n",
       "      <td>20</td>\n",
       "      <td>belgium</td>\n",
       "      <td>M</td>\n",
       "      <td>130000</td>\n",
       "    </tr>\n",
       "    <tr>\n",
       "      <th>2</th>\n",
       "      <td>2019-2020</td>\n",
       "      <td>AND</td>\n",
       "      <td>26</td>\n",
       "      <td>honduras</td>\n",
       "      <td>D</td>\n",
       "      <td>1170000</td>\n",
       "    </tr>\n",
       "    <tr>\n",
       "      <th>3</th>\n",
       "      <td>2019-2020</td>\n",
       "      <td>AND</td>\n",
       "      <td>17</td>\n",
       "      <td>belgium</td>\n",
       "      <td>F</td>\n",
       "      <td>80000</td>\n",
       "    </tr>\n",
       "    <tr>\n",
       "      <th>4</th>\n",
       "      <td>2019-2020</td>\n",
       "      <td>AND</td>\n",
       "      <td>32</td>\n",
       "      <td>belgium</td>\n",
       "      <td>D</td>\n",
       "      <td>20000</td>\n",
       "    </tr>\n",
       "  </tbody>\n",
       "</table>\n",
       "</div>"
      ],
      "text/plain": [
       "   season_id club_code  player_age player_country_id player_group_code  \\\n",
       "0  2019-2020       AND          28            france                 M   \n",
       "1  2019-2020       AND          20           belgium                 M   \n",
       "2  2019-2020       AND          26          honduras                 D   \n",
       "3  2019-2020       AND          17           belgium                 F   \n",
       "4  2019-2020       AND          32           belgium                 D   \n",
       "\n",
       "   salary_gross_eur  \n",
       "0           2000000  \n",
       "1            130000  \n",
       "2           1170000  \n",
       "3             80000  \n",
       "4             20000  "
      ]
     },
     "execution_count": 63,
     "metadata": {},
     "output_type": "execute_result"
    }
   ],
   "source": [
    "df_salary.head()"
   ]
  },
  {
   "cell_type": "markdown",
   "id": "047fe62f",
   "metadata": {},
   "source": [
    "#### Finding High Earners"
   ]
  },
  {
   "cell_type": "code",
   "execution_count": 64,
   "id": "00e5c291",
   "metadata": {},
   "outputs": [],
   "source": [
    "# Group the data by 'club' and 'position'\n",
    "groups = df_salary.groupby(['season_id','club_code', 'player_group_code'])\n",
    "# Find the highest two values of column 'salary_gross_eur' for each group\n",
    "top_two = groups['salary_gross_eur'].nlargest(2).reset_index()\n",
    "\n",
    "# get needed indexes\n",
    "index = list(top_two['level_3'])\n",
    "\n",
    "# Add the result to the data frame as a new column\n",
    "df_salary['high_earner'] = 0\n",
    "for i in index:\n",
    "    df_salary.loc[i, 'high_earner'] = 1"
   ]
  },
  {
   "cell_type": "markdown",
   "id": "2f379323",
   "metadata": {},
   "source": [
    "#### Creating  needed features"
   ]
  },
  {
   "cell_type": "code",
   "execution_count": 81,
   "id": "333c952b",
   "metadata": {},
   "outputs": [],
   "source": [
    "# Final league standings\n",
    "standings_2019 = ['BRU','GNT','CHL','ATW','STL','MEC','GEK','AND','ZUW','EXM','KOR','SIT','EUP','CER','OOS','BEV']\n",
    "standings_2020 = ['BRU','ATW','AND','GEK','OOS','STL','GNT','MEC','BEE','ZUW','LEU','EUP','CHL','KOR','SIT','CER','BEV','EXM']\n",
    "standings_2021 = ['USG','BRU','AND','ATW','GNT','CHL','MEC','GEK','SIT','CER','LEU','OOS','KOR','STL','EUP','ZUW','SER','BEE']\n",
    "\n",
    "#Current league standings\n",
    "standings_2022 = ['GEK','USG','ATW','BRU','GNT','WES','STL','LEU','CER','SIT','AND','CHL','MEC','OOS','EUP','ZUW','KOR','SER']"
   ]
  },
  {
   "cell_type": "code",
   "execution_count": 66,
   "id": "4b45bf4d",
   "metadata": {},
   "outputs": [],
   "source": [
    "def set_club_type(row):\n",
    "    \n",
    "    \"\"\"\n",
    "    Function takes each row as argument and returns\n",
    "    top 2,top 5,mid-table, relagation based on the club \n",
    "    finishing position for the year\n",
    "    \n",
    "    \"\"\"\n",
    "\n",
    "    if (row['club_code'] in standings_2019[:2] and row['season_id']== '2019-2020') or (row['club_code'] in standings_2020[0:2] and row['season_id']=='2020-2021') or (row['club_code'] in standings_2021[0:2] and row['season_id']=='2021-2022') or (row['club_code'] in standings_2022[0:2] and row['season_id']=='2022-2023'):\n",
    "        return 'top 2'\n",
    "   \n",
    "    if (row['club_code'] in standings_2019[2:5] and row['season_id']== '2019-2020') or (row['club_code'] in standings_2020[2:5] and row['season_id']=='2020-2021') or (row['club_code'] in standings_2021[2:5] and row['season_id']=='2021-2022') or (row['club_code'] in standings_2022[2:5] and row['season_id']=='2022-2023'):\n",
    "        return 'top 5'\n",
    "    \n",
    "    if (row['club_code'] in standings_2019[5:15] and row['season_id']== '2019-2020') or (row['club_code'] in standings_2020[5:16] and row['season_id']=='2020-2021') or (row['club_code'] in standings_2021[5:16] and row['season_id']=='2021-2022') or (row['club_code'] in standings_2022[5:16] and row['season_id']=='2022-2023'):\n",
    "        return 'mid-table'\n",
    "    \n",
    "    else :\n",
    "        return 'relegation'\n"
   ]
  },
  {
   "cell_type": "code",
   "execution_count": 67,
   "id": "188338b6",
   "metadata": {},
   "outputs": [],
   "source": [
    "countries = df_salary.player_country_id.unique()\n",
    "\n",
    "#based on uk.gov website excluding Belgium\n",
    "EU_countries = ['Austria', 'Bulgaria', 'Croatia','Cyprus', 'Czech-Republic', \n",
    "              'Denmark', 'Estonia', 'Finland', 'France', 'Germany', 'Greece', 'Hungary', 'Ireland', 'Italy',\n",
    "              'Latvia', 'Lithuania', 'Luxembourg', 'Malta', 'Netherlands', 'Poland', 'Portugal', \n",
    "              'Romania', 'Slovakia', 'Slovenia', 'Spain','Sweden']\n",
    "\n",
    "EU_countries = [s.lower() for s in EU_countries]\n",
    "\n",
    "EU = []\n",
    "non_EU = []\n",
    "for country in countries:\n",
    "    if country in EU_countries:\n",
    "        EU.append(country) \n",
    "    elif country == 'belgium':\n",
    "        pass\n",
    "    else:\n",
    "        non_EU.append(country) \n"
   ]
  },
  {
   "cell_type": "code",
   "execution_count": 68,
   "id": "192d42d3",
   "metadata": {},
   "outputs": [],
   "source": [
    "def set_region(row):\n",
    "    \"\"\"\n",
    "    Function takes each row as argument and returns the region \n",
    "    based on the player_country_id.\n",
    "    \"\"\"\n",
    "    \n",
    "    if row['player_country_id'] in non_EU:\n",
    "        return 'non_EU'\n",
    "    \n",
    "    elif row['player_country_id'] in EU:\n",
    "        return 'EU'\n",
    "    \n",
    "    else:\n",
    "        return 'belgium'"
   ]
  },
  {
   "cell_type": "code",
   "execution_count": 91,
   "id": "9dd3c931",
   "metadata": {},
   "outputs": [],
   "source": [
    "global X\n",
    "\n",
    "X = df_salary[['club_code', 'player_age', 'player_country_id', 'player_group_code','season_id','high_earner']]\n",
    "\n",
    "X = X.assign(Age = pd.cut(X['player_age'], \n",
    "                               bins = [0, 17, 21,23, 27, 32,99], \n",
    "                               labels = ['U18', '18-21', '21-23','23-27','27-32','32+']))\n",
    "\n",
    "X = X.assign(region = X.apply(set_region, axis = 1)).astype('category')\n",
    "\n",
    "X = X.assign(club_level = X.apply(set_club_type,axis = 1)).astype('category')\n",
    "\n",
    "X = X.drop('player_country_id',axis=1)\n",
    "\n",
    "X = X.drop('player_age',axis=1)\n",
    "\n",
    "X = pd.get_dummies(data = X, drop_first = False)\n"
   ]
  },
  {
   "cell_type": "markdown",
   "id": "9347620e",
   "metadata": {},
   "source": [
    "#### Define functions for analysis"
   ]
  },
  {
   "cell_type": "code",
   "execution_count": 94,
   "id": "da868aa4",
   "metadata": {},
   "outputs": [],
   "source": [
    "def Difference_in_wage(season_year,club):\n",
    "    \"\"\"\n",
    "    Function takes in  the start year of the season\n",
    "    (2019 for 2019/2020) and the club as arguments and \n",
    "    returns the difference between the total wages of club\n",
    "    and the total expected wages by running  the model\n",
    "    \n",
    "    \"\"\"    \n",
    "    temp_df = X\n",
    "    \n",
    "    temp_df = temp_df[temp_df['club_code_'+club] == 1]\n",
    "    temp_df = temp_df[temp_df['season_id_' + str(season_year)+ '-' +str(season_year+1)] == 1]\n",
    "    temp_df = temp_df.drop(['season_id_2019-2020','season_id_2020-2021','season_id_2021-2022',\n",
    "                            'season_id_2022-2023','club_code_AND','Age_U18', 'club_level_mid-table',\n",
    "                            'region_EU','player_group_code_D','high_earner_0'],axis=1)\n",
    "    \n",
    "    expected_wage = model.predict(temp_df)\n",
    "    expected_wage = np.exp(expected_wage)\n",
    "    total_expected_wages = expected_wage.sum()\n",
    "    \n",
    "    temp_df2 = df_salary[(df_salary['season_id'] == str(season_year)+ '-' +str(season_year+1)) & \n",
    "                         (df_salary['club_code'] == club)]\n",
    "    \n",
    "    total_actual_wages = temp_df2.salary_gross_eur.sum()\n",
    "    \n",
    "    difference = total_actual_wages - total_expected_wages\n",
    "    \n",
    "    return difference"
   ]
  },
  {
   "cell_type": "markdown",
   "id": "f7550e9c",
   "metadata": {},
   "source": [
    "#### Season 2019-2020"
   ]
  },
  {
   "cell_type": "code",
   "execution_count": 95,
   "id": "32a331a7",
   "metadata": {},
   "outputs": [],
   "source": [
    "data = []\n",
    "for club in standings_2019:\n",
    "    data.append(Difference_in_wage(2019, club))\n",
    "\n",
    "season_2019_df = pd.DataFrame({\"club\": standings_2019, \"difference\": data})"
   ]
  },
  {
   "cell_type": "code",
   "execution_count": 96,
   "id": "889d551a",
   "metadata": {},
   "outputs": [
    {
     "data": {
      "text/plain": [
       "(array([ 0,  1,  2,  3,  4,  5,  6,  7,  8,  9, 10, 11, 12, 13, 14]),\n",
       " [Text(0, 0, 'BRU'),\n",
       "  Text(1, 0, 'GNT'),\n",
       "  Text(2, 0, 'CHL'),\n",
       "  Text(3, 0, 'ATW'),\n",
       "  Text(4, 0, 'STL'),\n",
       "  Text(5, 0, 'MEC'),\n",
       "  Text(6, 0, 'GEK'),\n",
       "  Text(7, 0, 'ZUW'),\n",
       "  Text(8, 0, 'EXM'),\n",
       "  Text(9, 0, 'KOR'),\n",
       "  Text(10, 0, 'SIT'),\n",
       "  Text(11, 0, 'EUP'),\n",
       "  Text(12, 0, 'CER'),\n",
       "  Text(13, 0, 'OOS'),\n",
       "  Text(14, 0, 'BEV')])"
      ]
     },
     "execution_count": 96,
     "metadata": {},
     "output_type": "execute_result"
    },
    {
     "data": {
      "image/png": "[encoded data removed]",
      "text/plain": [
       "<Figure size 1170x827 with 1 Axes>"
      ]
     },
     "metadata": {},
     "output_type": "display_data"
    }
   ],
   "source": [
    "sns.set(rc={'figure.figsize':(11.7,8.27)})\n",
    "sns.barplot(data=season_2019_df, x=\"club\", y=\"difference\", color=\"lightsteelblue\", ci=\"sd\")\n",
    "plt.xticks(rotation=45)"
   ]
  },
  {
   "cell_type": "markdown",
   "id": "b1645508",
   "metadata": {},
   "source": [
    "- Teams in the graph are in the order of their final season position\n",
    "- Top teams are overpaying their players significantly more than lower table teams\n",
    "- Standard Liege is over-paying the most with players being over paid by 7.43M in total\n",
    "- Mechelen was under-paying for its players and finished in the top 6 suggesting good recuritment stratergy\n"
   ]
  },
  {
   "cell_type": "code",
   "execution_count": 97,
   "id": "a533d77e",
   "metadata": {},
   "outputs": [
    {
     "data": {
      "text/plain": [
       "7430269.428580487"
      ]
     },
     "execution_count": 97,
     "metadata": {},
     "output_type": "execute_result"
    }
   ],
   "source": [
    "Difference_in_wage(2019, 'STL')"
   ]
  },
  {
   "cell_type": "markdown",
   "id": "5ba97041",
   "metadata": {},
   "source": [
    "#### Season 2020-2021 "
   ]
  },
  {
   "cell_type": "code",
   "execution_count": 98,
   "id": "b58003b6",
   "metadata": {},
   "outputs": [],
   "source": [
    "data = []\n",
    "for club in standings_2020:\n",
    "    data.append(Difference_in_wage(2020, club))\n",
    "\n",
    "season_2020_df = pd.DataFrame({\"club\": standings_2020, \"difference\": data})"
   ]
  },
  {
   "cell_type": "code",
   "execution_count": 99,
   "id": "236ed4c4",
   "metadata": {},
   "outputs": [
    {
     "data": {
      "text/plain": [
       "(array([ 0,  1,  2,  3,  4,  5,  6,  7,  8,  9, 10, 11, 12, 13, 14, 15, 16,\n",
       "        17]),\n",
       " [Text(0, 0, 'BRU'),\n",
       "  Text(1, 0, 'ATW'),\n",
       "  Text(2, 0, 'AND'),\n",
       "  Text(3, 0, 'GEK'),\n",
       "  Text(4, 0, 'OOS'),\n",
       "  Text(5, 0, 'STL'),\n",
       "  Text(6, 0, 'GNT'),\n",
       "  Text(7, 0, 'MEC'),\n",
       "  Text(8, 0, 'BEE'),\n",
       "  Text(9, 0, 'ZUW'),\n",
       "  Text(10, 0, 'LEU'),\n",
       "  Text(11, 0, 'EUP'),\n",
       "  Text(12, 0, 'CHL'),\n",
       "  Text(13, 0, 'KOR'),\n",
       "  Text(14, 0, 'SIT'),\n",
       "  Text(15, 0, 'CER'),\n",
       "  Text(16, 0, 'BEV'),\n",
       "  Text(17, 0, 'EXM')])"
      ]
     },
     "execution_count": 99,
     "metadata": {},
     "output_type": "execute_result"
    },
    {
     "data": {
      "image/png": "[encoded data removed]",
      "text/plain": [
       "<Figure size 1170x827 with 1 Axes>"
      ]
     },
     "metadata": {},
     "output_type": "display_data"
    }
   ],
   "source": [
    "sns.set(rc={'figure.figsize':(11.7,8.27)})\n",
    "sns.barplot(data=season_2020_df, x=\"club\", y=\"difference\", color=\"lightsteelblue\", ci=\"sd\")\n",
    "plt.xticks(rotation=45)"
   ]
  },
  {
   "cell_type": "code",
   "execution_count": 100,
   "id": "26ca3c75",
   "metadata": {},
   "outputs": [
    {
     "data": {
      "text/plain": [
       "8520000"
      ]
     },
     "execution_count": 100,
     "metadata": {},
     "output_type": "execute_result"
    }
   ],
   "source": [
    "df_salary[df_salary['season_id'] == '2019-2020'].salary_gross_eur.sum()-df_salary[df_salary['season_id'] == '2020-2021'].salary_gross_eur.sum()"
   ]
  },
  {
   "cell_type": "code",
   "execution_count": 101,
   "id": "bd72274c",
   "metadata": {},
   "outputs": [
    {
     "data": {
      "text/plain": [
       "2116433.9566517025"
      ]
     },
     "execution_count": 101,
     "metadata": {},
     "output_type": "execute_result"
    }
   ],
   "source": [
    "Difference_in_wage(2020, 'STL')"
   ]
  },
  {
   "cell_type": "markdown",
   "id": "38e82755",
   "metadata": {},
   "source": [
    "- First season with 18 teams: newly promoted OH Leuven is under paying its players and Beerschot is very slightly overpaying     its players\n",
    "- Beveren, the team that was supposed to relegated is still masively underpaying its players and has finished in a relegation     spot again\n",
    "- COVID affecting club finances and we can notice clubs cutting down on their wage budgets by 8.52M across the league.(Despite   addition of 2 new teams)\n",
    "- Simlar trends to previous season:Top teams are overpaying. Anderlecht is overpaying their players the most\n",
    "- Standard Liege was the fourth most over-paying team (and the mot overpaying team outside the top 4)  with players being over paid by 2.12M in total"
   ]
  },
  {
   "cell_type": "markdown",
   "id": "7da4b76c",
   "metadata": {},
   "source": [
    "#### Season 2021-2022 "
   ]
  },
  {
   "cell_type": "code",
   "execution_count": 102,
   "id": "e8490c9b",
   "metadata": {},
   "outputs": [],
   "source": [
    "data = []\n",
    "for club in standings_2021:\n",
    "    data.append(Difference_in_wage(2021, club))\n",
    "\n",
    "season_2021_df = pd.DataFrame({\"club\": standings_2021, \"difference\": data})"
   ]
  },
  {
   "cell_type": "code",
   "execution_count": 103,
   "id": "9534253e",
   "metadata": {},
   "outputs": [
    {
     "data": {
      "text/plain": [
       "(array([ 0,  1,  2,  3,  4,  5,  6,  7,  8,  9, 10, 11, 12, 13, 14, 15, 16,\n",
       "        17]),\n",
       " [Text(0, 0, 'USG'),\n",
       "  Text(1, 0, 'BRU'),\n",
       "  Text(2, 0, 'AND'),\n",
       "  Text(3, 0, 'ATW'),\n",
       "  Text(4, 0, 'GNT'),\n",
       "  Text(5, 0, 'CHL'),\n",
       "  Text(6, 0, 'MEC'),\n",
       "  Text(7, 0, 'GEK'),\n",
       "  Text(8, 0, 'SIT'),\n",
       "  Text(9, 0, 'CER'),\n",
       "  Text(10, 0, 'LEU'),\n",
       "  Text(11, 0, 'OOS'),\n",
       "  Text(12, 0, 'KOR'),\n",
       "  Text(13, 0, 'STL'),\n",
       "  Text(14, 0, 'EUP'),\n",
       "  Text(15, 0, 'ZUW'),\n",
       "  Text(16, 0, 'SER'),\n",
       "  Text(17, 0, 'BEE')])"
      ]
     },
     "execution_count": 103,
     "metadata": {},
     "output_type": "execute_result"
    },
    {
     "data": {
      "image/png": "[encoded data removed]",
      "text/plain": [
       "<Figure size 1170x827 with 1 Axes>"
      ]
     },
     "metadata": {},
     "output_type": "display_data"
    }
   ],
   "source": [
    "sns.set(rc={'figure.figsize':(11.7,8.27)})\n",
    "sns.barplot(data=season_2021_df, x=\"club\", y=\"difference\", color=\"lightsteelblue\", ci=\"sd\")\n",
    "plt.xticks(rotation=45)"
   ]
  },
  {
   "cell_type": "code",
   "execution_count": 107,
   "id": "7b89453b",
   "metadata": {},
   "outputs": [
    {
     "data": {
      "text/plain": [
       "-979888.7384953126"
      ]
     },
     "execution_count": 107,
     "metadata": {},
     "output_type": "execute_result"
    }
   ],
   "source": [
    "Difference_in_wage(2021, 'STL')"
   ]
  },
  {
   "cell_type": "markdown",
   "id": "09e320a5",
   "metadata": {},
   "source": [
    "- The season in which Standard Liege was accquaired by 777 Partners\n",
    "- Seraing and Union SG were newely promoted : Belgian giants Union SG returned to the top flight after 48 years and went on to   win the league\n",
    "- Beerschot were promoted last season and was in the relegation play off last season. They overpaid thier players' the most yet still ended up getting relegated\n",
    "- Possible change in recruitment stratergy for Standard Liege as they underpaid their player the most by 0.98M, suggesting good negotiation of player wages."
   ]
  },
  {
   "cell_type": "markdown",
   "id": "351d9e07",
   "metadata": {},
   "source": [
    "#### Season 2022-2023 "
   ]
  },
  {
   "cell_type": "code",
   "execution_count": 104,
   "id": "208b8424",
   "metadata": {},
   "outputs": [],
   "source": [
    "data = []\n",
    "for club in standings_2022:\n",
    "    data.append(Difference_in_wage(2022, club))\n",
    "\n",
    "season_2022_df = pd.DataFrame({\"club\": standings_2022, \"difference\": data})"
   ]
  },
  {
   "cell_type": "code",
   "execution_count": 105,
   "id": "9a8e0f9f",
   "metadata": {},
   "outputs": [
    {
     "data": {
      "text/plain": [
       "(array([ 0,  1,  2,  3,  4,  5,  6,  7,  8,  9, 10, 11, 12, 13, 14, 15, 16,\n",
       "        17]),\n",
       " [Text(0, 0, 'GEK'),\n",
       "  Text(1, 0, 'USG'),\n",
       "  Text(2, 0, 'ATW'),\n",
       "  Text(3, 0, 'BRU'),\n",
       "  Text(4, 0, 'GNT'),\n",
       "  Text(5, 0, 'WES'),\n",
       "  Text(6, 0, 'STL'),\n",
       "  Text(7, 0, 'LEU'),\n",
       "  Text(8, 0, 'CER'),\n",
       "  Text(9, 0, 'SIT'),\n",
       "  Text(10, 0, 'AND'),\n",
       "  Text(11, 0, 'CHL'),\n",
       "  Text(12, 0, 'MEC'),\n",
       "  Text(13, 0, 'OOS'),\n",
       "  Text(14, 0, 'EUP'),\n",
       "  Text(15, 0, 'ZUW'),\n",
       "  Text(16, 0, 'KOR'),\n",
       "  Text(17, 0, 'SER')])"
      ]
     },
     "execution_count": 105,
     "metadata": {},
     "output_type": "execute_result"
    },
    {
     "data": {
      "image/png": "[encoded data removed]",
      "text/plain": [
       "<Figure size 1170x827 with 1 Axes>"
      ]
     },
     "metadata": {},
     "output_type": "display_data"
    }
   ],
   "source": [
    "sns.set(rc={'figure.figsize':(11.7,8.27)})\n",
    "sns.barplot(data=season_2022_df, x=\"club\", y=\"difference\", color=\"lightsteelblue\", ci=\"sd\")\n",
    "plt.xticks(rotation=45)"
   ]
  },
  {
   "cell_type": "code",
   "execution_count": 106,
   "id": "cfb81569",
   "metadata": {},
   "outputs": [
    {
     "data": {
      "text/plain": [
       "-158169.61001949757"
      ]
     },
     "execution_count": 106,
     "metadata": {},
     "output_type": "execute_result"
    }
   ],
   "source": [
    "Difference_in_wage(2022, 'STL')"
   ]
  },
  {
   "cell_type": "markdown",
   "id": "21757288",
   "metadata": {},
   "source": [
    "- Westerlo was newly promoted and currently they are sitting comfortably in mid-table\n",
    "- Anderlecht overpaid their players the most by over 8M\n",
    "- Can notice a consitant recruitment startegy from Standard Liege as it is again  slightly underpaying its players by 158K\n",
    "- Lower table teams seems to be underpaying their players\n"
   ]
  }
 ],
 "metadata": {
  "kernelspec": {
   "display_name": "Python 3 (ipykernel)",
   "language": "python",
   "name": "python3"
  },
  "language_info": {
   "codemirror_mode": {
    "name": "ipython",
    "version": 3
   },
   "file_extension": ".py",
   "mimetype": "text/x-python",
   "name": "python",
   "nbconvert_exporter": "python",
   "pygments_lexer": "ipython3",
   "version": "3.9.13"
  }
 },
 "nbformat": 4,
 "nbformat_minor": 5
}
