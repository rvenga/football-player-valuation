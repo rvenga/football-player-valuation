{
 "cells": [
  {
   "cell_type": "code",
   "execution_count": 1,
   "id": "a211e66f",
   "metadata": {},
   "outputs": [],
   "source": [
    "import numpy as np\n",
    "import pandas as pd\n",
    "import pickle\n",
    "import streamlit as st\n",
    "import math\n",
    "import sklearn\n",
    "from sklearn.linear_model import LinearRegression"
   ]
  },
  {
   "cell_type": "code",
   "execution_count": null,
   "id": "a590bfb9",
   "metadata": {},
   "outputs": [],
   "source": [
    "#custom function from Web_scrapper_League_Tables notebook \n",
    "from ipynb.fs.full.Web_scrapper_League_Tables import League_table_scraper"
   ]
  },
  {
   "cell_type": "code",
   "execution_count": null,
   "id": "501e1502",
   "metadata": {},
   "outputs": [],
   "source": [
    "#custom Belgium_Division_A_Similar_player \n",
    "from Belgium_Division_A_Similar_players import similar_player, calculate_similarities ,Total_wage_bill"
   ]
  },
  {
   "cell_type": "code",
   "execution_count": null,
   "id": "ac46e83b",
   "metadata": {},
   "outputs": [],
   "source": [
    "st.set_page_config(layout=\"wide\")"
   ]
  },
  {
   "cell_type": "code",
   "execution_count": 2,
   "id": "a805c698",
   "metadata": {},
   "outputs": [],
   "source": [
    "# Load machine learning model\n",
    "model = pickle.load(open('model_be.pkl', 'rb'))"
   ]
  },
  {
   "cell_type": "markdown",
   "id": "e2233279",
   "metadata": {},
   "source": [
    "####  Functions for Preproccessing"
   ]
  },
  {
   "cell_type": "code",
   "execution_count": 3,
   "id": "41994824",
   "metadata": {},
   "outputs": [],
   "source": [
    "def Age(age):\n",
    "    \"\"\"\n",
    "    Function takes age as an argument and returns \n",
    "    the age range\n",
    "    \n",
    "    \"\"\"\n",
    "    age= int(float(age))\n",
    "    \n",
    "    if age <= 18:\n",
    "        return 'U18'\n",
    "    if age in range(18, 22):\n",
    "        return '18-21'\n",
    "    if age in range(22, 24):\n",
    "        return '21-23'\n",
    "    if age in range(24, 28):\n",
    "        return '23-27'\n",
    "    if age in range(28, 33):\n",
    "        return '27-32'\n",
    "    return '32+'"
   ]
  },
  {
   "cell_type": "code",
   "execution_count": 4,
   "id": "1a4322cd",
   "metadata": {},
   "outputs": [],
   "source": [
    "countries = ['france', 'belgium', 'honduras', 'serbia', 'netherlands',\n",
    "           'democratic-republic-of-the-congo', 'jamaica', 'united-states',\n",
    "           'croatia', 'panama', 'austria', 'costa-rica', 'germany',\n",
    "           'montenegro', 'albania', 'rwanda', 'ghana', 'poland',\n",
    "           'cote-d-ivoire', 'senegal', 'finland', 'japan', 'mali', 'bulgaria',\n",
    "           'greece', 'bosnia-herzegovina', 'congo', 'algeria', 'wales',\n",
    "           'kenya', 'england', 'south-africa', 'hungary', 'tunisia', 'brazil',\n",
    "           'canada', 'iran', 'togo', 'north-macedonia', 'sweden',\n",
    "           'madagascar', 'angola', 'nigeria', 'colombia', 'ukraine',\n",
    "           'uruguay', 'czech-republic', 'guinea-bissau', 'argentina', 'spain',\n",
    "           'zimbabwe', 'portugal', 'benin', 'cameroon', 'italy', 'australia',\n",
    "           'denmark', 'norway', 'slovakia', 'georgia', 'the-gambia',\n",
    "           'comoros', 'scotland', 'burkina-faso', 'trinidad-and-tobago',\n",
    "           'iceland', 'zambia', 'turkey', 'guinea', 'venezuela', 'israel',\n",
    "           'haiti', 'sierra-leone', 'south-korea', 'romania', 'cyprus',\n",
    "           'morocco', 'kosovo', 'switzerland', 'mexico', 'burundi', 'ireland',\n",
    "           'kazakhstan', 'luxembourg', 'curacao', 'peru', 'Canada',\n",
    "           'cape-verde', 'ecuador', 'malaysia', 'slovenia', 'jordan',\n",
    "           'northern-ireland', 'new-zealand', 'bolivia', 'lithuania',\n",
    "           'armenia', 'thailand', 'tanzania', 'chad', 'malta', 'mauritania',\n",
    "           'grenada', 'chile', 'guadeloupe', 'russia', 'estonia']"
   ]
  },
  {
   "cell_type": "code",
   "execution_count": 5,
   "id": "2618638d",
   "metadata": {},
   "outputs": [],
   "source": [
    "\n",
    "#based on uk.gov website excluding Belgium\n",
    "EU_countries=['Austria', 'Bulgaria', 'Croatia','Cyprus', 'Czech-Republic', \n",
    "              'Denmark', 'Estonia', 'Finland', 'France', 'Germany', 'Greece', 'Hungary', 'Ireland', 'Italy',\n",
    "              'Latvia', 'Lithuania', 'Luxembourg', 'Malta', 'Netherlands', 'Poland', 'Portugal', \n",
    "              'Romania', 'Slovakia', 'Slovenia', 'Spain','Sweden']\n",
    "\n",
    "EU_countries=[s.lower() for s in EU_countries]"
   ]
  },
  {
   "cell_type": "code",
   "execution_count": 6,
   "id": "9b0e4218",
   "metadata": {},
   "outputs": [],
   "source": [
    "EU=[]\n",
    "non_EU=[]\n",
    "for country in countries:\n",
    "    if country in EU_countries:\n",
    "        EU.append(country) \n",
    "    elif country == 'belgium':\n",
    "        pass\n",
    "    else:\n",
    "        non_EU.append(country) "
   ]
  },
  {
   "cell_type": "code",
   "execution_count": 7,
   "id": "ddfff520",
   "metadata": {},
   "outputs": [],
   "source": [
    "def Region(country):\n",
    "    \n",
    "    \"\"\"\n",
    "    Function takes country as an argument and returns \n",
    "    the region of the country\n",
    "    \n",
    "    \"\"\"\n",
    "    \n",
    "    if country in non_EU:\n",
    "        return 'non_EU'\n",
    "    \n",
    "    elif country in EU:\n",
    "        return 'EU'\n",
    "    \n",
    "    else:\n",
    "        return 'belgium'"
   ]
  },
  {
   "cell_type": "code",
   "execution_count": 8,
   "id": "4c158cd4",
   "metadata": {},
   "outputs": [],
   "source": [
    "def Position(position):\n",
    "    \"\"\"\n",
    "    Function takes position as an argument and returns \n",
    "    the code of the position\n",
    "    \n",
    "    \"\"\"\n",
    "    if position == 'Defender':\n",
    "        return 'D'\n",
    "    \n",
    "    if position == 'Midfielder':\n",
    "        return 'M'\n",
    "    \n",
    "    if position == 'Foward':\n",
    "        return 'F'\n",
    "    \n",
    "    if position == 'Keeper':\n",
    "        return 'K'\n",
    "    \n",
    "    else:\n",
    "        return 'not in data'"
   ]
  },
  {
   "cell_type": "code",
   "execution_count": null,
   "id": "022236b0",
   "metadata": {},
   "outputs": [],
   "source": [
    "CODE_DICT = {'Anderlecht': 'AND',\n",
    " 'Beveren': 'BEV',\n",
    " 'Cercle Brugges': 'CER',\n",
    " 'Charleroi': 'CHL',\n",
    " 'Club Brugges': 'BRU',\n",
    " 'Eupen': 'EUP',\n",
    " 'Excel Mouscron': 'EXM',\n",
    " 'Genk': 'GEK',\n",
    " 'Gent': 'GNT',\n",
    " 'Kortrijk': 'KOR',\n",
    " 'Mechelen': 'MEC',\n",
    " 'Oostende': 'OOS',\n",
    " 'Royal Antwerp': 'ATW',\n",
    " 'Sint-Truidense': 'SIT',\n",
    " 'Standard Liege': 'STL',\n",
    " 'Zulte Waregem': 'ZUW',\n",
    " 'Beerschot VA': 'BEE',\n",
    " 'Leuven': 'LEU',\n",
    " 'Seraing': 'SER',\n",
    " 'Union SG': 'USG',\n",
    " 'Westerlo': 'WES',\n",
    " 'Club Brugge': 'BRU',\n",
    " 'Antwerp': 'ATW',\n",
    " 'Standard Liège': 'STL',\n",
    " 'Sint-Truiden': 'SIT',\n",
    " 'Cercle Brugge': 'CER',\n",
    " 'Waasland-Beveren': 'BEV',\n",
    " 'Beerschot': 'BEE',\n",
    " 'OH Leuven': 'LEU'}"
   ]
  },
  {
   "cell_type": "code",
   "execution_count": null,
   "id": "2bf0528e",
   "metadata": {},
   "outputs": [],
   "source": [
    "# Final league standings 2019/2020\n",
    "standings_2019 = League_table_scraper('https://en.wikipedia.org/wiki/2019%E2%80%9320_Belgian_First_Division_A',4)\n",
    "standings_2019 = list(map(lambda x: CODE_DICT[x], standings_2019.club))\n",
    "\n",
    "# Final league standings 2020/2021\n",
    "standings_2020= League_table_scraper('https://en.wikipedia.org/wiki/2020%E2%80%9321_Belgian_First_Division_A',5)\n",
    "standings_2020 = list(map(lambda x: CODE_DICT[x], standings_2020.club))\n",
    "\n",
    "# Final league standings 2021/2022\n",
    "standings_2021 = League_table_scraper('https://en.wikipedia.org/wiki/2021%E2%80%9322_Belgian_First_Division_A',5)\n",
    "standings_2021 = list(map(lambda x: CODE_DICT[x], standings_2021.club))\n",
    "\n",
    "# Current league standings 2022/2023\n",
    "standings_2022 = League_table_scraper('https://en.wikipedia.org/wiki/2022%E2%80%9323_Belgian_Pro_League',5)\n",
    "standings_2022 = list(map(lambda x: CODE_DICT[x], standings_2022.club))"
   ]
  },
  {
   "cell_type": "code",
   "execution_count": 10,
   "id": "fdd7b970",
   "metadata": {},
   "outputs": [],
   "source": [
    "def Club_type(club):\n",
    "    \n",
    "    \"\"\"\n",
    "    Function takes club as argument and returns\n",
    "    top 2,top 6 ,mid-table, relagation based on the club \n",
    "    finishing position for 2022. If club  was not in \n",
    "    the league in 2022 returns default value midtable\n",
    "    \n",
    "    \"\"\"\n",
    "\n",
    "    if club in standings_2022[0:2] :\n",
    "        return 'top 2'\n",
    "   \n",
    "    if club in standings_2022[2:5] :\n",
    "        return 'top 6'\n",
    "    \n",
    "    if club in standings_2022[5:16] :\n",
    "        return 'mid-table'\n",
    "    \n",
    "    else :\n",
    "        return 'mid-table'\n",
    "    \n",
    " "
   ]
  },
  {
   "cell_type": "code",
   "execution_count": 13,
   "id": "e54bdeff",
   "metadata": {},
   "outputs": [],
   "source": [
    "def Starter(starter):\n",
    "    \n",
    "     if starter =='Yes' :\n",
    "        return '1'\n",
    "     else:\n",
    "        return '0'"
   ]
  },
  {
   "cell_type": "markdown",
   "id": "14f2fdd1",
   "metadata": {},
   "source": [
    "#### Preproccessing function"
   ]
  },
  {
   "cell_type": "code",
   "execution_count": 14,
   "id": "4a7e603a",
   "metadata": {},
   "outputs": [],
   "source": [
    "def Pre_processing(team,position,country,age,starter):\n",
    "    \"\"\"\n",
    "    takes user inputs as arguments and converts data \n",
    "    from long to wide format.Returns a data frame ready to\n",
    "    used in prediction\n",
    "    \n",
    "    \"\"\"\n",
    "    global df\n",
    "    \n",
    "    df = pd.read_csv(r\"C:\\Users\\Ramya\\X_test_be.csv\")\n",
    "    \n",
    "    df = df.iloc[:,1:] #clean dataframe\n",
    "    df = df.iloc[0:0]  #drop all data\n",
    "    df = df.append(pd.Series(0, index=df.columns), ignore_index=True)  # add a row of zero\n",
    "    \n",
    "    \n",
    "    # First catogeries are removed form the catgorical variables when creating dummies\n",
    "    if team == 'AND':\n",
    "         pass    \n",
    "    else:\n",
    "        df['club_code_' + str(team)] = 1\n",
    "\n",
    "    if position == 'Defender':\n",
    "        pass\n",
    "    else:\n",
    "        df['player_group_code_' + str(Position(position))] = 1\n",
    "\n",
    "    if Age(age) == 'U18' :\n",
    "        pass\n",
    "    else:\n",
    "        df['Age_'+ str(Age(age))] = 1\n",
    "\n",
    "    if Region(country) == 'EU':\n",
    "        pass\n",
    "    else:\n",
    "        df['region_'+str(Region(country))] = 1\n",
    "\n",
    "    if Club_type(team) == 'mid-table':\n",
    "        pass\n",
    "    else:\n",
    "        df['club_level_'+ str(Club_type(team))] = 1\n",
    "\n",
    "    if Starter(starter) == '0':\n",
    "        pass\n",
    "    else:\n",
    "        df['high_earner_'+Starter(starter)] = 1\n",
    "\n",
    "    return df"
   ]
  },
  {
   "cell_type": "markdown",
   "id": "25cc0fc9",
   "metadata": {},
   "source": [
    "#### Function for model prediction"
   ]
  },
  {
   "cell_type": "code",
   "execution_count": 15,
   "id": "4750043d",
   "metadata": {},
   "outputs": [],
   "source": [
    "def Predict(team,position,country,age,starter):\n",
    "    \"\"\"\n",
    "    Takes input from user , runs pre_processing function\n",
    "    to prepare the data, runs the model and returns\n",
    "    the model prediction\n",
    "    \n",
    "    \"\"\"\n",
    "    \n",
    "    # Preprocess the user input\n",
    "    input_data = Pre_processing(team,position,country,age,starter)\n",
    "    \n",
    "    # Make a prediction using the model\n",
    "    prediction = math.exp(model.predict(input_data))\n",
    "    \n",
    "    return prediction"
   ]
  },
  {
   "cell_type": "markdown",
   "id": "e1f73e27",
   "metadata": {},
   "source": [
    "#### List Valid inputs"
   ]
  },
  {
   "cell_type": "code",
   "execution_count": null,
   "id": "71086705",
   "metadata": {},
   "outputs": [],
   "source": [
    "CLUBS = ('AND','ATW','BEE','BEV','BRU','CER','CHL','EUP','EXM','GEK','GNT',\n",
    "         'KOR','LEU','MEC','OOS','SER','SIT','STL','USG','WES','ZUW')\n",
    "\n",
    "POSITIONS = ('Defender','Midfielder','Foward','Keeper')\n",
    "\n",
    "COUNTRIES = ('france', 'belgium', 'honduras', 'serbia', 'netherlands',\n",
    "           'democratic-republic-of-the-congo', 'jamaica', 'united-states',\n",
    "           'croatia', 'panama', 'austria', 'costa-rica', 'germany',\n",
    "           'montenegro', 'albania', 'rwanda', 'ghana', 'poland',\n",
    "           'cote-d-ivoire', 'senegal', 'finland', 'japan', 'mali', 'bulgaria',\n",
    "           'greece', 'bosnia-herzegovina', 'congo', 'algeria', 'wales',\n",
    "           'kenya', 'england', 'south-africa', 'hungary', 'tunisia', 'brazil',\n",
    "           'canada', 'iran', 'togo', 'north-macedonia', 'sweden',\n",
    "           'madagascar', 'angola', 'nigeria', 'colombia', 'ukraine',\n",
    "           'uruguay', 'czech-republic', 'guinea-bissau', 'argentina', 'spain',\n",
    "           'zimbabwe', 'portugal', 'benin', 'cameroon', 'italy', 'australia',\n",
    "           'denmark', 'norway', 'slovakia', 'georgia', 'the-gambia',\n",
    "           'comoros', 'scotland', 'burkina-faso', 'trinidad-and-tobago',\n",
    "           'iceland', 'zambia', 'turkey', 'guinea', 'venezuela', 'israel',\n",
    "           'haiti', 'sierra-leone', 'south-korea', 'romania', 'cyprus',\n",
    "           'morocco', 'kosovo', 'switzerland', 'mexico', 'burundi', 'ireland',\n",
    "           'kazakhstan', 'luxembourg', 'curacao', 'peru', 'Canada',\n",
    "           'cape-verde', 'ecuador', 'malaysia', 'slovenia', 'jordan',\n",
    "           'northern-ireland', 'new-zealand', 'bolivia', 'lithuania',\n",
    "           'armenia', 'thailand', 'tanzania', 'chad', 'malta', 'mauritania',\n",
    "           'grenada', 'chile', 'guadeloupe', 'russia', 'estonia')"
   ]
  },
  {
   "cell_type": "markdown",
   "id": "62b04491",
   "metadata": {},
   "source": [
    "#### Streamlit App"
   ]
  },
  {
   "cell_type": "code",
   "execution_count": 17,
   "id": "9898bc62",
   "metadata": {},
   "outputs": [
    {
     "name": "stderr",
     "output_type": "stream",
     "text": [
      "2022-12-22 16:37:56.611 \n",
      "  \u001b[33m\u001b[1mWarning:\u001b[0m to view this Streamlit app on a browser, run it with the following\n",
      "  command:\n",
      "\n",
      "    streamlit run C:\\Users\\Ramya\\anaconda3\\lib\\site-packages\\ipykernel_launcher.py [ARGUMENTS]\n"
     ]
    },
    {
     "ename": "ValueError",
     "evalue": "invalid literal for int() with base 10: ''",
     "output_type": "error",
     "traceback": [
      "\u001b[1;31m---------------------------------------------------------------------------\u001b[0m",
      "\u001b[1;31mValueError\u001b[0m                                Traceback (most recent call last)",
      "\u001b[1;32m~\\AppData\\Local\\Temp\\ipykernel_6008\\3521031108.py\u001b[0m in \u001b[0;36m<module>\u001b[1;34m\u001b[0m\n\u001b[0;32m     11\u001b[0m \u001b[0mcountry\u001b[0m\u001b[1;33m=\u001b[0m \u001b[0mst\u001b[0m\u001b[1;33m.\u001b[0m\u001b[0mselectbox\u001b[0m\u001b[1;33m(\u001b[0m\u001b[1;34m'Enter player country?'\u001b[0m\u001b[1;33m,\u001b[0m\u001b[1;33m(\u001b[0m\u001b[0mCOUNTRIES\u001b[0m\u001b[1;33m)\u001b[0m\u001b[1;33m)\u001b[0m\u001b[1;33m\u001b[0m\u001b[1;33m\u001b[0m\u001b[0m\n\u001b[0;32m     12\u001b[0m \u001b[1;33m\u001b[0m\u001b[0m\n\u001b[1;32m---> 13\u001b[1;33m \u001b[0mage\u001b[0m \u001b[1;33m=\u001b[0m \u001b[0mint\u001b[0m\u001b[1;33m(\u001b[0m\u001b[0mst\u001b[0m\u001b[1;33m.\u001b[0m\u001b[0mtext_input\u001b[0m\u001b[1;33m(\u001b[0m\u001b[1;34m'Enter age :'\u001b[0m\u001b[1;33m)\u001b[0m\u001b[1;33m)\u001b[0m\u001b[1;33m\u001b[0m\u001b[1;33m\u001b[0m\u001b[0m\n\u001b[0m\u001b[0;32m     14\u001b[0m \u001b[1;33m\u001b[0m\u001b[0m\n\u001b[0;32m     15\u001b[0m \u001b[0mstarter\u001b[0m \u001b[1;33m=\u001b[0m \u001b[0mst\u001b[0m\u001b[1;33m.\u001b[0m\u001b[0mselectbox\u001b[0m\u001b[1;33m(\u001b[0m\u001b[1;34m'Is player starter?'\u001b[0m\u001b[1;33m,\u001b[0m\u001b[1;33m(\u001b[0m\u001b[1;33m(\u001b[0m\u001b[1;34m'Yes'\u001b[0m\u001b[1;33m,\u001b[0m\u001b[1;34m'No'\u001b[0m\u001b[1;33m)\u001b[0m\u001b[1;33m)\u001b[0m\u001b[1;33m)\u001b[0m\u001b[1;33m\u001b[0m\u001b[1;33m\u001b[0m\u001b[0m\n",
      "\u001b[1;31mValueError\u001b[0m: invalid literal for int() with base 10: ''"
     ]
    }
   ],
   "source": [
    "# Create a Streamlit app\n",
    "\n",
    "\n",
    "st.title('Wage Estimate')\n",
    "\n",
    "# Get user input using Streamlit widgets\n",
    "team = st.selectbox('Enter player team?',(CLUBS))\n",
    "\n",
    "position = st.selectbox('Enter player position?',(POSITIONS))\n",
    "\n",
    "country = st.selectbox('Enter player country?',(COUNTRIES))\n",
    "\n",
    "age = st.number_input('Enter age :',step=1)\n",
    "\n",
    "age = int(age)\n",
    "\n",
    "starter = st.selectbox('Is player starter?',(('Yes','No')))\n"
   ]
  },
  {
   "cell_type": "code",
   "execution_count": null,
   "id": "97bfe117",
   "metadata": {},
   "outputs": [],
   "source": [
    "# Call the function with the user input as arguments and display the result\n",
    "result = round(Predict(team,position,country,age,starter))\n",
    "\n",
    "table = similar_player([team,Position(position),country,age,Starter(starter)])\n",
    "\n",
    "st.write('Wage Estimate:', f'{result:,}')\n",
    "\n",
    "st.write('Wage as a Precentage of ' + str(team) + '`s total wage bill:',str(round(result*100/Total_wage_bill(team),2)) + '%')\n",
    "\n",
    "st.write(table)\n",
    "\n"
   ]
  }
 ],
 "metadata": {
  "kernelspec": {
   "display_name": "Python 3 (ipykernel)",
   "language": "python",
   "name": "python3"
  },
  "language_info": {
   "codemirror_mode": {
    "name": "ipython",
    "version": 3
   },
   "file_extension": ".py",
   "mimetype": "text/x-python",
   "name": "python",
   "nbconvert_exporter": "python",
   "pygments_lexer": "ipython3",
   "version": "3.9.13"
  }
 },
 "nbformat": 4,
 "nbformat_minor": 5
}
