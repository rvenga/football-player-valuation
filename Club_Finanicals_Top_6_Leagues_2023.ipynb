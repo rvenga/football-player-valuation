{
 "cells": [
  {
   "cell_type": "code",
   "execution_count": 2,
   "id": "668ea293",
   "metadata": {},
   "outputs": [],
   "source": [
    "import pandas as pd \n",
    "# default='warn', Used here to supress warning when slicing and creating high earners column\n",
    "pd.options.mode.chained_assignment = None "
   ]
  },
  {
   "cell_type": "code",
   "execution_count": 3,
   "id": "1ccad030",
   "metadata": {},
   "outputs": [],
   "source": [
    "import requests\n",
    "import json\n",
    "import numpy as np\n",
    "import matplotlib.pyplot as plt\n",
    "import seaborn as sns\n",
    "import math\n",
    "import datetime as dt"
   ]
  },
  {
   "cell_type": "markdown",
   "id": "f215ed1a",
   "metadata": {},
   "source": [
    "#### Get data from the API"
   ]
  },
  {
   "cell_type": "code",
   "execution_count": null,
   "id": "9a6c64cd",
   "metadata": {},
   "outputs": [],
   "source": [
    "API_key='d15f7132973d404d9d046934398ee9e3'"
   ]
  },
  {
   "cell_type": "code",
   "execution_count": 8,
   "id": "591895f1",
   "metadata": {},
   "outputs": [],
   "source": [
    "# Premier League\n",
    "\n",
    "# API authorization\n",
    "headers = {'x-api-key':'d15f7132973d404d9d046934398ee9e3', 'accept': 'application/json', 'accept': 'text/csv'}\n",
    "\n",
    "# Choose endpoint\n",
    "endpoint = 'https://www.capology.com/api/v2/soccer/recaps/uk/premier-league/2022-2023/'\n",
    "\n",
    "# Retrieve json\n",
    "json1 = requests.get(endpoint, headers=headers).text\n",
    "\n",
    "#Data for 2022-23\n",
    "df1 = pd.read_json(json1)\n",
    "\n",
    "# #Capology has defined the seson as winter,combined\n",
    "df1 = df1[df1[\"season_term\"] == \"overall\"].reset_index(drop = True)"
   ]
  },
  {
   "cell_type": "code",
   "execution_count": 10,
   "id": "d22c706e",
   "metadata": {},
   "outputs": [],
   "source": [
    "# La Liga\n",
    "\n",
    "# API authorization\n",
    "headers = {'x-api-key':'d15f7132973d404d9d046934398ee9e3', 'accept': 'application/json', 'accept': 'text/csv'}\n",
    "\n",
    "# Choose endpoint\n",
    "endpoint = 'https://www.capology.com/api/v2/soccer/recaps/es/la-liga/2022-2023/'\n",
    "\n",
    "# Retrieve json\n",
    "json2 = requests.get(endpoint, headers=headers).text\n",
    "\n",
    "#Data for 2022-23\n",
    "df2 = pd.read_json(json2)\n",
    "\n",
    "# #Capology has defined the seson as winter,combined\n",
    "df2 = df2[df2[\"season_term\"] == \"overall\"].reset_index(drop = True)"
   ]
  },
  {
   "cell_type": "code",
   "execution_count": 15,
   "id": "95829a03",
   "metadata": {},
   "outputs": [],
   "source": [
    "# Serie A\n",
    "\n",
    "# API authorization\n",
    "headers = {'x-api-key':'d15f7132973d404d9d046934398ee9e3', 'accept': 'application/json', 'accept': 'text/csv'}\n",
    "\n",
    "# Choose endpoint\n",
    "endpoint = 'https://www.capology.com/api/v2/soccer/recaps/it/serie-a/2022-2023/'\n",
    "\n",
    "# Retrieve json\n",
    "json3 = requests.get(endpoint, headers=headers).text\n",
    "\n",
    "#Data for 2022-23\n",
    "df3 = pd.read_json(json3)\n",
    "\n",
    "# #Capology has defined the seson as winter,combined\n",
    "df3 = df3[df3[\"season_term\"] == \"overall\"].reset_index(drop = True)"
   ]
  },
  {
   "cell_type": "code",
   "execution_count": 14,
   "id": "2de2c521",
   "metadata": {},
   "outputs": [],
   "source": [
    "# Premeria Liga Nos\n",
    "\n",
    "# API authorization\n",
    "headers = {'x-api-key':'d15f7132973d404d9d046934398ee9e3', 'accept': 'application/json', 'accept': 'text/csv'}\n",
    "\n",
    "# Choose endpoint\n",
    "endpoint = 'https://www.capology.com/api/v2/soccer/recaps/pt/primeira-liga/2022-2023/'\n",
    "\n",
    "# Retrieve json\n",
    "json4 = requests.get(endpoint, headers=headers).text\n",
    "\n",
    "#Data for 2022-23\n",
    "df4 = pd.read_json(json4)\n",
    "\n",
    "# #Capology has defined the seson as winter,combined\n",
    "df4 = df4[df4[\"season_term\"] == \"overall\"].reset_index(drop = True)"
   ]
  },
  {
   "cell_type": "code",
   "execution_count": 12,
   "id": "d0949e1e",
   "metadata": {},
   "outputs": [],
   "source": [
    "# Bundesliga\n",
    "\n",
    "# API authorization\n",
    "headers = {'x-api-key':'d15f7132973d404d9d046934398ee9e3', 'accept': 'application/json', 'accept': 'text/csv'}\n",
    "\n",
    "# Choose endpoint\n",
    "endpoint = 'https://www.capology.com/api/v2/soccer/recaps/de/1-bundesliga/2022-2023/'\n",
    "\n",
    "# Retrieve json\n",
    "json5 = requests.get(endpoint, headers=headers).text\n",
    "\n",
    "#Data for 2022-23\n",
    "df5 = pd.read_json(json5)\n",
    "\n",
    "# #Capology has defined the seson as winter,combined\n",
    "df5 = df5[df5[\"season_term\"] == \"overall\"].reset_index(drop = True)"
   ]
  },
  {
   "cell_type": "code",
   "execution_count": 13,
   "id": "9d0794a8",
   "metadata": {},
   "outputs": [],
   "source": [
    "# Ligue 1 \n",
    "\n",
    "# API authorization\n",
    "headers = {'x-api-key':'d15f7132973d404d9d046934398ee9e3', 'accept': 'application/json', 'accept': 'text/csv'}\n",
    "\n",
    "# Choose endpoint\n",
    "endpoint = 'https://www.capology.com/api/v2/soccer/recaps/fr/ligue-1/2022-2023/'\n",
    "\n",
    "# Retrieve json\n",
    "json6 = requests.get(endpoint, headers=headers).text\n",
    "\n",
    "#Data for 2022-23\n",
    "df6 = pd.read_json(json6)\n",
    "\n",
    "# #Capology has defined the seson as winter,combined\n",
    "df6 = df6[df6[\"season_term\"] == \"overall\"].reset_index(drop = True)"
   ]
  },
  {
   "cell_type": "code",
   "execution_count": 17,
   "id": "33163718",
   "metadata": {},
   "outputs": [],
   "source": [
    "df = pd.concat([df1,df3,df2,df4,df5,df6],axis=0).drop_duplicates()"
   ]
  },
  {
   "cell_type": "markdown",
   "id": "6ad84d43",
   "metadata": {},
   "source": [
    "#### Cleaning dataframe"
   ]
  },
  {
   "cell_type": "code",
   "execution_count": 25,
   "id": "dfe86e6b",
   "metadata": {},
   "outputs": [],
   "source": [
    "LIST = ['club_name','club_code','balance_usd']"
   ]
  },
  {
   "cell_type": "code",
   "execution_count": 26,
   "id": "d510a4fa",
   "metadata": {},
   "outputs": [],
   "source": [
    "df_balance = df[LIST]"
   ]
  },
  {
   "cell_type": "markdown",
   "id": "ca604574",
   "metadata": {},
   "source": [
    "#### Defining the mapping function"
   ]
  },
  {
   "cell_type": "code",
   "execution_count": 58,
   "id": "08aff9f0",
   "metadata": {},
   "outputs": [],
   "source": [
    "def balance_map(row):\n",
    "    \"\"\"\n",
    "    function takes in each row as argument and\n",
    "    return 1 if the club of the row has a negative\n",
    "    transfer balance, 0 if it has a non-negative \n",
    "    balance and returns -1 if the clubs \n",
    "    doesn't exist in our data base\n",
    "    \n",
    "    \"\"\"\n",
    "    club = row['club_code']\n",
    "    club_balance = df_balance[df_balance['club_code'] == club]\n",
    "        \n",
    "    if  (club_balance['balance_usd'] < 0).any():\n",
    "        return 1\n",
    "    if  (club_balance['balance_usd'] >= 0).all():\n",
    "        return 0\n",
    "    else:\n",
    "        return -1"
   ]
  }
 ],
 "metadata": {
  "kernelspec": {
   "display_name": "Python 3 (ipykernel)",
   "language": "python",
   "name": "python3"
  },
  "language_info": {
   "codemirror_mode": {
    "name": "ipython",
    "version": 3
   },
   "file_extension": ".py",
   "mimetype": "text/x-python",
   "name": "python",
   "nbconvert_exporter": "python",
   "pygments_lexer": "ipython3",
   "version": "3.9.13"
  }
 },
 "nbformat": 4,
 "nbformat_minor": 5
}
