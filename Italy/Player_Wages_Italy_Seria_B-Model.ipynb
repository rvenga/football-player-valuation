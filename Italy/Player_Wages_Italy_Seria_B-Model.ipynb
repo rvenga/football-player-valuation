{
 "cells": [
  {
   "cell_type": "code",
   "execution_count": 3,
   "id": "05049abe",
   "metadata": {},
   "outputs": [],
   "source": [
    "import pandas as pd \n",
    "# default='warn', Used here to supress warning when slicing and creating high earners column\n",
    "pd.options.mode.chained_assignment = None \n"
   ]
  },
  {
   "cell_type": "code",
   "execution_count": 4,
   "id": "af453e92",
   "metadata": {},
   "outputs": [],
   "source": [
    "import requests\n",
    "import json\n",
    "import numpy as np\n",
    "import matplotlib.pyplot as plt\n",
    "import seaborn as sns\n",
    "import math"
   ]
  },
  {
   "cell_type": "code",
   "execution_count": 5,
   "id": "eab72a11",
   "metadata": {},
   "outputs": [],
   "source": [
    "# custom function from Web_scrapper_League_Tables notebook \n",
    "from ipynb.fs.full.Web_scrapper_League_Tables import League_table_scraper\n"
   ]
  },
  {
   "cell_type": "markdown",
   "id": "817d382b",
   "metadata": {},
   "source": [
    "#### Getting data from the API"
   ]
  },
  {
   "cell_type": "code",
   "execution_count": 6,
   "id": "4d1fcb3c",
   "metadata": {},
   "outputs": [],
   "source": [
    "# API authorization\n",
    "headers = {'x-api-key':'d15f7132973d404d9d046934398ee9e3', 'accept': 'application/json', 'accept': 'text/csv'}\n",
    "\n",
    "# Choose endpoint\n",
    "endpoint = 'https://www.capology.com/api/v2/soccer/salaries/it/serie-b/2019-2020/'\n",
    "\n",
    "# Retrieve json\n",
    "json = requests.get(endpoint, headers=headers).text\n",
    "\n",
    "#Data for 2019/2020\n",
    "df1 = pd.read_json(json)\n",
    "\n",
    "df1 = df1[df1[\"season_term\"] == \"combined\"].reset_index(drop = True)"
   ]
  },
  {
   "cell_type": "code",
   "execution_count": 7,
   "id": "46e55730",
   "metadata": {},
   "outputs": [],
   "source": [
    "# API authorization\n",
    "headers = {'x-api-key':'d15f7132973d404d9d046934398ee9e3', 'accept': 'application/json', 'accept': 'text/csv'}\n",
    "\n",
    "# Choose endpoint\n",
    "endpoint = 'https://www.capology.com/api/v2/soccer/salaries/it/serie-b/2020-2021/'\n",
    "\n",
    "# Retrieve json\n",
    "json2 = requests.get(endpoint, headers=headers).text\n",
    "\n",
    "#Data for 2020/2021\n",
    "df2 = pd.read_json(json2)\n",
    "\n",
    "df2 = df2[df2[\"season_term\"] ==\"combined\"]"
   ]
  },
  {
   "cell_type": "code",
   "execution_count": 8,
   "id": "397ac611",
   "metadata": {},
   "outputs": [],
   "source": [
    "# API authorization\n",
    "headers = {'x-api-key':'d15f7132973d404d9d046934398ee9e3', 'accept': 'application/json', 'accept': 'text/csv'}\n",
    "\n",
    "# Choose endpoint\n",
    "endpoint = 'https://www.capology.com/api/v2/soccer/salaries/it/serie-b/2021-2022/'\n",
    "\n",
    "# Retrieve json\n",
    "json3 = requests.get(endpoint, headers=headers).text\n",
    "\n",
    "#Data for 2021/2022\n",
    "df3 = pd.read_json(json3)\n",
    "\n",
    "df3 = df3[df3[\"season_term\"] ==\"combined\"]"
   ]
  },
  {
   "cell_type": "code",
   "execution_count": 9,
   "id": "bc264e8b",
   "metadata": {},
   "outputs": [],
   "source": [
    "# API authorization\n",
    "headers = {'x-api-key':'d15f7132973d404d9d046934398ee9e3', 'accept': 'application/json', 'accept': 'text/csv'}\n",
    "\n",
    "# Choose endpoint\n",
    "endpoint = 'https://www.capology.com/api/v2/soccer/salaries/it/serie-b/2022-2023/'\n",
    "\n",
    "# Retrieve json\n",
    "json4 = requests.get(endpoint, headers=headers).text\n",
    "\n",
    "#Data for 2022/2023\n",
    "df4 = pd.read_json(json4)\n",
    "\n",
    "#Capology has defined the seson as summer\n",
    "df4 = df4[df4[\"season_term\"] ==\"summer\"]"
   ]
  },
  {
   "cell_type": "code",
   "execution_count": 10,
   "id": "5ad357a5",
   "metadata": {},
   "outputs": [],
   "source": [
    "df = pd.concat([df1,df2,df3,df4],axis=0).drop_duplicates()"
   ]
  },
  {
   "cell_type": "markdown",
   "id": "0e4dfc95",
   "metadata": {},
   "source": [
    "#### Cleaning Data frame"
   ]
  },
  {
   "cell_type": "code",
   "execution_count": 11,
   "id": "9d20385d",
   "metadata": {},
   "outputs": [],
   "source": [
    "df = df[df['salary_gross_eur'] != 0]"
   ]
  },
  {
   "cell_type": "code",
   "execution_count": 12,
   "id": "3ff4a397",
   "metadata": {},
   "outputs": [],
   "source": [
    "CODE_DICT = pd.Series(df.club_code.values,index=df.club_name).to_dict()\n"
   ]
  },
  {
   "cell_type": "code",
   "execution_count": 13,
   "id": "afe79750",
   "metadata": {},
   "outputs": [],
   "source": [
    "#Required columns\n",
    "LIST = ['season_id','club_code','player_age','player_country_id','player_group_code','salary_gross_eur']"
   ]
  },
  {
   "cell_type": "code",
   "execution_count": 14,
   "id": "8b3ffe96",
   "metadata": {},
   "outputs": [],
   "source": [
    "df_salary = df[LIST].reset_index()"
   ]
  },
  {
   "cell_type": "code",
   "execution_count": 15,
   "id": "447a3bc3",
   "metadata": {
    "scrolled": true
   },
   "outputs": [
    {
     "data": {
      "text/html": [
       "<div>\n",
       "<style scoped>\n",
       "    .dataframe tbody tr th:only-of-type {\n",
       "        vertical-align: middle;\n",
       "    }\n",
       "\n",
       "    .dataframe tbody tr th {\n",
       "        vertical-align: top;\n",
       "    }\n",
       "\n",
       "    .dataframe thead th {\n",
       "        text-align: right;\n",
       "    }\n",
       "</style>\n",
       "<table border=\"1\" class=\"dataframe\">\n",
       "  <thead>\n",
       "    <tr style=\"text-align: right;\">\n",
       "      <th></th>\n",
       "      <th>index</th>\n",
       "      <th>season_id</th>\n",
       "      <th>club_code</th>\n",
       "      <th>player_age</th>\n",
       "      <th>player_country_id</th>\n",
       "      <th>player_group_code</th>\n",
       "      <th>salary_gross_eur</th>\n",
       "    </tr>\n",
       "  </thead>\n",
       "  <tbody>\n",
       "    <tr>\n",
       "      <th>0</th>\n",
       "      <td>0</td>\n",
       "      <td>2019-2020</td>\n",
       "      <td>ASC</td>\n",
       "      <td>22</td>\n",
       "      <td>guadeloupe</td>\n",
       "      <td>D</td>\n",
       "      <td>90000</td>\n",
       "    </tr>\n",
       "    <tr>\n",
       "      <th>1</th>\n",
       "      <td>1</td>\n",
       "      <td>2019-2020</td>\n",
       "      <td>ASC</td>\n",
       "      <td>28</td>\n",
       "      <td>guinea</td>\n",
       "      <td>M</td>\n",
       "      <td>130000</td>\n",
       "    </tr>\n",
       "    <tr>\n",
       "      <th>2</th>\n",
       "      <td>2</td>\n",
       "      <td>2019-2020</td>\n",
       "      <td>ASC</td>\n",
       "      <td>27</td>\n",
       "      <td>italy</td>\n",
       "      <td>D</td>\n",
       "      <td>220000</td>\n",
       "    </tr>\n",
       "    <tr>\n",
       "      <th>3</th>\n",
       "      <td>3</td>\n",
       "      <td>2019-2020</td>\n",
       "      <td>ASC</td>\n",
       "      <td>19</td>\n",
       "      <td>italy</td>\n",
       "      <td>F</td>\n",
       "      <td>40000</td>\n",
       "    </tr>\n",
       "    <tr>\n",
       "      <th>4</th>\n",
       "      <td>4</td>\n",
       "      <td>2019-2020</td>\n",
       "      <td>ASC</td>\n",
       "      <td>28</td>\n",
       "      <td>italy</td>\n",
       "      <td>M</td>\n",
       "      <td>190000</td>\n",
       "    </tr>\n",
       "  </tbody>\n",
       "</table>\n",
       "</div>"
      ],
      "text/plain": [
       "   index  season_id club_code  player_age player_country_id player_group_code  \\\n",
       "0      0  2019-2020       ASC          22        guadeloupe                 D   \n",
       "1      1  2019-2020       ASC          28            guinea                 M   \n",
       "2      2  2019-2020       ASC          27             italy                 D   \n",
       "3      3  2019-2020       ASC          19             italy                 F   \n",
       "4      4  2019-2020       ASC          28             italy                 M   \n",
       "\n",
       "   salary_gross_eur  \n",
       "0             90000  \n",
       "1            130000  \n",
       "2            220000  \n",
       "3             40000  \n",
       "4            190000  "
      ]
     },
     "execution_count": 15,
     "metadata": {},
     "output_type": "execute_result"
    }
   ],
   "source": [
    "df_salary.head()"
   ]
  },
  {
   "cell_type": "markdown",
   "id": "047fe62f",
   "metadata": {},
   "source": [
    "#### Finding High Earners"
   ]
  },
  {
   "cell_type": "code",
   "execution_count": 16,
   "id": "00e5c291",
   "metadata": {},
   "outputs": [],
   "source": [
    "# Group the data by 'club' and 'position'\n",
    "groups = df_salary.groupby(['club_code', 'player_group_code','season_id'])\n",
    "# Find the highest two values of column 'salary_gross_eur' for each group\n",
    "top_two = groups['salary_gross_eur'].nlargest(2).reset_index()\n",
    "\n",
    "# get needed indexes\n",
    "index = list(top_two['level_3'])\n",
    "\n",
    "# Add the result to the data frame as a new column\n",
    "df_salary['high_earner'] = 0\n",
    "for i in index:\n",
    "    df_salary.loc[i, 'high_earner'] = 1"
   ]
  },
  {
   "cell_type": "markdown",
   "id": "2f379323",
   "metadata": {},
   "source": [
    "#### Creating  needed features"
   ]
  },
  {
   "cell_type": "code",
   "execution_count": 17,
   "id": "6b47f585",
   "metadata": {},
   "outputs": [],
   "source": [
    "countries = df_salary.player_country_id.unique()\n",
    "\n",
    "#based on uk.gov website excluding Italy\n",
    "EU_countries = ['Austria', 'Bulgaria','Belgium','Croatia','Cyprus', 'Czech-Republic', \n",
    "              'Denmark', 'Estonia', 'Finland', 'France', 'Greece', 'Hungary', 'Ireland', 'Germany',\n",
    "              'Latvia', 'Lithuania', 'Luxembourg', 'Malta', 'Netherlands', 'Poland', 'Portugal', \n",
    "              'Romania', 'Slovakia', 'Slovenia', 'Spain','Sweden']\n",
    "\n",
    "EU_countries = [s.lower() for s in EU_countries]"
   ]
  },
  {
   "cell_type": "code",
   "execution_count": 18,
   "id": "6e7ea621",
   "metadata": {},
   "outputs": [
    {
     "data": {
      "text/plain": [
       "array(['guadeloupe', 'guinea', 'italy', 'portugal', 'ecuador', 'germany',\n",
       "       'brazil', 'argentina', 'serbia', 'croatia', 'ghana', 'colombia',\n",
       "       'slovenia', 'finland', \"cote-d'ivoire\", 'slovakia', 'france',\n",
       "       'nigeria', 'sweden', 'senegal', 'switzerland', 'montenegro',\n",
       "       'morocco', 'martinique', 'uruguay', 'spain', 'netherlands',\n",
       "       'romania', 'libya', 'greece', 'chile', 'scotland', 'poland',\n",
       "       'united-states', 'denmark', 'liechtenstein', 'czech-republic',\n",
       "       'belgium', 'cyprus', 'bulgaria', 'albania', 'austria',\n",
       "       'the-gambia', 'bosnia-herzegovina', 'canada', 'iceland',\n",
       "       'lithuania', 'north-macedonia', 'israel', 'norway', 'hungary',\n",
       "       'mali', 'australia', 'venezuela', 'tunisia', 'cote-d-ivoire',\n",
       "       'turkey', 'equatorial-guinea', 'sierra-leone', 'new-zealand',\n",
       "       'northern-ireland', 'honduras', 'estonia', 'moldova', 'peru',\n",
       "       'angola', 'dominican-republic', 'kosovo', 'malta', 'gabon',\n",
       "       'liberia', 'congo', 'guinea-bissau', 'ireland', 'england',\n",
       "       'latvia', 'paraguay', 'russia', 'suriname'], dtype=object)"
      ]
     },
     "execution_count": 18,
     "metadata": {},
     "output_type": "execute_result"
    }
   ],
   "source": [
    "countries"
   ]
  },
  {
   "cell_type": "code",
   "execution_count": 19,
   "id": "775e8923",
   "metadata": {},
   "outputs": [],
   "source": [
    "EU = []\n",
    "non_EU = []\n",
    "for country in countries:\n",
    "    if country in EU_countries:\n",
    "        EU.append(country) \n",
    "    elif country == 'italy':\n",
    "        0\n",
    "    else:\n",
    "        non_EU.append(country) \n"
   ]
  },
  {
   "cell_type": "code",
   "execution_count": 20,
   "id": "787a311d",
   "metadata": {},
   "outputs": [
    {
     "data": {
      "text/plain": [
       "1"
      ]
     },
     "execution_count": 20,
     "metadata": {},
     "output_type": "execute_result"
    }
   ],
   "source": [
    "len(countries)-len(EU)-len(non_EU)"
   ]
  },
  {
   "cell_type": "code",
   "execution_count": 21,
   "id": "a76a41ea",
   "metadata": {},
   "outputs": [],
   "source": [
    "def set_region(row):\n",
    "    \"\"\"\n",
    "    Function takes each row as argument and returns the region \n",
    "    based on the player_country_id.\n",
    "    \"\"\"\n",
    "    \n",
    "    if row['player_country_id'] in non_EU:\n",
    "        return 'non_EU'\n",
    "    \n",
    "    elif row['player_country_id'] in EU:\n",
    "        return 'EU'\n",
    "    \n",
    "    else:\n",
    "        return 'italy'"
   ]
  },
  {
   "cell_type": "code",
   "execution_count": 22,
   "id": "6cbf9299",
   "metadata": {},
   "outputs": [
    {
     "data": {
      "text/plain": [
       "{'Ascoli': 'ASC',\n",
       " 'Benevento': 'BEN',\n",
       " 'Chievo Verona': 'CVE',\n",
       " 'Cittadella': 'CIT',\n",
       " 'Cosenza': 'COS',\n",
       " 'Cremonese': 'CRE',\n",
       " 'Crotone': 'CRO',\n",
       " 'Empoli': 'EMP',\n",
       " 'Frosinone': 'FRO',\n",
       " 'Juve Stabia': 'JUS',\n",
       " 'Livorno': 'LVN',\n",
       " 'Perugia': 'PER',\n",
       " 'Pescara': 'PES',\n",
       " 'Pisa': 'PIS',\n",
       " 'Pordenone': 'POD',\n",
       " 'Salernitana': 'SAL',\n",
       " 'Spezia': 'SPZ',\n",
       " 'Trapani': 'TRP',\n",
       " 'Venezia': 'VEN',\n",
       " 'Virtus Entella': 'ENT',\n",
       " 'Brescia': 'BRE',\n",
       " 'Lecce': 'LEC',\n",
       " 'Monza': 'MZN',\n",
       " 'Reggiana': 'RGA',\n",
       " 'Reggina': 'REG',\n",
       " 'SPAL': 'SPA',\n",
       " 'Vicenza': 'VIC',\n",
       " 'Alessandria': 'ALS',\n",
       " 'Como': 'COM',\n",
       " 'Parma': 'PAR',\n",
       " 'Ternana': 'TER',\n",
       " 'Bari': 'BAR',\n",
       " 'Cagliari': 'CAG',\n",
       " 'Genoa': 'GEN',\n",
       " 'Modena': 'MOD',\n",
       " 'Palermo': 'PAL',\n",
       " 'Sudtirol': 'SUD'}"
      ]
     },
     "execution_count": 22,
     "metadata": {},
     "output_type": "execute_result"
    }
   ],
   "source": [
    "CODE_DICT"
   ]
  },
  {
   "cell_type": "code",
   "execution_count": 23,
   "id": "f85f7134",
   "metadata": {},
   "outputs": [],
   "source": [
    "# Updating coding dicitionary as capology has differnt naming convention to Wikipedia\n",
    "CODE_DICT['Chievo'] = 'CVE'\n",
    "CODE_DICT['Südtirol'] = 'SUD'\n"
   ]
  },
  {
   "cell_type": "code",
   "execution_count": 24,
   "id": "78126ca0",
   "metadata": {},
   "outputs": [],
   "source": [
    "# Final league standings 2019/2020\n",
    "standings_2019 = League_table_scraper('https://en.wikipedia.org/wiki/2019%E2%80%9320_Serie_B',6)\n",
    "standings_2019 = list(map(lambda x: CODE_DICT[x], standings_2019.club))\n",
    "\n",
    "# Final league standings 2020/2021\n",
    "standings_2020 = League_table_scraper('https://en.wikipedia.org/wiki/2020%E2%80%9321_Serie_B',6)\n",
    "standings_2020 = list(map(lambda x: CODE_DICT[x], standings_2020.club))\n",
    "\n",
    "# Final league standings 2021/2022\n",
    "standings_2021 = League_table_scraper('https://en.wikipedia.org/wiki/2021%E2%80%9322_Serie_B',6)\n",
    "standings_2021 = list(map(lambda x: CODE_DICT[x], standings_2021.club))\n",
    "\n",
    "# Current league standings 2022/2023\n",
    "standings_2022 = League_table_scraper('https://en.wikipedia.org/wiki/2022%E2%80%9323_Serie_B',6)\n",
    "standings_2022 = list(map(lambda x: CODE_DICT[x], standings_2022.club))"
   ]
  },
  {
   "cell_type": "code",
   "execution_count": 25,
   "id": "b436e536",
   "metadata": {},
   "outputs": [],
   "source": [
    "BIG_3_2019=['EMP','FRO','CVE']\n",
    "SMALL_5_2019=['ENT','POD','JUS','PIS','TRP']\n",
    "\n",
    "BIG_3_2020 = ['LEC','BRE','SPA']\n",
    "SMALL_4_2020 = ['MZN','VIC','RGA','REG']\n",
    "\n",
    "BIG_3_2021=['BEN','CRO','PAR']\n",
    "SMALL_4_2021=['COM','PER','TER','ALS']\n",
    "\n",
    "BIG_3_2022 = ['CAG','GEN','VEN']\n",
    "SMALL_4_2022 = ['SUD','MOD','BAR','PAL']\n"
   ]
  },
  {
   "cell_type": "code",
   "execution_count": 26,
   "id": "8db50d2f",
   "metadata": {},
   "outputs": [],
   "source": [
    "def set_club_type(row):\n",
    "    \n",
    "    \"\"\"\n",
    "    Function takes each row as argument and returns\n",
    "    top 6,6-10,mid-table, relagation based on the club \n",
    "    finishing position for the year\n",
    "    \n",
    "    \"\"\"\n",
    "    if (row['club_code'] in BIG_3_2019 and  row['season_id']== '2019-2020') or (row['club_code'] in BIG_3_2020 and  row['season_id']== '2020-2021') or (row['club_code'] in BIG_3_2021 and  row['season_id']== '2021-2022') or (row['club_code'] in BIG_3_2022 and  row['season_id']== '2022-2023'):\n",
    "        return 'BIG_3'\n",
    "    \n",
    "    if (row['club_code'] in SMALL_5_2019 and  row['season_id']== '2019-2020') or (row['club_code'] in SMALL_4_2020 and  row['season_id']== '2020-2021') or (row['club_code'] in SMALL_4_2021 and  row['season_id']== '2021-2022') or (row['club_code'] in SMALL_4_2022 and  row['season_id']== '2022-2023'):\n",
    "        return 'SMALL_4'\n",
    "    \n",
    "    else:\n",
    "        if (row['club_code'] in standings_2019[:2] and row['season_id']== '2019-2020') or (row['club_code'] in standings_2020[0:2] and row['season_id']=='2020-2021') or (row['club_code'] in standings_2021[0:2] and row['season_id']=='2021-2022') or (row['club_code'] in standings_2022[0:2] and row['season_id']=='2022-2023'):\n",
    "            return 'promoted'\n",
    "   \n",
    "        if (row['club_code'] in standings_2019[2:6] and row['season_id']== '2019-2020') or (row['club_code'] in standings_2020[2:6] and row['season_id']=='2020-2021') or (row['club_code'] in standings_2021[2:6] and row['season_id']=='2021-2022') or (row['club_code'] in standings_2022[2:6] and row['season_id']=='2022-2023'):\n",
    "            return 'top 6'\n",
    "    \n",
    "        if (row['club_code'] in standings_2019[6:16] and row['season_id']== '2019-2020') or (row['club_code'] in standings_2020[6:16] and row['season_id']=='2020-2021') or (row['club_code'] in standings_2021[6:16] and row['season_id']=='2021-2022') or (row['club_code'] in standings_2022[6:16] and row['season_id']=='2022-2023'):\n",
    "            return 'mid-table'\n",
    "    \n",
    "        else :\n",
    "            return 'relegation'\n"
   ]
  },
  {
   "cell_type": "code",
   "execution_count": 27,
   "id": "d408189d",
   "metadata": {},
   "outputs": [],
   "source": [
    "X = df_salary[['club_code', 'player_age', 'player_country_id', 'player_group_code','season_id','high_earner']]\n",
    "\n",
    "X = X.assign(Age=pd.cut(X['player_age'], \n",
    "                               bins=[0, 17, 21,23, 27, 32,99], \n",
    "                               labels=['U18', '18-21', '21-23','23-27','27-32','32+']))\n",
    "\n",
    "X = X.assign(region=X.apply(set_region, axis=1)).astype('category')\n",
    "\n",
    "X = X.assign(club_level=X.apply(set_club_type,axis=1)).astype('category')\n",
    "\n",
    "X = X.drop('player_country_id',axis=1)\n",
    "\n",
    "X = X.drop('player_age',axis=1)\n",
    "\n",
    "X = X.drop('season_id',axis=1)"
   ]
  },
  {
   "cell_type": "code",
   "execution_count": 28,
   "id": "53d3a3d2",
   "metadata": {},
   "outputs": [
    {
     "data": {
      "text/html": [
       "<div>\n",
       "<style scoped>\n",
       "    .dataframe tbody tr th:only-of-type {\n",
       "        vertical-align: middle;\n",
       "    }\n",
       "\n",
       "    .dataframe tbody tr th {\n",
       "        vertical-align: top;\n",
       "    }\n",
       "\n",
       "    .dataframe thead th {\n",
       "        text-align: right;\n",
       "    }\n",
       "</style>\n",
       "<table border=\"1\" class=\"dataframe\">\n",
       "  <thead>\n",
       "    <tr style=\"text-align: right;\">\n",
       "      <th></th>\n",
       "      <th>club_code</th>\n",
       "      <th>player_group_code</th>\n",
       "      <th>high_earner</th>\n",
       "      <th>Age</th>\n",
       "      <th>region</th>\n",
       "      <th>club_level</th>\n",
       "    </tr>\n",
       "  </thead>\n",
       "  <tbody>\n",
       "    <tr>\n",
       "      <th>0</th>\n",
       "      <td>ASC</td>\n",
       "      <td>D</td>\n",
       "      <td>0</td>\n",
       "      <td>21-23</td>\n",
       "      <td>non_EU</td>\n",
       "      <td>mid-table</td>\n",
       "    </tr>\n",
       "    <tr>\n",
       "      <th>1</th>\n",
       "      <td>ASC</td>\n",
       "      <td>M</td>\n",
       "      <td>0</td>\n",
       "      <td>27-32</td>\n",
       "      <td>non_EU</td>\n",
       "      <td>mid-table</td>\n",
       "    </tr>\n",
       "    <tr>\n",
       "      <th>2</th>\n",
       "      <td>ASC</td>\n",
       "      <td>D</td>\n",
       "      <td>0</td>\n",
       "      <td>23-27</td>\n",
       "      <td>italy</td>\n",
       "      <td>mid-table</td>\n",
       "    </tr>\n",
       "    <tr>\n",
       "      <th>3</th>\n",
       "      <td>ASC</td>\n",
       "      <td>F</td>\n",
       "      <td>0</td>\n",
       "      <td>18-21</td>\n",
       "      <td>italy</td>\n",
       "      <td>mid-table</td>\n",
       "    </tr>\n",
       "    <tr>\n",
       "      <th>4</th>\n",
       "      <td>ASC</td>\n",
       "      <td>M</td>\n",
       "      <td>0</td>\n",
       "      <td>27-32</td>\n",
       "      <td>italy</td>\n",
       "      <td>mid-table</td>\n",
       "    </tr>\n",
       "  </tbody>\n",
       "</table>\n",
       "</div>"
      ],
      "text/plain": [
       "  club_code player_group_code high_earner    Age  region club_level\n",
       "0       ASC                 D           0  21-23  non_EU  mid-table\n",
       "1       ASC                 M           0  27-32  non_EU  mid-table\n",
       "2       ASC                 D           0  23-27   italy  mid-table\n",
       "3       ASC                 F           0  18-21   italy  mid-table\n",
       "4       ASC                 M           0  27-32   italy  mid-table"
      ]
     },
     "execution_count": 28,
     "metadata": {},
     "output_type": "execute_result"
    }
   ],
   "source": [
    "X.head()"
   ]
  },
  {
   "cell_type": "markdown",
   "id": "5d52ee80",
   "metadata": {},
   "source": [
    "#### Preapring data frame for modelling\n"
   ]
  },
  {
   "cell_type": "code",
   "execution_count": 29,
   "id": "0db3139e",
   "metadata": {},
   "outputs": [],
   "source": [
    "X = pd.get_dummies(data=X, drop_first= True )"
   ]
  },
  {
   "cell_type": "code",
   "execution_count": 30,
   "id": "9ea6de48",
   "metadata": {
    "scrolled": true
   },
   "outputs": [
    {
     "name": "stdout",
     "output_type": "stream",
     "text": [
      "<class 'pandas.core.frame.DataFrame'>\n",
      "RangeIndex: 2531 entries, 0 to 2530\n",
      "Data columns (total 52 columns):\n",
      " #   Column                 Non-Null Count  Dtype\n",
      "---  ------                 --------------  -----\n",
      " 0   club_code_ASC          2531 non-null   uint8\n",
      " 1   club_code_BAR          2531 non-null   uint8\n",
      " 2   club_code_BEN          2531 non-null   uint8\n",
      " 3   club_code_BRE          2531 non-null   uint8\n",
      " 4   club_code_CAG          2531 non-null   uint8\n",
      " 5   club_code_CIT          2531 non-null   uint8\n",
      " 6   club_code_COM          2531 non-null   uint8\n",
      " 7   club_code_COS          2531 non-null   uint8\n",
      " 8   club_code_CRE          2531 non-null   uint8\n",
      " 9   club_code_CRO          2531 non-null   uint8\n",
      " 10  club_code_CVE          2531 non-null   uint8\n",
      " 11  club_code_EMP          2531 non-null   uint8\n",
      " 12  club_code_ENT          2531 non-null   uint8\n",
      " 13  club_code_FRO          2531 non-null   uint8\n",
      " 14  club_code_GEN          2531 non-null   uint8\n",
      " 15  club_code_JUS          2531 non-null   uint8\n",
      " 16  club_code_LEC          2531 non-null   uint8\n",
      " 17  club_code_LVN          2531 non-null   uint8\n",
      " 18  club_code_MOD          2531 non-null   uint8\n",
      " 19  club_code_MZN          2531 non-null   uint8\n",
      " 20  club_code_PAL          2531 non-null   uint8\n",
      " 21  club_code_PAR          2531 non-null   uint8\n",
      " 22  club_code_PER          2531 non-null   uint8\n",
      " 23  club_code_PES          2531 non-null   uint8\n",
      " 24  club_code_PIS          2531 non-null   uint8\n",
      " 25  club_code_POD          2531 non-null   uint8\n",
      " 26  club_code_REG          2531 non-null   uint8\n",
      " 27  club_code_RGA          2531 non-null   uint8\n",
      " 28  club_code_SAL          2531 non-null   uint8\n",
      " 29  club_code_SPA          2531 non-null   uint8\n",
      " 30  club_code_SPZ          2531 non-null   uint8\n",
      " 31  club_code_SUD          2531 non-null   uint8\n",
      " 32  club_code_TER          2531 non-null   uint8\n",
      " 33  club_code_TRP          2531 non-null   uint8\n",
      " 34  club_code_VEN          2531 non-null   uint8\n",
      " 35  club_code_VIC          2531 non-null   uint8\n",
      " 36  player_group_code_F    2531 non-null   uint8\n",
      " 37  player_group_code_K    2531 non-null   uint8\n",
      " 38  player_group_code_M    2531 non-null   uint8\n",
      " 39  high_earner_1          2531 non-null   uint8\n",
      " 40  Age_18-21              2531 non-null   uint8\n",
      " 41  Age_21-23              2531 non-null   uint8\n",
      " 42  Age_23-27              2531 non-null   uint8\n",
      " 43  Age_27-32              2531 non-null   uint8\n",
      " 44  Age_32+                2531 non-null   uint8\n",
      " 45  region_italy           2531 non-null   uint8\n",
      " 46  region_non_EU          2531 non-null   uint8\n",
      " 47  club_level_SMALL_4     2531 non-null   uint8\n",
      " 48  club_level_mid-table   2531 non-null   uint8\n",
      " 49  club_level_promoted    2531 non-null   uint8\n",
      " 50  club_level_relegation  2531 non-null   uint8\n",
      " 51  club_level_top 6       2531 non-null   uint8\n",
      "dtypes: uint8(52)\n",
      "memory usage: 128.7 KB\n"
     ]
    }
   ],
   "source": [
    "X.info()"
   ]
  },
  {
   "cell_type": "code",
   "execution_count": 31,
   "id": "6d2d97ad",
   "metadata": {},
   "outputs": [
    {
     "data": {
      "text/plain": [
       "{'ALS',\n",
       " 'ASC',\n",
       " 'BAR',\n",
       " 'BEN',\n",
       " 'BRE',\n",
       " 'CAG',\n",
       " 'CIT',\n",
       " 'COM',\n",
       " 'COS',\n",
       " 'CRE',\n",
       " 'CRO',\n",
       " 'CVE',\n",
       " 'EMP',\n",
       " 'ENT',\n",
       " 'FRO',\n",
       " 'GEN',\n",
       " 'JUS',\n",
       " 'LEC',\n",
       " 'LVN',\n",
       " 'MOD',\n",
       " 'MZN',\n",
       " 'PAL',\n",
       " 'PAR',\n",
       " 'PER',\n",
       " 'PES',\n",
       " 'PIS',\n",
       " 'POD',\n",
       " 'REG',\n",
       " 'RGA',\n",
       " 'SAL',\n",
       " 'SPA',\n",
       " 'SPZ',\n",
       " 'SUD',\n",
       " 'TER',\n",
       " 'TRP',\n",
       " 'VEN',\n",
       " 'VIC'}"
      ]
     },
     "execution_count": 31,
     "metadata": {},
     "output_type": "execute_result"
    }
   ],
   "source": [
    "set(df.club_code.values)"
   ]
  },
  {
   "cell_type": "code",
   "execution_count": 32,
   "id": "4a8e9493",
   "metadata": {},
   "outputs": [],
   "source": [
    "Y = np.log(df_salary['salary_gross_eur'])"
   ]
  },
  {
   "cell_type": "markdown",
   "id": "7c64fccb",
   "metadata": {},
   "source": [
    "#### Fiiting the Model"
   ]
  },
  {
   "cell_type": "code",
   "execution_count": 33,
   "id": "1fc45355",
   "metadata": {},
   "outputs": [
    {
     "name": "stdout",
     "output_type": "stream",
     "text": [
      "(1518, 52)\n",
      "(1013, 52)\n",
      "(1518,)\n",
      "(1013,)\n"
     ]
    }
   ],
   "source": [
    "from sklearn.model_selection import train_test_split,\n",
    "X_train, X_test, y_train, y_test = train_test_split(X, Y, test_size=0.4, random_state=100)\n",
    "print(X_train.shape)\n",
    "print(X_test.shape)\n",
    "print(y_train.shape)\n",
    "print(y_test.shape)"
   ]
  },
  {
   "cell_type": "code",
   "execution_count": 35,
   "id": "f61b97ca",
   "metadata": {},
   "outputs": [
    {
     "name": "stdout",
     "output_type": "stream",
     "text": [
      "[-0.14005879 -0.13963292  0.22722638  0.07082801  0.52553672 -0.93006617\n",
      "  0.08069594 -0.59055643  0.49160176 -0.21946182 -0.05474934  0.22801618\n",
      " -0.09278595  0.29324534  0.9607494  -0.56104653  0.27397473 -0.56386276\n",
      " -0.10520819  0.97237441  0.22776673  0.74261427 -0.27378714 -0.3655654\n",
      " -0.02402543 -0.17941657 -0.1829175  -0.48262382  0.10474121  0.09798921\n",
      " -0.5964488  -0.07648626  0.04143853 -0.75657875 -0.34982838 -0.1880849\n",
      "  0.19342914 -0.89182466  0.10105246  1.18595169  0.54545724  0.91749819\n",
      "  1.21028095  1.39238741  1.41514317 -0.07250552 -0.00908913 -0.56809889\n",
      " -0.35674952 -0.26489164 -0.36039091 -0.31740757] 0.5908452233201904\n"
     ]
    }
   ],
   "source": [
    "print(model.coef_, model.score(X, Y))\n"
   ]
  },
  {
   "cell_type": "code",
   "execution_count": 36,
   "id": "5acf845e",
   "metadata": {},
   "outputs": [],
   "source": [
    "X_test.to_csv(r'C:\\Users\\Ramya\\X_test_it.csv')"
   ]
  },
  {
   "cell_type": "code",
   "execution_count": 37,
   "id": "020a5e44",
   "metadata": {},
   "outputs": [
    {
     "name": "stdout",
     "output_type": "stream",
     "text": [
      "11.243274576394008\n"
     ]
    }
   ],
   "source": [
    "print(model.intercept_)"
   ]
  },
  {
   "cell_type": "code",
   "execution_count": 38,
   "id": "c561b6c1",
   "metadata": {
    "scrolled": true
   },
   "outputs": [
    {
     "data": {
      "text/html": [
       "<div>\n",
       "<style scoped>\n",
       "    .dataframe tbody tr th:only-of-type {\n",
       "        vertical-align: middle;\n",
       "    }\n",
       "\n",
       "    .dataframe tbody tr th {\n",
       "        vertical-align: top;\n",
       "    }\n",
       "\n",
       "    .dataframe thead th {\n",
       "        text-align: right;\n",
       "    }\n",
       "</style>\n",
       "<table border=\"1\" class=\"dataframe\">\n",
       "  <thead>\n",
       "    <tr style=\"text-align: right;\">\n",
       "      <th></th>\n",
       "      <th>index</th>\n",
       "      <th>Coefficient</th>\n",
       "    </tr>\n",
       "  </thead>\n",
       "  <tbody>\n",
       "    <tr>\n",
       "      <th>0</th>\n",
       "      <td>club_code_ASC</td>\n",
       "      <td>-0.140059</td>\n",
       "    </tr>\n",
       "    <tr>\n",
       "      <th>1</th>\n",
       "      <td>club_code_BAR</td>\n",
       "      <td>-0.139633</td>\n",
       "    </tr>\n",
       "    <tr>\n",
       "      <th>2</th>\n",
       "      <td>club_code_BEN</td>\n",
       "      <td>0.227226</td>\n",
       "    </tr>\n",
       "    <tr>\n",
       "      <th>3</th>\n",
       "      <td>club_code_BRE</td>\n",
       "      <td>0.070828</td>\n",
       "    </tr>\n",
       "    <tr>\n",
       "      <th>4</th>\n",
       "      <td>club_code_CAG</td>\n",
       "      <td>0.525537</td>\n",
       "    </tr>\n",
       "    <tr>\n",
       "      <th>5</th>\n",
       "      <td>club_code_CIT</td>\n",
       "      <td>-0.930066</td>\n",
       "    </tr>\n",
       "    <tr>\n",
       "      <th>6</th>\n",
       "      <td>club_code_COM</td>\n",
       "      <td>0.080696</td>\n",
       "    </tr>\n",
       "    <tr>\n",
       "      <th>7</th>\n",
       "      <td>club_code_COS</td>\n",
       "      <td>-0.590556</td>\n",
       "    </tr>\n",
       "    <tr>\n",
       "      <th>8</th>\n",
       "      <td>club_code_CRE</td>\n",
       "      <td>0.491602</td>\n",
       "    </tr>\n",
       "    <tr>\n",
       "      <th>9</th>\n",
       "      <td>club_code_CRO</td>\n",
       "      <td>-0.219462</td>\n",
       "    </tr>\n",
       "    <tr>\n",
       "      <th>10</th>\n",
       "      <td>club_code_CVE</td>\n",
       "      <td>-0.054749</td>\n",
       "    </tr>\n",
       "    <tr>\n",
       "      <th>11</th>\n",
       "      <td>club_code_EMP</td>\n",
       "      <td>0.228016</td>\n",
       "    </tr>\n",
       "    <tr>\n",
       "      <th>12</th>\n",
       "      <td>club_code_ENT</td>\n",
       "      <td>-0.092786</td>\n",
       "    </tr>\n",
       "    <tr>\n",
       "      <th>13</th>\n",
       "      <td>club_code_FRO</td>\n",
       "      <td>0.293245</td>\n",
       "    </tr>\n",
       "    <tr>\n",
       "      <th>14</th>\n",
       "      <td>club_code_GEN</td>\n",
       "      <td>0.960749</td>\n",
       "    </tr>\n",
       "    <tr>\n",
       "      <th>15</th>\n",
       "      <td>club_code_JUS</td>\n",
       "      <td>-0.561047</td>\n",
       "    </tr>\n",
       "    <tr>\n",
       "      <th>16</th>\n",
       "      <td>club_code_LEC</td>\n",
       "      <td>0.273975</td>\n",
       "    </tr>\n",
       "    <tr>\n",
       "      <th>17</th>\n",
       "      <td>club_code_LVN</td>\n",
       "      <td>-0.563863</td>\n",
       "    </tr>\n",
       "    <tr>\n",
       "      <th>18</th>\n",
       "      <td>club_code_MOD</td>\n",
       "      <td>-0.105208</td>\n",
       "    </tr>\n",
       "    <tr>\n",
       "      <th>19</th>\n",
       "      <td>club_code_MZN</td>\n",
       "      <td>0.972374</td>\n",
       "    </tr>\n",
       "    <tr>\n",
       "      <th>20</th>\n",
       "      <td>club_code_PAL</td>\n",
       "      <td>0.227767</td>\n",
       "    </tr>\n",
       "    <tr>\n",
       "      <th>21</th>\n",
       "      <td>club_code_PAR</td>\n",
       "      <td>0.742614</td>\n",
       "    </tr>\n",
       "    <tr>\n",
       "      <th>22</th>\n",
       "      <td>club_code_PER</td>\n",
       "      <td>-0.273787</td>\n",
       "    </tr>\n",
       "    <tr>\n",
       "      <th>23</th>\n",
       "      <td>club_code_PES</td>\n",
       "      <td>-0.365565</td>\n",
       "    </tr>\n",
       "    <tr>\n",
       "      <th>24</th>\n",
       "      <td>club_code_PIS</td>\n",
       "      <td>-0.024025</td>\n",
       "    </tr>\n",
       "    <tr>\n",
       "      <th>25</th>\n",
       "      <td>club_code_POD</td>\n",
       "      <td>-0.179417</td>\n",
       "    </tr>\n",
       "    <tr>\n",
       "      <th>26</th>\n",
       "      <td>club_code_REG</td>\n",
       "      <td>-0.182917</td>\n",
       "    </tr>\n",
       "    <tr>\n",
       "      <th>27</th>\n",
       "      <td>club_code_RGA</td>\n",
       "      <td>-0.482624</td>\n",
       "    </tr>\n",
       "    <tr>\n",
       "      <th>28</th>\n",
       "      <td>club_code_SAL</td>\n",
       "      <td>0.104741</td>\n",
       "    </tr>\n",
       "    <tr>\n",
       "      <th>29</th>\n",
       "      <td>club_code_SPA</td>\n",
       "      <td>0.097989</td>\n",
       "    </tr>\n",
       "    <tr>\n",
       "      <th>30</th>\n",
       "      <td>club_code_SPZ</td>\n",
       "      <td>-0.596449</td>\n",
       "    </tr>\n",
       "    <tr>\n",
       "      <th>31</th>\n",
       "      <td>club_code_SUD</td>\n",
       "      <td>-0.076486</td>\n",
       "    </tr>\n",
       "    <tr>\n",
       "      <th>32</th>\n",
       "      <td>club_code_TER</td>\n",
       "      <td>0.041439</td>\n",
       "    </tr>\n",
       "    <tr>\n",
       "      <th>33</th>\n",
       "      <td>club_code_TRP</td>\n",
       "      <td>-0.756579</td>\n",
       "    </tr>\n",
       "    <tr>\n",
       "      <th>34</th>\n",
       "      <td>club_code_VEN</td>\n",
       "      <td>-0.349828</td>\n",
       "    </tr>\n",
       "    <tr>\n",
       "      <th>35</th>\n",
       "      <td>club_code_VIC</td>\n",
       "      <td>-0.188085</td>\n",
       "    </tr>\n",
       "    <tr>\n",
       "      <th>36</th>\n",
       "      <td>player_group_code_F</td>\n",
       "      <td>0.193429</td>\n",
       "    </tr>\n",
       "    <tr>\n",
       "      <th>37</th>\n",
       "      <td>player_group_code_K</td>\n",
       "      <td>-0.891825</td>\n",
       "    </tr>\n",
       "    <tr>\n",
       "      <th>38</th>\n",
       "      <td>player_group_code_M</td>\n",
       "      <td>0.101052</td>\n",
       "    </tr>\n",
       "    <tr>\n",
       "      <th>39</th>\n",
       "      <td>high_earner_1</td>\n",
       "      <td>1.185952</td>\n",
       "    </tr>\n",
       "    <tr>\n",
       "      <th>40</th>\n",
       "      <td>Age_18-21</td>\n",
       "      <td>0.545457</td>\n",
       "    </tr>\n",
       "    <tr>\n",
       "      <th>41</th>\n",
       "      <td>Age_21-23</td>\n",
       "      <td>0.917498</td>\n",
       "    </tr>\n",
       "    <tr>\n",
       "      <th>42</th>\n",
       "      <td>Age_23-27</td>\n",
       "      <td>1.210281</td>\n",
       "    </tr>\n",
       "    <tr>\n",
       "      <th>43</th>\n",
       "      <td>Age_27-32</td>\n",
       "      <td>1.392387</td>\n",
       "    </tr>\n",
       "    <tr>\n",
       "      <th>44</th>\n",
       "      <td>Age_32+</td>\n",
       "      <td>1.415143</td>\n",
       "    </tr>\n",
       "    <tr>\n",
       "      <th>45</th>\n",
       "      <td>region_italy</td>\n",
       "      <td>-0.072506</td>\n",
       "    </tr>\n",
       "    <tr>\n",
       "      <th>46</th>\n",
       "      <td>region_non_EU</td>\n",
       "      <td>-0.009089</td>\n",
       "    </tr>\n",
       "    <tr>\n",
       "      <th>47</th>\n",
       "      <td>club_level_SMALL_4</td>\n",
       "      <td>-0.568099</td>\n",
       "    </tr>\n",
       "    <tr>\n",
       "      <th>48</th>\n",
       "      <td>club_level_mid-table</td>\n",
       "      <td>-0.356750</td>\n",
       "    </tr>\n",
       "    <tr>\n",
       "      <th>49</th>\n",
       "      <td>club_level_promoted</td>\n",
       "      <td>-0.264892</td>\n",
       "    </tr>\n",
       "    <tr>\n",
       "      <th>50</th>\n",
       "      <td>club_level_relegation</td>\n",
       "      <td>-0.360391</td>\n",
       "    </tr>\n",
       "    <tr>\n",
       "      <th>51</th>\n",
       "      <td>club_level_top 6</td>\n",
       "      <td>-0.317408</td>\n",
       "    </tr>\n",
       "  </tbody>\n",
       "</table>\n",
       "</div>"
      ],
      "text/plain": [
       "                    index  Coefficient\n",
       "0           club_code_ASC    -0.140059\n",
       "1           club_code_BAR    -0.139633\n",
       "2           club_code_BEN     0.227226\n",
       "3           club_code_BRE     0.070828\n",
       "4           club_code_CAG     0.525537\n",
       "5           club_code_CIT    -0.930066\n",
       "6           club_code_COM     0.080696\n",
       "7           club_code_COS    -0.590556\n",
       "8           club_code_CRE     0.491602\n",
       "9           club_code_CRO    -0.219462\n",
       "10          club_code_CVE    -0.054749\n",
       "11          club_code_EMP     0.228016\n",
       "12          club_code_ENT    -0.092786\n",
       "13          club_code_FRO     0.293245\n",
       "14          club_code_GEN     0.960749\n",
       "15          club_code_JUS    -0.561047\n",
       "16          club_code_LEC     0.273975\n",
       "17          club_code_LVN    -0.563863\n",
       "18          club_code_MOD    -0.105208\n",
       "19          club_code_MZN     0.972374\n",
       "20          club_code_PAL     0.227767\n",
       "21          club_code_PAR     0.742614\n",
       "22          club_code_PER    -0.273787\n",
       "23          club_code_PES    -0.365565\n",
       "24          club_code_PIS    -0.024025\n",
       "25          club_code_POD    -0.179417\n",
       "26          club_code_REG    -0.182917\n",
       "27          club_code_RGA    -0.482624\n",
       "28          club_code_SAL     0.104741\n",
       "29          club_code_SPA     0.097989\n",
       "30          club_code_SPZ    -0.596449\n",
       "31          club_code_SUD    -0.076486\n",
       "32          club_code_TER     0.041439\n",
       "33          club_code_TRP    -0.756579\n",
       "34          club_code_VEN    -0.349828\n",
       "35          club_code_VIC    -0.188085\n",
       "36    player_group_code_F     0.193429\n",
       "37    player_group_code_K    -0.891825\n",
       "38    player_group_code_M     0.101052\n",
       "39          high_earner_1     1.185952\n",
       "40              Age_18-21     0.545457\n",
       "41              Age_21-23     0.917498\n",
       "42              Age_23-27     1.210281\n",
       "43              Age_27-32     1.392387\n",
       "44                Age_32+     1.415143\n",
       "45           region_italy    -0.072506\n",
       "46          region_non_EU    -0.009089\n",
       "47     club_level_SMALL_4    -0.568099\n",
       "48   club_level_mid-table    -0.356750\n",
       "49    club_level_promoted    -0.264892\n",
       "50  club_level_relegation    -0.360391\n",
       "51       club_level_top 6    -0.317408"
      ]
     },
     "execution_count": 38,
     "metadata": {},
     "output_type": "execute_result"
    }
   ],
   "source": [
    "coeff_parameter = pd.DataFrame(model.coef_,X.columns,columns=['Coefficient']).reset_index()\n",
    "coeff_parameter"
   ]
  },
  {
   "cell_type": "markdown",
   "id": "dbca9f37",
   "metadata": {},
   "source": [
    "#### Model Evaluation"
   ]
  },
  {
   "cell_type": "code",
   "execution_count": 39,
   "id": "e6b8add8",
   "metadata": {},
   "outputs": [
    {
     "data": {
      "text/plain": [
       "array([13.57608478, 11.70191675, 12.12604895, ..., 13.69001017,\n",
       "        9.74277831, 11.83489584])"
      ]
     },
     "execution_count": 39,
     "metadata": {},
     "output_type": "execute_result"
    }
   ],
   "source": [
    "predictions = model.predict(X_test)\n",
    "predictions"
   ]
  },
  {
   "cell_type": "code",
   "execution_count": 40,
   "id": "e08bf609",
   "metadata": {},
   "outputs": [
    {
     "name": "stderr",
     "output_type": "stream",
     "text": [
      "C:\\Users\\Ramya\\anaconda3\\lib\\site-packages\\seaborn\\_decorators.py:36: FutureWarning: Pass the following variables as keyword args: x, y. From version 0.12, the only valid positional argument will be `data`, and passing other arguments without an explicit keyword will result in an error or misinterpretation.\n",
      "  warnings.warn(\n"
     ]
    },
    {
     "data": {
      "text/plain": [
       "<AxesSubplot:xlabel='salary_gross_eur'>"
      ]
     },
     "execution_count": 40,
     "metadata": {},
     "output_type": "execute_result"
    },
    {
     "data": {
      "image/png": "[encoded data removed]",
      "text/plain": [
       "<Figure size 640x480 with 1 Axes>"
      ]
     },
     "metadata": {},
     "output_type": "display_data"
    }
   ],
   "source": [
    "sns.regplot(y_test,predictions)"
   ]
  },
  {
   "cell_type": "code",
   "execution_count": 41,
   "id": "2d7ee9f2",
   "metadata": {
    "scrolled": true
   },
   "outputs": [
    {
     "name": "stdout",
     "output_type": "stream",
     "text": [
      "                            OLS Regression Results                            \n",
      "==============================================================================\n",
      "Dep. Variable:       salary_gross_eur   R-squared:                       0.591\n",
      "Model:                            OLS   Adj. R-squared:                  0.576\n",
      "Method:                 Least Squares   F-statistic:                     40.65\n",
      "Date:                Wed, 28 Dec 2022   Prob (F-statistic):          6.23e-244\n",
      "Time:                        11:42:37   Log-Likelihood:                -1606.3\n",
      "No. Observations:                1518   AIC:                             3319.\n",
      "Df Residuals:                    1465   BIC:                             3601.\n",
      "Df Model:                          52                                         \n",
      "Covariance Type:            nonrobust                                         \n",
      "=========================================================================================\n",
      "                            coef    std err          t      P>|t|      [0.025      0.975]\n",
      "-----------------------------------------------------------------------------------------\n",
      "const                    11.2433      0.281     40.021      0.000      10.692      11.794\n",
      "club_code_ASC            -0.1401      0.185     -0.757      0.449      -0.503       0.223\n",
      "club_code_BAR            -0.1396      0.228     -0.613      0.540      -0.586       0.307\n",
      "club_code_BEN             0.2272      0.197      1.153      0.249      -0.159       0.614\n",
      "club_code_BRE             0.0708      0.193      0.367      0.713      -0.307       0.449\n",
      "club_code_CAG             0.5255      0.237      2.218      0.027       0.061       0.990\n",
      "club_code_CIT            -0.9301      0.188     -4.941      0.000      -1.299      -0.561\n",
      "club_code_COM             0.0807      0.186      0.434      0.664      -0.284       0.446\n",
      "club_code_COS            -0.5906      0.187     -3.165      0.002      -0.957      -0.225\n",
      "club_code_CRE             0.4916      0.193      2.543      0.011       0.112       0.871\n",
      "club_code_CRO            -0.2195      0.211     -1.038      0.299      -0.634       0.195\n",
      "club_code_CVE            -0.0547      0.201     -0.272      0.785      -0.449       0.340\n",
      "club_code_EMP             0.2280      0.216      1.057      0.291      -0.195       0.651\n",
      "club_code_ENT            -0.0928      0.195     -0.475      0.635      -0.476       0.290\n",
      "club_code_FRO             0.2932      0.190      1.544      0.123      -0.079       0.666\n",
      "club_code_GEN             0.9607      0.248      3.870      0.000       0.474       1.448\n",
      "club_code_JUS            -0.5610      0.241     -2.329      0.020      -1.034      -0.089\n",
      "club_code_LEC             0.2740      0.207      1.322      0.187      -0.133       0.681\n",
      "club_code_LVN            -0.5639      0.233     -2.420      0.016      -1.021      -0.107\n",
      "club_code_MOD            -0.1052      0.232     -0.454      0.650      -0.559       0.349\n",
      "club_code_MZN             0.9724      0.192      5.053      0.000       0.595       1.350\n",
      "club_code_PAL             0.2278      0.241      0.944      0.345      -0.246       0.701\n",
      "club_code_PAR             0.7426      0.206      3.605      0.000       0.339       1.147\n",
      "club_code_PER            -0.2738      0.192     -1.427      0.154      -0.650       0.102\n",
      "club_code_PES            -0.3656      0.214     -1.710      0.088      -0.785       0.054\n",
      "club_code_PIS            -0.0240      0.185     -0.130      0.897      -0.388       0.340\n",
      "club_code_POD            -0.1794      0.186     -0.962      0.336      -0.545       0.186\n",
      "club_code_REG            -0.1829      0.183     -0.998      0.319      -0.543       0.177\n",
      "club_code_RGA            -0.4826      0.220     -2.189      0.029      -0.915      -0.050\n",
      "club_code_SAL             0.1047      0.211      0.496      0.620      -0.310       0.519\n",
      "club_code_SPA             0.0980      0.193      0.507      0.612      -0.281       0.477\n",
      "club_code_SPZ            -0.5964      0.239     -2.500      0.013      -1.065      -0.128\n",
      "club_code_SUD            -0.0765      0.247     -0.310      0.757      -0.561       0.408\n",
      "club_code_TER             0.0414      0.186      0.222      0.824      -0.324       0.407\n",
      "club_code_TRP            -0.7566      0.221     -3.425      0.001      -1.190      -0.323\n",
      "club_code_VEN            -0.3498      0.196     -1.784      0.075      -0.734       0.035\n",
      "club_code_VIC            -0.1881      0.190     -0.991      0.322      -0.560       0.184\n",
      "player_group_code_F       0.1934      0.046      4.194      0.000       0.103       0.284\n",
      "player_group_code_K      -0.8918      0.068    -13.195      0.000      -1.024      -0.759\n",
      "player_group_code_M       0.1011      0.048      2.098      0.036       0.007       0.196\n",
      "high_earner_1             1.1860      0.046     25.580      0.000       1.095       1.277\n",
      "Age_18-21                 0.5455      0.213      2.561      0.011       0.128       0.963\n",
      "Age_21-23                 0.9175      0.214      4.288      0.000       0.498       1.337\n",
      "Age_23-27                 1.2103      0.213      5.685      0.000       0.793       1.628\n",
      "Age_27-32                 1.3924      0.213      6.524      0.000       0.974       1.811\n",
      "Age_32+                   1.4151      0.218      6.480      0.000       0.987       1.844\n",
      "region_italy             -0.0725      0.054     -1.351      0.177      -0.178       0.033\n",
      "region_non_EU            -0.0091      0.066     -0.137      0.891      -0.139       0.121\n",
      "club_level_SMALL_4       -0.5681      0.106     -5.382      0.000      -0.775      -0.361\n",
      "club_level_mid-table     -0.3567      0.075     -4.730      0.000      -0.505      -0.209\n",
      "club_level_promoted      -0.2649      0.088     -3.025      0.003      -0.437      -0.093\n",
      "club_level_relegation    -0.3604      0.115     -3.144      0.002      -0.585      -0.136\n",
      "club_level_top 6         -0.3174      0.093     -3.423      0.001      -0.499      -0.135\n",
      "==============================================================================\n",
      "Omnibus:                       42.030   Durbin-Watson:                   2.056\n",
      "Prob(Omnibus):                  0.000   Jarque-Bera (JB):               45.469\n",
      "Skew:                          -0.392   Prob(JB):                     1.34e-10\n",
      "Kurtosis:                       3.323   Cond. No.                         79.3\n",
      "==============================================================================\n",
      "\n",
      "Notes:\n",
      "[1] Standard Errors assume that the covariance matrix of the errors is correctly specified.\n"
     ]
    }
   ],
   "source": [
    "import statsmodels.api as sm\n",
    "X_train_Sm= sm.add_constant(X_train)\n",
    "ls=sm.OLS(y_train,X_train_Sm).fit()\n",
    "print(ls.summary())"
   ]
  },
  {
   "cell_type": "code",
   "execution_count": 42,
   "id": "b86a19c2",
   "metadata": {
    "scrolled": false
   },
   "outputs": [
    {
     "name": "stderr",
     "output_type": "stream",
     "text": [
      "C:\\Users\\Ramya\\anaconda3\\lib\\site-packages\\seaborn\\_decorators.py:36: FutureWarning: Pass the following variables as keyword args: x, y. From version 0.12, the only valid positional argument will be `data`, and passing other arguments without an explicit keyword will result in an error or misinterpretation.\n",
      "  warnings.warn(\n"
     ]
    },
    {
     "data": {
      "text/plain": [
       "<AxesSubplot:ylabel='salary_gross_eur'>"
      ]
     },
     "execution_count": 42,
     "metadata": {},
     "output_type": "execute_result"
    },
    {
     "data": {
      "image/png": "[encoded data removed]",
      "text/plain": [
       "<Figure size 640x480 with 1 Axes>"
      ]
     },
     "metadata": {},
     "output_type": "display_data"
    }
   ],
   "source": [
    "sns.residplot(model.predict(X), Y)"
   ]
  },
  {
   "cell_type": "markdown",
   "id": "eecd21b7",
   "metadata": {},
   "source": [
    "#### Model Export"
   ]
  },
  {
   "cell_type": "code",
   "execution_count": null,
   "id": "827b088b",
   "metadata": {},
   "outputs": [],
   "source": [
    "import pickle\n",
    "pickle.dump(model, open('model_it.pkl','wb')) "
   ]
  }
 ],
 "metadata": {
  "kernelspec": {
   "display_name": "Python 3 (ipykernel)",
   "language": "python",
   "name": "python3"
  },
  "language_info": {
   "codemirror_mode": {
    "name": "ipython",
    "version": 3
   },
   "file_extension": ".py",
   "mimetype": "text/x-python",
   "name": "python",
   "nbconvert_exporter": "python",
   "pygments_lexer": "ipython3",
   "version": "3.9.13"
  }
 },
 "nbformat": 4,
 "nbformat_minor": 5
}
