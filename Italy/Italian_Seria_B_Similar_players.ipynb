{
 "cells": [
  {
   "cell_type": "code",
   "execution_count": 1,
   "id": "df614fe2",
   "metadata": {},
   "outputs": [],
   "source": [
    "import pandas as pd \n",
    "# default='warn', Used here to supress warning when slicing and creating high earners column\n",
    "pd.options.mode.chained_assignment = None \n"
   ]
  },
  {
   "cell_type": "code",
   "execution_count": 2,
   "id": "05049abe",
   "metadata": {},
   "outputs": [],
   "source": [
    "import requests\n",
    "import json\n",
    "import pandas as pd \n",
    "import numpy as np\n",
    "import math"
   ]
  },
  {
   "cell_type": "code",
   "execution_count": 3,
   "id": "7ab4da52",
   "metadata": {},
   "outputs": [],
   "source": [
    "# custom function from Web_scrapper_League_Tables notebook \n",
    "from ipynb.fs.full.Web_scrapper_League_Tables import League_table_scraper\n"
   ]
  },
  {
   "cell_type": "markdown",
   "id": "79e6de1b",
   "metadata": {},
   "source": [
    "#### Get data from API"
   ]
  },
  {
   "cell_type": "code",
   "execution_count": 4,
   "id": "0aa3c582",
   "metadata": {},
   "outputs": [],
   "source": [
    "API_key='d15f7132973d404d9d046934398ee9e3'"
   ]
  },
  {
   "cell_type": "code",
   "execution_count": 5,
   "id": "f78ef91d",
   "metadata": {},
   "outputs": [],
   "source": [
    "# API authorization\n",
    "headers = {'x-api-key':'d15f7132973d404d9d046934398ee9e3', 'accept': 'application/json', 'accept': 'text/csv'}\n",
    "\n",
    "# Choose endpoint\n",
    "endpoint = 'https://www.capology.com/api/v2/soccer/salaries/it/serie-b/2019-2020/'\n",
    "\n",
    "# Retrieve json\n",
    "json = requests.get(endpoint, headers=headers).text\n",
    "\n",
    "#Data for 2019/2020\n",
    "df1=pd.read_json(json)\n",
    "\n",
    "df1 = df1[df1[\"season_term\"] == \"combined\"].reset_index(drop = True)"
   ]
  },
  {
   "cell_type": "code",
   "execution_count": 6,
   "id": "02d68250",
   "metadata": {},
   "outputs": [],
   "source": [
    "# API authorization\n",
    "headers = {'x-api-key':'d15f7132973d404d9d046934398ee9e3', 'accept': 'application/json', 'accept': 'text/csv'}\n",
    "\n",
    "# Choose endpoint\n",
    "endpoint = 'https://www.capology.com/api/v2/soccer/salaries/it/serie-b/2020-2021/'\n",
    "\n",
    "# Retrieve json\n",
    "json2 = requests.get(endpoint, headers=headers).text\n",
    "\n",
    "#Data for 2020/2021\n",
    "df2=pd.read_json(json2)\n",
    "\n",
    "df2 = df2[df2[\"season_term\"] ==\"combined\"]"
   ]
  },
  {
   "cell_type": "code",
   "execution_count": 7,
   "id": "c74e6acc",
   "metadata": {},
   "outputs": [],
   "source": [
    "# API authorization\n",
    "headers = {'x-api-key':'d15f7132973d404d9d046934398ee9e3', 'accept': 'application/json', 'accept': 'text/csv'}\n",
    "\n",
    "# Choose endpoint\n",
    "endpoint = 'https://www.capology.com/api/v2/soccer/salaries/it/serie-b/2021-2022/'\n",
    "\n",
    "# Retrieve json\n",
    "json3 = requests.get(endpoint, headers=headers).text\n",
    "\n",
    "#Data for 2021/2022\n",
    "df3=pd.read_json(json3)\n",
    "\n",
    "df3 = df3[df3[\"season_term\"] ==\"combined\"]"
   ]
  },
  {
   "cell_type": "code",
   "execution_count": 8,
   "id": "51c87abe",
   "metadata": {},
   "outputs": [],
   "source": [
    "# API authorization\n",
    "headers = {'x-api-key':'d15f7132973d404d9d046934398ee9e3', 'accept': 'application/json', 'accept': 'text/csv'}\n",
    "\n",
    "# Choose endpoint\n",
    "endpoint = 'https://www.capology.com/api/v2/soccer/salaries/it/serie-b/2022-2023/'\n",
    "\n",
    "# Retrieve json\n",
    "json4 = requests.get(endpoint, headers=headers).text\n",
    "\n",
    "#Data for 2020/2021\n",
    "df4=pd.read_json(json4)\n",
    "\n",
    "#Capology has defined the seson as summer\n",
    "df4 = df4[df4[\"season_term\"] ==\"summer\"]"
   ]
  },
  {
   "cell_type": "code",
   "execution_count": 9,
   "id": "11ac1910",
   "metadata": {},
   "outputs": [],
   "source": [
    "df=pd.concat([df1,df2,df3,df4],axis=0).drop_duplicates()"
   ]
  },
  {
   "cell_type": "markdown",
   "id": "bff514a7",
   "metadata": {},
   "source": [
    "#### Clean dataframe"
   ]
  },
  {
   "cell_type": "code",
   "execution_count": 10,
   "id": "8a515c84",
   "metadata": {},
   "outputs": [],
   "source": [
    "df= df[df['salary_gross_eur'] != 0]"
   ]
  },
  {
   "cell_type": "code",
   "execution_count": 11,
   "id": "708706cc",
   "metadata": {},
   "outputs": [],
   "source": [
    "df=df.drop_duplicates().reset_index(drop = True)"
   ]
  },
  {
   "cell_type": "code",
   "execution_count": 12,
   "id": "3ff4a397",
   "metadata": {},
   "outputs": [],
   "source": [
    "CODE_DICT=pd.Series(df.club_code.values,index=df.club_name).to_dict()\n"
   ]
  },
  {
   "cell_type": "code",
   "execution_count": 13,
   "id": "afe79750",
   "metadata": {},
   "outputs": [],
   "source": [
    "#Required columns\n",
    "LIST=['season_id','club_code','player_age','player_country_id','player_group_code','salary_gross_eur']"
   ]
  },
  {
   "cell_type": "code",
   "execution_count": 14,
   "id": "8b3ffe96",
   "metadata": {},
   "outputs": [],
   "source": [
    "df_salary=df[LIST].reset_index()"
   ]
  },
  {
   "cell_type": "markdown",
   "id": "847b2eb4",
   "metadata": {},
   "source": [
    "#### Finding high earners\n"
   ]
  },
  {
   "cell_type": "code",
   "execution_count": 15,
   "id": "e5430437",
   "metadata": {},
   "outputs": [],
   "source": [
    "# Group the data by 'club' and 'position'\n",
    "groups = df_salary.groupby(['club_code', 'player_group_code','season_id'])\n",
    "\n",
    "# Find the highest two values of column 'salary_gross_eur' for each group\n",
    "top_two = groups['salary_gross_eur'].nlargest(2).reset_index()\n",
    "\n",
    "# get needed indexes\n",
    "index=list(top_two['level_3'])\n",
    "\n",
    "# Add the result to the data frame as a new column\n",
    "df_salary['high_earner'] = 0\n",
    "for i in index:\n",
    "    df_salary.loc[i, 'high_earner'] = 1"
   ]
  },
  {
   "cell_type": "code",
   "execution_count": 16,
   "id": "ff0a9d1c",
   "metadata": {},
   "outputs": [],
   "source": [
    "# Add the result to the data frame as a new column\n",
    "df['high_earner'] = 0\n",
    "for i in index:\n",
    "    df.loc[i, 'high_earner'] = 1"
   ]
  },
  {
   "cell_type": "code",
   "execution_count": 17,
   "id": "447a3bc3",
   "metadata": {
    "scrolled": false
   },
   "outputs": [
    {
     "data": {
      "text/html": [
       "<div>\n",
       "<style scoped>\n",
       "    .dataframe tbody tr th:only-of-type {\n",
       "        vertical-align: middle;\n",
       "    }\n",
       "\n",
       "    .dataframe tbody tr th {\n",
       "        vertical-align: top;\n",
       "    }\n",
       "\n",
       "    .dataframe thead th {\n",
       "        text-align: right;\n",
       "    }\n",
       "</style>\n",
       "<table border=\"1\" class=\"dataframe\">\n",
       "  <thead>\n",
       "    <tr style=\"text-align: right;\">\n",
       "      <th></th>\n",
       "      <th>season_id</th>\n",
       "      <th>season_term</th>\n",
       "      <th>league_name</th>\n",
       "      <th>league_id</th>\n",
       "      <th>country_id</th>\n",
       "      <th>club_name</th>\n",
       "      <th>club_id</th>\n",
       "      <th>club_code</th>\n",
       "      <th>player_name</th>\n",
       "      <th>player_id</th>\n",
       "      <th>...</th>\n",
       "      <th>salary_net_gbp</th>\n",
       "      <th>salary_gross_usd</th>\n",
       "      <th>salary_net_usd</th>\n",
       "      <th>adjusted_gross_eur</th>\n",
       "      <th>adjusted_net_eur</th>\n",
       "      <th>adjusted_gross_gbp</th>\n",
       "      <th>adjusted_net_gbp</th>\n",
       "      <th>adjusted_gross_usd</th>\n",
       "      <th>adjusted_net_usd</th>\n",
       "      <th>high_earner</th>\n",
       "    </tr>\n",
       "  </thead>\n",
       "  <tbody>\n",
       "    <tr>\n",
       "      <th>0</th>\n",
       "      <td>2019-2020</td>\n",
       "      <td>combined</td>\n",
       "      <td>Serie B</td>\n",
       "      <td>serie-b</td>\n",
       "      <td>it</td>\n",
       "      <td>Ascoli</td>\n",
       "      <td>ascoli</td>\n",
       "      <td>ASC</td>\n",
       "      <td>Andreaw Gravillon</td>\n",
       "      <td>andreaw-gravillon-35834</td>\n",
       "      <td>...</td>\n",
       "      <td>42820</td>\n",
       "      <td>94479</td>\n",
       "      <td>52489</td>\n",
       "      <td>91686</td>\n",
       "      <td>50937</td>\n",
       "      <td>78520</td>\n",
       "      <td>43622</td>\n",
       "      <td>96250</td>\n",
       "      <td>53472</td>\n",
       "      <td>0</td>\n",
       "    </tr>\n",
       "    <tr>\n",
       "      <th>1</th>\n",
       "      <td>2019-2020</td>\n",
       "      <td>combined</td>\n",
       "      <td>Serie B</td>\n",
       "      <td>serie-b</td>\n",
       "      <td>it</td>\n",
       "      <td>Ascoli</td>\n",
       "      <td>ascoli</td>\n",
       "      <td>ASC</td>\n",
       "      <td>Baissama Sankoh</td>\n",
       "      <td>baissama-sankoh-33683</td>\n",
       "      <td>...</td>\n",
       "      <td>59948</td>\n",
       "      <td>136470</td>\n",
       "      <td>73484</td>\n",
       "      <td>132436</td>\n",
       "      <td>71312</td>\n",
       "      <td>113418</td>\n",
       "      <td>61071</td>\n",
       "      <td>139027</td>\n",
       "      <td>74861</td>\n",
       "      <td>0</td>\n",
       "    </tr>\n",
       "    <tr>\n",
       "      <th>2</th>\n",
       "      <td>2019-2020</td>\n",
       "      <td>combined</td>\n",
       "      <td>Serie B</td>\n",
       "      <td>serie-b</td>\n",
       "      <td>it</td>\n",
       "      <td>Ascoli</td>\n",
       "      <td>ascoli</td>\n",
       "      <td>ASC</td>\n",
       "      <td>Cristian Andreoni</td>\n",
       "      <td>cristian-andreoni-33754</td>\n",
       "      <td>...</td>\n",
       "      <td>102768</td>\n",
       "      <td>230950</td>\n",
       "      <td>125973</td>\n",
       "      <td>224122</td>\n",
       "      <td>122249</td>\n",
       "      <td>191938</td>\n",
       "      <td>104694</td>\n",
       "      <td>235277</td>\n",
       "      <td>128333</td>\n",
       "      <td>0</td>\n",
       "    </tr>\n",
       "    <tr>\n",
       "      <th>3</th>\n",
       "      <td>2019-2020</td>\n",
       "      <td>combined</td>\n",
       "      <td>Serie B</td>\n",
       "      <td>serie-b</td>\n",
       "      <td>it</td>\n",
       "      <td>Ascoli</td>\n",
       "      <td>ascoli</td>\n",
       "      <td>ASC</td>\n",
       "      <td>Davide Di Francesco</td>\n",
       "      <td>davide-di-francesco-36910</td>\n",
       "      <td>...</td>\n",
       "      <td>17128</td>\n",
       "      <td>41991</td>\n",
       "      <td>20995</td>\n",
       "      <td>40750</td>\n",
       "      <td>20375</td>\n",
       "      <td>34898</td>\n",
       "      <td>17449</td>\n",
       "      <td>42778</td>\n",
       "      <td>21389</td>\n",
       "      <td>0</td>\n",
       "    </tr>\n",
       "    <tr>\n",
       "      <th>4</th>\n",
       "      <td>2019-2020</td>\n",
       "      <td>combined</td>\n",
       "      <td>Serie B</td>\n",
       "      <td>serie-b</td>\n",
       "      <td>it</td>\n",
       "      <td>Ascoli</td>\n",
       "      <td>ascoli</td>\n",
       "      <td>ASC</td>\n",
       "      <td>Davide Petrucci</td>\n",
       "      <td>davide-petrucci-33516</td>\n",
       "      <td>...</td>\n",
       "      <td>128460</td>\n",
       "      <td>199456</td>\n",
       "      <td>157466</td>\n",
       "      <td>193560</td>\n",
       "      <td>152811</td>\n",
       "      <td>165765</td>\n",
       "      <td>130867</td>\n",
       "      <td>203194</td>\n",
       "      <td>160416</td>\n",
       "      <td>0</td>\n",
       "    </tr>\n",
       "  </tbody>\n",
       "</table>\n",
       "<p>5 rows × 34 columns</p>\n",
       "</div>"
      ],
      "text/plain": [
       "   season_id season_term league_name league_id country_id club_name club_id  \\\n",
       "0  2019-2020    combined     Serie B   serie-b         it    Ascoli  ascoli   \n",
       "1  2019-2020    combined     Serie B   serie-b         it    Ascoli  ascoli   \n",
       "2  2019-2020    combined     Serie B   serie-b         it    Ascoli  ascoli   \n",
       "3  2019-2020    combined     Serie B   serie-b         it    Ascoli  ascoli   \n",
       "4  2019-2020    combined     Serie B   serie-b         it    Ascoli  ascoli   \n",
       "\n",
       "  club_code          player_name                  player_id  ...  \\\n",
       "0       ASC    Andreaw Gravillon    andreaw-gravillon-35834  ...   \n",
       "1       ASC      Baissama Sankoh      baissama-sankoh-33683  ...   \n",
       "2       ASC    Cristian Andreoni    cristian-andreoni-33754  ...   \n",
       "3       ASC  Davide Di Francesco  davide-di-francesco-36910  ...   \n",
       "4       ASC      Davide Petrucci      davide-petrucci-33516  ...   \n",
       "\n",
       "   salary_net_gbp salary_gross_usd salary_net_usd adjusted_gross_eur  \\\n",
       "0           42820            94479          52489              91686   \n",
       "1           59948           136470          73484             132436   \n",
       "2          102768           230950         125973             224122   \n",
       "3           17128            41991          20995              40750   \n",
       "4          128460           199456         157466             193560   \n",
       "\n",
       "  adjusted_net_eur adjusted_gross_gbp adjusted_net_gbp adjusted_gross_usd  \\\n",
       "0            50937              78520            43622              96250   \n",
       "1            71312             113418            61071             139027   \n",
       "2           122249             191938           104694             235277   \n",
       "3            20375              34898            17449              42778   \n",
       "4           152811             165765           130867             203194   \n",
       "\n",
       "   adjusted_net_usd  high_earner  \n",
       "0             53472            0  \n",
       "1             74861            0  \n",
       "2            128333            0  \n",
       "3             21389            0  \n",
       "4            160416            0  \n",
       "\n",
       "[5 rows x 34 columns]"
      ]
     },
     "execution_count": 17,
     "metadata": {},
     "output_type": "execute_result"
    }
   ],
   "source": [
    "df.head()"
   ]
  },
  {
   "cell_type": "markdown",
   "id": "f55d02fb",
   "metadata": {},
   "source": [
    "#### Adding needed features"
   ]
  },
  {
   "cell_type": "code",
   "execution_count": 18,
   "id": "c542ded8",
   "metadata": {},
   "outputs": [],
   "source": [
    "# Required columns for related players\n",
    "LIST2 = ['season_id','player_name','club_code','player_age','player_country_id','player_group_code','salary_gross_eur','high_earner']"
   ]
  },
  {
   "cell_type": "code",
   "execution_count": 19,
   "id": "c478215f",
   "metadata": {},
   "outputs": [],
   "source": [
    "df_similar = df[LIST2]"
   ]
  },
  {
   "cell_type": "code",
   "execution_count": 20,
   "id": "e32af49b",
   "metadata": {},
   "outputs": [],
   "source": [
    "countries = df_salary.player_country_id.unique()\n",
    "\n",
    "#based on uk.gov website excluding Italy\n",
    "EU_countries = ['Austria', 'Bulgaria','Belgium','Croatia','Cyprus', 'Czech-Republic', \n",
    "              'Denmark', 'Estonia', 'Finland', 'France', 'Greece', 'Hungary', 'Ireland', 'Germany',\n",
    "              'Latvia', 'Lithuania', 'Luxembourg', 'Malta', 'Netherlands', 'Poland', 'Portugal', \n",
    "              'Romania', 'Slovakia', 'Slovenia', 'Spain','Sweden']\n",
    "\n",
    "EU_countries = [s.lower() for s in EU_countries]"
   ]
  },
  {
   "cell_type": "code",
   "execution_count": 21,
   "id": "1bc992c9",
   "metadata": {},
   "outputs": [],
   "source": [
    "EU = []\n",
    "non_EU = []\n",
    "for country in countries:\n",
    "    if country in EU_countries:\n",
    "        EU.append(country) \n",
    "    elif country == 'italy':\n",
    "        0\n",
    "    else:\n",
    "        non_EU.append(country) \n"
   ]
  },
  {
   "cell_type": "code",
   "execution_count": 22,
   "id": "7afb07b2",
   "metadata": {},
   "outputs": [
    {
     "data": {
      "text/plain": [
       "1"
      ]
     },
     "execution_count": 22,
     "metadata": {},
     "output_type": "execute_result"
    }
   ],
   "source": [
    "len(countries)-len(EU)-len(non_EU)"
   ]
  },
  {
   "cell_type": "code",
   "execution_count": 23,
   "id": "a76a41ea",
   "metadata": {},
   "outputs": [],
   "source": [
    "def set_region(row):\n",
    "    \"\"\"\n",
    "    Function takes each row as argument and returns the region \n",
    "    based on the player_country_id.\n",
    "    \"\"\"\n",
    "    if row['player_country_id'] in non_EU:\n",
    "        return 'non_EU'\n",
    "    \n",
    "    elif row['player_country_id'] in EU:\n",
    "        return 'EU'\n",
    "    \n",
    "    else:\n",
    "        return 'italy'"
   ]
  },
  {
   "cell_type": "code",
   "execution_count": 40,
   "id": "6cbf9299",
   "metadata": {},
   "outputs": [
    {
     "data": {
      "text/plain": [
       "{'Ascoli': 'ASC',\n",
       " 'Benevento': 'BEN',\n",
       " 'Chievo Verona': 'CVE',\n",
       " 'Cittadella': 'CIT',\n",
       " 'Cosenza': 'COS',\n",
       " 'Cremonese': 'CRE',\n",
       " 'Crotone': 'CRO',\n",
       " 'Empoli': 'EMP',\n",
       " 'Frosinone': 'FRO',\n",
       " 'Juve Stabia': 'JUS',\n",
       " 'Livorno': 'LVN',\n",
       " 'Perugia': 'PER',\n",
       " 'Pescara': 'PES',\n",
       " 'Pisa': 'PIS',\n",
       " 'Pordenone': 'POD',\n",
       " 'Salernitana': 'SAL',\n",
       " 'Spezia': 'SPZ',\n",
       " 'Trapani': 'TRP',\n",
       " 'Venezia': 'VEN',\n",
       " 'Virtus Entella': 'ENT',\n",
       " 'Brescia': 'BRE',\n",
       " 'Lecce': 'LEC',\n",
       " 'Monza': 'MZN',\n",
       " 'Reggiana': 'RGA',\n",
       " 'Reggina': 'REG',\n",
       " 'SPAL': 'SPA',\n",
       " 'Vicenza': 'VIC',\n",
       " 'Alessandria': 'ALS',\n",
       " 'Como': 'COM',\n",
       " 'Parma': 'PAR',\n",
       " 'Ternana': 'TER',\n",
       " 'Bari': 'BAR',\n",
       " 'Cagliari': 'CAG',\n",
       " 'Genoa': 'GEN',\n",
       " 'Modena': 'MOD',\n",
       " 'Palermo': 'PAL',\n",
       " 'Sudtirol': 'SUD',\n",
       " 'Chievo': 'CVE',\n",
       " 'Südtirol': 'SUD'}"
      ]
     },
     "execution_count": 40,
     "metadata": {},
     "output_type": "execute_result"
    }
   ],
   "source": [
    "CODE_DICT"
   ]
  },
  {
   "cell_type": "code",
   "execution_count": 25,
   "id": "54702853",
   "metadata": {},
   "outputs": [],
   "source": [
    "# Updating coding dicitionary as capology has differnt naming convention to Wikipedia\n",
    "CODE_DICT['Chievo'] = 'CVE'\n",
    "CODE_DICT['Südtirol'] = 'SUD'"
   ]
  },
  {
   "cell_type": "code",
   "execution_count": 26,
   "id": "3d2bba9d",
   "metadata": {},
   "outputs": [],
   "source": [
    "# Final league standings 2019/2020\n",
    "standings_2019 = League_table_scraper('https://en.wikipedia.org/wiki/2019%E2%80%9320_Serie_B',6)\n",
    "standings_2019 = list(map(lambda x: CODE_DICT[x], standings_2019.club))\n",
    "\n",
    "# Final league standings 2020/2021\n",
    "standings_2020 = League_table_scraper('https://en.wikipedia.org/wiki/2020%E2%80%9321_Serie_B',6)\n",
    "standings_2020 = list(map(lambda x: CODE_DICT[x], standings_2020.club))\n",
    "\n",
    "# Final league standings 2021/2022\n",
    "standings_2021 = League_table_scraper('https://en.wikipedia.org/wiki/2021%E2%80%9322_Serie_B',6)\n",
    "standings_2021 = list(map(lambda x: CODE_DICT[x], standings_2021.club))\n",
    "\n",
    "# Current league standings 2022/2023\n",
    "standings_2022 = League_table_scraper('https://en.wikipedia.org/wiki/2022%E2%80%9323_Serie_B',6)\n",
    "standings_2022 = list(map(lambda x: CODE_DICT[x], standings_2022.club))"
   ]
  },
  {
   "cell_type": "code",
   "execution_count": 27,
   "id": "1e84cc03",
   "metadata": {},
   "outputs": [],
   "source": [
    "BIG_3_2019=['EMP','FRO','CVE']\n",
    "SMALL_5_2019=['ENT','POD','JUS','PIS','TRP']\n",
    "\n",
    "BIG_3_2020 = ['LEC','BRE','SPA']\n",
    "SMALL_4_2020 = ['MZN','VIC','RGA','REG']\n",
    "\n",
    "BIG_3_2021=['BEN','CRO','PAR']\n",
    "SMALL_4_2021=['COM','PER','TER','ALS']\n",
    "\n",
    "BIG_3_2022 = ['CAG','GEN','VEN']\n",
    "SMALL_4_2022 = ['SUD','MOD','BAR','PAL']\n"
   ]
  },
  {
   "cell_type": "code",
   "execution_count": 28,
   "id": "8db50d2f",
   "metadata": {},
   "outputs": [],
   "source": [
    "def set_club_type(row):\n",
    "    \n",
    "    \"\"\"\n",
    "    Function takes each row as argument and returns\n",
    "    top 6,6-10,mid-table, relagation based on the club \n",
    "    finishing position for the year\n",
    "    \n",
    "    \"\"\"\n",
    "    if (row['club_code'] in BIG_3_2019 and  row['season_id']== '2019-2020') or (row['club_code'] in BIG_3_2020 and  row['season_id']== '2020-2021') or (row['club_code'] in BIG_3_2021 and  row['season_id']== '2021-2022') or (row['club_code'] in BIG_3_2022 and  row['season_id']== '2022-2023'):\n",
    "        return 'BIG_3'\n",
    "    \n",
    "    if (row['club_code'] in SMALL_5_2019 and  row['season_id']== '2019-2020') or (row['club_code'] in SMALL_4_2020 and  row['season_id']== '2020-2021') or (row['club_code'] in SMALL_4_2021 and  row['season_id']== '2021-2022') or (row['club_code'] in SMALL_4_2022 and  row['season_id']== '2022-2023'):\n",
    "        return 'SMALL_4'\n",
    "    \n",
    "    else:\n",
    "        if (row['club_code'] in standings_2019[:2] and row['season_id']== '2019-2020') or (row['club_code'] in standings_2020[0:2] and row['season_id']=='2020-2021') or (row['club_code'] in standings_2021[0:2] and row['season_id']=='2021-2022') or (row['club_code'] in standings_2022[0:2] and row['season_id']=='2022-2023'):\n",
    "            return 'promoted'\n",
    "   \n",
    "        if (row['club_code'] in standings_2019[2:6] and row['season_id']== '2019-2020') or (row['club_code'] in standings_2020[2:6] and row['season_id']=='2020-2021') or (row['club_code'] in standings_2021[2:6] and row['season_id']=='2021-2022') or (row['club_code'] in standings_2022[2:6] and row['season_id']=='2022-2023'):\n",
    "            return 'top 6'\n",
    "    \n",
    "        if (row['club_code'] in standings_2019[6:16] and row['season_id']== '2019-2020') or (row['club_code'] in standings_2020[6:16] and row['season_id']=='2020-2021') or (row['club_code'] in standings_2021[6:16] and row['season_id']=='2021-2022') or (row['club_code'] in standings_2022[6:16] and row['season_id']=='2022-2023'):\n",
    "            return 'mid-table'\n",
    "    \n",
    "        else :\n",
    "            return 'relegation'\n"
   ]
  },
  {
   "cell_type": "code",
   "execution_count": 29,
   "id": "e169480b",
   "metadata": {},
   "outputs": [],
   "source": [
    "X = df_salary[['club_code', 'player_age', 'player_country_id', 'player_group_code','season_id','high_earner']]\n",
    "\n",
    "X = X.assign(Age=pd.cut(X['player_age'], \n",
    "                               bins=[0, 17, 21,23, 27, 32,99], \n",
    "                               labels=['U18', '18-21', '21-23','23-27','27-32','32+']))\n",
    "\n",
    "X = X.assign(region=X.apply(set_region, axis=1)).astype('category')\n",
    "\n",
    "X = X.assign(club_level=X.apply(set_club_type,axis=1)).astype('category')\n",
    "\n",
    "X = X.drop('player_age',axis=1)\n",
    " \n",
    "X = X.drop('season_id',axis=1)"
   ]
  },
  {
   "cell_type": "code",
   "execution_count": 30,
   "id": "1943efcb",
   "metadata": {},
   "outputs": [
    {
     "data": {
      "text/html": [
       "<div>\n",
       "<style scoped>\n",
       "    .dataframe tbody tr th:only-of-type {\n",
       "        vertical-align: middle;\n",
       "    }\n",
       "\n",
       "    .dataframe tbody tr th {\n",
       "        vertical-align: top;\n",
       "    }\n",
       "\n",
       "    .dataframe thead th {\n",
       "        text-align: right;\n",
       "    }\n",
       "</style>\n",
       "<table border=\"1\" class=\"dataframe\">\n",
       "  <thead>\n",
       "    <tr style=\"text-align: right;\">\n",
       "      <th></th>\n",
       "      <th>club_code</th>\n",
       "      <th>player_country_id</th>\n",
       "      <th>player_group_code</th>\n",
       "      <th>high_earner</th>\n",
       "      <th>Age</th>\n",
       "      <th>region</th>\n",
       "      <th>club_level</th>\n",
       "    </tr>\n",
       "  </thead>\n",
       "  <tbody>\n",
       "    <tr>\n",
       "      <th>2526</th>\n",
       "      <td>VEN</td>\n",
       "      <td>finland</td>\n",
       "      <td>K</td>\n",
       "      <td>1</td>\n",
       "      <td>32+</td>\n",
       "      <td>EU</td>\n",
       "      <td>BIG_3</td>\n",
       "    </tr>\n",
       "    <tr>\n",
       "      <th>2527</th>\n",
       "      <td>VEN</td>\n",
       "      <td>italy</td>\n",
       "      <td>D</td>\n",
       "      <td>0</td>\n",
       "      <td>23-27</td>\n",
       "      <td>italy</td>\n",
       "      <td>BIG_3</td>\n",
       "    </tr>\n",
       "    <tr>\n",
       "      <th>2528</th>\n",
       "      <td>VEN</td>\n",
       "      <td>poland</td>\n",
       "      <td>D</td>\n",
       "      <td>0</td>\n",
       "      <td>23-27</td>\n",
       "      <td>EU</td>\n",
       "      <td>BIG_3</td>\n",
       "    </tr>\n",
       "    <tr>\n",
       "      <th>2529</th>\n",
       "      <td>VEN</td>\n",
       "      <td>suriname</td>\n",
       "      <td>D</td>\n",
       "      <td>1</td>\n",
       "      <td>27-32</td>\n",
       "      <td>non_EU</td>\n",
       "      <td>BIG_3</td>\n",
       "    </tr>\n",
       "    <tr>\n",
       "      <th>2530</th>\n",
       "      <td>VEN</td>\n",
       "      <td>united-states</td>\n",
       "      <td>M</td>\n",
       "      <td>0</td>\n",
       "      <td>18-21</td>\n",
       "      <td>non_EU</td>\n",
       "      <td>BIG_3</td>\n",
       "    </tr>\n",
       "  </tbody>\n",
       "</table>\n",
       "</div>"
      ],
      "text/plain": [
       "     club_code player_country_id player_group_code high_earner    Age  region  \\\n",
       "2526       VEN           finland                 K           1    32+      EU   \n",
       "2527       VEN             italy                 D           0  23-27   italy   \n",
       "2528       VEN            poland                 D           0  23-27      EU   \n",
       "2529       VEN          suriname                 D           1  27-32  non_EU   \n",
       "2530       VEN     united-states                 M           0  18-21  non_EU   \n",
       "\n",
       "     club_level  \n",
       "2526      BIG_3  \n",
       "2527      BIG_3  \n",
       "2528      BIG_3  \n",
       "2529      BIG_3  \n",
       "2530      BIG_3  "
      ]
     },
     "execution_count": 30,
     "metadata": {},
     "output_type": "execute_result"
    }
   ],
   "source": [
    "X.tail()"
   ]
  },
  {
   "cell_type": "code",
   "execution_count": 31,
   "id": "95a7c789",
   "metadata": {},
   "outputs": [],
   "source": [
    "def Club_type(club):\n",
    "    \n",
    "    \"\"\"\n",
    "    Function takes club as argument and returns\n",
    "    top 6,6-10,mid-table, relagation based on the club \n",
    "    finishing position for 2022. If club  was not in \n",
    "    the league in 2022 returns default value midtable\n",
    "    \n",
    "    \"\"\"\n",
    "    if club in BIG_3_2022:\n",
    "        return 'BIG_3'\n",
    "    \n",
    "    if club in SMALL_4_2022:\n",
    "        return 'SMALL_4'\n",
    "    \n",
    "    else:\n",
    "        if club in standings_2022[0:2] :\n",
    "            return 'promoted'\n",
    "   \n",
    "        if club in standings_2022[2:6] :\n",
    "            return 'top 6'\n",
    "    \n",
    "        if club in standings_2022[6:16] :\n",
    "            return 'mid-table'\n",
    "    \n",
    "        else :\n",
    "            return 'mid-table'\n",
    "    \n",
    " \n"
   ]
  },
  {
   "cell_type": "code",
   "execution_count": 32,
   "id": "cbb11416",
   "metadata": {},
   "outputs": [],
   "source": [
    "def Region(country):\n",
    "    \n",
    "    \"\"\"\n",
    "    Function takes country as an argument and returns \n",
    "    the region of the country\n",
    "    \n",
    "    \"\"\"\n",
    "    if country in non_EU:\n",
    "        return 'non_EU'\n",
    "    \n",
    "    elif country in EU:\n",
    "        return 'EU'\n",
    "    \n",
    "    else:\n",
    "        return 'italy'"
   ]
  },
  {
   "cell_type": "code",
   "execution_count": 33,
   "id": "298acc47",
   "metadata": {},
   "outputs": [],
   "source": [
    "def Age(age):\n",
    "    \"\"\"\n",
    "    Function takes age as an argument and returns \n",
    "    the age range\n",
    "    \n",
    "    \"\"\"\n",
    "    if age <= 18:\n",
    "        return 'U18'\n",
    "    if age in range(18, 22):\n",
    "        return '18-21'\n",
    "    if age in range(22, 24):\n",
    "        return '21-23'\n",
    "    if age in range(24, 28):\n",
    "        return '23-27'\n",
    "    if age in range(28, 33):\n",
    "        return '27-32'\n",
    "    return '32+'"
   ]
  },
  {
   "cell_type": "code",
   "execution_count": 34,
   "id": "16e85c7d",
   "metadata": {},
   "outputs": [],
   "source": [
    "def Starter(starter):\n",
    "    \n",
    "     if starter =='Yes' :\n",
    "        return '1'\n",
    "     else:\n",
    "        return '0'"
   ]
  },
  {
   "cell_type": "markdown",
   "id": "40a9b26e",
   "metadata": {},
   "source": [
    "#### Similarities function"
   ]
  },
  {
   "cell_type": "code",
   "execution_count": 35,
   "id": "0c90e8c7",
   "metadata": {},
   "outputs": [],
   "source": [
    "def calculate_similarities(row,input_data):\n",
    "    s = 0\n",
    "    \n",
    "    if row['club_code'] == input_data[0]:   # Check for same club\n",
    "        s += 1\n",
    "    \n",
    "    if row['club_level'] == Club_type(input_data[0]):  # Check for simlar level club\n",
    "        s += 0.5\n",
    "    \n",
    "    if row['player_group_code'] == input_data[1]:\n",
    "        s += 4\n",
    "    \n",
    "    if row['player_country_id'] == input_data[2]:  # Check for same country\n",
    "        s += 1\n",
    "    \n",
    "    if row['region'] == Region(input_data[2]):   # Check for same region\n",
    "        s += 0.5\n",
    "    \n",
    "    if row['Age'] == Age(input_data[3]):\n",
    "        s += 1\n",
    "    \n",
    "    if row['high_earner'] == Starter(input_data[4]):\n",
    "        s += 8\n",
    "    \n",
    "    return s\n"
   ]
  },
  {
   "cell_type": "code",
   "execution_count": 36,
   "id": "1c3ef5d0",
   "metadata": {},
   "outputs": [],
   "source": [
    "def similar_player(data):\n",
    "    \n",
    "    X['similarities'] = X.apply(calculate_similarities, axis=1,input_data=data)\n",
    "    X_sorted = X.sort_values(by='similarities', ascending=False)\n",
    "    top_5 = X_sorted.head(5)\n",
    "    indexes = top_5.index\n",
    "\n",
    "    \n",
    "    return df_similar.loc[indexes]"
   ]
  },
  {
   "cell_type": "code",
   "execution_count": 37,
   "id": "71d4ec1e",
   "metadata": {},
   "outputs": [
    {
     "data": {
      "text/html": [
       "<div>\n",
       "<style scoped>\n",
       "    .dataframe tbody tr th:only-of-type {\n",
       "        vertical-align: middle;\n",
       "    }\n",
       "\n",
       "    .dataframe tbody tr th {\n",
       "        vertical-align: top;\n",
       "    }\n",
       "\n",
       "    .dataframe thead th {\n",
       "        text-align: right;\n",
       "    }\n",
       "</style>\n",
       "<table border=\"1\" class=\"dataframe\">\n",
       "  <thead>\n",
       "    <tr style=\"text-align: right;\">\n",
       "      <th></th>\n",
       "      <th>season_id</th>\n",
       "      <th>player_name</th>\n",
       "      <th>club_code</th>\n",
       "      <th>player_age</th>\n",
       "      <th>player_country_id</th>\n",
       "      <th>player_group_code</th>\n",
       "      <th>salary_gross_eur</th>\n",
       "      <th>high_earner</th>\n",
       "    </tr>\n",
       "  </thead>\n",
       "  <tbody>\n",
       "    <tr>\n",
       "      <th>2234</th>\n",
       "      <td>2022-2023</td>\n",
       "      <td>Stefano Sabelli</td>\n",
       "      <td>GEN</td>\n",
       "      <td>29</td>\n",
       "      <td>italy</td>\n",
       "      <td>D</td>\n",
       "      <td>500000</td>\n",
       "      <td>0</td>\n",
       "    </tr>\n",
       "    <tr>\n",
       "      <th>202</th>\n",
       "      <td>2019-2020</td>\n",
       "      <td>Francesco Donati</td>\n",
       "      <td>EMP</td>\n",
       "      <td>19</td>\n",
       "      <td>italy</td>\n",
       "      <td>D</td>\n",
       "      <td>20000</td>\n",
       "      <td>0</td>\n",
       "    </tr>\n",
       "    <tr>\n",
       "      <th>1674</th>\n",
       "      <td>2021-2022</td>\n",
       "      <td>Michele Laraspata</td>\n",
       "      <td>PAR</td>\n",
       "      <td>20</td>\n",
       "      <td>italy</td>\n",
       "      <td>D</td>\n",
       "      <td>40000</td>\n",
       "      <td>0</td>\n",
       "    </tr>\n",
       "    <tr>\n",
       "      <th>1124</th>\n",
       "      <td>2020-2021</td>\n",
       "      <td>Riccardo Spaltro</td>\n",
       "      <td>SPA</td>\n",
       "      <td>20</td>\n",
       "      <td>italy</td>\n",
       "      <td>D</td>\n",
       "      <td>460000</td>\n",
       "      <td>0</td>\n",
       "    </tr>\n",
       "    <tr>\n",
       "      <th>1301</th>\n",
       "      <td>2021-2022</td>\n",
       "      <td>Christian Pastina</td>\n",
       "      <td>BEN</td>\n",
       "      <td>20</td>\n",
       "      <td>italy</td>\n",
       "      <td>D</td>\n",
       "      <td>90000</td>\n",
       "      <td>0</td>\n",
       "    </tr>\n",
       "  </tbody>\n",
       "</table>\n",
       "</div>"
      ],
      "text/plain": [
       "      season_id        player_name club_code  player_age player_country_id  \\\n",
       "2234  2022-2023    Stefano Sabelli       GEN          29             italy   \n",
       "202   2019-2020   Francesco Donati       EMP          19             italy   \n",
       "1674  2021-2022  Michele Laraspata       PAR          20             italy   \n",
       "1124  2020-2021   Riccardo Spaltro       SPA          20             italy   \n",
       "1301  2021-2022  Christian Pastina       BEN          20             italy   \n",
       "\n",
       "     player_group_code  salary_gross_eur  high_earner  \n",
       "2234                 D            500000            0  \n",
       "202                  D             20000            0  \n",
       "1674                 D             40000            0  \n",
       "1124                 D            460000            0  \n",
       "1301                 D             90000            0  "
      ]
     },
     "execution_count": 37,
     "metadata": {},
     "output_type": "execute_result"
    }
   ],
   "source": [
    "similar_player(['GEN','D','italy',21,'Yes'])"
   ]
  },
  {
   "cell_type": "markdown",
   "id": "82ba12c2",
   "metadata": {},
   "source": [
    "#### Additional function to get % spend on player"
   ]
  },
  {
   "cell_type": "code",
   "execution_count": 38,
   "id": "56d84624",
   "metadata": {},
   "outputs": [],
   "source": [
    "def Total_wage_bill(club):\n",
    "    \"\"\"\n",
    "    function takes in club as argument and \n",
    "    returns the the total wage bill of the club\n",
    "    \n",
    "    \"\"\"\n",
    "    df_filtered = df_salary.loc[df_salary['club_code'] == club]\n",
    "    \n",
    "    #Number of seasons for which data is available for the club\n",
    "    n=len(df_filtered.season_id.unique())\n",
    "    \n",
    "    #Assuming club has simlar squad sizes each season\n",
    "    total= df_filtered['salary_gross_eur'].sum()/n\n",
    "    \n",
    "    return total"
   ]
  },
  {
   "cell_type": "code",
   "execution_count": 39,
   "id": "e369c686",
   "metadata": {},
   "outputs": [
    {
     "data": {
      "text/plain": [
       "24210000.0"
      ]
     },
     "execution_count": 39,
     "metadata": {},
     "output_type": "execute_result"
    }
   ],
   "source": [
    "Total_wage_bill('GEN')"
   ]
  },
  {
   "cell_type": "code",
   "execution_count": null,
   "id": "0fe4c0d2",
   "metadata": {},
   "outputs": [],
   "source": [
    "# Convert notebook to script\n",
    "# jupyter nbconvert --to script Italian_Seria_B_Similar_players.ipynb"
   ]
  }
 ],
 "metadata": {
  "kernelspec": {
   "display_name": "Python 3 (ipykernel)",
   "language": "python",
   "name": "python3"
  },
  "language_info": {
   "codemirror_mode": {
    "name": "ipython",
    "version": 3
   },
   "file_extension": ".py",
   "mimetype": "text/x-python",
   "name": "python",
   "nbconvert_exporter": "python",
   "pygments_lexer": "ipython3",
   "version": "3.9.13"
  }
 },
 "nbformat": 4,
 "nbformat_minor": 5
}
